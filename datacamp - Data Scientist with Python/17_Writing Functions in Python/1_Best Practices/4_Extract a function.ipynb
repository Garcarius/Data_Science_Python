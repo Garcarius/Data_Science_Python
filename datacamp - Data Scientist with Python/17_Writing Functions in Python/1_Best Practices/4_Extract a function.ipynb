{
 "cells": [
  {
   "cell_type": "markdown",
   "metadata": {},
   "source": [
    "# Extract a function\n",
    "\n",
    "While developing a model to predict college graduations, you wrote the code below to get the z-scores of students' yearly GPAs (z-scores indicate standard deviation from the mean). Now you're ready to turn it into a production-quality system, so you need to do something about the repetition. Writing a function to calculate z-scores would improve it.\n",
    "\n",
    "```python\n",
    "# Standardize the GPAs for each year\n",
    "df['y1_z'] = (df.y1_gpa - df.y1_gpa.mean()) / df.y1_gpa.std()\n",
    "df['y2_z'] = (df.y2_gpa - df.y2_gpa.mean()) / df.y2_gpa.std()\n",
    "df['y3_z'] = (df.y3_gpa - df.y3_gpa.mean()) / df.y3_gpa.std()\n",
    "df['y4_z'] = (df.y4_gpa - df.y4_gpa.mean()) / df.y4_gpa.std()\n",
    "```\n",
    "\n",
    "Note: df is a pandas DataFrame where each row is a student with 4 columns of yearly student GPAs: `y1_gpa`, `y2_gpa`, `y3_gpa`, `y4_gpa`."
   ]
  },
  {
   "cell_type": "markdown",
   "metadata": {},
   "source": [
    "* Finish the function so that it returns the z-scores of a column.\n",
    "* Use the function to calculate the z-scores for each year (`df['y1_z']`, `df['y2_z']`, etc.) from the raw GPA scores (`df.y1_gpa`, `df.y2_gpa`, etc.)."
   ]
  },
  {
   "cell_type": "code",
   "execution_count": 14,
   "metadata": {},
   "outputs": [
    {
     "data": {
      "text/html": [
       "<div>\n",
       "<style scoped>\n",
       "    .dataframe tbody tr th:only-of-type {\n",
       "        vertical-align: middle;\n",
       "    }\n",
       "\n",
       "    .dataframe tbody tr th {\n",
       "        vertical-align: top;\n",
       "    }\n",
       "\n",
       "    .dataframe thead th {\n",
       "        text-align: right;\n",
       "    }\n",
       "</style>\n",
       "<table border=\"1\" class=\"dataframe\">\n",
       "  <thead>\n",
       "    <tr style=\"text-align: right;\">\n",
       "      <th></th>\n",
       "      <th>y1_gpa</th>\n",
       "      <th>y2_gpa</th>\n",
       "      <th>y3_gpa</th>\n",
       "      <th>y4_gpa</th>\n",
       "    </tr>\n",
       "  </thead>\n",
       "  <tbody>\n",
       "    <tr>\n",
       "      <th>0</th>\n",
       "      <td>4.907</td>\n",
       "      <td>1.872</td>\n",
       "      <td>1.344</td>\n",
       "      <td>3.255</td>\n",
       "    </tr>\n",
       "    <tr>\n",
       "      <th>1</th>\n",
       "      <td>3.827</td>\n",
       "      <td>4.855</td>\n",
       "      <td>2.101</td>\n",
       "      <td>3.067</td>\n",
       "    </tr>\n",
       "    <tr>\n",
       "      <th>2</th>\n",
       "      <td>1.508</td>\n",
       "      <td>2.984</td>\n",
       "      <td>1.625</td>\n",
       "      <td>1.009</td>\n",
       "    </tr>\n",
       "    <tr>\n",
       "      <th>3</th>\n",
       "      <td>0.865</td>\n",
       "      <td>1.761</td>\n",
       "      <td>1.138</td>\n",
       "      <td>0.622</td>\n",
       "    </tr>\n",
       "    <tr>\n",
       "      <th>4</th>\n",
       "      <td>4.122</td>\n",
       "      <td>4.840</td>\n",
       "      <td>4.074</td>\n",
       "      <td>0.630</td>\n",
       "    </tr>\n",
       "  </tbody>\n",
       "</table>\n",
       "</div>"
      ],
      "text/plain": [
       "   y1_gpa  y2_gpa  y3_gpa  y4_gpa\n",
       "0   4.907   1.872   1.344   3.255\n",
       "1   3.827   4.855   2.101   3.067\n",
       "2   1.508   2.984   1.625   1.009\n",
       "3   0.865   1.761   1.138   0.622\n",
       "4   4.122   4.840   4.074   0.630"
      ]
     },
     "execution_count": 14,
     "metadata": {},
     "output_type": "execute_result"
    }
   ],
   "source": [
    "# Import pandas\n",
    "import pandas as pd\n",
    "\n",
    "# Load CSV into the rides variable\n",
    "df = pd.read_csv('z://Students.csv',sep=';')\n",
    "gpa_columns = ['y1_gpa', 'y2_gpa', 'y3_gpa', 'y4_gpa']\n",
    "for col in gpa_columns:\n",
    "    df[col] = df[col].str.replace(',', '.').astype(float)\n",
    "df.head()"
   ]
  },
  {
   "cell_type": "code",
   "execution_count": 15,
   "metadata": {},
   "outputs": [],
   "source": [
    "def standardize(column):\n",
    "  \"\"\"Standardize the values in a column.\n",
    "\n",
    "  Args:\n",
    "    column (pandas Series): The data to standardize.\n",
    "\n",
    "  Returns:\n",
    "    pandas Series: the values as z-scores\n",
    "  \"\"\"\n",
    "  # Finish the function so that it returns the z-scores\n",
    "  z_score = (df[column] - df[column].mean()) / df[column].std()\n",
    "  return z_score\n",
    "\n",
    "# Use the standardize() function to calculate the z-scores\n",
    "df['y1_z'] = standardize('y1_gpa')\n",
    "df['y2_z'] = standardize('y2_gpa')\n",
    "df['y3_z'] = standardize('y3_gpa')\n",
    "df['y4_z'] = standardize('y4_gpa')"
   ]
  },
  {
   "cell_type": "code",
   "execution_count": 16,
   "metadata": {},
   "outputs": [
    {
     "name": "stdout",
     "output_type": "stream",
     "text": [
      "0     1.430649\n",
      "1     0.715963\n",
      "2    -0.818626\n",
      "3    -1.244129\n",
      "4     0.911178\n",
      "        ...   \n",
      "95   -1.209056\n",
      "96    1.022351\n",
      "97    0.573026\n",
      "98    0.071422\n",
      "99   -1.488313\n",
      "Name: y1_z, Length: 100, dtype: float64   0    -0.546037\n",
      "1     1.488244\n",
      "2     0.212300\n",
      "3    -0.621734\n",
      "4     1.478014\n",
      "        ...   \n",
      "95   -1.255273\n",
      "96    0.628977\n",
      "97   -1.050004\n",
      "98   -0.020247\n",
      "99   -0.057755\n",
      "Name: y2_z, Length: 100, dtype: float64   0    -0.840052\n",
      "1    -0.317354\n",
      "2    -0.646026\n",
      "3    -0.982292\n",
      "4     1.044975\n",
      "        ...   \n",
      "95    0.975926\n",
      "96   -0.623240\n",
      "97    1.528315\n",
      "98   -0.320116\n",
      "99   -1.293701\n",
      "Name: y3_z, Length: 100, dtype: float64   0     0.479704\n",
      "1     0.355370\n",
      "2    -1.005690\n",
      "3    -1.261633\n",
      "4    -1.256342\n",
      "        ...   \n",
      "95   -0.235877\n",
      "96    1.131135\n",
      "97   -0.137997\n",
      "98   -1.570484\n",
      "99   -1.370094\n",
      "Name: y4_z, Length: 100, dtype: float64\n"
     ]
    }
   ],
   "source": [
    "print(df['y1_z'], \" \",df['y2_z'], \" \",df['y3_z'], \" \",df['y4_z'])"
   ]
  }
 ],
 "metadata": {
  "kernelspec": {
   "display_name": "Python 3",
   "language": "python",
   "name": "python3"
  },
  "language_info": {
   "codemirror_mode": {
    "name": "ipython",
    "version": 3
   },
   "file_extension": ".py",
   "mimetype": "text/x-python",
   "name": "python",
   "nbconvert_exporter": "python",
   "pygments_lexer": "ipython3",
   "version": "3.9.9"
  }
 },
 "nbformat": 4,
 "nbformat_minor": 2
}

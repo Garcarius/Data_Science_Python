{
 "cells": [
  {
   "cell_type": "markdown",
   "metadata": {},
   "source": [
    "# Docstrings to the rescue!\n",
    "\n",
    "Some maniac has corrupted your installation of `numpy`! All of the functions still exist, but they've been given random names. You desperately need to call the `numpy.histogram()` function and you don't have time to reinstall the package. Fortunately for you, the maniac didn't think to alter the docstrings, and you know how to access them. `numpy` has a lot of functions in it, so we've narrowed it down to four possible functions that could be `numpy.histogram()` in disguise: `numpy.leyud()`, `numpy.uqka()`, `numpy.fywdkxa()` or `numpy.jinzyxq()`.\n",
    "\n",
    "Examine each of these functions' docstrings in the IPython shell to determine which of them is actually numpy.histogram().You can use either the native python method or functions from the inspect module to do it."
   ]
  },
  {
   "cell_type": "code",
   "execution_count": 1,
   "metadata": {},
   "outputs": [
    {
     "name": "stdout",
     "output_type": "stream",
     "text": [
      "Compute the histogram of a dataset.\n",
      "\n",
      "Parameters\n",
      "----------\n",
      "a : array_like\n",
      "    Input data. The histogram is computed over the flattened array.\n",
      "bins : int or sequence of scalars or str, optional\n",
      "    If `bins` is an int, it defines the number of equal-width\n",
      "    bins in the given range (10, by default). If `bins` is a\n",
      "    sequence, it defines a monotonically increasing array of bin edges,\n",
      "    including the rightmost edge, allowing for non-uniform bin widths.\n",
      "\n",
      "    .. versionadded:: 1.11.0\n",
      "\n",
      "    If `bins` is a string, it defines the method used to calculate the\n",
      "    optimal bin width, as defined by `histogram_bin_edges`.\n",
      "\n",
      "range : (float, float), optional\n",
      "    The lower and upper range of the bins.  If not provided, range\n",
      "    is simply ``(a.min(), a.max())``.  Values outside the range are\n",
      "    ignored. The first element of the range must be less than or\n",
      "    equal to the second. `range` affects the automatic bin\n",
      "    computation as well. While bin width is computed to be optimal\n",
      "    based on the actual data within `range`, the bin count will fill\n",
      "    the entire range including portions containing no data.\n",
      "weights : array_like, optional\n",
      "    An array of weights, of the same shape as `a`.  Each value in\n",
      "    `a` only contributes its associated weight towards the bin count\n",
      "    (instead of 1). If `density` is True, the weights are\n",
      "    normalized, so that the integral of the density over the range\n",
      "    remains 1.\n",
      "density : bool, optional\n",
      "    If ``False``, the result will contain the number of samples in\n",
      "    each bin. If ``True``, the result is the value of the\n",
      "    probability *density* function at the bin, normalized such that\n",
      "    the *integral* over the range is 1. Note that the sum of the\n",
      "    histogram values will not be equal to 1 unless bins of unity\n",
      "    width are chosen; it is not a probability *mass* function.\n",
      "\n",
      "Returns\n",
      "-------\n",
      "hist : array\n",
      "    The values of the histogram. See `density` and `weights` for a\n",
      "    description of the possible semantics.\n",
      "bin_edges : array of dtype float\n",
      "    Return the bin edges ``(length(hist)+1)``.\n",
      "\n",
      "\n",
      "See Also\n",
      "--------\n",
      "histogramdd, bincount, searchsorted, digitize, histogram_bin_edges\n",
      "\n",
      "Notes\n",
      "-----\n",
      "All but the last (righthand-most) bin is half-open.  In other words,\n",
      "if `bins` is::\n",
      "\n",
      "  [1, 2, 3, 4]\n",
      "\n",
      "then the first bin is ``[1, 2)`` (including 1, but excluding 2) and\n",
      "the second ``[2, 3)``.  The last bin, however, is ``[3, 4]``, which\n",
      "*includes* 4.\n",
      "\n",
      "\n",
      "Examples\n",
      "--------\n",
      ">>> np.histogram([1, 2, 1], bins=[0, 1, 2, 3])\n",
      "(array([0, 2, 1]), array([0, 1, 2, 3]))\n",
      ">>> np.histogram(np.arange(4), bins=np.arange(5), density=True)\n",
      "(array([0.25, 0.25, 0.25, 0.25]), array([0, 1, 2, 3, 4]))\n",
      ">>> np.histogram([[1, 2, 1], [1, 0, 1]], bins=[0,1,2,3])\n",
      "(array([1, 4, 1]), array([0, 1, 2, 3]))\n",
      "\n",
      ">>> a = np.arange(5)\n",
      ">>> hist, bin_edges = np.histogram(a, density=True)\n",
      ">>> hist\n",
      "array([0.5, 0. , 0.5, 0. , 0. , 0.5, 0. , 0.5, 0. , 0.5])\n",
      ">>> hist.sum()\n",
      "2.4999999999999996\n",
      ">>> np.sum(hist * np.diff(bin_edges))\n",
      "1.0\n",
      "\n",
      ".. versionadded:: 1.11.0\n",
      "\n",
      "Automated Bin Selection Methods example, using 2 peak random data\n",
      "with 2000 points:\n",
      "\n",
      ">>> import matplotlib.pyplot as plt\n",
      ">>> rng = np.random.RandomState(10)  # deterministic random data\n",
      ">>> a = np.hstack((rng.normal(size=1000),\n",
      "...                rng.normal(loc=5, scale=2, size=1000)))\n",
      ">>> _ = plt.hist(a, bins='auto')  # arguments are passed to np.histogram\n",
      ">>> plt.title(\"Histogram with 'auto' bins\")\n",
      "Text(0.5, 1.0, \"Histogram with 'auto' bins\")\n",
      ">>> plt.show()\n"
     ]
    }
   ],
   "source": [
    "import inspect\n",
    "import numpy\n",
    "\n",
    "print( inspect.getdoc(numpy.histogram))"
   ]
  },
  {
   "cell_type": "code",
   "execution_count": 2,
   "metadata": {},
   "outputs": [
    {
     "ename": "AttributeError",
     "evalue": "module 'numpy' has no attribute 'leyud'",
     "output_type": "error",
     "traceback": [
      "\u001b[1;31m---------------------------------------------------------------------------\u001b[0m",
      "\u001b[1;31mAttributeError\u001b[0m                            Traceback (most recent call last)",
      "Cell \u001b[1;32mIn[2], line 1\u001b[0m\n\u001b[1;32m----> 1\u001b[0m \u001b[38;5;28mprint\u001b[39m( inspect\u001b[38;5;241m.\u001b[39mgetdoc(\u001b[43mnumpy\u001b[49m\u001b[38;5;241;43m.\u001b[39;49m\u001b[43mleyud\u001b[49m))\n",
      "File \u001b[1;32mc:\\Users\\Garca\\AppData\\Local\\Programs\\Python\\Python39\\lib\\site-packages\\numpy\\__init__.py:320\u001b[0m, in \u001b[0;36m__getattr__\u001b[1;34m(attr)\u001b[0m\n\u001b[0;32m    317\u001b[0m     \u001b[38;5;28;01mfrom\u001b[39;00m \u001b[38;5;21;01m.\u001b[39;00m\u001b[38;5;21;01mtesting\u001b[39;00m \u001b[38;5;28;01mimport\u001b[39;00m Tester\n\u001b[0;32m    318\u001b[0m     \u001b[38;5;28;01mreturn\u001b[39;00m Tester\n\u001b[1;32m--> 320\u001b[0m \u001b[38;5;28;01mraise\u001b[39;00m \u001b[38;5;167;01mAttributeError\u001b[39;00m(\u001b[38;5;124m\"\u001b[39m\u001b[38;5;124mmodule \u001b[39m\u001b[38;5;132;01m{!r}\u001b[39;00m\u001b[38;5;124m has no attribute \u001b[39m\u001b[38;5;124m\"\u001b[39m\n\u001b[0;32m    321\u001b[0m                      \u001b[38;5;124m\"\u001b[39m\u001b[38;5;132;01m{!r}\u001b[39;00m\u001b[38;5;124m\"\u001b[39m\u001b[38;5;241m.\u001b[39mformat(\u001b[38;5;18m__name__\u001b[39m, attr))\n",
      "\u001b[1;31mAttributeError\u001b[0m: module 'numpy' has no attribute 'leyud'"
     ]
    }
   ],
   "source": [
    "print( inspect.getdoc(numpy.leyud))"
   ]
  },
  {
   "cell_type": "code",
   "execution_count": 3,
   "metadata": {},
   "outputs": [
    {
     "ename": "AttributeError",
     "evalue": "module 'numpy' has no attribute 'uqka'",
     "output_type": "error",
     "traceback": [
      "\u001b[1;31m---------------------------------------------------------------------------\u001b[0m",
      "\u001b[1;31mAttributeError\u001b[0m                            Traceback (most recent call last)",
      "Cell \u001b[1;32mIn[3], line 1\u001b[0m\n\u001b[1;32m----> 1\u001b[0m \u001b[38;5;28mprint\u001b[39m( inspect\u001b[38;5;241m.\u001b[39mgetdoc(\u001b[43mnumpy\u001b[49m\u001b[38;5;241;43m.\u001b[39;49m\u001b[43muqka\u001b[49m))\n",
      "File \u001b[1;32mc:\\Users\\Garca\\AppData\\Local\\Programs\\Python\\Python39\\lib\\site-packages\\numpy\\__init__.py:320\u001b[0m, in \u001b[0;36m__getattr__\u001b[1;34m(attr)\u001b[0m\n\u001b[0;32m    317\u001b[0m     \u001b[38;5;28;01mfrom\u001b[39;00m \u001b[38;5;21;01m.\u001b[39;00m\u001b[38;5;21;01mtesting\u001b[39;00m \u001b[38;5;28;01mimport\u001b[39;00m Tester\n\u001b[0;32m    318\u001b[0m     \u001b[38;5;28;01mreturn\u001b[39;00m Tester\n\u001b[1;32m--> 320\u001b[0m \u001b[38;5;28;01mraise\u001b[39;00m \u001b[38;5;167;01mAttributeError\u001b[39;00m(\u001b[38;5;124m\"\u001b[39m\u001b[38;5;124mmodule \u001b[39m\u001b[38;5;132;01m{!r}\u001b[39;00m\u001b[38;5;124m has no attribute \u001b[39m\u001b[38;5;124m\"\u001b[39m\n\u001b[0;32m    321\u001b[0m                      \u001b[38;5;124m\"\u001b[39m\u001b[38;5;132;01m{!r}\u001b[39;00m\u001b[38;5;124m\"\u001b[39m\u001b[38;5;241m.\u001b[39mformat(\u001b[38;5;18m__name__\u001b[39m, attr))\n",
      "\u001b[1;31mAttributeError\u001b[0m: module 'numpy' has no attribute 'uqka'"
     ]
    }
   ],
   "source": [
    "print( inspect.getdoc(numpy.uqka))"
   ]
  },
  {
   "cell_type": "code",
   "execution_count": 4,
   "metadata": {},
   "outputs": [
    {
     "ename": "AttributeError",
     "evalue": "module 'numpy' has no attribute 'fywdkxa'",
     "output_type": "error",
     "traceback": [
      "\u001b[1;31m---------------------------------------------------------------------------\u001b[0m",
      "\u001b[1;31mAttributeError\u001b[0m                            Traceback (most recent call last)",
      "Cell \u001b[1;32mIn[4], line 1\u001b[0m\n\u001b[1;32m----> 1\u001b[0m \u001b[38;5;28mprint\u001b[39m( inspect\u001b[38;5;241m.\u001b[39mgetdoc(\u001b[43mnumpy\u001b[49m\u001b[38;5;241;43m.\u001b[39;49m\u001b[43mfywdkxa\u001b[49m))\n",
      "File \u001b[1;32mc:\\Users\\Garca\\AppData\\Local\\Programs\\Python\\Python39\\lib\\site-packages\\numpy\\__init__.py:320\u001b[0m, in \u001b[0;36m__getattr__\u001b[1;34m(attr)\u001b[0m\n\u001b[0;32m    317\u001b[0m     \u001b[38;5;28;01mfrom\u001b[39;00m \u001b[38;5;21;01m.\u001b[39;00m\u001b[38;5;21;01mtesting\u001b[39;00m \u001b[38;5;28;01mimport\u001b[39;00m Tester\n\u001b[0;32m    318\u001b[0m     \u001b[38;5;28;01mreturn\u001b[39;00m Tester\n\u001b[1;32m--> 320\u001b[0m \u001b[38;5;28;01mraise\u001b[39;00m \u001b[38;5;167;01mAttributeError\u001b[39;00m(\u001b[38;5;124m\"\u001b[39m\u001b[38;5;124mmodule \u001b[39m\u001b[38;5;132;01m{!r}\u001b[39;00m\u001b[38;5;124m has no attribute \u001b[39m\u001b[38;5;124m\"\u001b[39m\n\u001b[0;32m    321\u001b[0m                      \u001b[38;5;124m\"\u001b[39m\u001b[38;5;132;01m{!r}\u001b[39;00m\u001b[38;5;124m\"\u001b[39m\u001b[38;5;241m.\u001b[39mformat(\u001b[38;5;18m__name__\u001b[39m, attr))\n",
      "\u001b[1;31mAttributeError\u001b[0m: module 'numpy' has no attribute 'fywdkxa'"
     ]
    }
   ],
   "source": [
    "print( inspect.getdoc(numpy.fywdkxa))"
   ]
  },
  {
   "cell_type": "code",
   "execution_count": 5,
   "metadata": {},
   "outputs": [
    {
     "ename": "AttributeError",
     "evalue": "module 'numpy' has no attribute 'jinzyxq'",
     "output_type": "error",
     "traceback": [
      "\u001b[1;31m---------------------------------------------------------------------------\u001b[0m",
      "\u001b[1;31mAttributeError\u001b[0m                            Traceback (most recent call last)",
      "Cell \u001b[1;32mIn[5], line 1\u001b[0m\n\u001b[1;32m----> 1\u001b[0m \u001b[38;5;28mprint\u001b[39m( inspect\u001b[38;5;241m.\u001b[39mgetdoc(\u001b[43mnumpy\u001b[49m\u001b[38;5;241;43m.\u001b[39;49m\u001b[43mjinzyxq\u001b[49m))\n",
      "File \u001b[1;32mc:\\Users\\Garca\\AppData\\Local\\Programs\\Python\\Python39\\lib\\site-packages\\numpy\\__init__.py:320\u001b[0m, in \u001b[0;36m__getattr__\u001b[1;34m(attr)\u001b[0m\n\u001b[0;32m    317\u001b[0m     \u001b[38;5;28;01mfrom\u001b[39;00m \u001b[38;5;21;01m.\u001b[39;00m\u001b[38;5;21;01mtesting\u001b[39;00m \u001b[38;5;28;01mimport\u001b[39;00m Tester\n\u001b[0;32m    318\u001b[0m     \u001b[38;5;28;01mreturn\u001b[39;00m Tester\n\u001b[1;32m--> 320\u001b[0m \u001b[38;5;28;01mraise\u001b[39;00m \u001b[38;5;167;01mAttributeError\u001b[39;00m(\u001b[38;5;124m\"\u001b[39m\u001b[38;5;124mmodule \u001b[39m\u001b[38;5;132;01m{!r}\u001b[39;00m\u001b[38;5;124m has no attribute \u001b[39m\u001b[38;5;124m\"\u001b[39m\n\u001b[0;32m    321\u001b[0m                      \u001b[38;5;124m\"\u001b[39m\u001b[38;5;132;01m{!r}\u001b[39;00m\u001b[38;5;124m\"\u001b[39m\u001b[38;5;241m.\u001b[39mformat(\u001b[38;5;18m__name__\u001b[39m, attr))\n",
      "\u001b[1;31mAttributeError\u001b[0m: module 'numpy' has no attribute 'jinzyxq'"
     ]
    }
   ],
   "source": [
    "print( inspect.getdoc(numpy.jinzyxq))"
   ]
  }
 ],
 "metadata": {
  "kernelspec": {
   "display_name": "Python 3",
   "language": "python",
   "name": "python3"
  },
  "language_info": {
   "codemirror_mode": {
    "name": "ipython",
    "version": 3
   },
   "file_extension": ".py",
   "mimetype": "text/x-python",
   "name": "python",
   "nbconvert_exporter": "python",
   "pygments_lexer": "ipython3",
   "version": "3.9.9"
  }
 },
 "nbformat": 4,
 "nbformat_minor": 2
}

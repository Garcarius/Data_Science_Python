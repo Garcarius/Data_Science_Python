{
 "cells": [
  {
   "cell_type": "markdown",
   "metadata": {},
   "source": [
    "# The number of cats\n",
    "\n",
    "You are working on a natural language processing project to determine what makes great writers so great. Your current hypothesis is that great writers talk about cats a lot. To prove it, you want to count the number of times the word \"cat\" appears in \"Alice's Adventures in Wonderland\" by Lewis Carroll. You have already downloaded a text file, `alice.txt`, with the entire contents of this great book."
   ]
  },
  {
   "cell_type": "code",
   "execution_count": 4,
   "metadata": {},
   "outputs": [
    {
     "name": "stdout",
     "output_type": "stream",
     "text": [
      "Lewis Carroll uses the word \"cat\" 24 times\n"
     ]
    }
   ],
   "source": [
    "# Open \"alice.txt\" and assign the file to \"file\"\n",
    "with open('Z:/alice.txt') as file:\n",
    "  text = file.read()\n",
    "\n",
    "n = 0\n",
    "for word in text.split():\n",
    "  if word.lower() in ['cat', 'cats']:\n",
    "    n += 1\n",
    "\n",
    "print('Lewis Carroll uses the word \"cat\" {} times'.format(n))"
   ]
  }
 ],
 "metadata": {
  "kernelspec": {
   "display_name": "Python 3",
   "language": "python",
   "name": "python3"
  },
  "language_info": {
   "codemirror_mode": {
    "name": "ipython",
    "version": 3
   },
   "file_extension": ".py",
   "mimetype": "text/x-python",
   "name": "python",
   "nbconvert_exporter": "python",
   "pygments_lexer": "ipython3",
   "version": "3.9.9"
  }
 },
 "nbformat": 4,
 "nbformat_minor": 2
}

{
 "cells": [
  {
   "cell_type": "markdown",
   "metadata": {},
   "source": [
    "# The speed of cats\n",
    "\n",
    "You're working on a new web service that processes Instagram feeds to identify which pictures contain cats (don't ask why -- it's the internet). The code that processes the data is slower than you would like it to be, so you are working on tuning it up to run faster. Given an image, `image`, you have two functions that can process it:\n",
    "\n",
    "* process_with_numpy(image)\n",
    "* process_with_pytorch(image)\n",
    "\n",
    "Your colleague wrote a context manager, `timer()`, that will print out how long the code inside the context block takes to run. She is suggesting you use it to see which of the two options is faster. Time each function to determine which one to use in your web service."
   ]
  },
  {
   "cell_type": "markdown",
   "metadata": {},
   "source": [
    "* Use the `timer()` context manager to time how long `process_with_numpy(image)` takes to run.\n",
    "* Use the `timer()` context manager to time how long `process_with_pytorch(image)` takes to run."
   ]
  },
  {
   "cell_type": "code",
   "execution_count": 2,
   "metadata": {},
   "outputs": [],
   "source": [
    "import contextlib\n",
    "import time\n",
    "import numpy as np\n",
    "\n",
    "@contextlib.contextmanager\n",
    "def timer():\n",
    "  \"\"\"Time how long code in the context block takes to run.\"\"\"\n",
    "  t0 = time.time()\n",
    "  try:\n",
    "      yield\n",
    "  except:\n",
    "    raise\n",
    "  finally:\n",
    "    t1 = time.time()\n",
    "    print('Elapsed: {:.2f} seconds'.format(t1 - t0))\n",
    "\n",
    "\n",
    "\n",
    "def get_image_from_instagram():\n",
    "  return np.random.rand(84, 84)\n",
    "\n",
    "def process_with_numpy(p):\n",
    "  _process_pic(p)\n",
    "\n",
    "def process_with_pytorch(p):\n",
    "  _process_pic(p)\n",
    "\n",
    "def _process_pic(n_sec):\n",
    "  print('Processing', end='', flush=True)\n",
    "  for i in range(10):\n",
    "    print('.', end='' if i < 9 else 'done!\\n', flush=True)\n",
    "    time.sleep(n_sec)"
   ]
  },
  {
   "cell_type": "code",
   "execution_count": 3,
   "metadata": {},
   "outputs": [
    {
     "ename": "TypeError",
     "evalue": "timer() takes 0 positional arguments but 1 was given",
     "output_type": "error",
     "traceback": [
      "\u001b[1;31m---------------------------------------------------------------------------\u001b[0m",
      "\u001b[1;31mTypeError\u001b[0m                                 Traceback (most recent call last)",
      "Cell \u001b[1;32mIn[3], line 4\u001b[0m\n\u001b[0;32m      1\u001b[0m image \u001b[38;5;241m=\u001b[39m get_image_from_instagram()\n\u001b[0;32m      3\u001b[0m \u001b[38;5;66;03m# Time how long process_with_numpy(image) takes to run\u001b[39;00m\n\u001b[1;32m----> 4\u001b[0m \u001b[38;5;28;01mwith\u001b[39;00m \u001b[43mtimer\u001b[49m\u001b[43m(\u001b[49m\u001b[43mimage\u001b[49m\u001b[43m)\u001b[49m:\n\u001b[0;32m      5\u001b[0m   \u001b[38;5;28mprint\u001b[39m(\u001b[38;5;124m'\u001b[39m\u001b[38;5;124mNumpy version\u001b[39m\u001b[38;5;124m'\u001b[39m)\n\u001b[0;32m      6\u001b[0m   process_with_numpy(image)\n",
      "File \u001b[1;32mc:\\Users\\Garca\\AppData\\Local\\Programs\\Python\\Python39\\lib\\contextlib.py:263\u001b[0m, in \u001b[0;36mcontextmanager.<locals>.helper\u001b[1;34m(*args, **kwds)\u001b[0m\n\u001b[0;32m    261\u001b[0m \u001b[38;5;129m@wraps\u001b[39m(func)\n\u001b[0;32m    262\u001b[0m \u001b[38;5;28;01mdef\u001b[39;00m \u001b[38;5;21mhelper\u001b[39m(\u001b[38;5;241m*\u001b[39margs, \u001b[38;5;241m*\u001b[39m\u001b[38;5;241m*\u001b[39mkwds):\n\u001b[1;32m--> 263\u001b[0m     \u001b[38;5;28;01mreturn\u001b[39;00m \u001b[43m_GeneratorContextManager\u001b[49m\u001b[43m(\u001b[49m\u001b[43mfunc\u001b[49m\u001b[43m,\u001b[49m\u001b[43m \u001b[49m\u001b[43margs\u001b[49m\u001b[43m,\u001b[49m\u001b[43m \u001b[49m\u001b[43mkwds\u001b[49m\u001b[43m)\u001b[49m\n",
      "File \u001b[1;32mc:\\Users\\Garca\\AppData\\Local\\Programs\\Python\\Python39\\lib\\contextlib.py:87\u001b[0m, in \u001b[0;36m_GeneratorContextManagerBase.__init__\u001b[1;34m(self, func, args, kwds)\u001b[0m\n\u001b[0;32m     86\u001b[0m \u001b[38;5;28;01mdef\u001b[39;00m \u001b[38;5;21m__init__\u001b[39m(\u001b[38;5;28mself\u001b[39m, func, args, kwds):\n\u001b[1;32m---> 87\u001b[0m     \u001b[38;5;28mself\u001b[39m\u001b[38;5;241m.\u001b[39mgen \u001b[38;5;241m=\u001b[39m func(\u001b[38;5;241m*\u001b[39margs, \u001b[38;5;241m*\u001b[39m\u001b[38;5;241m*\u001b[39mkwds)\n\u001b[0;32m     88\u001b[0m     \u001b[38;5;28mself\u001b[39m\u001b[38;5;241m.\u001b[39mfunc, \u001b[38;5;28mself\u001b[39m\u001b[38;5;241m.\u001b[39margs, \u001b[38;5;28mself\u001b[39m\u001b[38;5;241m.\u001b[39mkwds \u001b[38;5;241m=\u001b[39m func, args, kwds\n\u001b[0;32m     89\u001b[0m     \u001b[38;5;66;03m# Issue 19330: ensure context manager instances have good docstrings\u001b[39;00m\n",
      "\u001b[1;31mTypeError\u001b[0m: timer() takes 0 positional arguments but 1 was given"
     ]
    }
   ],
   "source": [
    "image = get_image_from_instagram()\n",
    "\n",
    "# Time how long process_with_numpy(image) takes to run\n",
    "with timer():\n",
    "  print('Numpy version')\n",
    "  process_with_numpy(image)\n",
    "\n",
    "# Time how long process_with_pytorch(image) takes to run\n",
    "with timer():\n",
    "  print('Pytorch version')\n",
    "  process_with_pytorch(image)"
   ]
  },
  {
   "cell_type": "code",
   "execution_count": null,
   "metadata": {},
   "outputs": [],
   "source": [
    "import inspect\n",
    "print(inspect.getsource(get_image_from_instagram))\n",
    "\n",
    "import inspect\n",
    "print(inspect.getsource(process_with_numpy))\n",
    "\n",
    "import inspect\n",
    "print(inspect.getsource(process_with_pytorch))\n",
    "\n",
    "import inspect\n",
    "print(inspect.getsource(_process_pic))"
   ]
  }
 ],
 "metadata": {
  "kernelspec": {
   "display_name": "Python 3",
   "language": "python",
   "name": "python3"
  },
  "language_info": {
   "codemirror_mode": {
    "name": "ipython",
    "version": 3
   },
   "file_extension": ".py",
   "mimetype": "text/x-python",
   "name": "python",
   "nbconvert_exporter": "python",
   "pygments_lexer": "ipython3",
   "version": "3.9.9"
  }
 },
 "nbformat": 4,
 "nbformat_minor": 2
}

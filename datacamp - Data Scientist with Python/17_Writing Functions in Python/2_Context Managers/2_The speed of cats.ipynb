{
 "cells": [
  {
   "cell_type": "markdown",
   "metadata": {},
   "source": [
    "# The speed of cats\n",
    "\n",
    "You're working on a new web service that processes Instagram feeds to identify which pictures contain cats (don't ask why -- it's the internet). The code that processes the data is slower than you would like it to be, so you are working on tuning it up to run faster. Given an image, `image`, you have two functions that can process it:\n",
    "\n",
    "* process_with_numpy(image)\n",
    "* process_with_pytorch(image)\n",
    "\n",
    "Your colleague wrote a context manager, `timer()`, that will print out how long the code inside the context block takes to run. She is suggesting you use it to see which of the two options is faster. Time each function to determine which one to use in your web service."
   ]
  },
  {
   "cell_type": "markdown",
   "metadata": {},
   "source": [
    "* Use the `timer()` context manager to time how long `process_with_numpy(image)` takes to run.\n",
    "* Use the `timer()` context manager to time how long `process_with_pytorch(image)` takes to run."
   ]
  },
  {
   "cell_type": "code",
   "execution_count": 12,
   "metadata": {},
   "outputs": [],
   "source": [
    "import contextlib\n",
    "import time\n",
    "import numpy as np\n",
    "\n",
    "@contextlib.contextmanager\n",
    "def timer():\n",
    "  \"\"\"Time how long code in the context block takes to run.\"\"\"\n",
    "  t0 = time.time()\n",
    "  try:\n",
    "      yield\n",
    "  except:\n",
    "    raise\n",
    "  finally:\n",
    "    t1 = time.time()\n",
    "    print('Elapsed: {:.2f} seconds'.format(t1 - t0))\n",
    "\n",
    "\n",
    "\n",
    "def get_image_from_instagram():\n",
    "  return np.random.rand(84, 84)\n",
    "\n",
    "def process_with_numpy(p):\n",
    "  _process_pic(p)\n",
    "\n",
    "def process_with_pytorch(p):\n",
    "  _process_pic(p)\n",
    "\n",
    "def _process_pic(n_sec):\n",
    "  print('Processing', end='', flush=True)\n",
    "  for i in range(10):\n",
    "    print('.', end='' if i < 9 else 'done!\\n', flush=True)\n",
    "    time.sleep(int(n_sec))"
   ]
  },
  {
   "cell_type": "code",
   "execution_count": 13,
   "metadata": {},
   "outputs": [
    {
     "name": "stdout",
     "output_type": "stream",
     "text": [
      "Numpy version\n",
      "Processing.Elapsed: 0.00 seconds\n"
     ]
    },
    {
     "ename": "TypeError",
     "evalue": "only size-1 arrays can be converted to Python scalars",
     "output_type": "error",
     "traceback": [
      "\u001b[1;31m---------------------------------------------------------------------------\u001b[0m",
      "\u001b[1;31mTypeError\u001b[0m                                 Traceback (most recent call last)",
      "Cell \u001b[1;32mIn[13], line 6\u001b[0m\n\u001b[0;32m      4\u001b[0m \u001b[38;5;28;01mwith\u001b[39;00m timer():\n\u001b[0;32m      5\u001b[0m   \u001b[38;5;28mprint\u001b[39m(\u001b[38;5;124m'\u001b[39m\u001b[38;5;124mNumpy version\u001b[39m\u001b[38;5;124m'\u001b[39m)\n\u001b[1;32m----> 6\u001b[0m   \u001b[43mprocess_with_numpy\u001b[49m\u001b[43m(\u001b[49m\u001b[43mimage\u001b[49m\u001b[43m)\u001b[49m\n\u001b[0;32m      8\u001b[0m \u001b[38;5;66;03m# Time how long process_with_pytorch(image) takes to run\u001b[39;00m\n\u001b[0;32m      9\u001b[0m \u001b[38;5;28;01mwith\u001b[39;00m timer():\n",
      "Cell \u001b[1;32mIn[12], line 23\u001b[0m, in \u001b[0;36mprocess_with_numpy\u001b[1;34m(p)\u001b[0m\n\u001b[0;32m     22\u001b[0m \u001b[38;5;28;01mdef\u001b[39;00m \u001b[38;5;21mprocess_with_numpy\u001b[39m(p):\n\u001b[1;32m---> 23\u001b[0m   \u001b[43m_process_pic\u001b[49m\u001b[43m(\u001b[49m\u001b[43mp\u001b[49m\u001b[43m)\u001b[49m\n",
      "Cell \u001b[1;32mIn[12], line 32\u001b[0m, in \u001b[0;36m_process_pic\u001b[1;34m(n_sec)\u001b[0m\n\u001b[0;32m     30\u001b[0m \u001b[38;5;28;01mfor\u001b[39;00m i \u001b[38;5;129;01min\u001b[39;00m \u001b[38;5;28mrange\u001b[39m(\u001b[38;5;241m10\u001b[39m):\n\u001b[0;32m     31\u001b[0m   \u001b[38;5;28mprint\u001b[39m(\u001b[38;5;124m'\u001b[39m\u001b[38;5;124m.\u001b[39m\u001b[38;5;124m'\u001b[39m, end\u001b[38;5;241m=\u001b[39m\u001b[38;5;124m'\u001b[39m\u001b[38;5;124m'\u001b[39m \u001b[38;5;28;01mif\u001b[39;00m i \u001b[38;5;241m<\u001b[39m \u001b[38;5;241m9\u001b[39m \u001b[38;5;28;01melse\u001b[39;00m \u001b[38;5;124m'\u001b[39m\u001b[38;5;124mdone!\u001b[39m\u001b[38;5;130;01m\\n\u001b[39;00m\u001b[38;5;124m'\u001b[39m, flush\u001b[38;5;241m=\u001b[39m\u001b[38;5;28;01mTrue\u001b[39;00m)\n\u001b[1;32m---> 32\u001b[0m   time\u001b[38;5;241m.\u001b[39msleep(\u001b[38;5;28;43mint\u001b[39;49m\u001b[43m(\u001b[49m\u001b[43mn_sec\u001b[49m\u001b[43m)\u001b[49m)\n",
      "\u001b[1;31mTypeError\u001b[0m: only size-1 arrays can be converted to Python scalars"
     ]
    }
   ],
   "source": [
    "image = get_image_from_instagram()\n",
    "\n",
    "# Time how long process_with_numpy(image) takes to run\n",
    "with timer():\n",
    "  print('Numpy version')\n",
    "  process_with_numpy(image)\n",
    "\n",
    "# Time how long process_with_pytorch(image) takes to run\n",
    "with timer():\n",
    "  print('Pytorch version')\n",
    "  process_with_pytorch(image)"
   ]
  },
  {
   "cell_type": "code",
   "execution_count": null,
   "metadata": {},
   "outputs": [],
   "source": [
    "import inspect\n",
    "print(inspect.getsource(get_image_from_instagram))\n",
    "\n",
    "import inspect\n",
    "print(inspect.getsource(process_with_numpy))\n",
    "\n",
    "import inspect\n",
    "print(inspect.getsource(process_with_pytorch))\n",
    "\n",
    "import inspect\n",
    "print(inspect.getsource(_process_pic))"
   ]
  },
  {
   "cell_type": "code",
   "execution_count": 7,
   "metadata": {},
   "outputs": [
    {
     "name": "stdout",
     "output_type": "stream",
     "text": [
      "[[0.93895442 0.10953234 0.66237965 ... 0.57510436 0.56994636 0.09480082]\n",
      " [0.4150124  0.79012833 0.19873347 ... 0.68199046 0.09993139 0.23383015]\n",
      " [0.81236416 0.93353212 0.35223494 ... 0.20275667 0.22482392 0.79060799]\n",
      " ...\n",
      " [0.8980472  0.0881822  0.33013858 ... 0.25644562 0.02456873 0.43363851]\n",
      " [0.88158906 0.58143208 0.70555867 ... 0.275297   0.41252381 0.77102682]\n",
      " [0.22372162 0.67292449 0.04932159 ... 0.6484499  0.05363619 0.00266056]]\n"
     ]
    }
   ],
   "source": [
    "print(get_image_from_instagram())"
   ]
  }
 ],
 "metadata": {
  "kernelspec": {
   "display_name": "Python 3",
   "language": "python",
   "name": "python3"
  },
  "language_info": {
   "codemirror_mode": {
    "name": "ipython",
    "version": 3
   },
   "file_extension": ".py",
   "mimetype": "text/x-python",
   "name": "python",
   "nbconvert_exporter": "python",
   "pygments_lexer": "ipython3",
   "version": "3.9.9"
  }
 },
 "nbformat": 4,
 "nbformat_minor": 2
}

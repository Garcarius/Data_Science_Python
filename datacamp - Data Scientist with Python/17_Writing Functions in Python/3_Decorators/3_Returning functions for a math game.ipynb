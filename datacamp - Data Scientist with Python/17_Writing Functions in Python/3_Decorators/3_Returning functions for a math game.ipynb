{
 "cells": [
  {
   "cell_type": "markdown",
   "metadata": {},
   "source": [
    "### Returning functions for a math game\n",
    "You are building an educational math game where the player enters a math term, and your program returns a function that matches that term. For instance, if the user types \"add\", your program returns a function that adds two numbers. So far you've only implemented the \"add\" function. Now you want to include a \"subtract\" function."
   ]
  },
  {
   "cell_type": "markdown",
   "metadata": {},
   "source": [
    "* Define the subtract() function. It should take two arguments and return the first argument minus the second argument."
   ]
  },
  {
   "cell_type": "code",
   "execution_count": null,
   "metadata": {},
   "outputs": [],
   "source": [
    "def create_math_function(func_name):\n",
    "  if func_name == 'add':\n",
    "    def add(a, b):\n",
    "      return a + b\n",
    "    return add\n",
    "  elif func_name == 'subtract':\n",
    "    # Define the subtract() function\n",
    "    def subtract (a, b):\n",
    "      return a - b\n",
    "    return subtract\n",
    "  else:\n",
    "    print(\"I don't know that one\")\n",
    "    \n",
    "add = create_math_function('add')\n",
    "print('5 + 2 = {}'.format(add(5, 2)))\n",
    "\n",
    "subtract = create_math_function('subtract')\n",
    "print('5 - 2 = {}'.format(subtract(5, 2)))"
   ]
  }
 ],
 "metadata": {
  "kernelspec": {
   "display_name": "Python 3",
   "language": "python",
   "name": "python3"
  },
  "language_info": {
   "name": "python",
   "version": "3.9.9"
  }
 },
 "nbformat": 4,
 "nbformat_minor": 2
}

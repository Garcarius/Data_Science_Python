{
 "cells": [
  {
   "cell_type": "markdown",
   "metadata": {},
   "source": [
    "# Building a command line data app\n",
    "\n",
    "You are building a command line tool that lets a user interactively explore a dataset. We've defined four functions: `mean()`, `std()`, `minimum()`, and maximum() that users can call to analyze their data. Help finish this section of the code so that your users can call any of these functions by typing the function name at the input prompt.\n",
    "\n",
    "Note: The function `get_user_input()` in this exercise is a mock version of asking the user to enter a command. It randomly returns one of the four function names. In real life, you would ask for input and wait until the user entered a value.\n",
    "\n",
    "* Add the functions `std()`, `minimum()`, and `maximum()` to the `function_map` dictionary, like we did with `mean()`.\n",
    "* The name of the function the user wants to call is stored in `func_name`. Use the dictionary of functions, `function_map`, to call the chosen function and pass data as an argument."
   ]
  },
  {
   "cell_type": "code",
   "execution_count": 6,
   "metadata": {},
   "outputs": [
    {
     "ename": "TypeError",
     "evalue": "amin() missing 1 required positional argument: 'a'",
     "output_type": "error",
     "traceback": [
      "\u001b[1;31m---------------------------------------------------------------------------\u001b[0m",
      "\u001b[1;31mTypeError\u001b[0m                                 Traceback (most recent call last)",
      "Cell \u001b[1;32mIn[6], line 4\u001b[0m\n\u001b[0;32m      1\u001b[0m \u001b[38;5;28;01mimport\u001b[39;00m \u001b[38;5;21;01mpandas\u001b[39;00m \u001b[38;5;28;01mas\u001b[39;00m \u001b[38;5;21;01mpd\u001b[39;00m\n\u001b[0;32m      2\u001b[0m \u001b[38;5;28;01mimport\u001b[39;00m \u001b[38;5;21;01mnumpy\u001b[39;00m \u001b[38;5;28;01mas\u001b[39;00m \u001b[38;5;21;01mnp\u001b[39;00m\n\u001b[1;32m----> 4\u001b[0m minimum\u001b[38;5;241m=\u001b[39m\u001b[43mnp\u001b[49m\u001b[38;5;241;43m.\u001b[39;49m\u001b[43mmin\u001b[49m\u001b[43m(\u001b[49m\u001b[43m)\u001b[49m\n\u001b[0;32m      5\u001b[0m maximum \u001b[38;5;241m=\u001b[39m np\u001b[38;5;241m.\u001b[39mmax()\n\u001b[0;32m      6\u001b[0m mean\u001b[38;5;241m=\u001b[39mnp\u001b[38;5;241m.\u001b[39mmean()\n",
      "File \u001b[1;32m<__array_function__ internals>:198\u001b[0m, in \u001b[0;36mamin\u001b[1;34m(*args, **kwargs)\u001b[0m\n",
      "\u001b[1;31mTypeError\u001b[0m: amin() missing 1 required positional argument: 'a'"
     ]
    }
   ],
   "source": [
    "import pandas as pd\n",
    "import numpy as np\n",
    "\n",
    "minimum=min()\n",
    "maximum =max()\n",
    "mean=np.mean()\n",
    "std=np.std()\n",
    "\n",
    "def load_data ():\n",
    "   df= pd.read_csv('z://baseball.csv',sep=',')\n",
    "   return df\n",
    "\n",
    "test = load_data()\n",
    "test.head()"
   ]
  },
  {
   "cell_type": "code",
   "execution_count": 4,
   "metadata": {},
   "outputs": [
    {
     "ename": "NameError",
     "evalue": "name 'mean' is not defined",
     "output_type": "error",
     "traceback": [
      "\u001b[1;31m---------------------------------------------------------------------------\u001b[0m",
      "\u001b[1;31mNameError\u001b[0m                                 Traceback (most recent call last)",
      "Cell \u001b[1;32mIn[4], line 3\u001b[0m\n\u001b[0;32m      1\u001b[0m \u001b[38;5;66;03m# Add the missing function references to the function map\u001b[39;00m\n\u001b[0;32m      2\u001b[0m function_map \u001b[38;5;241m=\u001b[39m {\n\u001b[1;32m----> 3\u001b[0m   \u001b[38;5;124m'\u001b[39m\u001b[38;5;124mmean\u001b[39m\u001b[38;5;124m'\u001b[39m: \u001b[43mmean\u001b[49m,\n\u001b[0;32m      4\u001b[0m   \u001b[38;5;124m'\u001b[39m\u001b[38;5;124mstd\u001b[39m\u001b[38;5;124m'\u001b[39m: std,\n\u001b[0;32m      5\u001b[0m   \u001b[38;5;124m'\u001b[39m\u001b[38;5;124mminimum\u001b[39m\u001b[38;5;124m'\u001b[39m: minimum,\n\u001b[0;32m      6\u001b[0m   \u001b[38;5;124m'\u001b[39m\u001b[38;5;124mmaximum\u001b[39m\u001b[38;5;124m'\u001b[39m: maximum\n\u001b[0;32m      7\u001b[0m }\n\u001b[0;32m      9\u001b[0m data \u001b[38;5;241m=\u001b[39m load_data()\n\u001b[0;32m     10\u001b[0m \u001b[38;5;28mprint\u001b[39m(data)\n",
      "\u001b[1;31mNameError\u001b[0m: name 'mean' is not defined"
     ]
    }
   ],
   "source": [
    "# Add the missing function references to the function map\n",
    "function_map = {\n",
    "  'mean': mean,\n",
    "  'std': std,\n",
    "  'minimum': minimum,\n",
    "  'maximum': maximum\n",
    "}\n",
    "\n",
    "data = load_data()\n",
    "print(data)\n",
    "\n",
    "func_name = get_user_input()\n",
    "\n",
    "# Call the chosen function and pass \"data\" as an argument\n",
    "function_map[func_name](data)"
   ]
  },
  {
   "cell_type": "code",
   "execution_count": null,
   "metadata": {},
   "outputs": [],
   "source": [
    "import inspect\n",
    "print(inspect.getdoc(load_data))"
   ]
  }
 ],
 "metadata": {
  "kernelspec": {
   "display_name": "Python 3",
   "language": "python",
   "name": "python3"
  },
  "language_info": {
   "codemirror_mode": {
    "name": "ipython",
    "version": 3
   },
   "file_extension": ".py",
   "mimetype": "text/x-python",
   "name": "python",
   "nbconvert_exporter": "python",
   "pygments_lexer": "ipython3",
   "version": "3.9.9"
  }
 },
 "nbformat": 4,
 "nbformat_minor": 2
}

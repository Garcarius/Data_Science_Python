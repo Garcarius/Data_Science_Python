{
 "cells": [
  {
   "cell_type": "markdown",
   "metadata": {},
   "source": [
    "# Using pandas to import flat files as DataFrames (2)\n",
    "In the last exercise, you were able to import flat files into a `pandas` DataFrame. As a bonus, it is then straightforward to retrieve the corresponding `numpy` array using the attribute `values`. You'll now have a chance to do this using the MNIST dataset, which is available as `digits.csv`.\n",
    "\n",
    "* Import the first 5 rows of the file into a DataFrame using the function `pd.read_csv()` and assign the result to `data`. You'll need to use the arguments `nrows` and `header` (there is no header in this file).\n",
    "* Build a `numpy` array from the resulting DataFrame in `data` and assign to `data_array`.\n",
    "* Execute `print(type(data_array))` to print the datatype of `data_array`."
   ]
  },
  {
   "cell_type": "code",
   "execution_count": 2,
   "metadata": {},
   "outputs": [
    {
     "ename": "TypeError",
     "evalue": "__init__() got an unexpected keyword argument 'header'",
     "output_type": "error",
     "traceback": [
      "\u001b[1;31m---------------------------------------------------------------------------\u001b[0m",
      "\u001b[1;31mTypeError\u001b[0m                                 Traceback (most recent call last)",
      "\u001b[1;32md:\\Cursos\\Data_Science_Python\\datacamp - Data Scientist with Python\\14_Introduction to Importing Data in Python\\1_Introduction and flat files\\10_Using pandas to import flat files as DataFrames (2).ipynb Cell 2\u001b[0m line \u001b[0;36m7\n\u001b[0;32m      <a href='vscode-notebook-cell:/d%3A/Cursos/Data_Science_Python/datacamp%20-%20Data%20Scientist%20with%20Python/14_Introduction%20to%20Importing%20Data%20in%20Python/1_Introduction%20and%20flat%20files/10_Using%20pandas%20to%20import%20flat%20files%20as%20DataFrames%20%282%29.ipynb#W0sZmlsZQ%3D%3D?line=3'>4</a>\u001b[0m file \u001b[39m=\u001b[39m \u001b[39mr\u001b[39m\u001b[39m'\u001b[39m\u001b[39mD:\u001b[39m\u001b[39m\\\u001b[39m\u001b[39mCursos\u001b[39m\u001b[39m\\\u001b[39m\u001b[39mData_Science_Python\u001b[39m\u001b[39m\\\u001b[39m\u001b[39mdata_sets\u001b[39m\u001b[39m\\\u001b[39m\u001b[39mdigits.csv\u001b[39m\u001b[39m'\u001b[39m\n\u001b[0;32m      <a href='vscode-notebook-cell:/d%3A/Cursos/Data_Science_Python/datacamp%20-%20Data%20Scientist%20with%20Python/14_Introduction%20to%20Importing%20Data%20in%20Python/1_Introduction%20and%20flat%20files/10_Using%20pandas%20to%20import%20flat%20files%20as%20DataFrames%20%282%29.ipynb#W0sZmlsZQ%3D%3D?line=5'>6</a>\u001b[0m \u001b[39m# Read the first 5 rows of the file into a DataFrame: data\u001b[39;00m\n\u001b[1;32m----> <a href='vscode-notebook-cell:/d%3A/Cursos/Data_Science_Python/datacamp%20-%20Data%20Scientist%20with%20Python/14_Introduction%20to%20Importing%20Data%20in%20Python/1_Introduction%20and%20flat%20files/10_Using%20pandas%20to%20import%20flat%20files%20as%20DataFrames%20%282%29.ipynb#W0sZmlsZQ%3D%3D?line=6'>7</a>\u001b[0m data \u001b[39m=\u001b[39m pd\u001b[39m.\u001b[39;49mDataFrame(file,header\u001b[39m=\u001b[39;49m\u001b[39mNone\u001b[39;49;00m,nrows\u001b[39m=\u001b[39;49m\u001b[39m5\u001b[39;49m)\n\u001b[0;32m      <a href='vscode-notebook-cell:/d%3A/Cursos/Data_Science_Python/datacamp%20-%20Data%20Scientist%20with%20Python/14_Introduction%20to%20Importing%20Data%20in%20Python/1_Introduction%20and%20flat%20files/10_Using%20pandas%20to%20import%20flat%20files%20as%20DataFrames%20%282%29.ipynb#W0sZmlsZQ%3D%3D?line=8'>9</a>\u001b[0m \u001b[39m# Build a numpy array from the DataFrame: data_array\u001b[39;00m\n\u001b[0;32m     <a href='vscode-notebook-cell:/d%3A/Cursos/Data_Science_Python/datacamp%20-%20Data%20Scientist%20with%20Python/14_Introduction%20to%20Importing%20Data%20in%20Python/1_Introduction%20and%20flat%20files/10_Using%20pandas%20to%20import%20flat%20files%20as%20DataFrames%20%282%29.ipynb#W0sZmlsZQ%3D%3D?line=9'>10</a>\u001b[0m data_array \u001b[39m=\u001b[39m np\u001b[39m.\u001b[39marray(data)\n",
      "\u001b[1;31mTypeError\u001b[0m: __init__() got an unexpected keyword argument 'header'"
     ]
    }
   ],
   "source": [
    "import pandas as pd\n",
    "import numpy as np\n",
    "# Assign the filename: file\n",
    "file = r'D:\\Cursos\\Data_Science_Python\\data_sets\\digits.csv'\n",
    "\n",
    "# Read the first 5 rows of the file into a DataFrame: data\n",
    "data = pd.DataFrame(file,header=None,nrows=5)\n",
    "\n",
    "# Build a numpy array from the DataFrame: data_array\n",
    "data_array = np.array(data)\n",
    "\n",
    "# Print the datatype of data_array to the shell\n",
    "print(type(data_array))"
   ]
  }
 ],
 "metadata": {
  "kernelspec": {
   "display_name": "Python 3",
   "language": "python",
   "name": "python3"
  },
  "language_info": {
   "codemirror_mode": {
    "name": "ipython",
    "version": 3
   },
   "file_extension": ".py",
   "mimetype": "text/x-python",
   "name": "python",
   "nbconvert_exporter": "python",
   "pygments_lexer": "ipython3",
   "version": "3.9.9"
  }
 },
 "nbformat": 4,
 "nbformat_minor": 2
}

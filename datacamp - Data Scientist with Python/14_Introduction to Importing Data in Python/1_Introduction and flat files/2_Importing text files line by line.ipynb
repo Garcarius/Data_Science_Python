{
 "cells": [
  {
   "cell_type": "markdown",
   "metadata": {},
   "source": [
    "# Importing text files line by line\n",
    "For large files, we may not want to print all of their content to the shell: you may wish to print only the first few lines. Enter the `readline()` method, which allows you to do this. When a file called file is open, you can print out the first line by executing `file.readline()`. If you execute the same command again, the second line will print, and so on.\n",
    "\n",
    "In the introductory video, Hugo also introduced the concept of a **context manager**. He showed that you can bind a variable file by using a context manager construct:\n",
    "\n",
    "`with open('huck_finn.txt') as file:`\n",
    "\n",
    "While still within this construct, the variable `file` will be bound to `open('huck_finn.txt')`; thus, to print the file to the shell, all the code you need to execute is:\n",
    "\n",
    "```python\n",
    "with open('huck_finn.txt') as file:\n",
    "    print(file.readline())\n",
    "```\n",
    "You'll now use these tools to print the first few lines of `moby_dick.txt`!"
   ]
  },
  {
   "cell_type": "markdown",
   "metadata": {},
   "source": [
    "* Open `moby_dick.txt` using the `with` context manager and the variable `file`.\n",
    "* Print the first three lines of the file to the shell by using `readline()` three times within the context manager."
   ]
  },
  {
   "cell_type": "code",
   "execution_count": 2,
   "metadata": {},
   "outputs": [
    {
     "name": "stdout",
     "output_type": "stream",
     "text": [
      "**The Project Gutenberg Etext of Moby Dick, by Herman Melville**\n",
      "\n",
      "#3 in our series by Herman Melville\n",
      "\n",
      "\n",
      "\n"
     ]
    }
   ],
   "source": [
    "path='D:\\Cursos\\Data_Science_Python\\data_sets\\moby_dick.txt'\n",
    "\n",
    "# Read & print the first 3 lines\n",
    "with open(path) as file:\n",
    "    print(file.readline())\n",
    "    print(file.readline())\n",
    "    print(file.readline())"
   ]
  },
  {
   "cell_type": "markdown",
   "metadata": {},
   "source": []
  }
 ],
 "metadata": {
  "kernelspec": {
   "display_name": "Python 3",
   "language": "python",
   "name": "python3"
  },
  "language_info": {
   "codemirror_mode": {
    "name": "ipython",
    "version": 3
   },
   "file_extension": ".py",
   "mimetype": "text/x-python",
   "name": "python",
   "nbconvert_exporter": "python",
   "pygments_lexer": "ipython3",
   "version": "3.9.9"
  }
 },
 "nbformat": 4,
 "nbformat_minor": 2
}

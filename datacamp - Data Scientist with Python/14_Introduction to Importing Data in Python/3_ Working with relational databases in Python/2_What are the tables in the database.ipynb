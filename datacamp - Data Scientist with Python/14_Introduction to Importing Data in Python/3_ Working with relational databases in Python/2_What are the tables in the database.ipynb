{
 "cells": [
  {
   "cell_type": "markdown",
   "metadata": {},
   "source": [
    "# What are the tables in the database?\n",
    "In this exercise, you'll once again create an engine to connect to `'Chinook.sqlite'`. Before you can get any data out of the database, however, you'll need to know what tables it contains!\n",
    "\n",
    "To this end, you'll save the table names to a list using the method `table_names()` on the engine and then you will print the list.\n",
    "\n",
    "**Instructions**\n",
    "* Import the function `create_engine` from the module `sqlalchemy`.\n",
    "* Create an engine to connect to the SQLite database `'Chinook.sqlite'` and assign it to `engine`.\n",
    "* Using the method `table_names()` on the engine engine, assign the table names of `'Chinook.sqlite'` to the variable `table_names`.\n",
    "* Print the object `table_names` to the shell."
   ]
  },
  {
   "cell_type": "code",
   "execution_count": 3,
   "metadata": {},
   "outputs": [
    {
     "name": "stdout",
     "output_type": "stream",
     "text": [
      "['Album', 'Artist', 'Customer', 'Employee', 'Genre', 'Invoice', 'InvoiceLine', 'MediaType', 'Playlist', 'PlaylistTrack', 'Track']\n"
     ]
    }
   ],
   "source": [
    "# Import necessary module\n",
    "from sqlalchemy import create_engine , inspect\n",
    "\n",
    "# Create engine: engine\n",
    "engine = create_engine(r'sqlite:///Z:/Chinook.sqlite')\n",
    "\n",
    "# Save the table names to a list: table_names\n",
    "table_names = inspect(engine).get_table_names()\n",
    "# engine.table_names() was deprecated\n",
    "# Print the table names to the shell\n",
    "print(table_names)\n"
   ]
  }
 ],
 "metadata": {
  "kernelspec": {
   "display_name": "Python 3",
   "language": "python",
   "name": "python3"
  },
  "language_info": {
   "codemirror_mode": {
    "name": "ipython",
    "version": 3
   },
   "file_extension": ".py",
   "mimetype": "text/x-python",
   "name": "python",
   "nbconvert_exporter": "python",
   "pygments_lexer": "ipython3",
   "version": "3.9.9"
  }
 },
 "nbformat": 4,
 "nbformat_minor": 2
}

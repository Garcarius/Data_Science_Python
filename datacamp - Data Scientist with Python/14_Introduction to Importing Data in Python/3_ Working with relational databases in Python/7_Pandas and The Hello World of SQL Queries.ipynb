{
 "cells": [
  {
   "cell_type": "markdown",
   "metadata": {},
   "source": [
    "# Pandas and The Hello World of SQL Queries!\n",
    "Here, you'll take advantage of the power of pandas to write the results of your SQL query to a DataFrame in one swift line of Python code!\n",
    "\n",
    "You'll first import pandas and create the SQLite 'Chinook.sqlite' engine. Then you'll query the database to select all records from the Album table.\n",
    "\n",
    "Recall that to select all records from the Orders table in the Northwind database, Hugo executed the following command:\n",
    "\n",
    "```python\n",
    "df = pd.read_sql_query(\"SELECT * FROM Orders\", engine)\n",
    "```"
   ]
  },
  {
   "cell_type": "markdown",
   "metadata": {},
   "source": [
    "### Instructions\n",
    "* Import the `pandas` package using the alias `pd`.\n",
    "* Using the function `create_engine()`, create an engine for the SQLite database `Chinook.sqlite`and assign it to the variable `engine`.\n",
    "* Use the `pandas` function `read_sql_query()` to assign to the variable `df` the DataFrame of results from the following query: select all records from the table `Album`.\n",
    "* The remainder of the code is included to confirm that the DataFrame created by this method is equal to that created by the previous method that you learned."
   ]
  },
  {
   "cell_type": "code",
   "execution_count": 15,
   "metadata": {},
   "outputs": [
    {
     "name": "stdout",
     "output_type": "stream",
     "text": [
      "   AlbumId                                  Title  ArtistId\n",
      "0        1  For Those About To Rock We Salute You         1\n",
      "1        2                      Balls to the Wall         2\n",
      "2        3                      Restless and Wild         2\n",
      "3        4                      Let There Be Rock         1\n",
      "4        5                               Big Ones         3\n",
      "True\n"
     ]
    }
   ],
   "source": [
    "# Import packages\n",
    "from sqlalchemy import create_engine, text\n",
    "import pandas as pd\n",
    "query = text(\"SELECT * FROM Album\")\n",
    "# Create engine: engine\n",
    "engine = create_engine(r'sqlite:///Z:/Chinook.sqlite')\n",
    "\n",
    "# Execute query and store records in DataFrame: df\n",
    "df = pd.read_sql_query(query,engine.connect() )\n",
    "\n",
    "# Print head of DataFrame\n",
    "print(df.head())\n",
    "\n",
    "# Open engine in context manager and store query result in df1\n",
    "\n",
    "with engine.connect() as con:\n",
    "    rs = con.execute(query)\n",
    "    df1 = pd.DataFrame(rs.fetchall())\n",
    "    df1.columns = rs.keys()\n",
    "\n",
    "# Confirm that both methods yield the same result\n",
    "print(df.equals(df1))"
   ]
  }
 ],
 "metadata": {
  "kernelspec": {
   "display_name": "Python 3",
   "language": "python",
   "name": "python3"
  },
  "language_info": {
   "name": "python",
   "version": "3.9.9"
  }
 },
 "nbformat": 4,
 "nbformat_minor": 2
}

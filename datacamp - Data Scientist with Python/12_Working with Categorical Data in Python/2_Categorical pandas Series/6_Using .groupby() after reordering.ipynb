{
 "cells": [
  {
   "cell_type": "markdown",
   "metadata": {},
   "source": [
    "# Using .groupby() after reordering\n",
    "It is now time to run some analyses on the adoptable dogs dataset that is focused on the `\"size\"` of the dog. You have already developed some code to reorder the categories. In this exercise, you will develop two similar `.groupby()` statements to help better understand the effect of `\"size\"` on other variables. `dogs` has been preloaded for you."
   ]
  },
  {
   "cell_type": "code",
   "execution_count": 2,
   "metadata": {},
   "outputs": [
    {
     "name": "stdout",
     "output_type": "stream",
     "text": [
      "      ID            name   age     sex               breed date_found  \\\n",
      "0  23807            Gida  0.25  female         Unknown Mix   12/10/19   \n",
      "1    533  Frida És Ricsi  0.17  female         Unknown Mix    12/1/19   \n",
      "2  23793             NaN  4.00    male         Unknown Mix    12/8/19   \n",
      "3  23795             NaN  1.00    male         Unknown Mix    12/8/19   \n",
      "4  23806             Amy  2.00  female  French Bulldog Mix   12/10/19   \n",
      "\n",
      "  adoptable_from    posted            color    coat    size neutered  \\\n",
      "0       12/11/19  12/11/19              red   short   small       no   \n",
      "1        12/1/19   12/9/19  black and white   short   small       no   \n",
      "2       12/23/19   12/8/19      saddle back   short  medium       no   \n",
      "3       12/23/19   12/8/19     yellow-brown  medium  medium       no   \n",
      "4       12/11/19  12/11/19            black   short   small       no   \n",
      "\n",
      "  housebroken likes_people likes_children get_along_males get_along_females  \\\n",
      "0         NaN          NaN            NaN             NaN               NaN   \n",
      "1         NaN          yes            yes             yes               yes   \n",
      "2         NaN          NaN            NaN             NaN               NaN   \n",
      "3         NaN          NaN            NaN             NaN               NaN   \n",
      "4         NaN          NaN            NaN             NaN               NaN   \n",
      "\n",
      "  get_along_cats keep_in  \n",
      "0            NaN     NaN  \n",
      "1            yes     NaN  \n",
      "2            NaN     NaN  \n",
      "3            NaN     NaN  \n",
      "4            NaN     NaN  \n"
     ]
    },
    {
     "name": "stderr",
     "output_type": "stream",
     "text": [
      "C:\\Users\\Garca\\AppData\\Local\\Temp\\ipykernel_15388\\2277466697.py:15: FutureWarning: The `inplace` parameter in pandas.Categorical.reorder_categories is deprecated and will be removed in a future version. Reordering categories will always return a new Categorical object.\n",
      "  dogs[\"size\"].cat.reorder_categories(\n"
     ]
    }
   ],
   "source": [
    "import pandas as pd\n",
    "import seaborn as sns\n",
    "import matplotlib.pyplot as plt\n",
    "file='ShelterDogs.csv'\n",
    "path=r\"D:\\\\Cursos\\\\Data_Science_Python\\\\data_sets\\\\\"\n",
    "pathfile=path+file\n",
    "try:\n",
    " df= pd.read_csv(pathfile)\n",
    " print(df.head(5))\n",
    "except :\n",
    "  print('file doesnt exist')\n",
    "\n",
    "dogs = df[:]\n",
    "dogs[\"size\"] = dogs[\"size\"].astype('category')\n",
    "dogs[\"size\"].cat.reorder_categories(\n",
    "  new_categories=[\"small\", \"medium\", \"large\"],\n",
    "  ordered=True,\n",
    "  inplace=True\n",
    ")"
   ]
  },
  {
   "cell_type": "markdown",
   "metadata": {},
   "source": [
    "* Print out the frequency table of \"sex\" for each category of the \"size\" column.\n",
    "* Print out the frequency table of \"keep_in\" for each category of the \"size\" column."
   ]
  },
  {
   "cell_type": "code",
   "execution_count": 5,
   "metadata": {},
   "outputs": [
    {
     "name": "stdout",
     "output_type": "stream",
     "text": [
      "size    sex   \n",
      "small   male       260\n",
      "        female     214\n",
      "medium  male      1090\n",
      "        female     854\n",
      "large   male       331\n",
      "        female     188\n",
      "Name: sex, dtype: int64 \n",
      "\n",
      "size    keep_in             \n",
      "small   both flat and garden    238\n",
      "        flat                     80\n",
      "        garden                   21\n",
      "medium  both flat and garden    795\n",
      "        garden                  317\n",
      "        flat                     97\n",
      "large   both flat and garden    191\n",
      "        garden                  172\n",
      "        flat                      5\n",
      "Name: keep_in, dtype: int64\n"
     ]
    }
   ],
   "source": [
    "# How many Male/Female dogs are available of each size?\n",
    "print(dogs.groupby(by='size')['sex'].value_counts(),'\\n')\n",
    "\n",
    "# Do larger dogs need more room to roam?\n",
    "print(dogs.groupby(by='size')['keep_in'].value_counts())"
   ]
  }
 ],
 "metadata": {
  "kernelspec": {
   "display_name": "Python 3",
   "language": "python",
   "name": "python3"
  },
  "language_info": {
   "codemirror_mode": {
    "name": "ipython",
    "version": 3
   },
   "file_extension": ".py",
   "mimetype": "text/x-python",
   "name": "python",
   "nbconvert_exporter": "python",
   "pygments_lexer": "ipython3",
   "version": "3.9.9"
  },
  "orig_nbformat": 4
 },
 "nbformat": 4,
 "nbformat_minor": 2
}

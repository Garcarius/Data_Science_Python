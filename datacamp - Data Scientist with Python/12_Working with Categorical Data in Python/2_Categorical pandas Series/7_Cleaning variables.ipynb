{
 "cells": [
  {
   "cell_type": "markdown",
   "metadata": {},
   "source": [
    "# Cleaning variables\n",
    "Users of an online entry system used to have the ability to freely type in responses to questions. This is causing issues when trying to analyze the adoptable dogs dataset, `dogs`. Here is the current frequency table of the `\"sex\"` column:\n",
    "\n",
    "![Alt text](image-1.png)\n",
    "\n",
    "Now that the system only takes responses of \"female\" and \"male\", you want this variable to match the updated system."
   ]
  },
  {
   "cell_type": "code",
   "execution_count": 2,
   "metadata": {},
   "outputs": [
    {
     "name": "stdout",
     "output_type": "stream",
     "text": [
      "      ID            name   age     sex               breed date_found  \\\n",
      "0  23807            Gida  0.25  female         Unknown Mix   12/10/19   \n",
      "1    533  Frida És Ricsi  0.17  female         Unknown Mix    12/1/19   \n",
      "2  23793             NaN  4.00    male         Unknown Mix    12/8/19   \n",
      "3  23795             NaN  1.00    male         Unknown Mix    12/8/19   \n",
      "4  23806             Amy  2.00  female  French Bulldog Mix   12/10/19   \n",
      "\n",
      "  adoptable_from    posted            color    coat    size neutered  \\\n",
      "0       12/11/19  12/11/19              red   short   small       no   \n",
      "1        12/1/19   12/9/19  black and white   short   small       no   \n",
      "2       12/23/19   12/8/19      saddle back   short  medium       no   \n",
      "3       12/23/19   12/8/19     yellow-brown  medium  medium       no   \n",
      "4       12/11/19  12/11/19            black   short   small       no   \n",
      "\n",
      "  housebroken likes_people likes_children get_along_males get_along_females  \\\n",
      "0         NaN          NaN            NaN             NaN               NaN   \n",
      "1         NaN          yes            yes             yes               yes   \n",
      "2         NaN          NaN            NaN             NaN               NaN   \n",
      "3         NaN          NaN            NaN             NaN               NaN   \n",
      "4         NaN          NaN            NaN             NaN               NaN   \n",
      "\n",
      "  get_along_cats keep_in  \n",
      "0            NaN     NaN  \n",
      "1            yes     NaN  \n",
      "2            NaN     NaN  \n",
      "3            NaN     NaN  \n",
      "4            NaN     NaN  \n"
     ]
    }
   ],
   "source": [
    "import pandas as pd\n",
    "import seaborn as sns\n",
    "import matplotlib.pyplot as plt\n",
    "file='ShelterDogs.csv'\n",
    "path=r\"D:\\\\Cursos\\\\Data_Science_Python\\\\data_sets\\\\\"\n",
    "pathfile=path+file\n",
    "try:\n",
    " df= pd.read_csv(pathfile)\n",
    " print(df.head(5))\n",
    "except :\n",
    "  print('file doesnt exist')\n",
    "\n",
    "dogs = df[:]"
   ]
  },
  {
   "cell_type": "markdown",
   "metadata": {},
   "source": [
    "* Update the misspelled response \"Malez\" to be \"male\" by creating the replacement map, replace_map."
   ]
  },
  {
   "cell_type": "code",
   "execution_count": null,
   "metadata": {},
   "outputs": [],
   "source": [
    "replace_map = {\"Malez\":'male'}"
   ]
  },
  {
   "cell_type": "markdown",
   "metadata": {},
   "source": [
    "* Replace all occurrences of \"Malez\" with \"male\" by using replace_map."
   ]
  },
  {
   "cell_type": "code",
   "execution_count": 4,
   "metadata": {},
   "outputs": [
    {
     "name": "stdout",
     "output_type": "stream",
     "text": [
      "Series([], Name: sex, dtype: int64)\n"
     ]
    }
   ],
   "source": [
    "# Fix the misspelled word \n",
    "replace_map = {\"Malez\": \"male\"}\n",
    "\n",
    "# Update the sex column using the created map\n",
    "dogs[\"sex\"].replace(replace_map,inplace=True)\n",
    "\n",
    "print(dogs[\"sex\"].value_counts())"
   ]
  },
  {
   "cell_type": "markdown",
   "metadata": {},
   "source": [
    "* Remove the leading spaces of the \" MALE\" and \" FEMALE\" responses."
   ]
  },
  {
   "cell_type": "code",
   "execution_count": 5,
   "metadata": {},
   "outputs": [
    {
     "name": "stdout",
     "output_type": "stream",
     "text": [
      "Series([], Name: sex, dtype: int64)\n"
     ]
    }
   ],
   "source": [
    "# Strip away leading whitespace\n",
    "dogs[\"sex\"] = dogs[\"sex\"].str.strip()\n",
    "\n",
    "print(dogs[\"sex\"].value_counts())"
   ]
  },
  {
   "cell_type": "markdown",
   "metadata": {},
   "source": [
    "Convert all responses to be strictly lowercase."
   ]
  },
  {
   "cell_type": "code",
   "execution_count": 6,
   "metadata": {},
   "outputs": [
    {
     "name": "stdout",
     "output_type": "stream",
     "text": [
      "Series([], Name: sex, dtype: int64)\n"
     ]
    }
   ],
   "source": [
    "# Make all responses lowercase\n",
    "dogs[\"sex\"] = dogs[\"sex\"].str.lower()\n",
    "\n",
    "print(dogs[\"sex\"].value_counts())"
   ]
  },
  {
   "cell_type": "markdown",
   "metadata": {},
   "source": [
    "Convert the \"sex\" column to a categorical pandas Series."
   ]
  },
  {
   "cell_type": "code",
   "execution_count": 8,
   "metadata": {},
   "outputs": [
    {
     "name": "stdout",
     "output_type": "stream",
     "text": [
      "Series([], Name: sex, dtype: int64)\n"
     ]
    }
   ],
   "source": [
    "dogs[\"sex\"] = dogs[\"sex\"].astype('category')\n",
    "\n",
    "print(dogs[\"sex\"].value_counts())"
   ]
  }
 ],
 "metadata": {
  "kernelspec": {
   "display_name": "Python 3",
   "language": "python",
   "name": "python3"
  },
  "language_info": {
   "codemirror_mode": {
    "name": "ipython",
    "version": 3
   },
   "file_extension": ".py",
   "mimetype": "text/x-python",
   "name": "python",
   "nbconvert_exporter": "python",
   "pygments_lexer": "ipython3",
   "version": "3.9.9"
  },
  "orig_nbformat": 4
 },
 "nbformat": 4,
 "nbformat_minor": 2
}

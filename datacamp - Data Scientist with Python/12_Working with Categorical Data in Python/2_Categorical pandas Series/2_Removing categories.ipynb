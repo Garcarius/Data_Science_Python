{
 "cells": [
  {
   "cell_type": "markdown",
   "metadata": {},
   "source": [
    "# Removing categories\n",
    "Before adopting dogs, parents might want to know whether or not a new `dog` likes children. When looking at the adoptable dogs dataset, dogs, you notice that the frequency of responses for the categorical Series \"likes_children\" looks like this:\n",
    "\n",
    "maybe     1718\n",
    "\n",
    "yes       1172\n",
    "\n",
    "no          47\n",
    "\n",
    "The owner of the data wants to convert all `\"maybe\"` responses to `\"no\"`, as it would be unsafe to let a family adapt a dog if it doesn't like children. The code to convert all `\"maybe\"` to `\"no\" `is provided in Step 1. However, the option for \"maybe\" still remains as a category."
   ]
  },
  {
   "cell_type": "code",
   "execution_count": 1,
   "metadata": {},
   "outputs": [
    {
     "name": "stdout",
     "output_type": "stream",
     "text": [
      "      ID            name   age     sex               breed date_found  \\\n",
      "0  23807            Gida  0.25  female         Unknown Mix   12/10/19   \n",
      "1    533  Frida És Ricsi  0.17  female         Unknown Mix    12/1/19   \n",
      "2  23793             NaN  4.00    male         Unknown Mix    12/8/19   \n",
      "3  23795             NaN  1.00    male         Unknown Mix    12/8/19   \n",
      "4  23806             Amy  2.00  female  French Bulldog Mix   12/10/19   \n",
      "\n",
      "  adoptable_from    posted            color    coat    size neutered  \\\n",
      "0       12/11/19  12/11/19              red   short   small       no   \n",
      "1        12/1/19   12/9/19  black and white   short   small       no   \n",
      "2       12/23/19   12/8/19      saddle back   short  medium       no   \n",
      "3       12/23/19   12/8/19     yellow-brown  medium  medium       no   \n",
      "4       12/11/19  12/11/19            black   short   small       no   \n",
      "\n",
      "  housebroken likes_people likes_children get_along_males get_along_females  \\\n",
      "0         NaN          NaN            NaN             NaN               NaN   \n",
      "1         NaN          yes            yes             yes               yes   \n",
      "2         NaN          NaN            NaN             NaN               NaN   \n",
      "3         NaN          NaN            NaN             NaN               NaN   \n",
      "4         NaN          NaN            NaN             NaN               NaN   \n",
      "\n",
      "  get_along_cats keep_in  \n",
      "0            NaN     NaN  \n",
      "1            yes     NaN  \n",
      "2            NaN     NaN  \n",
      "3            NaN     NaN  \n",
      "4            NaN     NaN  \n"
     ]
    }
   ],
   "source": [
    "import pandas as pd\n",
    "import seaborn as sns\n",
    "import matplotlib.pyplot as plt\n",
    "file='ShelterDogs.csv'\n",
    "path=r\"D:\\\\Cursos\\\\Data_Science_Python\\\\data_sets\\\\\"\n",
    "pathfile=path+file\n",
    "try:\n",
    " df= pd.read_csv(pathfile)\n",
    " print(df.head(5))\n",
    " dogs = df[:]\n",
    "except :\n",
    "  print('file doesnt exist')"
   ]
  },
  {
   "cell_type": "markdown",
   "metadata": {},
   "source": [
    "* Print out the categories of the categorical Series `dogs[\"likes_children\"]`."
   ]
  },
  {
   "cell_type": "code",
   "execution_count": null,
   "metadata": {},
   "outputs": [],
   "source": [
    "dogs[\"likes_children\"] = dogs[\"likes_children\"].astype('category')\n",
    "new_categories = [\"maybe\"]\n",
    "dogs[\"likes_children\"] = dogs[\"likes_children\"].cat.add_categories(new_categories=new_categories)"
   ]
  },
  {
   "cell_type": "code",
   "execution_count": 10,
   "metadata": {},
   "outputs": [
    {
     "name": "stdout",
     "output_type": "stream",
     "text": [
      "Index(['no', 'yes', 'maybe'], dtype='object')\n"
     ]
    }
   ],
   "source": [
    "\n",
    "# Set \"maybe\" to be \"no\"\n",
    "dogs.loc[dogs[\"likes_children\"] == \"maybe\", \"likes_children\"] = \"no\"\n",
    "\n",
    "# Print out categories\n",
    "print(dogs['likes_children'].cat.categories)"
   ]
  },
  {
   "cell_type": "code",
   "execution_count": 7,
   "metadata": {},
   "outputs": [
    {
     "name": "stdout",
     "output_type": "stream",
     "text": [
      "NaN      1718\n",
      "yes      1172\n",
      "no         47\n",
      "maybe       0\n",
      "Name: likes_children, dtype: int64\n"
     ]
    }
   ],
   "source": [
    "# Print the frequency table\n",
    "print(dogs['likes_children'].value_counts(dropna=False))"
   ]
  },
  {
   "cell_type": "markdown",
   "metadata": {},
   "source": [
    "Remove the \"maybe\" category from the Series."
   ]
  },
  {
   "cell_type": "code",
   "execution_count": 11,
   "metadata": {},
   "outputs": [
    {
     "name": "stdout",
     "output_type": "stream",
     "text": [
      "yes    1172\n",
      "no       47\n",
      "Name: likes_children, dtype: int64\n"
     ]
    }
   ],
   "source": [
    "dogs[\"likes_children\"] = dogs[\"likes_children\"].cat.remove_categories(removals=['maybe'])\n",
    "print(dogs[\"likes_children\"].value_counts())"
   ]
  },
  {
   "cell_type": "markdown",
   "metadata": {},
   "source": [
    "* Print out the categories of \"likes_children\" one more time."
   ]
  },
  {
   "cell_type": "code",
   "execution_count": 12,
   "metadata": {},
   "outputs": [
    {
     "name": "stdout",
     "output_type": "stream",
     "text": [
      "Index(['no', 'yes'], dtype='object')\n"
     ]
    }
   ],
   "source": [
    "print(dogs['likes_children'].cat.categories)sdd"
   ]
  }
 ],
 "metadata": {
  "kernelspec": {
   "display_name": "Python 3",
   "language": "python",
   "name": "python3"
  },
  "language_info": {
   "codemirror_mode": {
    "name": "ipython",
    "version": 3
   },
   "file_extension": ".py",
   "mimetype": "text/x-python",
   "name": "python",
   "nbconvert_exporter": "python",
   "pygments_lexer": "ipython3",
   "version": "3.9.9"
  },
  "orig_nbformat": 4
 },
 "nbformat": 4,
 "nbformat_minor": 2
}

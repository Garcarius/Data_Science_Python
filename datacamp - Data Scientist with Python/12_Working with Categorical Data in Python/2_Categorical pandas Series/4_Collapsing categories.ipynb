{
 "cells": [
  {
   "cell_type": "markdown",
   "metadata": {},
   "source": [
    "# Collapsing categories\n",
    "One problem that users of a local dog adoption website have voiced is that there are too many options. As they look through the different types of dogs, they are getting lost in the overwhelming amount of choice. To simplify some of the data, you are going through each column and collapsing data if appropriate. To preserve the original data, you are going to make new updated columns in the `dogs` dataset. You will start with the `coat` column. The frequency table is listed here:\n",
    "\n",
    "short  -         1969\n",
    "\n",
    "medium  -         565\n",
    "\n",
    "wirehaired  -     220\n",
    "\n",
    "long    -        180\n",
    "\n",
    "medium-long   -    3"
   ]
  },
  {
   "cell_type": "code",
   "execution_count": 1,
   "metadata": {},
   "outputs": [
    {
     "name": "stdout",
     "output_type": "stream",
     "text": [
      "      ID            name   age     sex               breed date_found  \\\n",
      "0  23807            Gida  0.25  female         Unknown Mix   12/10/19   \n",
      "1    533  Frida És Ricsi  0.17  female         Unknown Mix    12/1/19   \n",
      "2  23793             NaN  4.00    male         Unknown Mix    12/8/19   \n",
      "3  23795             NaN  1.00    male         Unknown Mix    12/8/19   \n",
      "4  23806             Amy  2.00  female  French Bulldog Mix   12/10/19   \n",
      "\n",
      "  adoptable_from    posted            color    coat    size neutered  \\\n",
      "0       12/11/19  12/11/19              red   short   small       no   \n",
      "1        12/1/19   12/9/19  black and white   short   small       no   \n",
      "2       12/23/19   12/8/19      saddle back   short  medium       no   \n",
      "3       12/23/19   12/8/19     yellow-brown  medium  medium       no   \n",
      "4       12/11/19  12/11/19            black   short   small       no   \n",
      "\n",
      "  housebroken likes_people likes_children get_along_males get_along_females  \\\n",
      "0         NaN          NaN            NaN             NaN               NaN   \n",
      "1         NaN          yes            yes             yes               yes   \n",
      "2         NaN          NaN            NaN             NaN               NaN   \n",
      "3         NaN          NaN            NaN             NaN               NaN   \n",
      "4         NaN          NaN            NaN             NaN               NaN   \n",
      "\n",
      "  get_along_cats keep_in  \n",
      "0            NaN     NaN  \n",
      "1            yes     NaN  \n",
      "2            NaN     NaN  \n",
      "3            NaN     NaN  \n",
      "4            NaN     NaN  \n"
     ]
    }
   ],
   "source": [
    "import pandas as pd\n",
    "import seaborn as sns\n",
    "import matplotlib.pyplot as plt\n",
    "file='ShelterDogs.csv'\n",
    "path=r\"D:\\\\Cursos\\\\Data_Science_Python\\\\data_sets\\\\\"\n",
    "pathfile=path+file\n",
    "try:\n",
    " df= pd.read_csv(pathfile)\n",
    " print(df.head(5))\n",
    " dogs = df[:]\n",
    "except :\n",
    "  print('file doesnt exist')"
   ]
  },
  {
   "cell_type": "code",
   "execution_count": 2,
   "metadata": {},
   "outputs": [
    {
     "name": "stdout",
     "output_type": "stream",
     "text": [
      "short         1972\n",
      "medium         565\n",
      "wirehaired     220\n",
      "long           180\n",
      "Name: coat, dtype: int64\n"
     ]
    }
   ],
   "source": [
    "print(dogs['coat'].value_counts(dropna=False))"
   ]
  },
  {
   "cell_type": "markdown",
   "metadata": {},
   "source": [
    "* Create a dictionary named `update_coats` to map both `wirehaired` and `medium-long` to `medium`.\n",
    "Collapse the categories listed in this new dictionary and save this as a new column, `coat_collapsed`.\n",
    "* Convert this new column into a categorical Series.\n",
    "* Print the frequency table of this new Series."
   ]
  },
  {
   "cell_type": "code",
   "execution_count": 5,
   "metadata": {},
   "outputs": [
    {
     "name": "stdout",
     "output_type": "stream",
     "text": [
      "short     1972\n",
      "medium     785\n",
      "long       180\n",
      "Name: coat_collapsed, dtype: int64\n"
     ]
    },
    {
     "name": "stderr",
     "output_type": "stream",
     "text": [
      "C:\\Users\\Garca\\AppData\\Local\\Temp\\ipykernel_8300\\1204844383.py:7: SettingWithCopyWarning: \n",
      "A value is trying to be set on a copy of a slice from a DataFrame.\n",
      "Try using .loc[row_indexer,col_indexer] = value instead\n",
      "\n",
      "See the caveats in the documentation: https://pandas.pydata.org/pandas-docs/stable/user_guide/indexing.html#returning-a-view-versus-a-copy\n",
      "  dogs[\"coat_collapsed\"] = dogs.loc[:,'coat'].replace(update_coats)\n",
      "C:\\Users\\Garca\\AppData\\Local\\Temp\\ipykernel_8300\\1204844383.py:10: SettingWithCopyWarning: \n",
      "A value is trying to be set on a copy of a slice from a DataFrame.\n",
      "Try using .loc[row_indexer,col_indexer] = value instead\n",
      "\n",
      "See the caveats in the documentation: https://pandas.pydata.org/pandas-docs/stable/user_guide/indexing.html#returning-a-view-versus-a-copy\n",
      "  dogs[\"coat_collapsed\"] = dogs[\"coat_collapsed\"].astype('category')\n"
     ]
    }
   ],
   "source": [
    "# Create the update_coats dictionary\n",
    "update_coats = {'wirehaired':'medium',\n",
    "                'medium-long':'medium'\n",
    "                }\n",
    "\n",
    "# Create a new column, coat_collapsed\n",
    "dogs[\"coat_collapsed\"] = dogs.loc['coat'].replace(update_coats)\n",
    "\n",
    "# Convert the column to categorical\n",
    "dogs[\"coat_collapsed\"] = dogs[\"coat_collapsed\"].astype('category')\n",
    "\n",
    "# Print the frequency table\n",
    "print(dogs['coat_collapsed'].value_counts(dropna=False))"
   ]
  }
 ],
 "metadata": {
  "kernelspec": {
   "display_name": "Python 3",
   "language": "python",
   "name": "python3"
  },
  "language_info": {
   "codemirror_mode": {
    "name": "ipython",
    "version": 3
   },
   "file_extension": ".py",
   "mimetype": "text/x-python",
   "name": "python",
   "nbconvert_exporter": "python",
   "pygments_lexer": "ipython3",
   "version": "3.9.9"
  },
  "orig_nbformat": 4
 },
 "nbformat": 4,
 "nbformat_minor": 2
}

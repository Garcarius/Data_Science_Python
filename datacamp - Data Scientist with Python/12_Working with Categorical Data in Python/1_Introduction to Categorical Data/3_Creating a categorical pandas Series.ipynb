{
 "cells": [
  {
   "cell_type": "markdown",
   "metadata": {},
   "source": [
    "# Creating a categorical pandas Series\n",
    "Another colleague at work has collected information on the number of `\"Gold\"`, `\"Silver\"`, and `\"Bronze\"` medals won by the USA at the Summer & Winter Olympics since 1896. She has provided this as a list, `medals_won`. Before taking a look at the total number of each medal won, you want to create a categorical `pandas` Series. However, you know that these medals have a specific order to them and that Gold is better than Silver, but Silver is better than Bronze. Use the object, `medals_won`, to help."
   ]
  },
  {
   "cell_type": "code",
   "execution_count": 2,
   "metadata": {},
   "outputs": [],
   "source": [
    "import pandas as pd\n",
    "import seaborn as sns\n",
    "import matplotlib.pyplot as plt\n",
    "import numpy as np"
   ]
  },
  {
   "cell_type": "code",
   "execution_count": 3,
   "metadata": {},
   "outputs": [],
   "source": [
    "medals_won=['Silver', 'Silver', 'Bronze', 'Silver', 'Gold', 'Silver', 'Silver', 'Gold', 'Gold', 'Bronze', 'Bronze',\n",
    " 'Gold', 'Silver', 'Silver', 'Silver', 'Gold', 'Gold', 'Bronze', 'Silver', 'Gold', 'Bronze', 'Gold',\n",
    " 'Silver', 'Silver', 'Silver', 'Bronze', 'Gold', 'Gold', 'Silver', 'Gold', 'Silver', 'Silver',\n",
    " 'Silver', 'Gold', 'Gold', 'Silver', 'Silver', 'Silver', 'Silver', 'Silver', 'Gold', 'Gold', 'Gold',\n",
    " 'Silver', 'Silver', 'Gold', 'Gold', 'Gold']"
   ]
  },
  {
   "cell_type": "markdown",
   "metadata": {},
   "source": [
    "* Create a categorical `pandas` Series *without* using `pd.Series()`.\n",
    "* Specify the three known medal categories such that `\"Bronze\"` < `\"Silver\"` < `\"Gold\"`.\n",
    "* Specify that the order of the categories is important when creating this Series."
   ]
  },
  {
   "cell_type": "code",
   "execution_count": 6,
   "metadata": {},
   "outputs": [
    {
     "name": "stdout",
     "output_type": "stream",
     "text": [
      "['Silver', 'Silver', 'Bronze', 'Silver', 'Gold', ..., 'Silver', 'Silver', 'Gold', 'Gold', 'Gold']\n",
      "Length: 48\n",
      "Categories (3, object): ['Bronze' < 'Silver' < 'Gold']\n"
     ]
    }
   ],
   "source": [
    "# Create a categorical Series and specify the categories (let pandas know the order matters!)\n",
    "medals = pd.Categorical(medals_won,categories=[\"Bronze\",\"Silver\",\"Gold\"],ordered=True)\n",
    "print(medals)"
   ]
  }
 ],
 "metadata": {
  "kernelspec": {
   "display_name": "Python 3",
   "language": "python",
   "name": "python3"
  },
  "language_info": {
   "codemirror_mode": {
    "name": "ipython",
    "version": 3
   },
   "file_extension": ".py",
   "mimetype": "text/x-python",
   "name": "python",
   "nbconvert_exporter": "python",
   "pygments_lexer": "ipython3",
   "version": "3.9.9"
  },
  "orig_nbformat": 4
 },
 "nbformat": 4,
 "nbformat_minor": 2
}

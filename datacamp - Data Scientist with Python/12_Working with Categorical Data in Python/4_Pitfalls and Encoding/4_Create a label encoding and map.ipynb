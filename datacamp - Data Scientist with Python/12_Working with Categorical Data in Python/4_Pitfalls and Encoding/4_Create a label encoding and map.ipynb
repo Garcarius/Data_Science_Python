{
 "cells": [
  {
   "cell_type": "markdown",
   "metadata": {},
   "source": [
    "# Create a label encoding and map\n",
    "A used car company believes that they can predict a car's sales price reasonably well using their `used_cars` dataset. One of the variables they want to use, `\"color\"`, needs to be converted to codes. The company believes that a car's color will be important when predicting sales price."
   ]
  },
  {
   "cell_type": "code",
   "execution_count": 1,
   "metadata": {},
   "outputs": [
    {
     "name": "stdout",
     "output_type": "stream",
     "text": [
      "  manufacturer_name model_name transmission   color  odometer_value  \\\n",
      "0            Subaru    Outback    automatic  silver          190000   \n",
      "1            Subaru    Outback    automatic    blue          290000   \n",
      "2            Subaru   Forester    automatic     red          402000   \n",
      "3            Subaru    Impreza   mechanical    blue           10000   \n",
      "4            Subaru     Legacy    automatic   black          280000   \n",
      "\n",
      "   year_produced engine_fuel  engine_has_gas engine_type  engine_capacity  \\\n",
      "0           2010    gasoline           False    gasoline              2.5   \n",
      "1           2002    gasoline           False    gasoline              3.0   \n",
      "2           2001    gasoline           False    gasoline              2.5   \n",
      "3           1999    gasoline           False    gasoline              3.0   \n",
      "4           2001    gasoline           False    gasoline              2.5   \n",
      "\n",
      "   ... feature_2  feature_3 feature_4 feature_5  feature_6  feature_7  \\\n",
      "0  ...      True       True     False      True      False       True   \n",
      "1  ...     False      False      True      True      False      False   \n",
      "2  ...     False      False     False     False      False      False   \n",
      "3  ...     False      False     False     False      False      False   \n",
      "4  ...     False       True      True     False      False      False   \n",
      "\n",
      "  feature_8  feature_9  duration_listed  Sale Rating  \n",
      "0      True       True               16            5  \n",
      "1     False       True               83            1  \n",
      "2      True       True              151            4  \n",
      "3     False      False               86            4  \n",
      "4     False       True                7            1  \n",
      "\n",
      "[5 rows x 31 columns]\n"
     ]
    }
   ],
   "source": [
    "import pandas as pd\n",
    "import seaborn as sns\n",
    "import matplotlib.pyplot as plt\n",
    "def import_csv(file):\n",
    "    path=r\"D:\\\\Cursos\\\\Data_Science_Python\\\\data_sets\\\\\"\n",
    "    pathfile=path+file\n",
    "    try:\n",
    "       df= pd.read_csv(pathfile,sep=';')\n",
    "       print(df.head(5))\n",
    "    except :\n",
    "        print('file doesnt exist')\n",
    "    return df\n",
    "    \n",
    "file='used_cars.csv'\n",
    "used_cars = import_csv(file)"
   ]
  },
  {
   "cell_type": "markdown",
   "metadata": {},
   "source": [
    "* Convert the `color` column to a categorical Series."
   ]
  },
  {
   "cell_type": "code",
   "execution_count": null,
   "metadata": {},
   "outputs": [],
   "source": [
    "# Convert to categorical and print the frequency table\n",
    "used_cars[\"color\"] = used_cars[\"color\"].astype('category')\n",
    "print(used_cars[\"color\"].value_counts())"
   ]
  }
 ],
 "metadata": {
  "kernelspec": {
   "display_name": "Python 3",
   "language": "python",
   "name": "python3"
  },
  "language_info": {
   "codemirror_mode": {
    "name": "ipython",
    "version": 3
   },
   "file_extension": ".py",
   "mimetype": "text/x-python",
   "name": "python",
   "nbconvert_exporter": "python",
   "pygments_lexer": "ipython3",
   "version": "3.9.9"
  },
  "orig_nbformat": 4
 },
 "nbformat": 4,
 "nbformat_minor": 2
}

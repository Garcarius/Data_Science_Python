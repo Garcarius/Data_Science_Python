{
 "cells": [
  {
   "cell_type": "markdown",
   "metadata": {},
   "source": [
    "# One-hot encoding specific columns\n",
    "A local used car dealership wants your help in predicting the sale price of their vehicles. If you use one-hot encoding on the entire `used_cars` dataset, the new dataset has over 1,200 columns. You are worried that this might lead to problems when training your machine learning models to predict price. You have decided to try a simpler approach and only use one-hot encoding on a few columns."
   ]
  },
  {
   "cell_type": "code",
   "execution_count": 1,
   "metadata": {},
   "outputs": [
    {
     "name": "stdout",
     "output_type": "stream",
     "text": [
      "  manufacturer_name model_name transmission   color  odometer_value  \\\n",
      "0            Subaru    Outback    automatic  silver          190000   \n",
      "1            Subaru    Outback    automatic    blue          290000   \n",
      "2            Subaru   Forester    automatic     red          402000   \n",
      "3            Subaru    Impreza   mechanical    blue           10000   \n",
      "4            Subaru     Legacy    automatic   black          280000   \n",
      "\n",
      "   year_produced engine_fuel  engine_has_gas engine_type  engine_capacity  \\\n",
      "0           2010    gasoline           False    gasoline              2.5   \n",
      "1           2002    gasoline           False    gasoline              3.0   \n",
      "2           2001    gasoline           False    gasoline              2.5   \n",
      "3           1999    gasoline           False    gasoline              3.0   \n",
      "4           2001    gasoline           False    gasoline              2.5   \n",
      "\n",
      "   ... feature_2  feature_3 feature_4 feature_5  feature_6  feature_7  \\\n",
      "0  ...      True       True     False      True      False       True   \n",
      "1  ...     False      False      True      True      False      False   \n",
      "2  ...     False      False     False     False      False      False   \n",
      "3  ...     False      False     False     False      False      False   \n",
      "4  ...     False       True      True     False      False      False   \n",
      "\n",
      "  feature_8  feature_9  duration_listed  Sale Rating  \n",
      "0      True       True               16            5  \n",
      "1     False       True               83            1  \n",
      "2      True       True              151            4  \n",
      "3     False      False               86            4  \n",
      "4     False       True                7            1  \n",
      "\n",
      "[5 rows x 31 columns]\n"
     ]
    }
   ],
   "source": [
    "import pandas as pd\n",
    "import seaborn as sns\n",
    "import matplotlib.pyplot as plt\n",
    "import numpy as np\n",
    "def import_csv(file):\n",
    "    path=r\"D:\\\\Cursos\\\\Data_Science_Python\\\\data_sets\\\\\"\n",
    "    pathfile=path+file\n",
    "    try:\n",
    "       df= pd.read_csv(pathfile,sep=';')\n",
    "       print(df.head(5))\n",
    "    except :\n",
    "        print('file doesnt exist')\n",
    "    return df\n",
    "    \n",
    "file='used_cars.csv'\n",
    "used_cars = import_csv(file)"
   ]
  },
  {
   "cell_type": "markdown",
   "metadata": {},
   "source": [
    "* Create a new dataset, `used_cars_simple`, with one-hot encoding for these columns: `\"manufacturer_name\"` and `\"transmission\"` (in this order).\n",
    "* Set the prefix of all new columns to `\"dummy\"`, so that you can easily filter to newly created columns."
   ]
  },
  {
   "cell_type": "code",
   "execution_count": 2,
   "metadata": {},
   "outputs": [
    {
     "ename": "ValueError",
     "evalue": "Length of 'prefix' (2) did not match the length of the columns being encoded (10).",
     "output_type": "error",
     "traceback": [
      "\u001b[1;31m---------------------------------------------------------------------------\u001b[0m",
      "\u001b[1;31mValueError\u001b[0m                                Traceback (most recent call last)",
      "\u001b[1;32md:\\Cursos\\Data_Science_Python\\datacamp - Data Scientist with Python\\12_Working with Categorical Data in Python\\4_Pitfalls and Encoding\\8_One-hot encoding specific columns.ipynb Cell 4\u001b[0m line \u001b[0;36m2\n\u001b[0;32m      <a href='vscode-notebook-cell:/d%3A/Cursos/Data_Science_Python/datacamp%20-%20Data%20Scientist%20with%20Python/12_Working%20with%20Categorical%20Data%20in%20Python/4_Pitfalls%20and%20Encoding/8_One-hot%20encoding%20specific%20columns.ipynb#W3sZmlsZQ%3D%3D?line=0'>1</a>\u001b[0m \u001b[39m# Create one-hot encoding for just two columns\u001b[39;00m\n\u001b[1;32m----> <a href='vscode-notebook-cell:/d%3A/Cursos/Data_Science_Python/datacamp%20-%20Data%20Scientist%20with%20Python/12_Working%20with%20Categorical%20Data%20in%20Python/4_Pitfalls%20and%20Encoding/8_One-hot%20encoding%20specific%20columns.ipynb#W3sZmlsZQ%3D%3D?line=1'>2</a>\u001b[0m used_cars_simple \u001b[39m=\u001b[39m pd\u001b[39m.\u001b[39;49mget_dummies(\n\u001b[0;32m      <a href='vscode-notebook-cell:/d%3A/Cursos/Data_Science_Python/datacamp%20-%20Data%20Scientist%20with%20Python/12_Working%20with%20Categorical%20Data%20in%20Python/4_Pitfalls%20and%20Encoding/8_One-hot%20encoding%20specific%20columns.ipynb#W3sZmlsZQ%3D%3D?line=2'>3</a>\u001b[0m   used_cars,\n\u001b[0;32m      <a href='vscode-notebook-cell:/d%3A/Cursos/Data_Science_Python/datacamp%20-%20Data%20Scientist%20with%20Python/12_Working%20with%20Categorical%20Data%20in%20Python/4_Pitfalls%20and%20Encoding/8_One-hot%20encoding%20specific%20columns.ipynb#W3sZmlsZQ%3D%3D?line=3'>4</a>\u001b[0m   \u001b[39m# Specify the columns from the instructions\u001b[39;49;00m\n\u001b[0;32m      <a href='vscode-notebook-cell:/d%3A/Cursos/Data_Science_Python/datacamp%20-%20Data%20Scientist%20with%20Python/12_Working%20with%20Categorical%20Data%20in%20Python/4_Pitfalls%20and%20Encoding/8_One-hot%20encoding%20specific%20columns.ipynb#W3sZmlsZQ%3D%3D?line=4'>5</a>\u001b[0m   [\u001b[39m\"\u001b[39;49m\u001b[39mmanufacturer_name\u001b[39;49m\u001b[39m\"\u001b[39;49m,\u001b[39m\"\u001b[39;49m\u001b[39mtransmission\u001b[39;49m\u001b[39m\"\u001b[39;49m],\n\u001b[0;32m      <a href='vscode-notebook-cell:/d%3A/Cursos/Data_Science_Python/datacamp%20-%20Data%20Scientist%20with%20Python/12_Working%20with%20Categorical%20Data%20in%20Python/4_Pitfalls%20and%20Encoding/8_One-hot%20encoding%20specific%20columns.ipynb#W3sZmlsZQ%3D%3D?line=5'>6</a>\u001b[0m   \u001b[39m# Set the prefix\u001b[39;49;00m\n\u001b[0;32m      <a href='vscode-notebook-cell:/d%3A/Cursos/Data_Science_Python/datacamp%20-%20Data%20Scientist%20with%20Python/12_Working%20with%20Categorical%20Data%20in%20Python/4_Pitfalls%20and%20Encoding/8_One-hot%20encoding%20specific%20columns.ipynb#W3sZmlsZQ%3D%3D?line=6'>7</a>\u001b[0m   \u001b[39m\"\u001b[39;49m\u001b[39mdummy\u001b[39;49m\u001b[39m\"\u001b[39;49m\n\u001b[0;32m      <a href='vscode-notebook-cell:/d%3A/Cursos/Data_Science_Python/datacamp%20-%20Data%20Scientist%20with%20Python/12_Working%20with%20Categorical%20Data%20in%20Python/4_Pitfalls%20and%20Encoding/8_One-hot%20encoding%20specific%20columns.ipynb#W3sZmlsZQ%3D%3D?line=7'>8</a>\u001b[0m )\n\u001b[0;32m     <a href='vscode-notebook-cell:/d%3A/Cursos/Data_Science_Python/datacamp%20-%20Data%20Scientist%20with%20Python/12_Working%20with%20Categorical%20Data%20in%20Python/4_Pitfalls%20and%20Encoding/8_One-hot%20encoding%20specific%20columns.ipynb#W3sZmlsZQ%3D%3D?line=9'>10</a>\u001b[0m \u001b[39m# Print the shape of the new dataset\u001b[39;00m\n\u001b[0;32m     <a href='vscode-notebook-cell:/d%3A/Cursos/Data_Science_Python/datacamp%20-%20Data%20Scientist%20with%20Python/12_Working%20with%20Categorical%20Data%20in%20Python/4_Pitfalls%20and%20Encoding/8_One-hot%20encoding%20specific%20columns.ipynb#W3sZmlsZQ%3D%3D?line=10'>11</a>\u001b[0m \u001b[39mprint\u001b[39m(used_cars_simple\u001b[39m.\u001b[39mshape)\n",
      "File \u001b[1;32mc:\\Users\\Garca\\AppData\\Local\\Programs\\Python\\Python39\\lib\\site-packages\\pandas\\core\\reshape\\encoding.py:160\u001b[0m, in \u001b[0;36mget_dummies\u001b[1;34m(data, prefix, prefix_sep, dummy_na, columns, sparse, drop_first, dtype)\u001b[0m\n\u001b[0;32m    153\u001b[0m             len_msg \u001b[39m=\u001b[39m (\n\u001b[0;32m    154\u001b[0m                 \u001b[39mf\u001b[39m\u001b[39m\"\u001b[39m\u001b[39mLength of \u001b[39m\u001b[39m'\u001b[39m\u001b[39m{\u001b[39;00mname\u001b[39m}\u001b[39;00m\u001b[39m'\u001b[39m\u001b[39m (\u001b[39m\u001b[39m{\u001b[39;00m\u001b[39mlen\u001b[39m(item)\u001b[39m}\u001b[39;00m\u001b[39m) did not match the \u001b[39m\u001b[39m\"\u001b[39m\n\u001b[0;32m    155\u001b[0m                 \u001b[39m\"\u001b[39m\u001b[39mlength of the columns being encoded \u001b[39m\u001b[39m\"\u001b[39m\n\u001b[0;32m    156\u001b[0m                 \u001b[39mf\u001b[39m\u001b[39m\"\u001b[39m\u001b[39m(\u001b[39m\u001b[39m{\u001b[39;00mdata_to_encode\u001b[39m.\u001b[39mshape[\u001b[39m1\u001b[39m]\u001b[39m}\u001b[39;00m\u001b[39m).\u001b[39m\u001b[39m\"\u001b[39m\n\u001b[0;32m    157\u001b[0m             )\n\u001b[0;32m    158\u001b[0m             \u001b[39mraise\u001b[39;00m \u001b[39mValueError\u001b[39;00m(len_msg)\n\u001b[1;32m--> 160\u001b[0m check_len(prefix, \u001b[39m\"\u001b[39;49m\u001b[39mprefix\u001b[39;49m\u001b[39m\"\u001b[39;49m)\n\u001b[0;32m    161\u001b[0m check_len(prefix_sep, \u001b[39m\"\u001b[39m\u001b[39mprefix_sep\u001b[39m\u001b[39m\"\u001b[39m)\n\u001b[0;32m    163\u001b[0m \u001b[39mif\u001b[39;00m \u001b[39misinstance\u001b[39m(prefix, \u001b[39mstr\u001b[39m):\n",
      "File \u001b[1;32mc:\\Users\\Garca\\AppData\\Local\\Programs\\Python\\Python39\\lib\\site-packages\\pandas\\core\\reshape\\encoding.py:158\u001b[0m, in \u001b[0;36mget_dummies.<locals>.check_len\u001b[1;34m(item, name)\u001b[0m\n\u001b[0;32m    152\u001b[0m \u001b[39mif\u001b[39;00m \u001b[39mnot\u001b[39;00m \u001b[39mlen\u001b[39m(item) \u001b[39m==\u001b[39m data_to_encode\u001b[39m.\u001b[39mshape[\u001b[39m1\u001b[39m]:\n\u001b[0;32m    153\u001b[0m     len_msg \u001b[39m=\u001b[39m (\n\u001b[0;32m    154\u001b[0m         \u001b[39mf\u001b[39m\u001b[39m\"\u001b[39m\u001b[39mLength of \u001b[39m\u001b[39m'\u001b[39m\u001b[39m{\u001b[39;00mname\u001b[39m}\u001b[39;00m\u001b[39m'\u001b[39m\u001b[39m (\u001b[39m\u001b[39m{\u001b[39;00m\u001b[39mlen\u001b[39m(item)\u001b[39m}\u001b[39;00m\u001b[39m) did not match the \u001b[39m\u001b[39m\"\u001b[39m\n\u001b[0;32m    155\u001b[0m         \u001b[39m\"\u001b[39m\u001b[39mlength of the columns being encoded \u001b[39m\u001b[39m\"\u001b[39m\n\u001b[0;32m    156\u001b[0m         \u001b[39mf\u001b[39m\u001b[39m\"\u001b[39m\u001b[39m(\u001b[39m\u001b[39m{\u001b[39;00mdata_to_encode\u001b[39m.\u001b[39mshape[\u001b[39m1\u001b[39m]\u001b[39m}\u001b[39;00m\u001b[39m).\u001b[39m\u001b[39m\"\u001b[39m\n\u001b[0;32m    157\u001b[0m     )\n\u001b[1;32m--> 158\u001b[0m     \u001b[39mraise\u001b[39;00m \u001b[39mValueError\u001b[39;00m(len_msg)\n",
      "\u001b[1;31mValueError\u001b[0m: Length of 'prefix' (2) did not match the length of the columns being encoded (10)."
     ]
    }
   ],
   "source": [
    "# Create one-hot encoding for just two columns\n",
    "used_cars_simple = pd.get_dummies(\n",
    "  used_cars,\n",
    "  # Specify the columns from the instructions\n",
    "  columns=[\"manufacturer_name\",\"transmission\"],\n",
    "  # Set the prefix\n",
    "  prefix=\"dummy\"\n",
    ")\n",
    "\n",
    "# Print the shape of the new dataset\n",
    "print(used_cars_simple.shape)"
   ]
  }
 ],
 "metadata": {
  "kernelspec": {
   "display_name": "Python 3",
   "language": "python",
   "name": "python3"
  },
  "language_info": {
   "codemirror_mode": {
    "name": "ipython",
    "version": 3
   },
   "file_extension": ".py",
   "mimetype": "text/x-python",
   "name": "python",
   "nbconvert_exporter": "python",
   "pygments_lexer": "ipython3",
   "version": "3.9.9"
  },
  "orig_nbformat": 4
 },
 "nbformat": 4,
 "nbformat_minor": 2
}

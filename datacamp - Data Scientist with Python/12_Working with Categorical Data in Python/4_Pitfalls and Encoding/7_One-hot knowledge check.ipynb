{
 "cells": [
  {
   "cell_type": "markdown",
   "metadata": {},
   "source": [
    "# One-hot knowledge check\n",
    "A frequency table from a categorical pandas Series for a person's favorite soda is shown.\n",
    "\n",
    "![Alt text](image-1.png)\n",
    "\n",
    "If one-hot encoding is completed only on this column, and this is the only column in the dataset, how many columns will be in the final dataset?\n",
    "\n",
    "Example code:\n",
    "\n",
    "![Alt text](image-2.png)"
   ]
  },
  {
   "cell_type": "code",
   "execution_count": null,
   "metadata": {},
   "outputs": [],
   "source": [
    "soda_onehot = pd.get_dummies(\n",
    "  soda[[\"favorite_soda\"]], \n",
    "  columns=[\"favorite_soda\"]\n",
    ")"
   ]
  },
  {
   "cell_type": "code",
   "execution_count": null,
   "metadata": {},
   "outputs": [],
   "source": [
    "2 columns"
   ]
  }
 ],
 "metadata": {
  "language_info": {
   "name": "python"
  },
  "orig_nbformat": 4
 },
 "nbformat": 4,
 "nbformat_minor": 2
}

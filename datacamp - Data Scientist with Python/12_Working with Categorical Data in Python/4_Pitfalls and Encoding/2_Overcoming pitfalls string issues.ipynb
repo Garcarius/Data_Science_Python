{
 "cells": [
  {
   "cell_type": "markdown",
   "metadata": {},
   "source": [
    "# Overcoming pitfalls: string issues\n",
    "Being able to effectively use categorical `pandas` Series is an important skill to have in your toolbelt. Unfortunately, there are several common problems that you may run into when using these Series.\n",
    "\n",
    "In this exercise, you will work through code from a previous exercise on updating a categorical Series. Follow the instructions to make sure everything goes smoothly. The used cars dataset, `used_cars`, is loaded for you."
   ]
  },
  {
   "cell_type": "code",
   "execution_count": 1,
   "metadata": {},
   "outputs": [
    {
     "name": "stdout",
     "output_type": "stream",
     "text": [
      "  manufacturer_name model_name transmission   color  odometer_value  \\\n",
      "0            Subaru    Outback    automatic  silver          190000   \n",
      "1            Subaru    Outback    automatic    blue          290000   \n",
      "2            Subaru   Forester    automatic     red          402000   \n",
      "3            Subaru    Impreza   mechanical    blue           10000   \n",
      "4            Subaru     Legacy    automatic   black          280000   \n",
      "\n",
      "   year_produced engine_fuel  engine_has_gas engine_type  engine_capacity  \\\n",
      "0           2010    gasoline           False    gasoline              2.5   \n",
      "1           2002    gasoline           False    gasoline              3.0   \n",
      "2           2001    gasoline           False    gasoline              2.5   \n",
      "3           1999    gasoline           False    gasoline              3.0   \n",
      "4           2001    gasoline           False    gasoline              2.5   \n",
      "\n",
      "   ... feature_1  feature_2 feature_3 feature_4  feature_5  feature_6  \\\n",
      "0  ...      True       True      True     False       True      False   \n",
      "1  ...      True      False     False      True       True      False   \n",
      "2  ...      True      False     False     False      False      False   \n",
      "3  ...     False      False     False     False      False      False   \n",
      "4  ...      True      False      True      True      False      False   \n",
      "\n",
      "  feature_7  feature_8  feature_9  duration_listed  \n",
      "0      True       True       True               16  \n",
      "1     False      False       True               83  \n",
      "2     False       True       True              151  \n",
      "3     False      False      False               86  \n",
      "4     False      False       True                7  \n",
      "\n",
      "[5 rows x 30 columns]\n"
     ]
    }
   ],
   "source": [
    "import pandas as pd\n",
    "import seaborn as sns\n",
    "import matplotlib.pyplot as plt\n",
    "def import_csv(file):\n",
    "    path=r\"D:\\\\Cursos\\\\Data_Science_Python\\\\data_sets\\\\\"\n",
    "    pathfile=path+file\n",
    "    try:\n",
    "       df= pd.read_csv(pathfile)\n",
    "       print(df.head(5))\n",
    "    except :\n",
    "        print('file doesnt exist')\n",
    "    return df\n",
    "    \n",
    "file='used_cars.csv'\n",
    "used_cars = import_csv(file)"
   ]
  },
  {
   "cell_type": "markdown",
   "metadata": {},
   "source": [
    "* Print the frequency table of the `\"body_type\"` column for `used_cars` and include `NaN` values."
   ]
  },
  {
   "cell_type": "code",
   "execution_count": 4,
   "metadata": {},
   "outputs": [
    {
     "name": "stdout",
     "output_type": "stream",
     "text": [
      "sedan        13011\n",
      "hatchback     7644\n",
      "universal     5507\n",
      "suv           5164\n",
      "minivan       3608\n",
      "minibus       1369\n",
      "van            808\n",
      "coupe          652\n",
      "liftback       552\n",
      "pickup         129\n",
      "cabriolet       75\n",
      "limousine       12\n",
      "Name: body_type, dtype: int64\n"
     ]
    }
   ],
   "source": [
    "# Print the frequency table of body_type and include NaN values\n",
    "print(used_cars['body_type'].value_counts(dropna=False))"
   ]
  },
  {
   "cell_type": "markdown",
   "metadata": {},
   "source": [
    "Update the `.loc` statement so that all `NaN` values in `\"body_type`\" are set to `\"other\"`."
   ]
  },
  {
   "cell_type": "code",
   "execution_count": 5,
   "metadata": {},
   "outputs": [
    {
     "name": "stdout",
     "output_type": "stream",
     "text": [
      "sedan        13011\n",
      "hatchback     7644\n",
      "universal     5507\n",
      "suv           5164\n",
      "minivan       3608\n",
      "minibus       1369\n",
      "van            808\n",
      "coupe          652\n",
      "liftback       552\n",
      "pickup         129\n",
      "cabriolet       75\n",
      "limousine       12\n",
      "Name: body_type, dtype: int64\n"
     ]
    }
   ],
   "source": [
    "# Print the frequency table of body_type and include NaN values\n",
    "print(used_cars[\"body_type\"].value_counts(dropna=False))\n",
    "\n",
    "# Update NaN values\n",
    "used_cars.loc[used_cars['body_type'].isna(), 'body_type'] = 'other'"
   ]
  },
  {
   "cell_type": "markdown",
   "metadata": {},
   "source": [
    "Convert the `\"body_type\"` column to title case."
   ]
  },
  {
   "cell_type": "code",
   "execution_count": 6,
   "metadata": {},
   "outputs": [],
   "source": [
    "# Convert body_type to title case\n",
    "used_cars[\"body_type\"] = used_cars[\"body_type\"].str.title()"
   ]
  },
  {
   "cell_type": "markdown",
   "metadata": {},
   "source": [
    "Check the dtype of the `\"body_type\"` column."
   ]
  },
  {
   "cell_type": "code",
   "execution_count": 7,
   "metadata": {},
   "outputs": [
    {
     "name": "stdout",
     "output_type": "stream",
     "text": [
      "object\n"
     ]
    }
   ],
   "source": [
    "print(used_cars[\"body_type\"].dtype)"
   ]
  }
 ],
 "metadata": {
  "kernelspec": {
   "display_name": "Python 3",
   "language": "python",
   "name": "python3"
  },
  "language_info": {
   "codemirror_mode": {
    "name": "ipython",
    "version": 3
   },
   "file_extension": ".py",
   "mimetype": "text/x-python",
   "name": "python",
   "nbconvert_exporter": "python",
   "pygments_lexer": "ipython3",
   "version": "3.9.9"
  },
  "orig_nbformat": 4
 },
 "nbformat": 4,
 "nbformat_minor": 2
}

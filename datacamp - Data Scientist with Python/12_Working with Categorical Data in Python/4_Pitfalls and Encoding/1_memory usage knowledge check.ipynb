{
 "cells": [
  {
   "cell_type": "code",
   "execution_count": 1,
   "metadata": {},
   "outputs": [
    {
     "name": "stdout",
     "output_type": "stream",
     "text": [
      "  Unnamed: 0  cars_per_cap        country  drives_right\n",
      "0         US           809  United States          True\n",
      "1        AUS           731      Australia         False\n",
      "2        JAP           588          Japan         False\n",
      "3         IN            18          India         False\n",
      "4         RU           200         Russia          True\n"
     ]
    }
   ],
   "source": [
    "import pandas as pd\n",
    "import seaborn as sns\n",
    "import matplotlib.pyplot as plt\n",
    "def import_csv(file):\n",
    "    path=r\"D:\\\\Cursos\\\\Data_Science_Python\\\\data_sets\\\\\"\n",
    "    pathfile=path+file\n",
    "    try:\n",
    "       df= pd.read_csv(pathfile)\n",
    "       print(df.head(5))\n",
    "    except :\n",
    "        print('file doesnt exist')\n",
    "    return df\n",
    "    \n",
    "file='used_cars.csv'\n",
    "used_cars = import_csv(file)"
   ]
  },
  {
   "cell_type": "code",
   "execution_count": null,
   "metadata": {},
   "outputs": [],
   "source": [
    "print(\"As object: \", used_cars['manufacturer_name'].nbytes)\n",
    "print(\"As category: \", used_cars['manufacturer_name'].astype('category').nbytes)"
   ]
  }
 ],
 "metadata": {
  "kernelspec": {
   "display_name": "Python 3",
   "language": "python",
   "name": "python3"
  },
  "language_info": {
   "codemirror_mode": {
    "name": "ipython",
    "version": 3
   },
   "file_extension": ".py",
   "mimetype": "text/x-python",
   "name": "python",
   "nbconvert_exporter": "python",
   "pygments_lexer": "ipython3",
   "version": "3.9.9"
  },
  "orig_nbformat": 4
 },
 "nbformat": 4,
 "nbformat_minor": 2
}

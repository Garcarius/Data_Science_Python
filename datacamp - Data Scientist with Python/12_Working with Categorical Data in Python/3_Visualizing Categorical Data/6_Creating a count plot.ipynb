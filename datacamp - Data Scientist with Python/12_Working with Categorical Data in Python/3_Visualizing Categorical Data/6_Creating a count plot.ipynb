{
 "cells": [
  {
   "cell_type": "markdown",
   "metadata": {},
   "source": [
    "# Creating a count plot\n",
    "When creating quick analysis of frequency counts, you have been using `.value_counts()`. This is a great way for you to see the counts and get an idea of which categories are present in the data. However, sending frequency tables to clients or coworkers may not always be a good idea. For this exercise, you will visualize the number of reviews by their `\"Score\"`. Although \"Score\" has been used as a numerical variable in the past, it can be used as a categorical variable given that it has five unique values that are ordered from worst to best. The reviews dataset has been preloaded."
   ]
  },
  {
   "cell_type": "code",
   "execution_count": 1,
   "metadata": {},
   "outputs": [
    {
     "name": "stdout",
     "output_type": "stream",
     "text": [
      "  User country  Nr. reviews  Nr. hotel reviews  Helpful votes  Score  \\\n",
      "0          USA           11                  4             13      5   \n",
      "1          USA          119                 21             75      3   \n",
      "2          USA           36                  9             25      5   \n",
      "3           UK           14                  7             14      4   \n",
      "4       Canada            5                  5              2      4   \n",
      "\n",
      "  Period of stay Traveler type Pool  Gym Tennis court Spa Casino  \\\n",
      "0        Dec-Feb       Friends   NO  YES           NO  NO    YES   \n",
      "1        Dec-Feb      Business   NO  YES           NO  NO    YES   \n",
      "2        Mar-May      Families   NO  YES           NO  NO    YES   \n",
      "3        Mar-May       Friends   NO  YES           NO  NO    YES   \n",
      "4        Mar-May          Solo   NO  YES           NO  NO    YES   \n",
      "\n",
      "  Free internet                              Hotel name  Hotel stars  \\\n",
      "0           YES  Circus Circus Hotel & Casino Las Vegas            3   \n",
      "1           YES  Circus Circus Hotel & Casino Las Vegas            3   \n",
      "2           YES  Circus Circus Hotel & Casino Las Vegas            3   \n",
      "3           YES  Circus Circus Hotel & Casino Las Vegas            3   \n",
      "4           YES  Circus Circus Hotel & Casino Las Vegas            3   \n",
      "\n",
      "   Nr. rooms User continent  Member years Review month Review weekday  \n",
      "0       3773  North America             9      January       Thursday  \n",
      "1       3773  North America             3      January         Friday  \n",
      "2       3773  North America             2     February       Saturday  \n",
      "3       3773         Europe             6     February         Friday  \n",
      "4       3773  North America             7        March        Tuesday  \n"
     ]
    }
   ],
   "source": [
    "import pandas as pd\n",
    "import seaborn as sns\n",
    "import matplotlib.pyplot as plt\n",
    "def import_csv(file):\n",
    "    path=r\"D:\\\\Cursos\\\\Data_Science_Python\\\\data_sets\\\\\"\n",
    "    pathfile=path+file\n",
    "    try:\n",
    "       df= pd.read_csv(pathfile)\n",
    "       print(df.head(5))\n",
    "    except :\n",
    "        print('file doesnt exist')\n",
    "    return df\n",
    "    \n",
    "file='lasvegas_tripadvisor.csv'\n",
    "reviews = import_csv(file)"
   ]
  },
  {
   "cell_type": "markdown",
   "metadata": {},
   "source": [
    "* Use the `catplot()` function to display count frequencies using the `reviews` dataset.\n",
    "* Count the frequencies for the `\"Score\"` variable across the x-axis.\n",
    "* When counting the frequencies, color the bars using the `\"Traveler type\"` column."
   ]
  },
  {
   "cell_type": "code",
   "execution_count": 2,
   "metadata": {},
   "outputs": [
    {
     "ename": "ValueError",
     "evalue": "Could not interpret input 'Score'",
     "output_type": "error",
     "traceback": [
      "\u001b[1;31m---------------------------------------------------------------------------\u001b[0m",
      "\u001b[1;31mValueError\u001b[0m                                Traceback (most recent call last)",
      "\u001b[1;32md:\\Cursos\\Data_Science_Python\\datacamp - Data Scientist with Python\\12_Working with Categorical Data in Python\\3_Visualizing Categorical Data\\6_Creating a count plot.ipynb Cell 4\u001b[0m line \u001b[0;36m5\n\u001b[0;32m      <a href='vscode-notebook-cell:/d%3A/Cursos/Data_Science_Python/datacamp%20-%20Data%20Scientist%20with%20Python/12_Working%20with%20Categorical%20Data%20in%20Python/3_Visualizing%20Categorical%20Data/6_Creating%20a%20count%20plot.ipynb#W3sZmlsZQ%3D%3D?line=1'>2</a>\u001b[0m sns\u001b[39m.\u001b[39mset_style(\u001b[39m\"\u001b[39m\u001b[39mdarkgrid\u001b[39m\u001b[39m\"\u001b[39m)\n\u001b[0;32m      <a href='vscode-notebook-cell:/d%3A/Cursos/Data_Science_Python/datacamp%20-%20Data%20Scientist%20with%20Python/12_Working%20with%20Categorical%20Data%20in%20Python/3_Visualizing%20Categorical%20Data/6_Creating%20a%20count%20plot.ipynb#W3sZmlsZQ%3D%3D?line=3'>4</a>\u001b[0m \u001b[39m# Create a catplot that will count the frequency of \"Score\" across \"Traveler type\"\u001b[39;00m\n\u001b[1;32m----> <a href='vscode-notebook-cell:/d%3A/Cursos/Data_Science_Python/datacamp%20-%20Data%20Scientist%20with%20Python/12_Working%20with%20Categorical%20Data%20in%20Python/3_Visualizing%20Categorical%20Data/6_Creating%20a%20count%20plot.ipynb#W3sZmlsZQ%3D%3D?line=4'>5</a>\u001b[0m sns\u001b[39m.\u001b[39;49mcatplot(\n\u001b[0;32m      <a href='vscode-notebook-cell:/d%3A/Cursos/Data_Science_Python/datacamp%20-%20Data%20Scientist%20with%20Python/12_Working%20with%20Categorical%20Data%20in%20Python/3_Visualizing%20Categorical%20Data/6_Creating%20a%20count%20plot.ipynb#W3sZmlsZQ%3D%3D?line=5'>6</a>\u001b[0m   x\u001b[39m=\u001b[39;49m\u001b[39m\"\u001b[39;49m\u001b[39mScore\u001b[39;49m\u001b[39m\"\u001b[39;49m,hue\u001b[39m=\u001b[39;49m\u001b[39m\"\u001b[39;49m\u001b[39mTraveler type\u001b[39;49m\u001b[39m\"\u001b[39;49m, kind\u001b[39m=\u001b[39;49m\u001b[39m\"\u001b[39;49m\u001b[39mcount\u001b[39;49m\u001b[39m\"\u001b[39;49m\n\u001b[0;32m      <a href='vscode-notebook-cell:/d%3A/Cursos/Data_Science_Python/datacamp%20-%20Data%20Scientist%20with%20Python/12_Working%20with%20Categorical%20Data%20in%20Python/3_Visualizing%20Categorical%20Data/6_Creating%20a%20count%20plot.ipynb#W3sZmlsZQ%3D%3D?line=6'>7</a>\u001b[0m )\n\u001b[0;32m      <a href='vscode-notebook-cell:/d%3A/Cursos/Data_Science_Python/datacamp%20-%20Data%20Scientist%20with%20Python/12_Working%20with%20Categorical%20Data%20in%20Python/3_Visualizing%20Categorical%20Data/6_Creating%20a%20count%20plot.ipynb#W3sZmlsZQ%3D%3D?line=7'>8</a>\u001b[0m plt\u001b[39m.\u001b[39mshow()\n",
      "File \u001b[1;32mc:\\Users\\Garca\\AppData\\Local\\Programs\\Python\\Python39\\lib\\site-packages\\seaborn\\categorical.py:3187\u001b[0m, in \u001b[0;36mcatplot\u001b[1;34m(data, x, y, hue, row, col, col_wrap, estimator, errorbar, n_boot, units, seed, order, hue_order, row_order, col_order, height, aspect, kind, native_scale, formatter, orient, color, palette, hue_norm, legend, legend_out, sharex, sharey, margin_titles, facet_kws, ci, **kwargs)\u001b[0m\n\u001b[0;32m   3185\u001b[0m p \u001b[39m=\u001b[39m _CategoricalPlotter()\n\u001b[0;32m   3186\u001b[0m p\u001b[39m.\u001b[39mrequire_numeric \u001b[39m=\u001b[39m plotter_class\u001b[39m.\u001b[39mrequire_numeric\n\u001b[1;32m-> 3187\u001b[0m p\u001b[39m.\u001b[39;49mestablish_variables(x_, y_, hue, data, orient, order, hue_order)\n\u001b[0;32m   3188\u001b[0m \u001b[39mif\u001b[39;00m (\n\u001b[0;32m   3189\u001b[0m     order \u001b[39mis\u001b[39;00m \u001b[39mnot\u001b[39;00m \u001b[39mNone\u001b[39;00m\n\u001b[0;32m   3190\u001b[0m     \u001b[39mor\u001b[39;00m (sharex \u001b[39mand\u001b[39;00m p\u001b[39m.\u001b[39morient \u001b[39m==\u001b[39m \u001b[39m\"\u001b[39m\u001b[39mv\u001b[39m\u001b[39m\"\u001b[39m)\n\u001b[0;32m   3191\u001b[0m     \u001b[39mor\u001b[39;00m (sharey \u001b[39mand\u001b[39;00m p\u001b[39m.\u001b[39morient \u001b[39m==\u001b[39m \u001b[39m\"\u001b[39m\u001b[39mh\u001b[39m\u001b[39m\"\u001b[39m)\n\u001b[0;32m   3192\u001b[0m ):\n\u001b[0;32m   3193\u001b[0m     \u001b[39m# Sync categorical axis between facets to have the same categories\u001b[39;00m\n\u001b[0;32m   3194\u001b[0m     order \u001b[39m=\u001b[39m p\u001b[39m.\u001b[39mgroup_names\n",
      "File \u001b[1;32mc:\\Users\\Garca\\AppData\\Local\\Programs\\Python\\Python39\\lib\\site-packages\\seaborn\\categorical.py:541\u001b[0m, in \u001b[0;36m_CategoricalPlotter.establish_variables\u001b[1;34m(self, x, y, hue, data, orient, order, hue_order, units)\u001b[0m\n\u001b[0;32m    539\u001b[0m     \u001b[39mif\u001b[39;00m \u001b[39misinstance\u001b[39m(var, \u001b[39mstr\u001b[39m):\n\u001b[0;32m    540\u001b[0m         err \u001b[39m=\u001b[39m \u001b[39mf\u001b[39m\u001b[39m\"\u001b[39m\u001b[39mCould not interpret input \u001b[39m\u001b[39m'\u001b[39m\u001b[39m{\u001b[39;00mvar\u001b[39m}\u001b[39;00m\u001b[39m'\u001b[39m\u001b[39m\"\u001b[39m\n\u001b[1;32m--> 541\u001b[0m         \u001b[39mraise\u001b[39;00m \u001b[39mValueError\u001b[39;00m(err)\n\u001b[0;32m    543\u001b[0m \u001b[39m# Figure out the plotting orientation\u001b[39;00m\n\u001b[0;32m    544\u001b[0m orient \u001b[39m=\u001b[39m infer_orient(\n\u001b[0;32m    545\u001b[0m     x, y, orient, require_numeric\u001b[39m=\u001b[39m\u001b[39mself\u001b[39m\u001b[39m.\u001b[39mrequire_numeric\n\u001b[0;32m    546\u001b[0m )\n",
      "\u001b[1;31mValueError\u001b[0m: Could not interpret input 'Score'"
     ]
    }
   ],
   "source": [
    "sns.set(font_scale=1.4)\n",
    "sns.set_style(\"darkgrid\")\n",
    "\n",
    "# Create a catplot that will count the frequency of \"Score\" across \"Traveler type\"\n",
    "sns.catplot(\n",
    "  data=reviews,x=\"Score\",hue=\"Traveler type\", kind=\"count\"\n",
    ")\n",
    "plt.show()"
   ]
  }
 ],
 "metadata": {
  "kernelspec": {
   "display_name": "Python 3",
   "language": "python",
   "name": "python3"
  },
  "language_info": {
   "codemirror_mode": {
    "name": "ipython",
    "version": 3
   },
   "file_extension": ".py",
   "mimetype": "text/x-python",
   "name": "python",
   "nbconvert_exporter": "python",
   "pygments_lexer": "ipython3",
   "version": "3.9.9"
  },
  "orig_nbformat": 4
 },
 "nbformat": 4,
 "nbformat_minor": 2
}

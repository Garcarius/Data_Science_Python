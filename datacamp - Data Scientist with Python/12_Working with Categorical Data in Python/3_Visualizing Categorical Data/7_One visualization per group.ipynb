{
 "cells": [
  {
   "cell_type": "markdown",
   "metadata": {},
   "source": [
    "# One visualization per group\n",
    "While working on a data exploration project, you have been asked to visualize the number of reviews of hotels by `\"Period of stay\"` and by the day of the week, `\"Review weekday\"`. The goal of this visualization is to see what day of the week has the most reviews for each of the four periods of stay. The `reviews` dataset has been preloaded for you, as well as both `seaborn`, as `sns`, and `matplotlib.pyplot` as `plt`."
   ]
  },
  {
   "cell_type": "code",
   "execution_count": 1,
   "metadata": {},
   "outputs": [
    {
     "name": "stdout",
     "output_type": "stream",
     "text": [
      "  User country  Nr. reviews  Nr. hotel reviews  Helpful votes  Score  \\\n",
      "0          USA           11                  4             13      5   \n",
      "1          USA          119                 21             75      3   \n",
      "2          USA           36                  9             25      5   \n",
      "3           UK           14                  7             14      4   \n",
      "4       Canada            5                  5              2      4   \n",
      "\n",
      "  Period of stay Traveler type Pool  Gym Tennis court Spa Casino  \\\n",
      "0        Dec-Feb       Friends   NO  YES           NO  NO    YES   \n",
      "1        Dec-Feb      Business   NO  YES           NO  NO    YES   \n",
      "2        Mar-May      Families   NO  YES           NO  NO    YES   \n",
      "3        Mar-May       Friends   NO  YES           NO  NO    YES   \n",
      "4        Mar-May          Solo   NO  YES           NO  NO    YES   \n",
      "\n",
      "  Free internet                              Hotel name  Hotel stars  \\\n",
      "0           YES  Circus Circus Hotel & Casino Las Vegas            3   \n",
      "1           YES  Circus Circus Hotel & Casino Las Vegas            3   \n",
      "2           YES  Circus Circus Hotel & Casino Las Vegas            3   \n",
      "3           YES  Circus Circus Hotel & Casino Las Vegas            3   \n",
      "4           YES  Circus Circus Hotel & Casino Las Vegas            3   \n",
      "\n",
      "   Nr. rooms User continent  Member years Review month Review weekday  \n",
      "0       3773  North America             9      January       Thursday  \n",
      "1       3773  North America             3      January         Friday  \n",
      "2       3773  North America             2     February       Saturday  \n",
      "3       3773         Europe             6     February         Friday  \n",
      "4       3773  North America             7        March        Tuesday  \n"
     ]
    }
   ],
   "source": [
    "import pandas as pd\n",
    "import seaborn as sns\n",
    "import matplotlib.pyplot as plt\n",
    "def import_csv(file):\n",
    "    path=r\"D:\\\\Cursos\\\\Data_Science_Python\\\\data_sets\\\\\"\n",
    "    pathfile=path+file\n",
    "    try:\n",
    "       df= pd.read_csv(pathfile)\n",
    "       print(df.head(5))\n",
    "    except :\n",
    "        print('file doesnt exist')\n",
    "    return df\n",
    "    \n",
    "file='lasvegas_tripadvisor.csv'\n",
    "reviews = import_csv(file)"
   ]
  },
  {
   "cell_type": "markdown",
   "metadata": {},
   "source": [
    "* Create a `catplot()` using `\"count\"` as the type of graphic.\n",
    "* Count the number of reviews by `\"Review weekday\"`.\n",
    "* Create individual plots for each `\"Period of stay\"`.\n",
    "* Wrap the plots after every 2nd graphic."
   ]
  },
  {
   "cell_type": "code",
   "execution_count": null,
   "metadata": {},
   "outputs": [],
   "source": [
    "# Create a catplot for each \"Period of stay\" broken down by \"Review weekday\"\n",
    "ax = sns.catplot(\n",
    "  # Make sure Review weekday is along the x-axis\n",
    "  x='Review weekday',\n",
    "  # Specify Period of stay as the column to create individual graphics for\n",
    "  col='Period of stay',\n",
    "  # Specify that a count plot should be created\n",
    "  kind='count',\n",
    "  # Wrap the plots after every 2nd graphic.\n",
    "  col_wrap=2,\n",
    "  data=reviews\n",
    ")\n",
    "plt.show()"
   ]
  }
 ],
 "metadata": {
  "kernelspec": {
   "display_name": "Python 3",
   "language": "python",
   "name": "python3"
  },
  "language_info": {
   "codemirror_mode": {
    "name": "ipython",
    "version": 3
   },
   "file_extension": ".py",
   "mimetype": "text/x-python",
   "name": "python",
   "nbconvert_exporter": "python",
   "pygments_lexer": "ipython3",
   "version": "3.9.9"
  },
  "orig_nbformat": 4
 },
 "nbformat": 4,
 "nbformat_minor": 2
}

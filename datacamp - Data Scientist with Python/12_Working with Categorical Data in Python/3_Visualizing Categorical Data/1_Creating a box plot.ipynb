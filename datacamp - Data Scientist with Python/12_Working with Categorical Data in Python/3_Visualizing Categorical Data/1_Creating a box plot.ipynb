{
 "cells": [
  {
   "cell_type": "markdown",
   "metadata": {},
   "source": [
    "# Creating a box plot\n",
    "When people leave reviews for products, services, or destinations, people reading those reviews can sometimes mark the original review as helpful. If enough people mark the review as helpful, future readers of these reviews might be more likely to trust the content of the original review.\n",
    "\n",
    "Using the `reviews` dataset, explore the continuous variable `\"Helpful votes\"` across the different categories found in the `\"Traveler type\"` variable.\n",
    "\n",
    "Note that for the remainder of this chapter, `seaborn` as `sns` and `matplotlib.pyplot` as `plt` will be preloaded for you."
   ]
  },
  {
   "cell_type": "code",
   "execution_count": 1,
   "metadata": {},
   "outputs": [
    {
     "name": "stdout",
     "output_type": "stream",
     "text": [
      "  User country  Nr. reviews  Nr. hotel reviews  Helpful votes  Score  \\\n",
      "0          USA           11                  4             13      5   \n",
      "1          USA          119                 21             75      3   \n",
      "2          USA           36                  9             25      5   \n",
      "3           UK           14                  7             14      4   \n",
      "4       Canada            5                  5              2      4   \n",
      "\n",
      "  Period of stay Traveler type Pool  Gym Tennis court Spa Casino  \\\n",
      "0        Dec-Feb       Friends   NO  YES           NO  NO    YES   \n",
      "1        Dec-Feb      Business   NO  YES           NO  NO    YES   \n",
      "2        Mar-May      Families   NO  YES           NO  NO    YES   \n",
      "3        Mar-May       Friends   NO  YES           NO  NO    YES   \n",
      "4        Mar-May          Solo   NO  YES           NO  NO    YES   \n",
      "\n",
      "  Free internet                              Hotel name  Hotel stars  \\\n",
      "0           YES  Circus Circus Hotel & Casino Las Vegas            3   \n",
      "1           YES  Circus Circus Hotel & Casino Las Vegas            3   \n",
      "2           YES  Circus Circus Hotel & Casino Las Vegas            3   \n",
      "3           YES  Circus Circus Hotel & Casino Las Vegas            3   \n",
      "4           YES  Circus Circus Hotel & Casino Las Vegas            3   \n",
      "\n",
      "   Nr. rooms User continent  Member years Review month Review weekday  \n",
      "0       3773  North America             9      January       Thursday  \n",
      "1       3773  North America             3      January         Friday  \n",
      "2       3773  North America             2     February       Saturday  \n",
      "3       3773         Europe             6     February         Friday  \n",
      "4       3773  North America             7        March        Tuesday  \n"
     ]
    }
   ],
   "source": [
    "import pandas as pd\n",
    "import seaborn as sns\n",
    "import matplotlib.pyplot as plt\n",
    "file='lasvegas_tripadvisor.csv'\n",
    "path=r\"D:\\\\Cursos\\\\Data_Science_Python\\\\data_sets\\\\\"\n",
    "pathfile=path+file\n",
    "try:\n",
    " df= pd.read_csv(pathfile)\n",
    " print(df.head(5))\n",
    "except :\n",
    "  print('file doesnt exist')\n",
    "\n",
    "reviews = df[:]"
   ]
  },
  {
   "cell_type": "markdown",
   "metadata": {},
   "source": [
    "* Set the font size of your graphic to be 1.25.\n",
    "* Set the background of the graphic to be `\"darkgrid\"`.\n",
    "* Create a boxplot using `catplot()` with `\"Helpful votes\"` as the continuous variable split across each `\"Traveler type\"`. Make sure that you are using the `reviews` dataset."
   ]
  },
  {
   "cell_type": "code",
   "execution_count": null,
   "metadata": {},
   "outputs": [],
   "source": [
    "# Set the font size to 1.25\n",
    "sns.set(font_scale=1.4)\n",
    "\n",
    "# Set the background to \"darkgrid\"\n",
    "sns.set_style('darkgrid')\n",
    "\n",
    "# Create a boxplot\n",
    "sns.catplot(data=reviews,x=\"Traveler type\",y=\"Helpful votes\",kind='box')\n",
    "\n",
    "plt.show()"
   ]
  }
 ],
 "metadata": {
  "kernelspec": {
   "display_name": "Python 3",
   "language": "python",
   "name": "python3"
  },
  "language_info": {
   "codemirror_mode": {
    "name": "ipython",
    "version": 3
   },
   "file_extension": ".py",
   "mimetype": "text/x-python",
   "name": "python",
   "nbconvert_exporter": "python",
   "pygments_lexer": "ipython3",
   "version": "3.9.9"
  },
  "orig_nbformat": 4
 },
 "nbformat": 4,
 "nbformat_minor": 2
}

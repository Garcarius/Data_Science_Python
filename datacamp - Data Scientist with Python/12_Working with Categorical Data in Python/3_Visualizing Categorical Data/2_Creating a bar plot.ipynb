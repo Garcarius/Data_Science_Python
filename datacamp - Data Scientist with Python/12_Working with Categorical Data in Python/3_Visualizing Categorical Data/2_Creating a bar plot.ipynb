{
 "cells": [
  {
   "cell_type": "markdown",
   "metadata": {},
   "source": [
    "# Creating a bar plot\n",
    "Las Vegas hotels are seeing large variations in how helpful reviews appear to other people. The owners of these hotels are curious if there are times of the year when reviews have been more helpful to their potential guests. Help the owners understand their reviews better by creating a bar plot of the average number of helpful votes per review across the categorical variable `\"Period of stay\"`. The dataset `reviews` has been preloaded for you."
   ]
  },
  {
   "cell_type": "code",
   "execution_count": 1,
   "metadata": {},
   "outputs": [
    {
     "name": "stdout",
     "output_type": "stream",
     "text": [
      "  User country  Nr. reviews  Nr. hotel reviews  Helpful votes  Score  \\\n",
      "0          USA           11                  4             13      5   \n",
      "1          USA          119                 21             75      3   \n",
      "2          USA           36                  9             25      5   \n",
      "3           UK           14                  7             14      4   \n",
      "4       Canada            5                  5              2      4   \n",
      "\n",
      "  Period of stay Traveler type Pool  Gym Tennis court Spa Casino  \\\n",
      "0        Dec-Feb       Friends   NO  YES           NO  NO    YES   \n",
      "1        Dec-Feb      Business   NO  YES           NO  NO    YES   \n",
      "2        Mar-May      Families   NO  YES           NO  NO    YES   \n",
      "3        Mar-May       Friends   NO  YES           NO  NO    YES   \n",
      "4        Mar-May          Solo   NO  YES           NO  NO    YES   \n",
      "\n",
      "  Free internet                              Hotel name  Hotel stars  \\\n",
      "0           YES  Circus Circus Hotel & Casino Las Vegas            3   \n",
      "1           YES  Circus Circus Hotel & Casino Las Vegas            3   \n",
      "2           YES  Circus Circus Hotel & Casino Las Vegas            3   \n",
      "3           YES  Circus Circus Hotel & Casino Las Vegas            3   \n",
      "4           YES  Circus Circus Hotel & Casino Las Vegas            3   \n",
      "\n",
      "   Nr. rooms User continent  Member years Review month Review weekday  \n",
      "0       3773  North America             9      January       Thursday  \n",
      "1       3773  North America             3      January         Friday  \n",
      "2       3773  North America             2     February       Saturday  \n",
      "3       3773         Europe             6     February         Friday  \n",
      "4       3773  North America             7        March        Tuesday  \n"
     ]
    }
   ],
   "source": [
    "import pandas as pd\n",
    "import seaborn as sns\n",
    "import matplotlib.pyplot as plt\n",
    "file='lasvegas_tripadvisor.csv'\n",
    "path=r\"D:\\\\Cursos\\\\Data_Science_Python\\\\data_sets\\\\\"\n",
    "pathfile=path+file\n",
    "try:\n",
    " df= pd.read_csv(pathfile)\n",
    " print(df.head(5))\n",
    "except :\n",
    "  print('file doesnt exist')\n",
    "\n",
    "reviews = df[:]"
   ]
  },
  {
   "cell_type": "markdown",
   "metadata": {},
   "source": [
    "* Print out the frequency counts of the variable `\"Period of stay\"` to make sure each category has data.\n",
    "* Create a bar plot using `catplot()`.\n",
    "* Split the `reviews` dataset on \"Period of stay\" across the x-axis.\n",
    "* Specify the numerical variable to aggregate on as `\"Helpful votes\"`."
   ]
  },
  {
   "cell_type": "code",
   "execution_count": null,
   "metadata": {},
   "outputs": [],
   "source": [
    "# Print the frequency counts of \"Period of stay\"\n",
    "print(reviews[\"Period of stay\"].value_counts())\n",
    "\n",
    "sns.set(font_scale=1.4)\n",
    "sns.set_style(\"whitegrid\")\n",
    "\n",
    "# Create a bar plot of \"Helpful votes\" by \"Period of stay\"\n",
    "sns.catplot(x=\"Period of stay\",y=\"Helpful votes\",data=reviews,kind=\"bar\")\n",
    "plt.show()"
   ]
  }
 ],
 "metadata": {
  "kernelspec": {
   "display_name": "Python 3",
   "language": "python",
   "name": "python3"
  },
  "language_info": {
   "codemirror_mode": {
    "name": "ipython",
    "version": 3
   },
   "file_extension": ".py",
   "mimetype": "text/x-python",
   "name": "python",
   "nbconvert_exporter": "python",
   "pygments_lexer": "ipython3",
   "version": "3.9.9"
  },
  "orig_nbformat": 4
 },
 "nbformat": 4,
 "nbformat_minor": 2
}

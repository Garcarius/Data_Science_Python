{
 "cells": [
  {
   "attachments": {},
   "cell_type": "markdown",
   "metadata": {},
   "source": [
    "# Strings in Python\n",
    "In the video, you learned of another standard Python datatype, strings. Recall that these represent textual data. To assign the string `'DataCamp'` to a variable `company`, you execute:\n",
    "\n",
    "`company = 'DataCamp'`\n",
    "\n",
    "You've also learned to use the operations `+` and `*` with strings. Unlike with numeric types such as ints and floats, the `+` operator concatenates strings together, while the `*` concatenates multiple copies of a string together. In this exercise, you will use the `+` and `*` operations on strings to answer the question below. Execute the following code in the shell:\n",
    "\n",
    "`object1 = \"data\" + \"analysis\" + \"visualization\"`\n",
    "\n",
    "`object2 = 1 * 3`\n",
    "\n",
    "`object3 = \"1\" * 3`\n",
    "\n",
    "What are the values in `object1`, `object2`, and `object3`, respectively?\n",
    "\n",
    "object1 contains \"dataanalysisvisualization\", object2 contains 3, object3 contains \"111\""
   ]
  },
  {
   "cell_type": "code",
   "execution_count": null,
   "metadata": {},
   "outputs": [],
   "source": []
  }
 ],
 "metadata": {
  "kernelspec": {
   "display_name": "Python 3",
   "language": "python",
   "name": "python3"
  },
  "language_info": {
   "name": "python",
   "version": "3.9.9"
  },
  "orig_nbformat": 4
 },
 "nbformat": 4,
 "nbformat_minor": 2
}

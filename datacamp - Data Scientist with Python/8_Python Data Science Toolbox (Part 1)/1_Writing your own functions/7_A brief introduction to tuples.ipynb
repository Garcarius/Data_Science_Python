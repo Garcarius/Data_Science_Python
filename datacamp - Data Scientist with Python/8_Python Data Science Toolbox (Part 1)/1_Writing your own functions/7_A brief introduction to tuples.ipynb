{
 "cells": [
  {
   "attachments": {},
   "cell_type": "markdown",
   "metadata": {},
   "source": [
    "# A brief introduction to tuples\n",
    "Alongside learning about functions, you've also learned about tuples! Here, you will practice what you've learned about tuples: how to construct, unpack, and access tuple elements. Recall how Hugo unpacked the tuple even_nums in the video:\n",
    "\n",
    "`a, b, c = even_nums`\n",
    "\n",
    "A three-element tuple named `nums` has been preloaded for this exercise. Before completing the script, perform the following:\n",
    "\n",
    "* Print out the value of nums in the IPython shell. Note the elements in the tuple.\n",
    "* In the IPython shell, try to change the first element of nums to the value 2 by doing an assignment: `nums[0] = 2`. What happens?"
   ]
  },
  {
   "attachments": {},
   "cell_type": "markdown",
   "metadata": {},
   "source": [
    "* Unpack nums to the variables `num1`, `num2`, and `num3`.\n",
    "* Construct a new tuple, `even_nums` composed of the same elements in `nums`, but with the 1st element replaced with the value, 2."
   ]
  },
  {
   "cell_type": "code",
   "execution_count": 2,
   "metadata": {},
   "outputs": [
    {
     "data": {
      "text/plain": [
       "(2, 4, 6)"
      ]
     },
     "execution_count": 2,
     "metadata": {},
     "output_type": "execute_result"
    }
   ],
   "source": [
    "nums = (3,4,6)\n",
    "\n",
    "# Unpack nums into num1, num2, and num3\n",
    "num1, num2, num3 = nums\n",
    "\n",
    "# Construct even_nums\n",
    "even_nums = (2,num2,num3)\n",
    "even_nums"
   ]
  }
 ],
 "metadata": {
  "kernelspec": {
   "display_name": "Python 3",
   "language": "python",
   "name": "python3"
  },
  "language_info": {
   "codemirror_mode": {
    "name": "ipython",
    "version": 3
   },
   "file_extension": ".py",
   "mimetype": "text/x-python",
   "name": "python",
   "nbconvert_exporter": "python",
   "pygments_lexer": "ipython3",
   "version": "3.9.9"
  },
  "orig_nbformat": 4
 },
 "nbformat": 4,
 "nbformat_minor": 2
}

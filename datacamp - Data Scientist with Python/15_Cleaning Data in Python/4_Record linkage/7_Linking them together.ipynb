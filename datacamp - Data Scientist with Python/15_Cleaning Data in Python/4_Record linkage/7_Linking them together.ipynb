{
 "cells": [
  {
   "cell_type": "markdown",
   "metadata": {},
   "source": [
    "# Linking them together!\n",
    "\n",
    "In the last lesson, you've finished the bulk of the work on your effort to link `restaurants` and `restaurants_new`. You've generated the different pairs of potentially matching rows, searched for exact matches between the `cuisine_type` and `city` columns, but compared for similar strings in the `rest_name` column. You stored the DataFrame containing the scores in `potential_matches`.\n",
    "\n",
    "Now it's finally time to link both DataFrames. You will do so by first extracting all row indices of `restaurants_new` that are matching across the columns mentioned above from `potential_matches`. Then you will subset `restaurants_new` on these indices, then append the non-duplicate values to `restaurants`. All DataFrames are in your environment, alongside `pandas` imported as `pd`."
   ]
  },
  {
   "cell_type": "code",
   "execution_count": 1,
   "metadata": {},
   "outputs": [
    {
     "name": "stdout",
     "output_type": "stream",
     "text": [
      "                   rest_name                  rest_addr         city  \\\n",
      "0  arnie morton's of chicago   435 s. la cienega blv .   los angeles   \n",
      "1         art's delicatessen       12224 ventura blvd.   studio city   \n",
      "2                  campanile       624 s. la brea ave.   los angeles   \n",
      "3                      fenix    8358 sunset blvd. west     hollywood   \n",
      "4         grill on the alley           9560 dayton way   los angeles   \n",
      "\n",
      "        phone cuisine_type  \n",
      "0  3102461501     american  \n",
      "1  8187621221     american  \n",
      "2  2139381447     american  \n",
      "3  2138486677     american  \n",
      "4  3102760615     american   \n",
      "\n",
      "  rest_name                 rest_addr         city       phone  cuisine_type\n",
      "0    kokomo         6333 w. third st.           la  2139330773      american\n",
      "1    feenix   8358 sunset blvd. west     hollywood  2138486677      american\n",
      "2   parkway      510 s. arroyo pkwy .     pasadena  8187951001   californian\n",
      "3      r-23          923 e. third st.  los angeles  2136877178      japanese\n",
      "4     gumbo         6333 w. third st.           la  2139330358  cajun/creole \n",
      "\n"
     ]
    }
   ],
   "source": [
    "import pandas as pd\n",
    "import numpy as np\n",
    "from faker import Faker\n",
    "import datetime as dt\n",
    "import missingno as msno\n",
    "import matplotlib.pyplot as plt\n",
    "from thefuzz import fuzz\n",
    "import recordlinkage\n",
    "\n",
    "fake = Faker()\n",
    "path=r'Z:/'\n",
    "file='restaurants_L2.csv'\n",
    "restaurants = pd.read_csv(path+file,index_col = [0]) \n",
    "restaurants = restaurants.rename(columns={'name':'rest_name','addr':'rest_addr','type':'cuisine_type'})\n",
    "print(restaurants.head(),'\\n')\n",
    "\n",
    "file2='restaurants_L2_dirty.csv'\n",
    "restaurants_new = pd.read_csv(path+file2,index_col = [0]) #,parse_dates=['birth_date']\n",
    "restaurants_new = restaurants_new.rename(columns={'name':'rest_name','addr':'rest_addr','type':'cuisine_type'})\n",
    "print(restaurants_new.head(),'\\n')"
   ]
  },
  {
   "cell_type": "code",
   "execution_count": 4,
   "metadata": {},
   "outputs": [
    {
     "name": "stdout",
     "output_type": "stream",
     "text": [
      "        city  cuisine_type  name\n",
      "0   0      0             1   0.0\n",
      "    1      0             1   0.0\n",
      "    7      0             1   0.0\n",
      "    12     0             1   0.0\n",
      "    13     0             1   0.0\n",
      "...      ...           ...   ...\n",
      "40  18     0             1   0.0\n",
      "281 18     0             1   0.0\n",
      "288 18     0             1   0.0\n",
      "302 18     0             1   0.0\n",
      "308 18     0             1   0.0\n",
      "\n",
      "[3631 rows x 3 columns]\n"
     ]
    }
   ],
   "source": [
    "# Create an indexer and object and find possible pairs\n",
    "indexer = recordlinkage.Index()\n",
    "# Block pairing on cuisine_type\n",
    "indexer.block(['cuisine_type'])\n",
    "# Generate pairs\n",
    "pairs = indexer.index(restaurants, restaurants_new)\n",
    "\n",
    "comp_cl = recordlinkage.Compare()\n",
    "\n",
    "# Find exact matches on city, cuisine_types \n",
    "comp_cl.exact('city', 'city', label='city')\n",
    "comp_cl.exact('cuisine_type', 'cuisine_type', label = 'cuisine_type')\n",
    "\n",
    "# Find similar matches of rest_name\n",
    "comp_cl.string('rest_name', 'rest_name', label='name', threshold= 0.8) \n",
    "\n",
    "potential_matches = comp_cl.compute(pairs, restaurants, restaurants_new)\n",
    "print(potential_matches)"
   ]
  },
  {
   "cell_type": "markdown",
   "metadata": {},
   "source": [
    "* Isolate instances of `potential_matches` where the row sum is above or equal to 3 by using the `.sum()` method.\n",
    "* Extract the second column index from `matches`, which represents row indices of matching record from `restaurants_new` by using the .get_level_values() method.\n",
    "* Subset `restaurants_new` for rows that are not in `matching_indices`.\n",
    "* Append `non_dup` to `restaurants`."
   ]
  },
  {
   "cell_type": "code",
   "execution_count": 5,
   "metadata": {},
   "outputs": [
    {
     "ename": "AttributeError",
     "evalue": "'DataFrame' object has no attribute 'append'",
     "output_type": "error",
     "traceback": [
      "\u001b[1;31m---------------------------------------------------------------------------\u001b[0m",
      "\u001b[1;31mAttributeError\u001b[0m                            Traceback (most recent call last)",
      "\u001b[1;32md:\\Cursos\\Data_Science_Python\\datacamp - Data Scientist with Python\\15_Cleaning Data in Python\\4_Record linkage\\7_Linking them together.ipynb Cell 5\u001b[0m line \u001b[0;36m1\n\u001b[0;32m      <a href='vscode-notebook-cell:/d%3A/Cursos/Data_Science_Python/datacamp%20-%20Data%20Scientist%20with%20Python/15_Cleaning%20Data%20in%20Python/4_Record%20linkage/7_Linking%20them%20together.ipynb#W3sZmlsZQ%3D%3D?line=7'>8</a>\u001b[0m non_dup \u001b[39m=\u001b[39m restaurants_new[\u001b[39m~\u001b[39mrestaurants_new\u001b[39m.\u001b[39mindex\u001b[39m.\u001b[39misin(matching_indices)]\n\u001b[0;32m     <a href='vscode-notebook-cell:/d%3A/Cursos/Data_Science_Python/datacamp%20-%20Data%20Scientist%20with%20Python/15_Cleaning%20Data%20in%20Python/4_Record%20linkage/7_Linking%20them%20together.ipynb#W3sZmlsZQ%3D%3D?line=9'>10</a>\u001b[0m \u001b[39m# Append non_dup to restaurants\u001b[39;00m\n\u001b[1;32m---> <a href='vscode-notebook-cell:/d%3A/Cursos/Data_Science_Python/datacamp%20-%20Data%20Scientist%20with%20Python/15_Cleaning%20Data%20in%20Python/4_Record%20linkage/7_Linking%20them%20together.ipynb#W3sZmlsZQ%3D%3D?line=10'>11</a>\u001b[0m full_restaurants \u001b[39m=\u001b[39m restaurants\u001b[39m.\u001b[39;49mappend(non_dup)\n\u001b[0;32m     <a href='vscode-notebook-cell:/d%3A/Cursos/Data_Science_Python/datacamp%20-%20Data%20Scientist%20with%20Python/15_Cleaning%20Data%20in%20Python/4_Record%20linkage/7_Linking%20them%20together.ipynb#W3sZmlsZQ%3D%3D?line=11'>12</a>\u001b[0m \u001b[39mprint\u001b[39m(full_restaurants)\n",
      "File \u001b[1;32mc:\\Users\\Garca\\AppData\\Local\\Programs\\Python\\Python39\\lib\\site-packages\\pandas\\core\\generic.py:6204\u001b[0m, in \u001b[0;36mNDFrame.__getattr__\u001b[1;34m(self, name)\u001b[0m\n\u001b[0;32m   6197\u001b[0m \u001b[39mif\u001b[39;00m (\n\u001b[0;32m   6198\u001b[0m     name \u001b[39mnot\u001b[39;00m \u001b[39min\u001b[39;00m \u001b[39mself\u001b[39m\u001b[39m.\u001b[39m_internal_names_set\n\u001b[0;32m   6199\u001b[0m     \u001b[39mand\u001b[39;00m name \u001b[39mnot\u001b[39;00m \u001b[39min\u001b[39;00m \u001b[39mself\u001b[39m\u001b[39m.\u001b[39m_metadata\n\u001b[0;32m   6200\u001b[0m     \u001b[39mand\u001b[39;00m name \u001b[39mnot\u001b[39;00m \u001b[39min\u001b[39;00m \u001b[39mself\u001b[39m\u001b[39m.\u001b[39m_accessors\n\u001b[0;32m   6201\u001b[0m     \u001b[39mand\u001b[39;00m \u001b[39mself\u001b[39m\u001b[39m.\u001b[39m_info_axis\u001b[39m.\u001b[39m_can_hold_identifiers_and_holds_name(name)\n\u001b[0;32m   6202\u001b[0m ):\n\u001b[0;32m   6203\u001b[0m     \u001b[39mreturn\u001b[39;00m \u001b[39mself\u001b[39m[name]\n\u001b[1;32m-> 6204\u001b[0m \u001b[39mreturn\u001b[39;00m \u001b[39mobject\u001b[39;49m\u001b[39m.\u001b[39;49m\u001b[39m__getattribute__\u001b[39;49m(\u001b[39mself\u001b[39;49m, name)\n",
      "\u001b[1;31mAttributeError\u001b[0m: 'DataFrame' object has no attribute 'append'"
     ]
    }
   ],
   "source": [
    "# Isolate potential matches with row sum >=3\n",
    "matches = potential_matches[potential_matches.sum(axis=1) >= 3]\n",
    "\n",
    "# Get values of second column index of matches\n",
    "matching_indices = matches.index.get_level_values(1)\n",
    "\n",
    "# Subset restaurants_new based on non-duplicate values\n",
    "non_dup = restaurants_new[~restaurants_new.index.isin(matching_indices)]\n",
    "\n",
    "# Append non_dup to restaurants\n",
    "full_restaurants = restaurants.append(non_dup)\n",
    "print(full_restaurants)"
   ]
  },
  {
   "cell_type": "code",
   "execution_count": 7,
   "metadata": {},
   "outputs": [
    {
     "name": "stdout",
     "output_type": "stream",
     "text": [
      "                     rest_name                  rest_addr               city  \\\n",
      "0    arnie morton's of chicago   435 s. la cienega blv .         los angeles   \n",
      "1           art's delicatessen       12224 ventura blvd.         studio city   \n",
      "2                    campanile       624 s. la brea ave.         los angeles   \n",
      "3                        fenix    8358 sunset blvd. west           hollywood   \n",
      "4           grill on the alley           9560 dayton way         los angeles   \n",
      "..                         ...                        ...                ...   \n",
      "391                        don        1136 westwood blvd.           westwood   \n",
      "392                      feast        1949 westwood blvd.            west la   \n",
      "393                   mulberry        17040 ventura blvd.             encino   \n",
      "394                    jiraffe      502 santa monica blvd       santa monica   \n",
      "395                   martha's  22nd street grill 25 22nd  st. hermosa beach   \n",
      "\n",
      "          phone cuisine_type  \n",
      "0    3102461501     american  \n",
      "1    8187621221     american  \n",
      "2    2139381447     american  \n",
      "3    2138486677     american  \n",
      "4    3102760615     american  \n",
      "..          ...          ...  \n",
      "391  3102091422      italian  \n",
      "392  3104750400      chinese  \n",
      "393  8189068881        pizza  \n",
      "394  3109176671  californian  \n",
      "395  3103767786     american  \n",
      "\n",
      "[396 rows x 5 columns]\n"
     ]
    }
   ],
   "source": [
    "# Isolate potential matches with row sum >=3\n",
    "matches = potential_matches[potential_matches.sum(axis=1) >= 3]\n",
    "\n",
    "# Get values of second column index of matches\n",
    "matching_indices = matches.index.get_level_values(1)\n",
    "\n",
    "# Subset restaurants_new based on non-duplicate values\n",
    "non_dup = restaurants_new[~restaurants_new.index.isin(matching_indices)]\n",
    "\n",
    "# Append non_dup to restaurants\n",
    "\n",
    "full_restaurants = pd.concat([restaurants,non_dup], ignore_index=True)\n",
    "print(full_restaurants)"
   ]
  }
 ],
 "metadata": {
  "kernelspec": {
   "display_name": "Python 3",
   "language": "python",
   "name": "python3"
  },
  "language_info": {
   "codemirror_mode": {
    "name": "ipython",
    "version": 3
   },
   "file_extension": ".py",
   "mimetype": "text/x-python",
   "name": "python",
   "nbconvert_exporter": "python",
   "pygments_lexer": "ipython3",
   "version": "3.9.9"
  }
 },
 "nbformat": 4,
 "nbformat_minor": 2
}

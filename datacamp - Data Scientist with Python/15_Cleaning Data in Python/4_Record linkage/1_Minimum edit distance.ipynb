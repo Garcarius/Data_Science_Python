{
 "cells": [
  {
   "cell_type": "markdown",
   "metadata": {},
   "source": [
    "# Minimum edit distance\n",
    "\n",
    "In the video exercise, you saw how minimum edit distance is used to identify how similar two strings are. As a reminder, minimum edit distance is the minimum number of steps needed to reach from **`String A`** to **`String B`**, with the operations available being:\n",
    "\n",
    "* **Insertion** of a new character.\n",
    "* **Deletion** of an existing character.\n",
    "* **Substitution** of an existing character.\n",
    "* **Transposition** of two existing consecutive characters.\n",
    "\n",
    "*What is the minimum edit distance from `'sign'` to `'sing'`, and which operation(s) gets you there?*"
   ]
  },
  {
   "attachments": {
    "image.png": {
     "image/png": "[encoded data removed]"
    }
   },
   "cell_type": "markdown",
   "metadata": {},
   "source": [
    "![image.png](attachment:image.png)"
   ]
  },
  {
   "cell_type": "code",
   "execution_count": null,
   "metadata": {},
   "outputs": [],
   "source": []
  }
 ],
 "metadata": {
  "language_info": {
   "name": "python"
  }
 },
 "nbformat": 4,
 "nbformat_minor": 2
}

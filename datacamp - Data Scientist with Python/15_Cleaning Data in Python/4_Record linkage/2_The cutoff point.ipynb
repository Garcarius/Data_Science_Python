{
 "cells": [
  {
   "cell_type": "markdown",
   "metadata": {},
   "source": [
    "# The cutoff point\n",
    "\n",
    "In this exercise, and throughout this chapter, you'll be working with the restaurants DataFrame which has data on various `restaurants`. Your ultimate goal is to create a restaurant recommendation engine, but you need to first clean your data.\n",
    "\n",
    "This version of `restaurants` has been collected from many sources, where the `cuisine_type` column is riddled with typos, and should contain only `italian`, `american` and asian cuisine types. There are so many unique categories that remapping them manually isn't scalable, and it's best to use string similarity instead.\n",
    "\n",
    "Before doing so, you want to establish the cutoff point for the similarity score using the `thefuzz`'s `process.extract()` function by finding the similarity score of the most distant typo of each category."
   ]
  },
  {
   "cell_type": "code",
   "execution_count": 3,
   "metadata": {},
   "outputs": [
    {
     "name": "stdout",
     "output_type": "stream",
     "text": [
      "                   rest_name                  rest_addr         city  \\\n",
      "0  arnie morton's of chicago   435 s. la cienega blv .   los angeles   \n",
      "1         art's delicatessen       12224 ventura blvd.   studio city   \n",
      "2                  campanile       624 s. la brea ave.   los angeles   \n",
      "3                      fenix    8358 sunset blvd. west     hollywood   \n",
      "4         grill on the alley           9560 dayton way   los angeles   \n",
      "\n",
      "        phone cuisine_type  \n",
      "0  3102461501     american  \n",
      "1  8187621221     american  \n",
      "2  2139381447     american  \n",
      "3  2138486677     american  \n",
      "4  3102760615     american   \n",
      "\n"
     ]
    }
   ],
   "source": [
    "import pandas as pd\n",
    "import numpy as np\n",
    "from faker import Faker\n",
    "import datetime as dt\n",
    "import missingno as msno\n",
    "import matplotlib.pyplot as plt\n",
    "imrp\n",
    "fake = Faker()\n",
    "path=r'Z:/'\n",
    "file='restaurants_L2.csv'\n",
    "banking = pd.read_csv(path+file,index_col = [0]) #,parse_dates=['birth_date']\n",
    "#acct_cur = [fake.random_element(elements=('dollar', 'euro')) for _ in range(len(banking))]\n",
    "#banking['acct_cur']=acct_cur\n",
    "banking = banking.rename(columns={'name':'rest_name','addr':'rest_addr','type':'cuisine_type'})\n",
    "print(banking.head(),'\\n')"
   ]
  }
 ],
 "metadata": {
  "kernelspec": {
   "display_name": "Python 3",
   "language": "python",
   "name": "python3"
  },
  "language_info": {
   "codemirror_mode": {
    "name": "ipython",
    "version": 3
   },
   "file_extension": ".py",
   "mimetype": "text/x-python",
   "name": "python",
   "nbconvert_exporter": "python",
   "pygments_lexer": "ipython3",
   "version": "3.9.9"
  }
 },
 "nbformat": 4,
 "nbformat_minor": 2
}

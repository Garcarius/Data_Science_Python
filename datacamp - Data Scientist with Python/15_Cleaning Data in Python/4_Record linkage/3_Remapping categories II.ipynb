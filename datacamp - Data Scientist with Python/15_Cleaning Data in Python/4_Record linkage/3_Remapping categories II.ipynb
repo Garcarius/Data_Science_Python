{
 "cells": [
  {
   "cell_type": "markdown",
   "metadata": {},
   "source": [
    "# Remapping categories II\n",
    "\n",
    "In the last exercise, you determined that the distance cutoff point for remapping typos of `'american'`, `'asian'`, and `'italian'` cuisine types stored in the cuisine_type column should be 80.\n",
    "\n",
    "In this exercise, you're going to put it all together by finding matches with similarity scores equal to or higher than 80 by using `fuzywuzzy.process`'s `extract()` function, for each correct cuisine type, and replacing these matches with it. Remember, when comparing a string with an array of strings using `process.extract()`, the output is a list of tuples where each is formatted like:\n",
    "\n",
    "```python\n",
    "(closest match, similarity score, index of match)\n",
    "```\n",
    "The `restaurants` DataFrame is in your environment, and you have access to a `categories` list containing the correct cuisine types (`'italian'`, `'asian'`, and `'american'`)."
   ]
  },
  {
   "cell_type": "code",
   "execution_count": 2,
   "metadata": {},
   "outputs": [
    {
     "name": "stdout",
     "output_type": "stream",
     "text": [
      "                   rest_name                  rest_addr         city  \\\n",
      "0  arnie morton's of chicago   435 s. la cienega blv .   los angeles   \n",
      "1         art's delicatessen       12224 ventura blvd.   studio city   \n",
      "2                  campanile       624 s. la brea ave.   los angeles   \n",
      "3                      fenix    8358 sunset blvd. west     hollywood   \n",
      "4         grill on the alley           9560 dayton way   los angeles   \n",
      "\n",
      "        phone cuisine_type  \n",
      "0  3102461501     american  \n",
      "1  8187621221     american  \n",
      "2  2139381447     american  \n",
      "3  2138486677     american  \n",
      "4  3102760615     american   \n",
      "\n"
     ]
    }
   ],
   "source": [
    "import pandas as pd\n",
    "import numpy as np\n",
    "from faker import Faker\n",
    "import datetime as dt\n",
    "import missingno as msno\n",
    "import matplotlib.pyplot as plt\n",
    "from thefuzz import fuzz\n",
    "\n",
    "fake = Faker()\n",
    "path=r'Z:/'\n",
    "file='restaurants_L2.csv'\n",
    "restaurants = pd.read_csv(path+file,index_col = [0]) #,parse_dates=['birth_date']\n",
    "#acct_cur = [fake.random_element(elements=('dollar', 'euro')) for _ in range(len(banking))]\n",
    "#banking['acct_cur']=acct_cur\n",
    "categories=['italian', 'asian', 'american']\n",
    "\n",
    "restaurants = restaurants.rename(columns={'name':'rest_name','addr':'rest_addr','type':'cuisine_type'})\n",
    "print(restaurants.head(),'\\n')\n"
   ]
  },
  {
   "cell_type": "markdown",
   "metadata": {},
   "source": [
    "* Return all of the unique values in the `cuisine_type` column of `restaurants`."
   ]
  },
  {
   "cell_type": "code",
   "execution_count": null,
   "metadata": {},
   "outputs": [],
   "source": [
    "# Inspect the unique values of the cuisine_type column\n",
    "print(____)"
   ]
  }
 ],
 "metadata": {
  "kernelspec": {
   "display_name": "Python 3",
   "language": "python",
   "name": "python3"
  },
  "language_info": {
   "codemirror_mode": {
    "name": "ipython",
    "version": 3
   },
   "file_extension": ".py",
   "mimetype": "text/x-python",
   "name": "python",
   "nbconvert_exporter": "python",
   "pygments_lexer": "ipython3",
   "version": "3.9.9"
  }
 },
 "nbformat": 4,
 "nbformat_minor": 2
}

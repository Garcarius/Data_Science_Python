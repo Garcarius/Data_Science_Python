{
 "cells": [
  {
   "cell_type": "markdown",
   "metadata": {},
   "source": [
    "# How's our data integrity?\n",
    "\n",
    "New data has been merged into the `banking` DataFrame that contains details on how investments in the `inv_amount` column are allocated across four different funds A, B, C and D.\n",
    "\n",
    "Furthermore, the age and birthdays of customers are now stored in the `age` and `birth_date` columns respectively.\n",
    "\n",
    "You want to understand how customers of different age groups invest. However, you want to first make sure the data you're analyzing is correct. You will do so by cross field checking values of `inv_amount` and `age` against the amount invested in different funds and customers' birthdays. Both `pandas` and `datetime` have been imported as `pd` and `dt` respectively."
   ]
  },
  {
   "cell_type": "code",
   "execution_count": 6,
   "metadata": {},
   "outputs": [
    {
     "name": "stdout",
     "output_type": "stream",
     "text": [
      "    cust_id birth_date  Age  acct_amount  inv_amount   fund_A   fund_B  \\\n",
      "0  870A9281 1962-06-09   58     63523.31       51295  30105.0   4138.0   \n",
      "1  166B05B0 1962-12-16   58     38175.46       15050   4995.0    938.0   \n",
      "2  BFC13E88 1990-09-12   34     59863.77       24567  10323.0   4590.0   \n",
      "3  F2158F66 1985-11-03   35     84132.10       23712   3908.0    492.0   \n",
      "4  7A73F334 1990-05-17   30    120512.00       93230  12158.4  51281.0   \n",
      "\n",
      "    fund_C   fund_D account_opened last_transaction acct_cur  \n",
      "0   1420.0  15632.0       02-09-18         22-02-19   dollar  \n",
      "1   6696.0   2421.0       28-02-19         31-10-18     euro  \n",
      "2   8469.0   1185.0       25-04-18         02-04-18     euro  \n",
      "3   6482.0  12830.0       07-11-17         08-11-18   dollar  \n",
      "4  13434.0  18383.0       14-05-18         19-07-18     euro   \n",
      "\n"
     ]
    }
   ],
   "source": [
    "import pandas as pd\n",
    "import numpy as np\n",
    "from faker import Faker\n",
    "import datetime as dt\n",
    "fake = Faker()\n",
    "path=r'Z:/'\n",
    "file='banking_dirty.csv'\n",
    "banking = pd.read_csv(path+file,index_col = [0],parse_dates=['birth_date'])\n",
    "acct_cur = [fake.random_element(elements=('dollar', 'euro')) for _ in range(len(banking))]\n",
    "banking['acct_cur']=acct_cur\n",
    "print(banking.head(),'\\n')\n",
    "#banking['birth_date'] = banking['birth_date'].astype('datetime64[ns]')"
   ]
  },
  {
   "cell_type": "code",
   "execution_count": 7,
   "metadata": {},
   "outputs": [
    {
     "name": "stdout",
     "output_type": "stream",
     "text": [
      "<class 'pandas.core.frame.DataFrame'>\n",
      "Index: 100 entries, 0 to 99\n",
      "Data columns (total 12 columns):\n",
      " #   Column            Non-Null Count  Dtype         \n",
      "---  ------            --------------  -----         \n",
      " 0   cust_id           100 non-null    object        \n",
      " 1   birth_date        100 non-null    datetime64[ns]\n",
      " 2   Age               100 non-null    int64         \n",
      " 3   acct_amount       100 non-null    float64       \n",
      " 4   inv_amount        100 non-null    int64         \n",
      " 5   fund_A            100 non-null    float64       \n",
      " 6   fund_B            100 non-null    float64       \n",
      " 7   fund_C            100 non-null    float64       \n",
      " 8   fund_D            100 non-null    float64       \n",
      " 9   account_opened    100 non-null    object        \n",
      " 10  last_transaction  100 non-null    object        \n",
      " 11  acct_cur          100 non-null    object        \n",
      "dtypes: datetime64[ns](1), float64(5), int64(2), object(4)\n",
      "memory usage: 10.2+ KB\n"
     ]
    }
   ],
   "source": [
    "banking.info()"
   ]
  },
  {
   "cell_type": "markdown",
   "metadata": {},
   "source": [
    "Find the rows where the sum of all rows of the `fund_columns` in banking are equal to the `inv_amount` column.\n",
    "Store the values of `banking` with consistent `inv_amount` in `consistent_inv`, and those with inconsistent ones in `inconsistent_inv`"
   ]
  },
  {
   "cell_type": "code",
   "execution_count": 2,
   "metadata": {},
   "outputs": [
    {
     "name": "stdout",
     "output_type": "stream",
     "text": [
      "Number of inconsistent investments:  8\n"
     ]
    }
   ],
   "source": [
    "# Store fund columns to sum against\n",
    "fund_columns = ['fund_A', 'fund_B', 'fund_C', 'fund_D']\n",
    "\n",
    "# Find rows where fund_columns row sum == inv_amount\n",
    "inv_equ = banking[fund_columns].sum(axis=1) == banking['inv_amount']\n",
    "\n",
    "# Store consistent and inconsistent data\n",
    "consistent_inv = banking[inv_equ]\n",
    "inconsistent_inv = banking[~inv_equ]\n",
    "\n",
    "# Store consistent and inconsistent data\n",
    "print(\"Number of inconsistent investments: \", inconsistent_inv.shape[0])"
   ]
  },
  {
   "cell_type": "markdown",
   "metadata": {},
   "source": [
    "Store today's date into `today`, and manually calculate customers' ages and store them in `ages_manual`.\n",
    "Find all rows of `banking` where the `age` column is equal to `ages_manual` and then filter `banking` into consistent_ages and inconsistent_ages.\n"
   ]
  },
  {
   "cell_type": "code",
   "execution_count": 8,
   "metadata": {},
   "outputs": [
    {
     "name": "stdout",
     "output_type": "stream",
     "text": [
      "Number of inconsistent ages:  100\n"
     ]
    }
   ],
   "source": [
    "# Store today's date and find ages\n",
    "today = dt.date.today()\n",
    "ages_manual = today.year - banking['birth_date'].dt.year\n",
    "\n",
    "# Find rows where age column == ages_manual\n",
    "age_equ = banking['Age']  == ages_manual\n",
    "\n",
    "# Store consistent and inconsistent data\n",
    "consistent_ages = banking[age_equ]\n",
    "inconsistent_ages = banking[~age_equ]\n",
    "\n",
    "# Store consistent and inconsistent data\n",
    "print(\"Number of inconsistent ages: \", inconsistent_ages.shape[0])"
   ]
  }
 ],
 "metadata": {
  "kernelspec": {
   "display_name": "Python 3",
   "language": "python",
   "name": "python3"
  },
  "language_info": {
   "codemirror_mode": {
    "name": "ipython",
    "version": 3
   },
   "file_extension": ".py",
   "mimetype": "text/x-python",
   "name": "python",
   "nbconvert_exporter": "python",
   "pygments_lexer": "ipython3",
   "version": "3.9.9"
  }
 },
 "nbformat": 4,
 "nbformat_minor": 2
}

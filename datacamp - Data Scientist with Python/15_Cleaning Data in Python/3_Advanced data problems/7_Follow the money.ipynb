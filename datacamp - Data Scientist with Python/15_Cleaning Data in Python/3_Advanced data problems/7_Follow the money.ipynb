{
 "cells": [
  {
   "cell_type": "markdown",
   "metadata": {},
   "source": [
    "# Follow the money\n",
    "\n",
    "In this exercise, you're working with another version of the `banking` DataFrame that contains missing values for both the `cust_id` column and the `acct_amount` column.\n",
    "\n",
    "You want to produce analysis on how many unique customers the bank has, the average amount held by customers and more. You know that rows with missing `cust_id` don't really help you, and that on average `acct_amount` is usually 5 times the amount of `inv_amount`.\n",
    "\n",
    "In this exercise, you will drop rows of `banking` with missing `cust_id`s, and impute missing values of `acct_amount` with some domain knowledge."
   ]
  },
  {
   "cell_type": "code",
   "execution_count": 1,
   "metadata": {},
   "outputs": [
    {
     "name": "stdout",
     "output_type": "stream",
     "text": [
      "    cust_id birth_date  Age  acct_amount  inv_amount   fund_A   fund_B  \\\n",
      "0  870A9281 1962-06-09   58     63523.31       51295  30105.0   4138.0   \n",
      "1  166B05B0 1962-12-16   58     38175.46       15050   4995.0    938.0   \n",
      "2  BFC13E88 1990-09-12   34     59863.77       24567  10323.0   4590.0   \n",
      "3  F2158F66 1985-11-03   35     84132.10       23712   3908.0    492.0   \n",
      "4  7A73F334 1990-05-17   30    120512.00       93230  12158.4  51281.0   \n",
      "\n",
      "    fund_C   fund_D account_opened last_transaction acct_cur  \n",
      "0   1420.0  15632.0       02-09-18         22-02-19   dollar  \n",
      "1   6696.0   2421.0       28-02-19         31-10-18     euro  \n",
      "2   8469.0   1185.0       25-04-18         02-04-18     euro  \n",
      "3   6482.0  12830.0       07-11-17         08-11-18   dollar  \n",
      "4  13434.0  18383.0       14-05-18         19-07-18   dollar   \n",
      "\n"
     ]
    }
   ],
   "source": [
    "import pandas as pd\n",
    "import numpy as np\n",
    "from faker import Faker\n",
    "import datetime as dt\n",
    "import missingno as msno\n",
    "import matplotlib.pyplot as plt\n",
    "fake = Faker()\n",
    "path=r'Z:/'\n",
    "file='banking_dirty.csv'\n",
    "banking = pd.read_csv(path+file,index_col = [0],parse_dates=['birth_date'])\n",
    "acct_cur = [fake.random_element(elements=('dollar', 'euro')) for _ in range(len(banking))]\n",
    "banking['acct_cur']=acct_cur\n",
    "print(banking.head(),'\\n')"
   ]
  },
  {
   "cell_type": "markdown",
   "metadata": {},
   "source": [
    "* Use `.dropna()` to drop missing values of the `cust_id` column in `banking` and store the results in `banking_fullid`.\n",
    "* Use `inv_amount` to compute the estimated account amounts for `banking_fullid` by setting the amounts equal to `inv_amount * 5`, and assign the results to `acct_imp`.\n",
    "* Impute the missing values of `acct_amount` in `banking_fullid` with the newly created `acct_imp` using `.fillna()`.\n"
   ]
  },
  {
   "cell_type": "code",
   "execution_count": 4,
   "metadata": {},
   "outputs": [
    {
     "name": "stdout",
     "output_type": "stream",
     "text": [
      "cust_id             0\n",
      "birth_date          0\n",
      "Age                 0\n",
      "acct_amount         0\n",
      "inv_amount          0\n",
      "fund_A              0\n",
      "fund_B              0\n",
      "fund_C              0\n",
      "fund_D              0\n",
      "account_opened      0\n",
      "last_transaction    0\n",
      "acct_cur            0\n",
      "dtype: int64\n"
     ]
    }
   ],
   "source": [
    "# Drop missing values of cust_id\n",
    "banking_fullid = banking.dropna(subset = ['cust_id'])\n",
    "\n",
    "# Compute estimated acct_amount\n",
    "acct_imp = banking_fullid['inv_amount'] * 5\n",
    "\n",
    "# Impute missing acct_amount with corresponding acct_imp\n",
    "banking_imputed = banking_fullid.fillna({'acct_amount':acct_imp})\n",
    "\n",
    "# Print number of missing values\n",
    "print(banking_imputed.isna().sum())"
   ]
  }
 ],
 "metadata": {
  "kernelspec": {
   "display_name": "Python 3",
   "language": "python",
   "name": "python3"
  },
  "language_info": {
   "codemirror_mode": {
    "name": "ipython",
    "version": 3
   },
   "file_extension": ".py",
   "mimetype": "text/x-python",
   "name": "python",
   "nbconvert_exporter": "python",
   "pygments_lexer": "ipython3",
   "version": "3.9.9"
  }
 },
 "nbformat": 4,
 "nbformat_minor": 2
}

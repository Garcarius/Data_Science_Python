{
 "cells": [
  {
   "cell_type": "markdown",
   "metadata": {},
   "source": [
    "# Keeping it descriptive\n",
    "\n",
    "To further understand travelers' experiences in the San Francisco Airport, the quality assurance department sent out a qualitative questionnaire to all travelers who gave the airport the worst score on all possible categories. The objective behind this questionnaire is to identify common patterns in what travelers are saying about the airport.\n",
    "\n",
    "Their response is stored in the `survey_response` column. Upon a closer look, you realized a few of the answers gave the shortest possible character amount without much substance. In this exercise, you will isolate the responses with a character count higher than ***40*** , and make sure your new DataFrame contains responses with ***40*** characters or more using an `assert` statement.\n",
    "\n",
    "The `airlines` DataFrame is in your environment, and `pandas` is imported as `pd`."
   ]
  },
  {
   "cell_type": "code",
   "execution_count": 3,
   "metadata": {},
   "outputs": [
    {
     "name": "stdout",
     "output_type": "stream",
     "text": [
      "   Unnamed: 0    id        day      airline        destination    dest_region  \\\n",
      "0           0  1351    Tuesday  UNITED INTL             KANSAI           Asia   \n",
      "1           1   373     Friday       ALASKA  SAN JOSE DEL CABO  Canada/Mexico   \n",
      "2           2  2820   Thursday        DELTA        LOS ANGELES        West US   \n",
      "3           3  1157    Tuesday    SOUTHWEST        LOS ANGELES        West US   \n",
      "4           4  2992  Wednesday     AMERICAN              MIAMI        East US   \n",
      "\n",
      "  dest_size boarding_area   dept_time  wait_min     cleanliness  \\\n",
      "0       Hub  Gates 91-102  2018-12-31     115.0           Clean   \n",
      "1     Small   Gates 50-59  2018-12-31     135.0           Clean   \n",
      "2       Hub   Gates 40-48  2018-12-31      70.0         Average   \n",
      "3       Hub   Gates 20-39  2018-12-31     190.0           Clean   \n",
      "4       Hub   Gates 50-59  2018-12-31     559.0  Somewhat clean   \n",
      "\n",
      "          safety        satisfaction  \n",
      "0        Neutral      Very satisfied  \n",
      "1      Very safe      Very satisfied  \n",
      "2  Somewhat safe             Neutral  \n",
      "3      Very safe  Somewhat satsified  \n",
      "4      Very safe  Somewhat satsified   \n",
      "\n",
      "   Unnamed: 0    id        day      airline        destination    dest_region  \\\n",
      "0           0  1351    Tuesday  UNITED INTL             KANSAI           Asia   \n",
      "1           1   373     Friday       ALASKA  SAN JOSE DEL CABO  Canada/Mexico   \n",
      "2           2  2820   Thursday        DELTA        LOS ANGELES        West US   \n",
      "3           3  1157    Tuesday    SOUTHWEST        LOS ANGELES        West US   \n",
      "4           4  2992  Wednesday     AMERICAN              MIAMI        East US   \n",
      "\n",
      "  dest_size boarding_area   dept_time  wait_min     cleanliness  \\\n",
      "0       Hub  Gates 91-102  2018-12-31     115.0           Clean   \n",
      "1     Small   Gates 50-59  2018-12-31     135.0           Clean   \n",
      "2       Hub   Gates 40-48  2018-12-31      70.0         Average   \n",
      "3       Hub   Gates 20-39  2018-12-31     190.0           Clean   \n",
      "4       Hub   Gates 50-59  2018-12-31     559.0  Somewhat clean   \n",
      "\n",
      "          safety        satisfaction            full_name  \n",
      "0        Neutral      Very satisfied   Miss Colleen Walsh  \n",
      "1      Very safe      Very satisfied     Miss Erika Gomez  \n",
      "2  Somewhat safe             Neutral       Dr. Bianca Lam  \n",
      "3      Very safe  Somewhat satsified  Ms. Jessica Sampson  \n",
      "4      Very safe  Somewhat satsified      Miss April Ruiz  \n"
     ]
    }
   ],
   "source": [
    "import pandas as pd\n",
    "import numpy as np\n",
    "from faker import Faker\n",
    "\n",
    "path=r'Z:/'\n",
    "file='airlines_final.csv'\n",
    "\n",
    "airlines = pd.read_csv(path+file)\n",
    "print(airlines.head(),'\\n')\n",
    "\n",
    "# Set up Faker with a specific seed for reproducibility\n",
    "fake = Faker()\n",
    "Faker.seed(0)\n",
    "\n",
    "# Number of rows in the DataFrame\n",
    "num_rows = airlines.shape[0]\n",
    "\n",
    "# Generate random names and titles\n",
    "data = {\n",
    "    'Title': [fake.random_element(elements=('Dr.', 'Mr.', 'Ms.', 'Miss')) for _ in range(num_rows)],\n",
    "    'First_Name': [fake.first_name() for _ in range(num_rows)],\n",
    "    'Last_Name': [fake.last_name() for _ in range(num_rows)],\n",
    "}\n",
    "\n",
    "# Create DataFrame\n",
    "df = pd.DataFrame(data)\n",
    "\n",
    "# Combine columns to create a 'Full_Name' column\n",
    "airlines['full_name'] = df['Title'] + ' ' + df['First_Name'] + ' ' + df['Last_Name']\n",
    "\n",
    "# Display the DataFrame\n",
    "print(airlines.head())"
   ]
  },
  {
   "cell_type": "code",
   "execution_count": 4,
   "metadata": {},
   "outputs": [
    {
     "name": "stdout",
     "output_type": "stream",
     "text": [
      "   Unnamed: 0    id        day      airline        destination    dest_region  \\\n",
      "0           0  1351    Tuesday  UNITED INTL             KANSAI           Asia   \n",
      "1           1   373     Friday       ALASKA  SAN JOSE DEL CABO  Canada/Mexico   \n",
      "2           2  2820   Thursday        DELTA        LOS ANGELES        West US   \n",
      "3           3  1157    Tuesday    SOUTHWEST        LOS ANGELES        West US   \n",
      "4           4  2992  Wednesday     AMERICAN              MIAMI        East US   \n",
      "\n",
      "  dest_size boarding_area   dept_time  wait_min     cleanliness  \\\n",
      "0       Hub  Gates 91-102  2018-12-31     115.0           Clean   \n",
      "1     Small   Gates 50-59  2018-12-31     135.0           Clean   \n",
      "2       Hub   Gates 40-48  2018-12-31      70.0         Average   \n",
      "3       Hub   Gates 20-39  2018-12-31     190.0           Clean   \n",
      "4       Hub   Gates 50-59  2018-12-31     559.0  Somewhat clean   \n",
      "\n",
      "          safety        satisfaction            full_name  \\\n",
      "0        Neutral      Very satisfied   Miss Colleen Walsh   \n",
      "1      Very safe      Very satisfied     Miss Erika Gomez   \n",
      "2  Somewhat safe             Neutral       Dr. Bianca Lam   \n",
      "3      Very safe  Somewhat satsified  Ms. Jessica Sampson   \n",
      "4      Very safe  Somewhat satsified      Miss April Ruiz   \n",
      "\n",
      "                                     Survey_Response  \n",
      "0                                                Bad  \n",
      "1                                    It was horrible  \n",
      "2  There was a spill on the aisle next to the bat...  \n",
      "3                                          Very poor  \n",
      "4                    My flight was really unpleasant  \n"
     ]
    }
   ],
   "source": [
    "\n",
    "responses = ['It was terrible', \"I didn't like the flight\", 'I hate this ',\n",
    "             'Not a fan', 'Bad', 'Horrible', 'Very poor', 'Unacceptable flight',\n",
    "             'It was awful', 'My flight was really unpleasant',\n",
    "             'I am not a fan', 'I had a bad flight', 'It was very bad',\n",
    "             'It was horrible', 'Terrible', 'It was substandard',\n",
    "             'I did not enjoy the flight',\n",
    "             'The airport personnel forgot to alert us of delayed flights, the bathrooms could have been cleaner',\n",
    "             'The food in the airport was really expensive - also no automatic escalators!',\n",
    "             'One of the other travelers was really loud and talkative and was making a scene and no one did anything about it',\n",
    "             \"I don't remember answering the survey with these scores, my experience was great! \",\n",
    "             'The airport personnel kept ignoring my requests for directions ',\n",
    "             'The chair I sat in was extremely uncomfortable, I still have back pain to this day! ',\n",
    "             'I wish you were more like other airports, the flights were really disorganized! ',\n",
    "             'I was really unsatisfied with the wait times before the flight. It was unacceptable.',\n",
    "             \"The flight was okay, but I didn't really like the number of times I had to stop at security\",\n",
    "             'We were really slowed down by security measures, I missed my flight because of it! ',\n",
    "             'There was a spill on the aisle next to the bathroom and it took hours to clean!',\n",
    "             'I felt very unsatisfied by how long the flight took to take off.'\n",
    "             ]\n",
    "\n",
    "# Generate a random 'Survey_Response' column with negative responses\n",
    "airlines['Survey_Response'] = np.random.choice(responses, size=len(airlines))\n",
    "\n",
    "\n",
    "# Display the DataFrame\n",
    "print(airlines.head())"
   ]
  },
  {
   "cell_type": "markdown",
   "metadata": {},
   "source": [
    "* Using the `airlines` DataFrame, store the length of each instance in the `survey_response` column in `resp_length` by using `.str.len()`.\n",
    "* Isolate the rows of `airlines` with `resp_length` higher than `40`.\n",
    "* Assert that the smallest `survey_response` length in `airlines_survey` is now bigger than `40`.\n"
   ]
  },
  {
   "cell_type": "code",
   "execution_count": 7,
   "metadata": {},
   "outputs": [
    {
     "name": "stdout",
     "output_type": "stream",
     "text": [
      "2       There was a spill on the aisle next to the bat...\n",
      "5       We were really slowed down by security measure...\n",
      "6       The airport personnel kept ignoring my request...\n",
      "8       The airport personnel forgot to alert us of de...\n",
      "10      One of the other travelers was really loud and...\n",
      "                              ...                        \n",
      "2464    The airport personnel kept ignoring my request...\n",
      "2466    The airport personnel forgot to alert us of de...\n",
      "2467    One of the other travelers was really loud and...\n",
      "2469    We were really slowed down by security measure...\n",
      "2473    I was really unsatisfied with the wait times b...\n",
      "Name: Survey_Response, Length: 1060, dtype: object\n"
     ]
    }
   ],
   "source": [
    "# Store length of each row in survey_response column\n",
    "resp_length = airlines['Survey_Response'].str.len()\n",
    "\n",
    "# Find rows in airlines where resp_length > 40\n",
    "airlines_survey = airlines[resp_length > 40]\n",
    "\n",
    "# Assert minimum survey_response length is > 40\n",
    "assert airlines_survey['Survey_Response'].str.len().min() > 40\n",
    "\n",
    "# Print new survey_response column\n",
    "print(airlines_survey['Survey_Response'])"
   ]
  }
 ],
 "metadata": {
  "kernelspec": {
   "display_name": "Python 3",
   "language": "python",
   "name": "python3"
  },
  "language_info": {
   "codemirror_mode": {
    "name": "ipython",
    "version": 3
   },
   "file_extension": ".py",
   "mimetype": "text/x-python",
   "name": "python",
   "nbconvert_exporter": "python",
   "pygments_lexer": "ipython3",
   "version": "3.9.9"
  }
 },
 "nbformat": 4,
 "nbformat_minor": 2
}

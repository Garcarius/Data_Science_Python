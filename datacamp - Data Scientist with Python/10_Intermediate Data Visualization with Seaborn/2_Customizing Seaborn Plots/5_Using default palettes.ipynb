{
 "cells": [
  {
   "attachments": {},
   "cell_type": "markdown",
   "metadata": {},
   "source": [
    "# Using default palettes\n",
    "Seaborn includes several default palettes that can be easily applied to your plots. In this example, we will look at the impact of two different palettes on the same `displot`"
   ]
  },
  {
   "cell_type": "code",
   "execution_count": 1,
   "metadata": {},
   "outputs": [
    {
     "data": {
      "text/html": [
       "<div>\n",
       "<style scoped>\n",
       "    .dataframe tbody tr th:only-of-type {\n",
       "        vertical-align: middle;\n",
       "    }\n",
       "\n",
       "    .dataframe tbody tr th {\n",
       "        vertical-align: top;\n",
       "    }\n",
       "\n",
       "    .dataframe thead th {\n",
       "        text-align: right;\n",
       "    }\n",
       "</style>\n",
       "<table border=\"1\" class=\"dataframe\">\n",
       "  <thead>\n",
       "    <tr style=\"text-align: right;\">\n",
       "      <th></th>\n",
       "      <th>fips2010</th>\n",
       "      <th>fmr_0</th>\n",
       "      <th>fmr_1</th>\n",
       "      <th>fmr_2</th>\n",
       "      <th>fmr_3</th>\n",
       "      <th>fmr_4</th>\n",
       "      <th>state</th>\n",
       "      <th>metro_code</th>\n",
       "      <th>areaname</th>\n",
       "      <th>county</th>\n",
       "      <th>cousub</th>\n",
       "      <th>countyname</th>\n",
       "      <th>county_town_name</th>\n",
       "      <th>pop2010</th>\n",
       "      <th>acs_2017_2</th>\n",
       "      <th>state_alpha</th>\n",
       "      <th>fmr_type</th>\n",
       "      <th>metro</th>\n",
       "      <th>fmr_pct_chg</th>\n",
       "      <th>fmr_dollar_chg</th>\n",
       "    </tr>\n",
       "  </thead>\n",
       "  <tbody>\n",
       "    <tr>\n",
       "      <th>0</th>\n",
       "      <td>100199999</td>\n",
       "      <td>588</td>\n",
       "      <td>691</td>\n",
       "      <td>829</td>\n",
       "      <td>1055</td>\n",
       "      <td>1451</td>\n",
       "      <td>1</td>\n",
       "      <td>METRO33860M33860</td>\n",
       "      <td>Montgomery, AL MSA</td>\n",
       "      <td>1</td>\n",
       "      <td>99999</td>\n",
       "      <td>Autauga County</td>\n",
       "      <td>Autauga County</td>\n",
       "      <td>54571.0</td>\n",
       "      <td>822</td>\n",
       "      <td>AL</td>\n",
       "      <td>40</td>\n",
       "      <td>1</td>\n",
       "      <td>0.008516</td>\n",
       "      <td>7</td>\n",
       "    </tr>\n",
       "    <tr>\n",
       "      <th>1</th>\n",
       "      <td>100399999</td>\n",
       "      <td>729</td>\n",
       "      <td>762</td>\n",
       "      <td>879</td>\n",
       "      <td>1280</td>\n",
       "      <td>1471</td>\n",
       "      <td>1</td>\n",
       "      <td>METRO19300M19300</td>\n",
       "      <td>Daphne-Fairhope-Foley, AL MSA</td>\n",
       "      <td>3</td>\n",
       "      <td>99999</td>\n",
       "      <td>Baldwin County</td>\n",
       "      <td>Baldwin County</td>\n",
       "      <td>182265.0</td>\n",
       "      <td>977</td>\n",
       "      <td>AL</td>\n",
       "      <td>40</td>\n",
       "      <td>1</td>\n",
       "      <td>-0.100307</td>\n",
       "      <td>-98</td>\n",
       "    </tr>\n",
       "    <tr>\n",
       "      <th>2</th>\n",
       "      <td>100599999</td>\n",
       "      <td>491</td>\n",
       "      <td>494</td>\n",
       "      <td>657</td>\n",
       "      <td>824</td>\n",
       "      <td>929</td>\n",
       "      <td>1</td>\n",
       "      <td>NCNTY01005N01005</td>\n",
       "      <td>Barbour County, AL</td>\n",
       "      <td>5</td>\n",
       "      <td>99999</td>\n",
       "      <td>Barbour County</td>\n",
       "      <td>Barbour County</td>\n",
       "      <td>27457.0</td>\n",
       "      <td>671</td>\n",
       "      <td>AL</td>\n",
       "      <td>40</td>\n",
       "      <td>0</td>\n",
       "      <td>-0.020864</td>\n",
       "      <td>-14</td>\n",
       "    </tr>\n",
       "  </tbody>\n",
       "</table>\n",
       "</div>"
      ],
      "text/plain": [
       "    fips2010  fmr_0  fmr_1  fmr_2  fmr_3  fmr_4  state        metro_code  \\\n",
       "0  100199999    588    691    829   1055   1451      1  METRO33860M33860   \n",
       "1  100399999    729    762    879   1280   1471      1  METRO19300M19300   \n",
       "2  100599999    491    494    657    824    929      1  NCNTY01005N01005   \n",
       "\n",
       "                        areaname  county  cousub      countyname  \\\n",
       "0             Montgomery, AL MSA       1   99999  Autauga County   \n",
       "1  Daphne-Fairhope-Foley, AL MSA       3   99999  Baldwin County   \n",
       "2             Barbour County, AL       5   99999  Barbour County   \n",
       "\n",
       "  county_town_name   pop2010  acs_2017_2 state_alpha  fmr_type  metro  \\\n",
       "0   Autauga County   54571.0         822          AL        40      1   \n",
       "1   Baldwin County  182265.0         977          AL        40      1   \n",
       "2   Barbour County   27457.0         671          AL        40      0   \n",
       "\n",
       "   fmr_pct_chg  fmr_dollar_chg  \n",
       "0     0.008516               7  \n",
       "1    -0.100307             -98  \n",
       "2    -0.020864             -14  "
      ]
     },
     "execution_count": 1,
     "metadata": {},
     "output_type": "execute_result"
    }
   ],
   "source": [
    "import pandas as pd\n",
    "import seaborn as sns\n",
    "import matplotlib.pyplot as plt\n",
    "df= pd.read_csv(\"D:\\Cursos\\Data_Science_Python\\data_sets\\FY18_4050_FMRs.csv\")\n",
    "df.head(3)"
   ]
  },
  {
   "attachments": {},
   "cell_type": "markdown",
   "metadata": {},
   "source": [
    "* Create a `for` loop to show the difference between the `bright` and `colorblind` palette.\n",
    "* Set the palette using the `set_palette()` function.\n",
    "* Use a `displot` of the `fmr_3` column."
   ]
  },
  {
   "cell_type": "code",
   "execution_count": 2,
   "metadata": {},
   "outputs": [
    {
     "data": {
      "image/png": "[encoded data removed]",
      "text/plain": [
       "<Figure size 500x500 with 1 Axes>"
      ]
     },
     "metadata": {},
     "output_type": "display_data"
    },
    {
     "data": {
      "text/plain": [
       "<Figure size 640x480 with 0 Axes>"
      ]
     },
     "metadata": {},
     "output_type": "display_data"
    },
    {
     "data": {
      "image/png": "[encoded data removed]",
      "text/plain": [
       "<Figure size 500x500 with 1 Axes>"
      ]
     },
     "metadata": {},
     "output_type": "display_data"
    },
    {
     "data": {
      "text/plain": [
       "<Figure size 640x480 with 0 Axes>"
      ]
     },
     "metadata": {},
     "output_type": "display_data"
    }
   ],
   "source": [
    "# Loop through differences between bright and colorblind palettes\n",
    "for p in ['bright', 'colorblind']:\n",
    "    sns.set_palette(p)\n",
    "    sns.displot(df['fmr_3'])\n",
    "    plt.show()\n",
    "    \n",
    "    # Clear the plots    \n",
    "    plt.clf()"
   ]
  }
 ],
 "metadata": {
  "kernelspec": {
   "display_name": "Python 3",
   "language": "python",
   "name": "python3"
  },
  "language_info": {
   "codemirror_mode": {
    "name": "ipython",
    "version": 3
   },
   "file_extension": ".py",
   "mimetype": "text/x-python",
   "name": "python",
   "nbconvert_exporter": "python",
   "pygments_lexer": "ipython3",
   "version": "3.9.9"
  },
  "orig_nbformat": 4
 },
 "nbformat": 4,
 "nbformat_minor": 2
}

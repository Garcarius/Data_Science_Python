{
 "cells": [
  {
   "attachments": {},
   "cell_type": "markdown",
   "metadata": {},
   "source": [
    "# Comparing a histogram and displot\n",
    "The `pandas` library supports simple plotting of data, which is very convenient when data is already likely to be in a `pandas` DataFrame.\n",
    "\n",
    "Seaborn generally does more statistical analysis on data and can provide more sophisticated insight into the data. In this exercise, we will compare a `pandas` histogram vs the `seaborn` displot."
   ]
  },
  {
   "cell_type": "code",
   "execution_count": 1,
   "metadata": {},
   "outputs": [
    {
     "data": {
      "text/html": [
       "<div>\n",
       "<style scoped>\n",
       "    .dataframe tbody tr th:only-of-type {\n",
       "        vertical-align: middle;\n",
       "    }\n",
       "\n",
       "    .dataframe tbody tr th {\n",
       "        vertical-align: top;\n",
       "    }\n",
       "\n",
       "    .dataframe thead th {\n",
       "        text-align: right;\n",
       "    }\n",
       "</style>\n",
       "<table border=\"1\" class=\"dataframe\">\n",
       "  <thead>\n",
       "    <tr style=\"text-align: right;\">\n",
       "      <th></th>\n",
       "      <th>Unnamed: 0</th>\n",
       "      <th>School Name</th>\n",
       "      <th>City</th>\n",
       "      <th>State</th>\n",
       "      <th>District Name</th>\n",
       "      <th>Model Selected</th>\n",
       "      <th>Award_Amount</th>\n",
       "      <th>Region</th>\n",
       "    </tr>\n",
       "  </thead>\n",
       "  <tbody>\n",
       "    <tr>\n",
       "      <th>0</th>\n",
       "      <td>0</td>\n",
       "      <td>HOGARTH KINGEEKUK MEMORIAL SCHOOL</td>\n",
       "      <td>SAVOONGA</td>\n",
       "      <td>AK</td>\n",
       "      <td>BERING STRAIT SCHOOL DISTRICT</td>\n",
       "      <td>Transformation</td>\n",
       "      <td>471014</td>\n",
       "      <td>West</td>\n",
       "    </tr>\n",
       "    <tr>\n",
       "      <th>1</th>\n",
       "      <td>1</td>\n",
       "      <td>AKIACHAK SCHOOL</td>\n",
       "      <td>AKIACHAK</td>\n",
       "      <td>AK</td>\n",
       "      <td>YUPIIT SCHOOL DISTRICT</td>\n",
       "      <td>Transformation</td>\n",
       "      <td>520579</td>\n",
       "      <td>West</td>\n",
       "    </tr>\n",
       "    <tr>\n",
       "      <th>2</th>\n",
       "      <td>2</td>\n",
       "      <td>GAMBELL SCHOOL</td>\n",
       "      <td>GAMBELL</td>\n",
       "      <td>AK</td>\n",
       "      <td>BERING STRAIT SCHOOL DISTRICT</td>\n",
       "      <td>Transformation</td>\n",
       "      <td>449592</td>\n",
       "      <td>West</td>\n",
       "    </tr>\n",
       "    <tr>\n",
       "      <th>3</th>\n",
       "      <td>3</td>\n",
       "      <td>BURCHELL HIGH SCHOOL</td>\n",
       "      <td>WASILLA</td>\n",
       "      <td>AK</td>\n",
       "      <td>MATANUSKA-SUSITNA BOROUGH SCHOOL DISTRICT</td>\n",
       "      <td>Transformation</td>\n",
       "      <td>641184</td>\n",
       "      <td>West</td>\n",
       "    </tr>\n",
       "    <tr>\n",
       "      <th>4</th>\n",
       "      <td>4</td>\n",
       "      <td>AKIAK SCHOOL</td>\n",
       "      <td>AKIAK</td>\n",
       "      <td>AK</td>\n",
       "      <td>YUPIIT SCHOOL DISTRICT</td>\n",
       "      <td>Transformation</td>\n",
       "      <td>399686</td>\n",
       "      <td>West</td>\n",
       "    </tr>\n",
       "    <tr>\n",
       "      <th>...</th>\n",
       "      <td>...</td>\n",
       "      <td>...</td>\n",
       "      <td>...</td>\n",
       "      <td>...</td>\n",
       "      <td>...</td>\n",
       "      <td>...</td>\n",
       "      <td>...</td>\n",
       "      <td>...</td>\n",
       "    </tr>\n",
       "    <tr>\n",
       "      <th>752</th>\n",
       "      <td>826</td>\n",
       "      <td>MOUNT HOPE HIGH SCHOOL</td>\n",
       "      <td>MOUNT HOPE</td>\n",
       "      <td>WV</td>\n",
       "      <td>FAYETTE COUNTY SCHOOLS</td>\n",
       "      <td>Transformation</td>\n",
       "      <td>342189</td>\n",
       "      <td>South</td>\n",
       "    </tr>\n",
       "    <tr>\n",
       "      <th>753</th>\n",
       "      <td>827</td>\n",
       "      <td>GEARY ELEMENTARY SCHOOL</td>\n",
       "      <td>LEFT HAND</td>\n",
       "      <td>WV</td>\n",
       "      <td>ROANE COUNTY SCHOOLS</td>\n",
       "      <td>Transformation</td>\n",
       "      <td>260000</td>\n",
       "      <td>South</td>\n",
       "    </tr>\n",
       "    <tr>\n",
       "      <th>754</th>\n",
       "      <td>828</td>\n",
       "      <td>TRIUMPH HIGH SCHOOL</td>\n",
       "      <td>CHEYENNE</td>\n",
       "      <td>WY</td>\n",
       "      <td>LARAMIE COUNTY SCHOOL DISTRICT #1</td>\n",
       "      <td>Transformation</td>\n",
       "      <td>297300</td>\n",
       "      <td>West</td>\n",
       "    </tr>\n",
       "    <tr>\n",
       "      <th>755</th>\n",
       "      <td>829</td>\n",
       "      <td>HEM JUNIOR/SENIOR HIGH SCHOOL</td>\n",
       "      <td>HANNA</td>\n",
       "      <td>WY</td>\n",
       "      <td>CARBON COUNTY SCHOOL DISTRICT #2</td>\n",
       "      <td>Transformation</td>\n",
       "      <td>274000</td>\n",
       "      <td>West</td>\n",
       "    </tr>\n",
       "    <tr>\n",
       "      <th>756</th>\n",
       "      <td>830</td>\n",
       "      <td>ROOSEVELT HIGH SCHOOL</td>\n",
       "      <td>CASPER</td>\n",
       "      <td>WY</td>\n",
       "      <td>NATRONA COUNTY SCHOOL DISTRICT #1</td>\n",
       "      <td>Transformation</td>\n",
       "      <td>431382</td>\n",
       "      <td>West</td>\n",
       "    </tr>\n",
       "  </tbody>\n",
       "</table>\n",
       "<p>757 rows × 8 columns</p>\n",
       "</div>"
      ],
      "text/plain": [
       "     Unnamed: 0                        School Name        City State  \\\n",
       "0             0  HOGARTH KINGEEKUK MEMORIAL SCHOOL    SAVOONGA    AK   \n",
       "1             1                    AKIACHAK SCHOOL    AKIACHAK    AK   \n",
       "2             2                     GAMBELL SCHOOL     GAMBELL    AK   \n",
       "3             3               BURCHELL HIGH SCHOOL     WASILLA    AK   \n",
       "4             4                       AKIAK SCHOOL       AKIAK    AK   \n",
       "..          ...                                ...         ...   ...   \n",
       "752         826             MOUNT HOPE HIGH SCHOOL  MOUNT HOPE    WV   \n",
       "753         827            GEARY ELEMENTARY SCHOOL   LEFT HAND    WV   \n",
       "754         828                TRIUMPH HIGH SCHOOL    CHEYENNE    WY   \n",
       "755         829      HEM JUNIOR/SENIOR HIGH SCHOOL       HANNA    WY   \n",
       "756         830              ROOSEVELT HIGH SCHOOL      CASPER    WY   \n",
       "\n",
       "                                 District Name  Model Selected  Award_Amount  \\\n",
       "0                BERING STRAIT SCHOOL DISTRICT  Transformation        471014   \n",
       "1                       YUPIIT SCHOOL DISTRICT  Transformation        520579   \n",
       "2                BERING STRAIT SCHOOL DISTRICT  Transformation        449592   \n",
       "3    MATANUSKA-SUSITNA BOROUGH SCHOOL DISTRICT  Transformation        641184   \n",
       "4                       YUPIIT SCHOOL DISTRICT  Transformation        399686   \n",
       "..                                         ...             ...           ...   \n",
       "752                     FAYETTE COUNTY SCHOOLS  Transformation        342189   \n",
       "753                       ROANE COUNTY SCHOOLS  Transformation        260000   \n",
       "754          LARAMIE COUNTY SCHOOL DISTRICT #1  Transformation        297300   \n",
       "755           CARBON COUNTY SCHOOL DISTRICT #2  Transformation        274000   \n",
       "756          NATRONA COUNTY SCHOOL DISTRICT #1  Transformation        431382   \n",
       "\n",
       "    Region  \n",
       "0     West  \n",
       "1     West  \n",
       "2     West  \n",
       "3     West  \n",
       "4     West  \n",
       "..     ...  \n",
       "752  South  \n",
       "753  South  \n",
       "754   West  \n",
       "755   West  \n",
       "756   West  \n",
       "\n",
       "[757 rows x 8 columns]"
      ]
     },
     "execution_count": 1,
     "metadata": {},
     "output_type": "execute_result"
    }
   ],
   "source": [
    "# import all modules\n",
    "import pandas as pd\n",
    "import seaborn as sns\n",
    "import matplotlib.pyplot as plt\n",
    "\n",
    "path='D:/Cursos/Data_Science_Python/data_sets/'\n",
    "grant_file = path + 'schoolimprovement2010grants.csv'\n",
    "\n",
    "# Read in the DataFrame\n",
    "df = pd.read_csv(grant_file)\n",
    "df"
   ]
  },
  {
   "attachments": {},
   "cell_type": "markdown",
   "metadata": {},
   "source": [
    "* Use the pandas' `plot.hist()` function to plot a histogram of the `Award_Amount` column."
   ]
  },
  {
   "cell_type": "code",
   "execution_count": 2,
   "metadata": {},
   "outputs": [
    {
     "data": {
      "image/png": "[encoded data removed]",
      "text/plain": [
       "<Figure size 640x480 with 1 Axes>"
      ]
     },
     "metadata": {},
     "output_type": "display_data"
    },
    {
     "data": {
      "text/plain": [
       "<Figure size 640x480 with 0 Axes>"
      ]
     },
     "metadata": {},
     "output_type": "display_data"
    }
   ],
   "source": [
    "# Display pandas histogram\n",
    "df['Award_Amount'].plot.hist()\n",
    "plt.show()\n",
    "\n",
    "# Clear out the pandas histogram\n",
    "plt.clf()"
   ]
  },
  {
   "attachments": {},
   "cell_type": "markdown",
   "metadata": {},
   "source": [
    "* Use Seaborn's `displot()` function to plot a distribution plot of the same column."
   ]
  },
  {
   "cell_type": "code",
   "execution_count": 3,
   "metadata": {},
   "outputs": [
    {
     "data": {
      "image/png": "[encoded data removed]",
      "text/plain": [
       "<Figure size 500x500 with 1 Axes>"
      ]
     },
     "metadata": {},
     "output_type": "display_data"
    },
    {
     "data": {
      "text/plain": [
       "<Figure size 640x480 with 0 Axes>"
      ]
     },
     "metadata": {},
     "output_type": "display_data"
    }
   ],
   "source": [
    "# Display a Seaborn displot\n",
    "sns.displot(df['Award_Amount'])\n",
    "plt.show()\n",
    "\n",
    "# Clear the displot\n",
    "plt.clf()"
   ]
  }
 ],
 "metadata": {
  "kernelspec": {
   "display_name": "Python 3",
   "language": "python",
   "name": "python3"
  },
  "language_info": {
   "codemirror_mode": {
    "name": "ipython",
    "version": 3
   },
   "file_extension": ".py",
   "mimetype": "text/x-python",
   "name": "python",
   "nbconvert_exporter": "python",
   "pygments_lexer": "ipython3",
   "version": "3.9.9"
  },
  "orig_nbformat": 4
 },
 "nbformat": 4,
 "nbformat_minor": 2
}

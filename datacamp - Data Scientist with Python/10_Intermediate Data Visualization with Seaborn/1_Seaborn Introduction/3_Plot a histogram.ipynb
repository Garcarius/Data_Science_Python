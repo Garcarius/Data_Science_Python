{
 "cells": [
  {
   "attachments": {},
   "cell_type": "markdown",
   "metadata": {},
   "source": [
    "# Plot a histogram\n",
    "The `displot()` function will return a histogram by default. `The displot()` can also create a KDE or rug plot which are useful ways to look at the data. Seaborn can also combine these plots so you can perform more meaningful analysis.\n",
    "\n",
    "### Instructions\n",
    "* Create a `displot` for the data.\n",
    "* Explicitly pass in the number 20 for the number of bins in the histogram.\n",
    "* Display the plot using `plt.show()`."
   ]
  },
  {
   "cell_type": "code",
   "execution_count": 1,
   "metadata": {},
   "outputs": [
    {
     "data": {
      "text/html": [
       "<div>\n",
       "<style scoped>\n",
       "    .dataframe tbody tr th:only-of-type {\n",
       "        vertical-align: middle;\n",
       "    }\n",
       "\n",
       "    .dataframe tbody tr th {\n",
       "        vertical-align: top;\n",
       "    }\n",
       "\n",
       "    .dataframe thead th {\n",
       "        text-align: right;\n",
       "    }\n",
       "</style>\n",
       "<table border=\"1\" class=\"dataframe\">\n",
       "  <thead>\n",
       "    <tr style=\"text-align: right;\">\n",
       "      <th></th>\n",
       "      <th>Unnamed: 0</th>\n",
       "      <th>School Name</th>\n",
       "      <th>City</th>\n",
       "      <th>State</th>\n",
       "      <th>District Name</th>\n",
       "      <th>Model Selected</th>\n",
       "      <th>Award_Amount</th>\n",
       "      <th>Region</th>\n",
       "    </tr>\n",
       "  </thead>\n",
       "  <tbody>\n",
       "    <tr>\n",
       "      <th>0</th>\n",
       "      <td>0</td>\n",
       "      <td>HOGARTH KINGEEKUK MEMORIAL SCHOOL</td>\n",
       "      <td>SAVOONGA</td>\n",
       "      <td>AK</td>\n",
       "      <td>BERING STRAIT SCHOOL DISTRICT</td>\n",
       "      <td>Transformation</td>\n",
       "      <td>471014</td>\n",
       "      <td>West</td>\n",
       "    </tr>\n",
       "    <tr>\n",
       "      <th>1</th>\n",
       "      <td>1</td>\n",
       "      <td>AKIACHAK SCHOOL</td>\n",
       "      <td>AKIACHAK</td>\n",
       "      <td>AK</td>\n",
       "      <td>YUPIIT SCHOOL DISTRICT</td>\n",
       "      <td>Transformation</td>\n",
       "      <td>520579</td>\n",
       "      <td>West</td>\n",
       "    </tr>\n",
       "    <tr>\n",
       "      <th>2</th>\n",
       "      <td>2</td>\n",
       "      <td>GAMBELL SCHOOL</td>\n",
       "      <td>GAMBELL</td>\n",
       "      <td>AK</td>\n",
       "      <td>BERING STRAIT SCHOOL DISTRICT</td>\n",
       "      <td>Transformation</td>\n",
       "      <td>449592</td>\n",
       "      <td>West</td>\n",
       "    </tr>\n",
       "  </tbody>\n",
       "</table>\n",
       "</div>"
      ],
      "text/plain": [
       "   Unnamed: 0                        School Name      City State  \\\n",
       "0           0  HOGARTH KINGEEKUK MEMORIAL SCHOOL  SAVOONGA    AK   \n",
       "1           1                    AKIACHAK SCHOOL  AKIACHAK    AK   \n",
       "2           2                     GAMBELL SCHOOL   GAMBELL    AK   \n",
       "\n",
       "                   District Name  Model Selected  Award_Amount Region  \n",
       "0  BERING STRAIT SCHOOL DISTRICT  Transformation        471014   West  \n",
       "1         YUPIIT SCHOOL DISTRICT  Transformation        520579   West  \n",
       "2  BERING STRAIT SCHOOL DISTRICT  Transformation        449592   West  "
      ]
     },
     "execution_count": 1,
     "metadata": {},
     "output_type": "execute_result"
    }
   ],
   "source": [
    "# import all modules\n",
    "import pandas as pd\n",
    "import seaborn as sns\n",
    "import matplotlib.pyplot as plt\n",
    "\n",
    "path='D:/Cursos/Data_Science_Python/data_sets/'\n",
    "grant_file = path + 'schoolimprovement2010grants.csv'\n",
    "\n",
    "# Read in the DataFrame\n",
    "df = pd.read_csv(grant_file)\n",
    "df.head(3)"
   ]
  },
  {
   "cell_type": "code",
   "execution_count": 2,
   "metadata": {},
   "outputs": [
    {
     "data": {
      "image/png": "[encoded data removed]",
      "text/plain": [
       "<Figure size 500x500 with 1 Axes>"
      ]
     },
     "metadata": {},
     "output_type": "display_data"
    }
   ],
   "source": [
    "# Create a displot\n",
    "sns.displot(df['Award_Amount'],\n",
    "             bins=20)\n",
    "\n",
    "# Display the plot\n",
    "plt.show()"
   ]
  }
 ],
 "metadata": {
  "kernelspec": {
   "display_name": "Python 3",
   "language": "python",
   "name": "python3"
  },
  "language_info": {
   "codemirror_mode": {
    "name": "ipython",
    "version": 3
   },
   "file_extension": ".py",
   "mimetype": "text/x-python",
   "name": "python",
   "nbconvert_exporter": "python",
   "pygments_lexer": "ipython3",
   "version": "3.9.9"
  },
  "orig_nbformat": 4
 },
 "nbformat": 4,
 "nbformat_minor": 2
}

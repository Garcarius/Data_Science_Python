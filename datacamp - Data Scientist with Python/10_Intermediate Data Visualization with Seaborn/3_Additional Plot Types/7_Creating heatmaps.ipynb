{
 "cells": [
  {
   "cell_type": "markdown",
   "metadata": {},
   "source": [
    "# Creating heatmaps\n",
    "A heatmap is a common matrix plot that can be used to graphically summarize the relationship between two variables. For this exercise, we will start by looking at guests of the Daily Show from 1999 - 2015 and see how the occupations of the guests have changed over time.\n",
    "\n",
    "The data includes the date of each guest appearance as well as their occupation. For the first exercise, we need to get the data into the right format for Seaborn's **`heatmap`** function to correctly plot the data. All of the data has already been read into the df variable."
   ]
  },
  {
   "cell_type": "code",
   "execution_count": 2,
   "metadata": {},
   "outputs": [
    {
     "data": {
      "text/html": [
       "<div>\n",
       "<style scoped>\n",
       "    .dataframe tbody tr th:only-of-type {\n",
       "        vertical-align: middle;\n",
       "    }\n",
       "\n",
       "    .dataframe tbody tr th {\n",
       "        vertical-align: top;\n",
       "    }\n",
       "\n",
       "    .dataframe thead th {\n",
       "        text-align: right;\n",
       "    }\n",
       "</style>\n",
       "<table border=\"1\" class=\"dataframe\">\n",
       "  <thead>\n",
       "    <tr style=\"text-align: right;\">\n",
       "      <th></th>\n",
       "      <th>YEAR</th>\n",
       "      <th>GoogleKnowlege_Occupation</th>\n",
       "      <th>Show</th>\n",
       "      <th>Group</th>\n",
       "      <th>Raw_Guest_List</th>\n",
       "    </tr>\n",
       "  </thead>\n",
       "  <tbody>\n",
       "    <tr>\n",
       "      <th>0</th>\n",
       "      <td>1999</td>\n",
       "      <td>actor</td>\n",
       "      <td>1/11/99</td>\n",
       "      <td>Acting</td>\n",
       "      <td>Michael J. Fox</td>\n",
       "    </tr>\n",
       "    <tr>\n",
       "      <th>1</th>\n",
       "      <td>1999</td>\n",
       "      <td>Comedian</td>\n",
       "      <td>1/12/99</td>\n",
       "      <td>Comedy</td>\n",
       "      <td>Sandra Bernhard</td>\n",
       "    </tr>\n",
       "    <tr>\n",
       "      <th>2</th>\n",
       "      <td>1999</td>\n",
       "      <td>television actress</td>\n",
       "      <td>1/13/99</td>\n",
       "      <td>Acting</td>\n",
       "      <td>Tracey Ullman</td>\n",
       "    </tr>\n",
       "  </tbody>\n",
       "</table>\n",
       "</div>"
      ],
      "text/plain": [
       "   YEAR GoogleKnowlege_Occupation     Show   Group   Raw_Guest_List\n",
       "0  1999                     actor  1/11/99  Acting   Michael J. Fox\n",
       "1  1999                  Comedian  1/12/99  Comedy  Sandra Bernhard\n",
       "2  1999        television actress  1/13/99  Acting    Tracey Ullman"
      ]
     },
     "execution_count": 2,
     "metadata": {},
     "output_type": "execute_result"
    }
   ],
   "source": [
    "import pandas as pd\n",
    "import seaborn as sns\n",
    "import matplotlib.pyplot as plt\n",
    "file=r\"D:\\Cursos\\Data_Science_Python\\data_sets\\daily_show_guests_cleaned.csv\"\n",
    "df= pd.read_csv(file)\n",
    "df.head(3)"
   ]
  },
  {
   "cell_type": "markdown",
   "metadata": {},
   "source": [
    "* Use pandas' crosstab() function to build a table of visits by Group and Year.\n",
    "* Print the pd_crosstab DataFrame.\n",
    "* Plot the data using Seaborn's heatmap()"
   ]
  },
  {
   "cell_type": "code",
   "execution_count": null,
   "metadata": {},
   "outputs": [],
   "source": [
    "# Create a crosstab table of the data\n",
    "pd_crosstab = pd.crosstab(df[\"Group\"], df[\"YEAR\"])\n",
    "print(pd_crosstab)\n",
    "\n",
    "# Plot a heatmap of the table\n",
    "sns.heatmap(pd_crosstab)\n",
    "\n",
    "# Rotate tick marks for visibility\n",
    "plt.yticks(rotation=0)\n",
    "plt.xticks(rotation=90)\n",
    "\n",
    "plt.show()"
   ]
  }
 ],
 "metadata": {
  "kernelspec": {
   "display_name": "Python 3",
   "language": "python",
   "name": "python3"
  },
  "language_info": {
   "codemirror_mode": {
    "name": "ipython",
    "version": 3
   },
   "file_extension": ".py",
   "mimetype": "text/x-python",
   "name": "python",
   "nbconvert_exporter": "python",
   "pygments_lexer": "ipython3",
   "version": "3.9.9"
  },
  "orig_nbformat": 4
 },
 "nbformat": 4,
 "nbformat_minor": 2
}

{
 "cells": [
  {
   "cell_type": "markdown",
   "metadata": {},
   "source": [
    "# Building a FacetGrid\n",
    "Seaborn's `FacetGrid` is the foundation for building data-aware grids. A data-aware grid allows you to create a series of small plots that can be useful for understanding complex data relationships.\n",
    "\n",
    "For these exercises, we will continue to look at the College Scorecard Data from the US Department of Education. This rich dataset has many interesting data elements that we can plot with Seaborn.\n",
    "\n",
    "When building a `FacetGrid`, there are two steps:\n",
    "* Create a `FacetGrid` object with columns, rows, or hue.\n",
    "* Map individual plots to the grid."
   ]
  },
  {
   "cell_type": "code",
   "execution_count": 1,
   "metadata": {},
   "outputs": [
    {
     "data": {
      "text/html": [
       "<div>\n",
       "<style scoped>\n",
       "    .dataframe tbody tr th:only-of-type {\n",
       "        vertical-align: middle;\n",
       "    }\n",
       "\n",
       "    .dataframe tbody tr th {\n",
       "        vertical-align: top;\n",
       "    }\n",
       "\n",
       "    .dataframe thead th {\n",
       "        text-align: right;\n",
       "    }\n",
       "</style>\n",
       "<table border=\"1\" class=\"dataframe\">\n",
       "  <thead>\n",
       "    <tr style=\"text-align: right;\">\n",
       "      <th></th>\n",
       "      <th>INSTNM</th>\n",
       "      <th>OPEID</th>\n",
       "      <th>REGION</th>\n",
       "      <th>SAT_AVG_ALL</th>\n",
       "      <th>PCTPELL</th>\n",
       "      <th>PCTFLOAN</th>\n",
       "      <th>ADM_RATE_ALL</th>\n",
       "      <th>UG</th>\n",
       "      <th>AVGFACSAL</th>\n",
       "      <th>COMPL_RPY_5YR_RT</th>\n",
       "      <th>...</th>\n",
       "      <th>CONTROL</th>\n",
       "      <th>WOMENONLY</th>\n",
       "      <th>MENONLY</th>\n",
       "      <th>LOCALE</th>\n",
       "      <th>Tuition</th>\n",
       "      <th>Degree_Type</th>\n",
       "      <th>Ownership</th>\n",
       "      <th>Regions</th>\n",
       "      <th>Locales</th>\n",
       "      <th>Locale_Short</th>\n",
       "    </tr>\n",
       "  </thead>\n",
       "  <tbody>\n",
       "    <tr>\n",
       "      <th>0</th>\n",
       "      <td>Alabama A &amp; M University</td>\n",
       "      <td>100200</td>\n",
       "      <td>5</td>\n",
       "      <td>850.0</td>\n",
       "      <td>0.7249</td>\n",
       "      <td>0.8159</td>\n",
       "      <td>0.653841</td>\n",
       "      <td>4380.0</td>\n",
       "      <td>7017.0</td>\n",
       "      <td>0.477631579</td>\n",
       "      <td>...</td>\n",
       "      <td>1</td>\n",
       "      <td>0.0</td>\n",
       "      <td>0.0</td>\n",
       "      <td>12.0</td>\n",
       "      <td>13435.0</td>\n",
       "      <td>Graduate</td>\n",
       "      <td>Public</td>\n",
       "      <td>South East</td>\n",
       "      <td>City: Midsize</td>\n",
       "      <td>City</td>\n",
       "    </tr>\n",
       "    <tr>\n",
       "      <th>1</th>\n",
       "      <td>University of Alabama at Birmingham</td>\n",
       "      <td>105200</td>\n",
       "      <td>5</td>\n",
       "      <td>1147.0</td>\n",
       "      <td>0.3505</td>\n",
       "      <td>0.5218</td>\n",
       "      <td>0.604275</td>\n",
       "      <td>10331.0</td>\n",
       "      <td>10221.0</td>\n",
       "      <td>0.673230442</td>\n",
       "      <td>...</td>\n",
       "      <td>1</td>\n",
       "      <td>0.0</td>\n",
       "      <td>0.0</td>\n",
       "      <td>12.0</td>\n",
       "      <td>16023.0</td>\n",
       "      <td>Graduate</td>\n",
       "      <td>Public</td>\n",
       "      <td>South East</td>\n",
       "      <td>City: Midsize</td>\n",
       "      <td>City</td>\n",
       "    </tr>\n",
       "    <tr>\n",
       "      <th>2</th>\n",
       "      <td>Amridge University</td>\n",
       "      <td>2503400</td>\n",
       "      <td>5</td>\n",
       "      <td>NaN</td>\n",
       "      <td>0.7455</td>\n",
       "      <td>0.8781</td>\n",
       "      <td>NaN</td>\n",
       "      <td>98.0</td>\n",
       "      <td>3217.0</td>\n",
       "      <td>0.636363636</td>\n",
       "      <td>...</td>\n",
       "      <td>2</td>\n",
       "      <td>0.0</td>\n",
       "      <td>0.0</td>\n",
       "      <td>12.0</td>\n",
       "      <td>8862.0</td>\n",
       "      <td>Graduate</td>\n",
       "      <td>Private non-profit</td>\n",
       "      <td>South East</td>\n",
       "      <td>City: Midsize</td>\n",
       "      <td>City</td>\n",
       "    </tr>\n",
       "  </tbody>\n",
       "</table>\n",
       "<p>3 rows × 24 columns</p>\n",
       "</div>"
      ],
      "text/plain": [
       "                                INSTNM    OPEID  REGION  SAT_AVG_ALL  PCTPELL  \\\n",
       "0             Alabama A & M University   100200       5        850.0   0.7249   \n",
       "1  University of Alabama at Birmingham   105200       5       1147.0   0.3505   \n",
       "2                   Amridge University  2503400       5          NaN   0.7455   \n",
       "\n",
       "   PCTFLOAN  ADM_RATE_ALL       UG  AVGFACSAL COMPL_RPY_5YR_RT  ... CONTROL  \\\n",
       "0    0.8159      0.653841   4380.0     7017.0      0.477631579  ...       1   \n",
       "1    0.5218      0.604275  10331.0    10221.0      0.673230442  ...       1   \n",
       "2    0.8781           NaN     98.0     3217.0      0.636363636  ...       2   \n",
       "\n",
       "  WOMENONLY  MENONLY  LOCALE  Tuition  Degree_Type           Ownership  \\\n",
       "0       0.0      0.0    12.0  13435.0     Graduate              Public   \n",
       "1       0.0      0.0    12.0  16023.0     Graduate              Public   \n",
       "2       0.0      0.0    12.0   8862.0     Graduate  Private non-profit   \n",
       "\n",
       "      Regions        Locales Locale_Short  \n",
       "0  South East  City: Midsize         City  \n",
       "1  South East  City: Midsize         City  \n",
       "2  South East  City: Midsize         City  \n",
       "\n",
       "[3 rows x 24 columns]"
      ]
     },
     "execution_count": 1,
     "metadata": {},
     "output_type": "execute_result"
    }
   ],
   "source": [
    "import pandas as pd\n",
    "import seaborn as sns\n",
    "import matplotlib.pyplot as plt\n",
    "file=r\"D:\\Cursos\\Data_Science_Python\\data_sets\\college_datav3.csv\"\n",
    "df= pd.read_csv(file)\n",
    "df.head(3)"
   ]
  },
  {
   "cell_type": "markdown",
   "metadata": {},
   "source": [
    "* Create a `FacetGrid` that shows a point plot of the Average SAT scores `SAT_AVG_ALL`.\n",
    "* Use `row_order` to control the display order of the degree types."
   ]
  },
  {
   "cell_type": "code",
   "execution_count": 2,
   "metadata": {},
   "outputs": [
    {
     "name": "stderr",
     "output_type": "stream",
     "text": [
      "c:\\Users\\Garca\\AppData\\Local\\Programs\\Python\\Python39\\lib\\site-packages\\seaborn\\axisgrid.py:712: UserWarning: Using the pointplot function without specifying `order` is likely to produce an incorrect plot.\n",
      "  warnings.warn(warning)\n",
      "c:\\Users\\Garca\\AppData\\Local\\Programs\\Python\\Python39\\lib\\site-packages\\seaborn\\algorithms.py:98: RuntimeWarning: Mean of empty slice\n",
      "  boot_dist.append(f(*sample, **func_kwargs))\n"
     ]
    },
    {
     "data": {
      "image/png": "[encoded data removed]",
      "text/plain": [
       "<Figure size 300x1200 with 4 Axes>"
      ]
     },
     "metadata": {},
     "output_type": "display_data"
    },
    {
     "data": {
      "text/plain": [
       "<Figure size 640x480 with 0 Axes>"
      ]
     },
     "metadata": {},
     "output_type": "display_data"
    }
   ],
   "source": [
    "# Create FacetGrid with Degree_Type and specify the order of the rows using row_order\n",
    "g2 = sns.FacetGrid(df, \n",
    "             row=\"Degree_Type\",\n",
    "             row_order=['Graduate', 'Bachelors', 'Associates', 'Certificate'])\n",
    "\n",
    "# Map a pointplot of SAT_AVG_ALL onto the grid\n",
    "g2.map(sns.pointplot, 'SAT_AVG_ALL')\n",
    "\n",
    "# Show the plot\n",
    "plt.show()\n",
    "plt.clf()"
   ]
  }
 ],
 "metadata": {
  "kernelspec": {
   "display_name": "Python 3",
   "language": "python",
   "name": "python3"
  },
  "language_info": {
   "codemirror_mode": {
    "name": "ipython",
    "version": 3
   },
   "file_extension": ".py",
   "mimetype": "text/x-python",
   "name": "python",
   "nbconvert_exporter": "python",
   "pygments_lexer": "ipython3",
   "version": "3.9.9"
  },
  "orig_nbformat": 4
 },
 "nbformat": 4,
 "nbformat_minor": 2
}

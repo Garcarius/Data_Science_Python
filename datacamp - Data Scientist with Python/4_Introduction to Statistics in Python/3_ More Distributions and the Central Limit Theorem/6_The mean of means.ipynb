{
 "cells": [
  {
   "attachments": {},
   "cell_type": "markdown",
   "metadata": {},
   "source": [
    "# The mean of means\n",
    "You want to know what the average number of users (`num_users`) is per deal, but you want to know this number for the entire company so that you can see if Amir's deals have more or fewer users than the company's average deal. The problem is that over the past year, the company has worked on more than ten thousand deals, so it's not realistic to compile all the data. Instead, you'll estimate the mean by taking several random samples of deals, since this is much easier than collecting data from everyone in the company.\n",
    "\n",
    "`amir_deals` is available and the user data for all the company's deals is available in `all_deals`. Both `pandas` as `pd` and `numpy` as `np` are loaded."
   ]
  },
  {
   "cell_type": "code",
   "execution_count": 3,
   "metadata": {},
   "outputs": [
    {
     "name": "stdout",
     "output_type": "stream",
     "text": [
      "amir_deals \n",
      "      product   client status   amount  num_users\n",
      "1  Product F  Current    Won  7389.52         19\n",
      "2  Product C      New    Won  4493.01         43\n",
      "3  Product B      New    Won  5738.09         87\n",
      "4  Product I  Current    Won  2591.24         83\n",
      "5  Product E  Current    Won  6622.97         17 \n",
      "\n",
      "all_deals \n",
      "             product  num_users\n",
      "Unnamed: 0                    \n",
      "1              3544         19\n",
      "2              5073         43\n",
      "3              6149         87\n",
      "4              7863         83\n",
      "5                14         17 \n",
      "\n"
     ]
    }
   ],
   "source": [
    "import pandas as pd\n",
    "import numpy as np\n",
    "import matplotlib.pyplot as plt\n",
    "path=r'/media/documentos/Cursos/Data Science/Python/Data_Science_Python/data_sets/'\n",
    "\n",
    "amir_deals=pd.read_csv(path+'amir_deals.csv',index_col=0)\n",
    "print('amir_deals \\n',amir_deals.head(),'\\n')\n",
    "\n",
    "all_deals=pd.read_csv(path+'all_deals.csv',index_col=0)\n",
    "print('all_deals \\n',all_deals.head(),'\\n')"
   ]
  },
  {
   "attachments": {},
   "cell_type": "markdown",
   "metadata": {},
   "source": [
    "* Set the random seed to `321`.\n",
    "* Take 30 samples (with replacement) of size 20 from `all_deals['num_users']` and take the mean of each sample. Store the sample means in `sample_means`.\n",
    "* Print the mean of `sample_means`.\n",
    "* Print the mean of the num_users column of `amir_deals`."
   ]
  },
  {
   "cell_type": "code",
   "execution_count": 6,
   "metadata": {},
   "outputs": [
    {
     "name": "stdout",
     "output_type": "stream",
     "text": [
      "38.31333333333332\n",
      "37.651685393258425\n"
     ]
    }
   ],
   "source": [
    "# Set seed to 321\n",
    "np.random.seed(321)\n",
    "\n",
    "sample_means = []\n",
    "# Loop 30 times to take 30 means\n",
    "for i in range(30):\n",
    "  # Take sample of size 20 from num_users col of all_deals with replacement\n",
    "  cur_sample = all_deals['num_users'].sample(20,replace=True)\n",
    "  # Take mean of cur_sample\n",
    "  cur_mean = cur_sample.mean()\n",
    "  # Append cur_mean to sample_means\n",
    "  sample_means.append(cur_mean)\n",
    "\n",
    "# Print mean of sample_means\n",
    "print(np.mean(sample_means))\n",
    "\n",
    "# Print mean of num_users in amir_deals\n",
    "print(amir_deals['num_users'].mean())"
   ]
  }
 ],
 "metadata": {
  "kernelspec": {
   "display_name": "Python 3",
   "language": "python",
   "name": "python3"
  },
  "language_info": {
   "codemirror_mode": {
    "name": "ipython",
    "version": 3
   },
   "file_extension": ".py",
   "mimetype": "text/x-python",
   "name": "python",
   "nbconvert_exporter": "python",
   "pygments_lexer": "ipython3",
   "version": "3.9.2 (default, Feb 28 2021, 17:03:44) \n[GCC 10.2.1 20210110]"
  },
  "orig_nbformat": 4,
  "vscode": {
   "interpreter": {
    "hash": "31f2aee4e71d21fbe5cf8b01ff0e069b9275f58929596ceb00d14d90e3e16cd6"
   }
  }
 },
 "nbformat": 4,
 "nbformat_minor": 2
}

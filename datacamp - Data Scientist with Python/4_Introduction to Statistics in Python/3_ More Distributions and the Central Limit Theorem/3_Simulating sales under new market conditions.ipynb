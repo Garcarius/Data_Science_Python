{
 "cells": [
  {
   "attachments": {},
   "cell_type": "markdown",
   "metadata": {},
   "source": [
    "# Simulating sales under new market conditions\n",
    "The company's financial analyst is predicting that next quarter, the worth of each sale will increase by 20% and the volatility, or standard deviation, of each sale's worth will increase by 30%. To see what Amir's sales might look like next quarter under these new market conditions, you'll simulate new sales amounts using the normal distribution and store these in the `new_sales` DataFrame, which has already been created for you.\n",
    "\n",
    "In addition, `norm` from scipy.stats, pandas as pd, and matplotlib.pyplot as plt are loaded."
   ]
  },
  {
   "cell_type": "code",
   "execution_count": 1,
   "metadata": {},
   "outputs": [
    {
     "name": "stdout",
     "output_type": "stream",
     "text": [
      "amir_deals \n",
      "    Unnamed: 0    product   client status   amount  num_users\n",
      "0           1  Product F  Current    Won  7389.52         19\n",
      "1           2  Product C      New    Won  4493.01         43\n",
      "2           3  Product B      New    Won  5738.09         87\n",
      "3           4  Product I  Current    Won  2591.24         83\n",
      "4           5  Product E  Current    Won  6622.97         17 \n",
      "\n"
     ]
    }
   ],
   "source": [
    "import pandas as pd\n",
    "from scipy.stats import norm\n",
    "import matplotlib.pyplot as plt\n",
    "path=r'/media/documentos/Cursos/Data Science/Python/Data_Science_Python/data_sets/'\n",
    "\n",
    "amir_deals=pd.read_csv(path+'amir_deals.csv')\n",
    "print('amir_deals \\n',amir_deals.head(),'\\n')"
   ]
  },
  {
   "attachments": {},
   "cell_type": "markdown",
   "metadata": {},
   "source": [
    "* Currently, Amir's average sale amount is $5000. Calculate what his new average amount will be if it increases by 20% and store this in `new_mean`.\n",
    "* Amir's current standard deviation is $2000. Calculate what his new standard deviation will be if it increases by 30% and store this in `new_sd`.\n",
    "* Create a variable called `new_sales`, which contains 36 simulated amounts from a normal distribution with a mean of `new_mean` and a standard deviation of `new_sd`.\n",
    "* Plot the distribution of the `new_sales` amounts using a histogram and show the plot."
   ]
  },
  {
   "cell_type": "code",
   "execution_count": 6,
   "metadata": {},
   "outputs": [
    {
     "name": "stdout",
     "output_type": "stream",
     "text": [
      "[ 2143.13947921  5170.66244759  4514.56645599  6052.23122332\n",
      "  7479.96971354  6158.73047709  7238.61314152  3458.29756735\n",
      "  3722.31378771  7623.69257108  3590.29839039  5882.85870799\n",
      "  7631.20747041  3599.83496753  4587.31543813  7430.69162585\n",
      "  9609.72645732  3277.59325153  6578.27262166  1291.797804\n",
      "  6710.06831656  4337.14908658  8088.06534479 12979.14461002\n",
      "  3654.55050504  8820.22397624  7197.0020914   1620.11711481\n",
      "  5431.97326954  8217.37802468  3892.60753808  3829.65825852\n",
      "  4344.78539814  6581.73928958  2320.05479044  8064.56506462]\n"
     ]
    },
    {
     "data": {
      "image/png": "[encoded data removed]",
      "text/plain": [
       "<Figure size 640x480 with 1 Axes>"
      ]
     },
     "metadata": {},
     "output_type": "display_data"
    }
   ],
   "source": [
    "# Calculate new average amount\n",
    "new_mean = 5000 * 1.2\n",
    "\n",
    "# Calculate new standard deviation\n",
    "new_sd = 2000 * 1.3\n",
    "\n",
    "# Simulate 36 new sales\n",
    "new_sales = norm.rvs(new_mean, new_sd,size=36)\n",
    "print(new_sales)\n",
    "# Create histogram and show\n",
    "plt.hist(new_sd)\n",
    "plt.show()"
   ]
  }
 ],
 "metadata": {
  "kernelspec": {
   "display_name": "Python 3",
   "language": "python",
   "name": "python3"
  },
  "language_info": {
   "codemirror_mode": {
    "name": "ipython",
    "version": 3
   },
   "file_extension": ".py",
   "mimetype": "text/x-python",
   "name": "python",
   "nbconvert_exporter": "python",
   "pygments_lexer": "ipython3",
   "version": "3.9.2 (default, Feb 28 2021, 17:03:44) \n[GCC 10.2.1 20210110]"
  },
  "orig_nbformat": 4,
  "vscode": {
   "interpreter": {
    "hash": "31f2aee4e71d21fbe5cf8b01ff0e069b9275f58929596ceb00d14d90e3e16cd6"
   }
  }
 },
 "nbformat": 4,
 "nbformat_minor": 2
}

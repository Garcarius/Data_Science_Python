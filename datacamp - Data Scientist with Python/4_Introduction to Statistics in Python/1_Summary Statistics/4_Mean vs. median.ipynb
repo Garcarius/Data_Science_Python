{
 "cells": [
  {
   "attachments": {},
   "cell_type": "markdown",
   "metadata": {},
   "source": [
    "# Mean vs. median\n",
    "In the video, you learned that the mean is the sum of all the data points divided by the total number of data points, and the median is the middle value of the dataset where 50% of the data is less than the median, and 50% of the data is greater than the median. In this exercise, you'll compare these two measures of center.\n",
    "\n",
    "`pandas` is loaded as `pd`, `numpy` is loaded as `np`, and `food_consumption` is available."
   ]
  },
  {
   "cell_type": "code",
   "execution_count": 1,
   "metadata": {},
   "outputs": [
    {
     "name": "stdout",
     "output_type": "stream",
     "text": [
      "food_consumption \n",
      "    Unnamed: 0    country food_category  consumption  co2_emission\n",
      "0           1  Argentina          pork        10.51         37.20\n",
      "1           2  Argentina       poultry        38.66         41.53\n",
      "2           3  Argentina          beef        55.48       1712.00\n",
      "3           4  Argentina     lamb_goat         1.56         54.63\n",
      "4           5  Argentina          fish         4.36          6.96 \n",
      "\n"
     ]
    }
   ],
   "source": [
    "import pandas as pd\n",
    "path=r'/media/documentos/Cursos/Data Science/Python/Data_Science_Python/data_sets/'\n",
    "\n",
    "food_consumption=pd.read_csv(path+'food_consumption.csv')\n",
    "print('food_consumption \\n',food_consumption.head(),'\\n')"
   ]
  },
  {
   "attachments": {},
   "cell_type": "markdown",
   "metadata": {},
   "source": [
    "* Import `matplotlib.pyplot` with the alias `plt`.\n",
    "* Subset `food_consumption` to get the rows where `food_category` is `'rice'`.\n",
    "* Create a histogram of `co2_emission` for rice and show the plot."
   ]
  },
  {
   "cell_type": "code",
   "execution_count": 3,
   "metadata": {},
   "outputs": [
    {
     "data": {
      "image/png": "[encoded data removed]",
      "text/plain": [
       "<Figure size 640x480 with 1 Axes>"
      ]
     },
     "metadata": {},
     "output_type": "display_data"
    }
   ],
   "source": [
    "# Import matplotlib.pyplot with alias plt\n",
    "import matplotlib.pyplot as plt\n",
    "\n",
    "# Subset for food_category equals rice\n",
    "rice_consumption = food_consumption [food_consumption['food_category']=='rice']\n",
    "\n",
    "# Histogram of co2_emission for rice and show plot\n",
    "plt.hist(rice_consumption['co2_emission'])\n",
    "plt.show()"
   ]
  },
  {
   "attachments": {},
   "cell_type": "markdown",
   "metadata": {},
   "source": [
    "### Question\n",
    "Take a look at the histogram you just created of different countries' CO2 emissions for rice. Which of the following terms best describes the shape of the data?\n",
    "\n",
    "Right-skewed"
   ]
  },
  {
   "attachments": {},
   "cell_type": "markdown",
   "metadata": {},
   "source": [
    "- Use `.agg()` to calculate the mean and median of `co2_emission` for rice."
   ]
  },
  {
   "cell_type": "code",
   "execution_count": 4,
   "metadata": {},
   "outputs": [
    {
     "name": "stdout",
     "output_type": "stream",
     "text": [
      "mean      37.591615\n",
      "median    15.200000\n",
      "Name: co2_emission, dtype: float64\n"
     ]
    }
   ],
   "source": [
    "# Subset for food_category equals rice\n",
    "rice_consumption = food_consumption[food_consumption['food_category'] == 'rice']\n",
    "\n",
    "# Calculate mean and median of co2_emission with .agg()\n",
    "print(rice_consumption['co2_emission'].agg(['mean','median']))"
   ]
  },
  {
   "attachments": {},
   "cell_type": "markdown",
   "metadata": {},
   "source": [
    "### Question\n",
    "Given the skew of this data, what measure of central tendency best summarizes the kilograms of CO2 emissions per person per year for rice?\n",
    "\n",
    "* median"
   ]
  }
 ],
 "metadata": {
  "kernelspec": {
   "display_name": "Python 3",
   "language": "python",
   "name": "python3"
  },
  "language_info": {
   "codemirror_mode": {
    "name": "ipython",
    "version": 3
   },
   "file_extension": ".py",
   "mimetype": "text/x-python",
   "name": "python",
   "nbconvert_exporter": "python",
   "pygments_lexer": "ipython3",
   "version": "3.9.2 (default, Feb 28 2021, 17:03:44) \n[GCC 10.2.1 20210110]"
  },
  "orig_nbformat": 4,
  "vscode": {
   "interpreter": {
    "hash": "31f2aee4e71d21fbe5cf8b01ff0e069b9275f58929596ceb00d14d90e3e16cd6"
   }
  }
 },
 "nbformat": 4,
 "nbformat_minor": 2
}

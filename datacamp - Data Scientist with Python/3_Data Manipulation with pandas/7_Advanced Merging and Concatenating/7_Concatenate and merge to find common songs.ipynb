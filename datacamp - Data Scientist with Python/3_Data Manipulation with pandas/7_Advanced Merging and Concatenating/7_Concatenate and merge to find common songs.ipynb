{
 "cells": [
  {
   "attachments": {},
   "cell_type": "markdown",
   "metadata": {},
   "source": [
    "# Concatenate and merge to find common songs\n",
    "The senior leadership of the streaming service is requesting your help again. You are given the historical files for a popular playlist in the classical music genre in 2018 and 2019. Additionally, you are given a similar set of files for the most popular pop music genre playlist on the streaming service in 2018 and 2019. Your goal is to concatenate the respective files to make a large classical playlist table and overall popular music table. Then filter the classical music table using a semi join to return only the most popular classical music tracks.\n",
    "\n",
    "The tables `classic_18`, `classic_19`, and `pop_18`, `pop_19` have been loaded for you. Additionally, pandas has been loaded as pd."
   ]
  },
  {
   "cell_type": "code",
   "execution_count": 1,
   "metadata": {},
   "outputs": [
    {
     "name": "stdout",
     "output_type": "stream",
     "text": [
      "classic_18 \n",
      "       pid   tid\n",
      "8527   12  3483\n",
      "8586   12  3416\n",
      "8533   12  3489\n",
      "8523   12  3479\n",
      "8558   12  3440 \n",
      "\n",
      "classic_19 \n",
      "       pid   tid\n",
      "8526   12  3482\n",
      "8552   12  3434\n",
      "8566   12  3448\n",
      "8543   12  3499\n",
      "8595   12  3425 \n",
      "\n",
      "pop_18 \n",
      "       pid   tid\n",
      "3150    1  3063\n",
      "315     1  2712\n",
      "2178    1  2641\n",
      "2772    1  2271\n",
      "430     1   919 \n",
      "\n",
      "pop_19 \n",
      "       pid   tid\n",
      "2639    1  2115\n",
      "1867    1   297\n",
      "910     1   272\n",
      "3107    1  3023\n",
      "723     1  1193 \n",
      "\n"
     ]
    }
   ],
   "source": [
    "import pandas as pd\n",
    "import matplotlib.pyplot as plt\n",
    "path=r'/media/documentos/Cursos/Data Science/Python/Data_Science_Python/data_sets/'\n",
    "\n",
    "classic_18=pd.read_pickle(path+'classic_18.p')\n",
    "print('classic_18 \\n',classic_18.head(),'\\n')\n",
    "\n",
    "classic_19=pd.read_pickle(path+'classic_19.p')\n",
    "print('classic_19 \\n',classic_19.head(),'\\n')\n",
    "\n",
    "pop_18=pd.read_pickle(path+'pop_18.p')\n",
    "print('pop_18 \\n',pop_18.head(),'\\n')\n",
    "\n",
    "pop_19=pd.read_pickle(path+'pop_19.p')\n",
    "print('pop_19 \\n',pop_19.head(),'\\n')"
   ]
  },
  {
   "attachments": {},
   "cell_type": "markdown",
   "metadata": {},
   "source": [
    "- Concatenate the `classic_18` and `classic_19` tables vertically where the index goes from 0 to n-1, and save to `classic_18_19`.\n",
    "- Concatenate the `pop_18` and `pop_19` tables vertically where the index goes from 0 to n-1, and save to `pop_18_19`."
   ]
  },
  {
   "cell_type": "code",
   "execution_count": 2,
   "metadata": {},
   "outputs": [],
   "source": [
    "# Concatenate the classic tables vertically\n",
    "classic_18_19 = pd.concat([classic_18,classic_19],ignore_index=True)\n",
    "\n",
    "# Concatenate the pop tables vertically\n",
    "pop_18_19 = pd.concat([pop_18,pop_19],ignore_index=True)"
   ]
  },
  {
   "attachments": {},
   "cell_type": "markdown",
   "metadata": {},
   "source": [
    "- With `classic_18_19` on the left, merge it with `pop_18_19` on `tid` using an inner join.\n",
    "- Use `.isin()` to filter `classic_18_19` where `tid` is in `classic_pop`."
   ]
  },
  {
   "cell_type": "code",
   "execution_count": 5,
   "metadata": {},
   "outputs": [
    {
     "name": "stdout",
     "output_type": "stream",
     "text": [
      "    pid   tid\n",
      "3    12  3479\n",
      "10   12  3439\n",
      "21   12  3445\n",
      "23   12  3449\n",
      "48   12  3437\n",
      "50   12  3435\n"
     ]
    }
   ],
   "source": [
    "# Concatenate the classic tables vertically\n",
    "classic_18_19 = pd.concat([classic_18, classic_19], ignore_index=True)\n",
    "\n",
    "# Concatenate the pop tables vertically\n",
    "pop_18_19 = pd.concat([pop_18, pop_19], ignore_index=True)\n",
    "\n",
    "# Merge classic_18_19 with pop_18_19\n",
    "classic_pop = classic_18_19.merge(pop_18_19,on='tid',how='inner')\n",
    "\n",
    "# Using .isin(), filter classic_18_19 rows where tid is in classic_pop\n",
    "popular_classic = classic_18_19[classic_18_19['tid'].isin(classic_pop['tid'])]\n",
    "\n",
    "# Print popular chart\n",
    "print(popular_classic)"
   ]
  }
 ],
 "metadata": {
  "kernelspec": {
   "display_name": "Python 3",
   "language": "python",
   "name": "python3"
  },
  "language_info": {
   "codemirror_mode": {
    "name": "ipython",
    "version": 3
   },
   "file_extension": ".py",
   "mimetype": "text/x-python",
   "name": "python",
   "nbconvert_exporter": "python",
   "pygments_lexer": "ipython3",
   "version": "3.9.2 (default, Feb 28 2021, 17:03:44) \n[GCC 10.2.1 20210110]"
  },
  "orig_nbformat": 4,
  "vscode": {
   "interpreter": {
    "hash": "31f2aee4e71d21fbe5cf8b01ff0e069b9275f58929596ceb00d14d90e3e16cd6"
   }
  }
 },
 "nbformat": 4,
 "nbformat_minor": 2
}

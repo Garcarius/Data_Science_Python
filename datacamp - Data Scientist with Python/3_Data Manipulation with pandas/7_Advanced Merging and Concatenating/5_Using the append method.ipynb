{
 "cells": [
  {
   "attachments": {},
   "cell_type": "markdown",
   "metadata": {},
   "source": [
    "# Using the append method\n",
    "The *.concat()* method is excellent when you need a lot of control over how concatenation is performed. However, if you do not need as much control, then the *.append()* method is another option. You'll try this method out by appending the track lists together from different Metallica albums. From there, you will merge it with the *invoice_items* table to determine which track sold the most.\n",
    "\n",
    "The tables *tracks_master*, *tracks_ride*, *tracks_st*, and *invoice_items* have loaded for you."
   ]
  },
  {
   "cell_type": "code",
   "execution_count": 2,
   "metadata": {},
   "outputs": [
    {
     "name": "stdout",
     "output_type": "stream",
     "text": [
      "tracks_master \n",
      "     tid               name  aid  mtid  gid             composer  u_price\n",
      "0  1853            Battery  152     1    3  J.Hetfield/L.Ulrich     0.99\n",
      "1  1854  Master Of Puppets  152     1    3            K.Hammett     0.99\n",
      "4  1857  Disposable Heroes  152     1    3  J.Hetfield/L.Ulrich     0.99 \n",
      "\n",
      "tracks_ride \n",
      "     tid                     name  aid  mtid  gid  u_price\n",
      "0  1874     Fight Fire With Fire  154     1    3     0.99\n",
      "1  1875       Ride The Lightning  154     1    3     0.99\n",
      "2  1876  For Whom The Bell Tolls  154     1    3     0.99\n",
      "3  1877            Fade To Black  154     1    3     0.99\n",
      "4  1878        Trapped Under Ice  154     1    3     0.99 \n",
      "\n",
      "tracks_st \n",
      "     tid                  name  aid  mtid  gid  u_price\n",
      "0  1882               Frantic  155     1    3     0.99\n",
      "1  1883             St. Anger  155     1    3     0.99\n",
      "2  1884  Some Kind Of Monster  155     1    3     0.99\n",
      "3  1885          Dirty Window  155     1    3     0.99\n",
      "4  1886         Invisible Kid  155     1    3     0.99 \n",
      "\n",
      "invoice_items \n",
      "    ilid  iid  tid  uprice  quantity\n",
      "0     1    1    2    0.99         1\n",
      "1     2    1    4    0.99         1\n",
      "2     3    2    6    0.99         1\n",
      "3     4    2    8    0.99         1\n",
      "4     5    2   10    0.99         1 \n",
      "\n"
     ]
    }
   ],
   "source": [
    "import pandas as pd\n",
    "import matplotlib.pyplot as plt\n",
    "path=r'/media/documentos/Cursos/Data Science/Python/Data_Science_Python/data_sets/'\n",
    "\n",
    "tracks_master=pd.read_pickle(path+'tracks_master.p')\n",
    "print('tracks_master \\n',tracks_master.head(),'\\n')\n",
    "\n",
    "tracks_ride=pd.read_pickle(path+'tracks_ride.p')\n",
    "print('tracks_ride \\n',tracks_ride.head(),'\\n')\n",
    "\n",
    "tracks_st=pd.read_pickle(path+'tracks_st.p')\n",
    "print('tracks_st \\n',tracks_st.head(),'\\n')\n",
    "\n",
    "invoice_items=pd.read_pickle(path+'invoice_items.p')\n",
    "print('invoice_items \\n',invoice_items.head(),'\\n')"
   ]
  },
  {
   "attachments": {},
   "cell_type": "markdown",
   "metadata": {},
   "source": [
    "- Use the *.append()* method to combine (**in this order**) *tracks_ride*, *tracks_master*, and *tracks_st* together vertically, and save to *metallica_tracks*.\n",
    "- Merge *metallica_tracks* and *invoice_items* on *tid* with an inner join, and save to *tracks_invoices*.\n",
    "- For each tid and name in tracks_invoices, sum the quantity sold column, and save as tracks_sold.\n",
    "- Sort *tracks_sold* in descending order by the *quantity* column, and print the table."
   ]
  },
  {
   "cell_type": "code",
   "execution_count": 3,
   "metadata": {},
   "outputs": [
    {
     "name": "stdout",
     "output_type": "stream",
     "text": [
      "                              quantity\n",
      "tid  name                             \n",
      "1853 Battery                         2\n",
      "1876 For Whom The Bell Tolls         2\n",
      "1854 Master Of Puppets               1\n",
      "1857 Disposable Heroes               1\n",
      "1875 Ride The Lightning              1\n",
      "1877 Fade To Black                   1\n",
      "1882 Frantic                         1\n",
      "1884 Some Kind Of Monster            1\n",
      "1886 Invisible Kid                   1\n"
     ]
    },
    {
     "name": "stderr",
     "output_type": "stream",
     "text": [
      "/tmp/ipykernel_3879/3597316725.py:2: FutureWarning: The frame.append method is deprecated and will be removed from pandas in a future version. Use pandas.concat instead.\n",
      "  metallica_tracks = tracks_ride.append([tracks_master,tracks_st], sort=False)\n"
     ]
    }
   ],
   "source": [
    "# Use the .append() method to combine the tracks tables\n",
    "metallica_tracks = tracks_ride.append([tracks_master,tracks_st], sort=False)\n",
    "\n",
    "# Merge metallica_tracks and invoice_items\n",
    "tracks_invoices = metallica_tracks.merge(invoice_items,on='tid',how='inner')\n",
    "\n",
    "# For each tid and name sum the quantity sold\n",
    "tracks_sold = tracks_invoices.groupby(['tid','name']).agg({'quantity':'sum'})\n",
    "\n",
    "# Sort in decending order by quantity and print the results\n",
    "print(tracks_sold.sort_values('quantity',ascending=False))"
   ]
  }
 ],
 "metadata": {
  "kernelspec": {
   "display_name": "Python 3",
   "language": "python",
   "name": "python3"
  },
  "language_info": {
   "codemirror_mode": {
    "name": "ipython",
    "version": 3
   },
   "file_extension": ".py",
   "mimetype": "text/x-python",
   "name": "python",
   "nbconvert_exporter": "python",
   "pygments_lexer": "ipython3",
   "version": "3.9.2"
  },
  "orig_nbformat": 4,
  "vscode": {
   "interpreter": {
    "hash": "31f2aee4e71d21fbe5cf8b01ff0e069b9275f58929596ceb00d14d90e3e16cd6"
   }
  }
 },
 "nbformat": 4,
 "nbformat_minor": 2
}

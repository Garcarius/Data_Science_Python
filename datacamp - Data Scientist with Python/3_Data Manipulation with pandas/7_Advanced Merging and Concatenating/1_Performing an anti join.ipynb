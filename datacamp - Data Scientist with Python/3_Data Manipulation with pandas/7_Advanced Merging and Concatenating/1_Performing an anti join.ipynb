{
 "cells": [
  {
   "attachments": {},
   "cell_type": "markdown",
   "metadata": {},
   "source": [
    "# Performing an anti join\n",
    "In our music streaming company dataset, each customer is assigned an employee representative to assist them. In this exercise, filter the employee table by a table of top customers, returning only those employees who are **not** assigned to a customer. The results should resemble the results of an anti join. The company's leadership will assign these employees additional training so that they can work with high valued customers.\n",
    "\n",
    "The *top_cust* and *employees* tables have been provided for you."
   ]
  },
  {
   "cell_type": "code",
   "execution_count": 1,
   "metadata": {},
   "outputs": [
    {
     "name": "stdout",
     "output_type": "stream",
     "text": [
      "sequels \n",
      "    srid    lname     fname                title  hire_date  \\\n",
      "0     1    Adams    Andrew      General Manager 2002-08-14   \n",
      "1     2  Edwards     Nancy        Sales Manager 2002-05-01   \n",
      "2     3  Peacock      Jane  Sales Support Agent 2002-04-01   \n",
      "3     4     Park  Margaret  Sales Support Agent 2003-05-03   \n",
      "4     5  Johnson     Steve  Sales Support Agent 2003-10-17   \n",
      "\n",
      "                      email  \n",
      "0    andrew@chinookcorp.com  \n",
      "1     nancy@chinookcorp.com  \n",
      "2      jane@chinookcorp.com  \n",
      "3  margaret@chinookcorp.com  \n",
      "4     steve@chinookcorp.com   \n",
      "\n",
      "sequels \n",
      "    cid  srid      fname        lname               phone                 fax  \\\n",
      "0    1     3       Luís    Gonçalves  +55 (12) 3923-5555  +55 (12) 3923-5566   \n",
      "1    2     5     Leonie       Köhler    +49 0711 2842222                 NaN   \n",
      "2    3     3   François     Tremblay   +1 (514) 721-4711                 NaN   \n",
      "3    4     4      Bjørn       Hansen     +47 22 44 22 22                 NaN   \n",
      "4    5     4  František  Wichterlová    +420 2 4172 5555    +420 2 4172 5555   \n",
      "\n",
      "                      email  \n",
      "0      luisg@embraer.com.br  \n",
      "1     leonekohler@surfeu.de  \n",
      "2       ftremblay@gmail.com  \n",
      "3     bjorn.hansen@yahoo.no  \n",
      "4  frantisekw@jetbrains.com   \n",
      "\n"
     ]
    }
   ],
   "source": [
    "import pandas as pd\n",
    "import matplotlib.pyplot as plt\n",
    "path=r'/media/documentos/Cursos/Data Science/Python/Data_Science_Python/data_sets/'\n",
    "\n",
    "employees=pd.read_pickle(path+'employees.p')\n",
    "print('sequels \\n',employees.head(),'\\n')\n",
    "\n",
    "top_cust=pd.read_pickle(path+'top_cust.p')\n",
    "print('sequels \\n',top_cust.head(),'\\n')\n",
    "\n",
    "#financials=pd.read_pickle(path+'financials.p').set_index('id')\n",
    "#print('financials \\n',financials.head(),'\\n')"
   ]
  },
  {
   "attachments": {},
   "cell_type": "markdown",
   "metadata": {},
   "source": [
    "Merge employees and top_cust with a left join, setting indicator argument to True. Save the result to empl_cust."
   ]
  },
  {
   "cell_type": "code",
   "execution_count": null,
   "metadata": {},
   "outputs": [],
   "source": [
    "# Merge employees and top_cust\n",
    "empl_cust = employees.merge(top_cust, on='srid', \n",
    "                                 how='left', indicator=True)\n",
    "\n",
    "# Select the srid column where _merge is left_only\n",
    "srid_list = empl_cust.loc[empl_cust['_merge'] == 'left_only', 'srid']\n",
    "\n",
    "# Get employees not working with top customers\n",
    "print(employees[employees['srid'].isin(srid_list)])"
   ]
  },
  {
   "attachments": {},
   "cell_type": "markdown",
   "metadata": {},
   "source": [
    "   srid     lname    fname            title  hire_date                    email\n",
    "0     1     Adams   Andrew  General Manager 2002-08-14   andrew@chinookcorp.com\n",
    "1     2   Edwards    Nancy    Sales Manager 2002-05-01    nancy@chinookcorp.com\n",
    "5     6  Mitchell  Michael       IT Manager 2003-10-17  michael@chinookcorp.com\n",
    "6     7      King   Robert         IT Staff 2004-01-02   robert@chinookcorp.com\n",
    "7     8  Callahan    Laura         IT Staff 2004-03-04    laura@chinookcorp.com"
   ]
  }
 ],
 "metadata": {
  "kernelspec": {
   "display_name": "Python 3",
   "language": "python",
   "name": "python3"
  },
  "language_info": {
   "codemirror_mode": {
    "name": "ipython",
    "version": 3
   },
   "file_extension": ".py",
   "mimetype": "text/x-python",
   "name": "python",
   "nbconvert_exporter": "python",
   "pygments_lexer": "ipython3",
   "version": "3.9.2 (default, Feb 28 2021, 17:03:44) \n[GCC 10.2.1 20210110]"
  },
  "orig_nbformat": 4,
  "vscode": {
   "interpreter": {
    "hash": "31f2aee4e71d21fbe5cf8b01ff0e069b9275f58929596ceb00d14d90e3e16cd6"
   }
  }
 },
 "nbformat": 4,
 "nbformat_minor": 2
}

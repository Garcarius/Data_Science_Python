{
 "cells": [
  {
   "attachments": {},
   "cell_type": "markdown",
   "metadata": {},
   "source": [
    "# Validating a merge\n",
    "You have been given 2 tables, `artists`, and `albums`. Use the IPython shell to merge them using `artists.merge(albums, on='artid').head()`. Adjust the validate argument to answer which statement is **False**."
   ]
  },
  {
   "cell_type": "code",
   "execution_count": 1,
   "metadata": {},
   "outputs": [
    {
     "name": "stdout",
     "output_type": "stream",
     "text": [
      "artists \n",
      "    artid               name\n",
      "0      1              AC/DC\n",
      "1      2             Accept\n",
      "2      3          Aerosmith\n",
      "3      4  Alanis Morissette\n",
      "4      5    Alice In Chains \n",
      "\n",
      "albums \n",
      "    aid                                  title  artid\n",
      "0    1  For Those About To Rock We Salute You      1\n",
      "1    2                      Balls to the Wall      2\n",
      "2    3                      Restless and Wild      2\n",
      "3    4                      Let There Be Rock      1\n",
      "4    5                               Big Ones      3 \n",
      "\n"
     ]
    }
   ],
   "source": [
    "import pandas as pd\n",
    "import matplotlib.pyplot as plt\n",
    "path=r'/media/documentos/Cursos/Data Science/Python/Data_Science_Python/data_sets/'\n",
    "\n",
    "artists=pd.read_pickle(path+'artists.p')\n",
    "print('artists \\n',artists.head(),'\\n')\n",
    "\n",
    "albums=pd.read_pickle(path+'albums.p')\n",
    "print('albums \\n',albums.head(),'\\n')"
   ]
  },
  {
   "cell_type": "code",
   "execution_count": 4,
   "metadata": {},
   "outputs": [
    {
     "ename": "MergeError",
     "evalue": "Merge keys are not unique in right dataset; not a many-to-one merge",
     "output_type": "error",
     "traceback": [
      "\u001b[0;31m---------------------------------------------------------------------------\u001b[0m",
      "\u001b[0;31mMergeError\u001b[0m                                Traceback (most recent call last)",
      "\u001b[1;32m/media/documentos/Cursos/Data Science/Python/Data_Science_Python/datacamp - Data Scientist with Python/3_Data Manipulation with pandas/7_Advanced Merging and Concatenating/6_Validating a merge.ipynb Celda 3\u001b[0m in \u001b[0;36m<cell line: 1>\u001b[0;34m()\u001b[0m\n\u001b[0;32m----> <a href='vscode-notebook-cell:/media/documentos/Cursos/Data%20Science/Python/Data_Science_Python/datacamp%20-%20Data%20Scientist%20with%20Python/3_Data%20Manipulation%20with%20pandas/7_Advanced%20Merging%20and%20Concatenating/6_Validating%20a%20merge.ipynb#W2sZmlsZQ%3D%3D?line=0'>1</a>\u001b[0m artists\u001b[39m.\u001b[39;49mmerge(albums, on\u001b[39m=\u001b[39;49m\u001b[39m'\u001b[39;49m\u001b[39martid\u001b[39;49m\u001b[39m'\u001b[39;49m,validate\u001b[39m=\u001b[39;49m\u001b[39m'\u001b[39;49m\u001b[39mmany_to_one\u001b[39;49m\u001b[39m'\u001b[39;49m)\u001b[39m.\u001b[39mhead()\n",
      "File \u001b[0;32m/usr/local/lib/python3.9/dist-packages/pandas/core/frame.py:10083\u001b[0m, in \u001b[0;36mDataFrame.merge\u001b[0;34m(self, right, how, on, left_on, right_on, left_index, right_index, sort, suffixes, copy, indicator, validate)\u001b[0m\n\u001b[1;32m  10064\u001b[0m \u001b[39m@Substitution\u001b[39m(\u001b[39m\"\u001b[39m\u001b[39m\"\u001b[39m)\n\u001b[1;32m  10065\u001b[0m \u001b[39m@Appender\u001b[39m(_merge_doc, indents\u001b[39m=\u001b[39m\u001b[39m2\u001b[39m)\n\u001b[1;32m  10066\u001b[0m \u001b[39mdef\u001b[39;00m \u001b[39mmerge\u001b[39m(\n\u001b[0;32m   (...)\u001b[0m\n\u001b[1;32m  10079\u001b[0m     validate: \u001b[39mstr\u001b[39m \u001b[39m|\u001b[39m \u001b[39mNone\u001b[39;00m \u001b[39m=\u001b[39m \u001b[39mNone\u001b[39;00m,\n\u001b[1;32m  10080\u001b[0m ) \u001b[39m-\u001b[39m\u001b[39m>\u001b[39m DataFrame:\n\u001b[1;32m  10081\u001b[0m     \u001b[39mfrom\u001b[39;00m \u001b[39mpandas\u001b[39;00m\u001b[39m.\u001b[39;00m\u001b[39mcore\u001b[39;00m\u001b[39m.\u001b[39;00m\u001b[39mreshape\u001b[39;00m\u001b[39m.\u001b[39;00m\u001b[39mmerge\u001b[39;00m \u001b[39mimport\u001b[39;00m merge\n\u001b[0;32m> 10083\u001b[0m     \u001b[39mreturn\u001b[39;00m merge(\n\u001b[1;32m  10084\u001b[0m         \u001b[39mself\u001b[39;49m,\n\u001b[1;32m  10085\u001b[0m         right,\n\u001b[1;32m  10086\u001b[0m         how\u001b[39m=\u001b[39;49mhow,\n\u001b[1;32m  10087\u001b[0m         on\u001b[39m=\u001b[39;49mon,\n\u001b[1;32m  10088\u001b[0m         left_on\u001b[39m=\u001b[39;49mleft_on,\n\u001b[1;32m  10089\u001b[0m         right_on\u001b[39m=\u001b[39;49mright_on,\n\u001b[1;32m  10090\u001b[0m         left_index\u001b[39m=\u001b[39;49mleft_index,\n\u001b[1;32m  10091\u001b[0m         right_index\u001b[39m=\u001b[39;49mright_index,\n\u001b[1;32m  10092\u001b[0m         sort\u001b[39m=\u001b[39;49msort,\n\u001b[1;32m  10093\u001b[0m         suffixes\u001b[39m=\u001b[39;49msuffixes,\n\u001b[1;32m  10094\u001b[0m         copy\u001b[39m=\u001b[39;49mcopy,\n\u001b[1;32m  10095\u001b[0m         indicator\u001b[39m=\u001b[39;49mindicator,\n\u001b[1;32m  10096\u001b[0m         validate\u001b[39m=\u001b[39;49mvalidate,\n\u001b[1;32m  10097\u001b[0m     )\n",
      "File \u001b[0;32m/usr/local/lib/python3.9/dist-packages/pandas/core/reshape/merge.py:111\u001b[0m, in \u001b[0;36mmerge\u001b[0;34m(left, right, how, on, left_on, right_on, left_index, right_index, sort, suffixes, copy, indicator, validate)\u001b[0m\n\u001b[1;32m     94\u001b[0m \u001b[39m@Substitution\u001b[39m(\u001b[39m\"\u001b[39m\u001b[39m\\n\u001b[39;00m\u001b[39mleft : DataFrame or named Series\u001b[39m\u001b[39m\"\u001b[39m)\n\u001b[1;32m     95\u001b[0m \u001b[39m@Appender\u001b[39m(_merge_doc, indents\u001b[39m=\u001b[39m\u001b[39m0\u001b[39m)\n\u001b[1;32m     96\u001b[0m \u001b[39mdef\u001b[39;00m \u001b[39mmerge\u001b[39m(\n\u001b[0;32m   (...)\u001b[0m\n\u001b[1;32m    109\u001b[0m     validate: \u001b[39mstr\u001b[39m \u001b[39m|\u001b[39m \u001b[39mNone\u001b[39;00m \u001b[39m=\u001b[39m \u001b[39mNone\u001b[39;00m,\n\u001b[1;32m    110\u001b[0m ) \u001b[39m-\u001b[39m\u001b[39m>\u001b[39m DataFrame:\n\u001b[0;32m--> 111\u001b[0m     op \u001b[39m=\u001b[39m _MergeOperation(\n\u001b[1;32m    112\u001b[0m         left,\n\u001b[1;32m    113\u001b[0m         right,\n\u001b[1;32m    114\u001b[0m         how\u001b[39m=\u001b[39;49mhow,\n\u001b[1;32m    115\u001b[0m         on\u001b[39m=\u001b[39;49mon,\n\u001b[1;32m    116\u001b[0m         left_on\u001b[39m=\u001b[39;49mleft_on,\n\u001b[1;32m    117\u001b[0m         right_on\u001b[39m=\u001b[39;49mright_on,\n\u001b[1;32m    118\u001b[0m         left_index\u001b[39m=\u001b[39;49mleft_index,\n\u001b[1;32m    119\u001b[0m         right_index\u001b[39m=\u001b[39;49mright_index,\n\u001b[1;32m    120\u001b[0m         sort\u001b[39m=\u001b[39;49msort,\n\u001b[1;32m    121\u001b[0m         suffixes\u001b[39m=\u001b[39;49msuffixes,\n\u001b[1;32m    122\u001b[0m         indicator\u001b[39m=\u001b[39;49mindicator,\n\u001b[1;32m    123\u001b[0m         validate\u001b[39m=\u001b[39;49mvalidate,\n\u001b[1;32m    124\u001b[0m     )\n\u001b[1;32m    125\u001b[0m     \u001b[39mreturn\u001b[39;00m op\u001b[39m.\u001b[39mget_result(copy\u001b[39m=\u001b[39mcopy)\n",
      "File \u001b[0;32m/usr/local/lib/python3.9/dist-packages/pandas/core/reshape/merge.py:716\u001b[0m, in \u001b[0;36m_MergeOperation.__init__\u001b[0;34m(self, left, right, how, on, left_on, right_on, axis, left_index, right_index, sort, suffixes, indicator, validate)\u001b[0m\n\u001b[1;32m    712\u001b[0m \u001b[39m# If argument passed to validate,\u001b[39;00m\n\u001b[1;32m    713\u001b[0m \u001b[39m# check if columns specified as unique\u001b[39;00m\n\u001b[1;32m    714\u001b[0m \u001b[39m# are in fact unique.\u001b[39;00m\n\u001b[1;32m    715\u001b[0m \u001b[39mif\u001b[39;00m validate \u001b[39mis\u001b[39;00m \u001b[39mnot\u001b[39;00m \u001b[39mNone\u001b[39;00m:\n\u001b[0;32m--> 716\u001b[0m     \u001b[39mself\u001b[39;49m\u001b[39m.\u001b[39;49m_validate(validate)\n",
      "File \u001b[0;32m/usr/local/lib/python3.9/dist-packages/pandas/core/reshape/merge.py:1534\u001b[0m, in \u001b[0;36m_MergeOperation._validate\u001b[0;34m(self, validate)\u001b[0m\n\u001b[1;32m   1532\u001b[0m \u001b[39melif\u001b[39;00m validate \u001b[39min\u001b[39;00m [\u001b[39m\"\u001b[39m\u001b[39mmany_to_one\u001b[39m\u001b[39m\"\u001b[39m, \u001b[39m\"\u001b[39m\u001b[39mm:1\u001b[39m\u001b[39m\"\u001b[39m]:\n\u001b[1;32m   1533\u001b[0m     \u001b[39mif\u001b[39;00m \u001b[39mnot\u001b[39;00m right_unique:\n\u001b[0;32m-> 1534\u001b[0m         \u001b[39mraise\u001b[39;00m MergeError(\n\u001b[1;32m   1535\u001b[0m             \u001b[39m\"\u001b[39m\u001b[39mMerge keys are not unique in right dataset; \u001b[39m\u001b[39m\"\u001b[39m\n\u001b[1;32m   1536\u001b[0m             \u001b[39m\"\u001b[39m\u001b[39mnot a many-to-one merge\u001b[39m\u001b[39m\"\u001b[39m\n\u001b[1;32m   1537\u001b[0m         )\n\u001b[1;32m   1539\u001b[0m \u001b[39melif\u001b[39;00m validate \u001b[39min\u001b[39;00m [\u001b[39m\"\u001b[39m\u001b[39mmany_to_many\u001b[39m\u001b[39m\"\u001b[39m, \u001b[39m\"\u001b[39m\u001b[39mm:m\u001b[39m\u001b[39m\"\u001b[39m]:\n\u001b[1;32m   1540\u001b[0m     \u001b[39mpass\u001b[39;00m\n",
      "\u001b[0;31mMergeError\u001b[0m: Merge keys are not unique in right dataset; not a many-to-one merge"
     ]
    }
   ],
   "source": [
    "artists.merge(albums, on='artid',validate='many_to_one').head()"
   ]
  }
 ],
 "metadata": {
  "kernelspec": {
   "display_name": "Python 3",
   "language": "python",
   "name": "python3"
  },
  "language_info": {
   "codemirror_mode": {
    "name": "ipython",
    "version": 3
   },
   "file_extension": ".py",
   "mimetype": "text/x-python",
   "name": "python",
   "nbconvert_exporter": "python",
   "pygments_lexer": "ipython3",
   "version": "3.9.2"
  },
  "orig_nbformat": 4,
  "vscode": {
   "interpreter": {
    "hash": "31f2aee4e71d21fbe5cf8b01ff0e069b9275f58929596ceb00d14d90e3e16cd6"
   }
  }
 },
 "nbformat": 4,
 "nbformat_minor": 2
}

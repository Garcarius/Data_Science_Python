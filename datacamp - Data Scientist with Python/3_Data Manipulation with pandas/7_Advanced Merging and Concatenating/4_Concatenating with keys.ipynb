{
 "cells": [
  {
   "attachments": {},
   "cell_type": "markdown",
   "metadata": {},
   "source": [
    "# Concatenating with keys\n",
    "The leadership of the music streaming company has come to you and asked you for assistance in analyzing sales for a recent business quarter. They would like to know which month in the quarter saw the highest average invoice total. You have been given three tables with invoice data named *inv_jul*, *inv_aug*, and *inv_sep*. Concatenate these tables into one to create a graph of the average monthly invoice total."
   ]
  },
  {
   "cell_type": "code",
   "execution_count": 2,
   "metadata": {},
   "outputs": [
    {
     "name": "stdout",
     "output_type": "stream",
     "text": [
      "inv_jul \n",
      "    iid  cid invoice_date  total       bill_ctry\n",
      "0   42   51   2009-07-06   1.98          Sweden\n",
      "1   43   53   2009-07-06   1.98              UK\n",
      "2   44   55   2009-07-07   3.96       Australia\n",
      "3   45   59   2009-07-08   5.94           India\n",
      "4   46    6   2009-07-11   8.91  Czech Republic \n",
      "\n",
      "inv_aug \n",
      "    iid  cid invoice_date  total bill_ctry\n",
      "0   49   30   2009-08-06   1.98    Canada\n",
      "1   50   32   2009-08-06   1.98    Canada\n",
      "2   51   34   2009-08-07   3.96  Portugal\n",
      "3   52   38   2009-08-08   5.94   Germany\n",
      "4   53   44   2009-08-11   8.91   Finland \n",
      "\n",
      "inv_sep \n",
      "    iid  cid invoice_date  total bill_ctry\n",
      "0   56    9   2009-09-06   1.98   Denmark\n",
      "1   57   11   2009-09-06   1.98    Brazil\n",
      "2   58   13   2009-09-07   3.96    Brazil\n",
      "3   59   17   2009-09-08   5.94       USA\n",
      "4   60   23   2009-09-11   8.91       USA \n",
      "\n"
     ]
    }
   ],
   "source": [
    "import pandas as pd\n",
    "import matplotlib.pyplot as plt\n",
    "path=r'/media/documentos/Cursos/Data Science/Python/Data_Science_Python/data_sets/'\n",
    "\n",
    "inv_jul=pd.read_pickle(path+'inv_jul.p')\n",
    "print('inv_jul \\n',inv_jul.head(),'\\n')\n",
    "\n",
    "inv_aug=pd.read_pickle(path+'inv_aug.p')\n",
    "print('inv_aug \\n',inv_aug.head(),'\\n')\n",
    "\n",
    "inv_sep=pd.read_pickle(path+'inv_sep.p')\n",
    "print('inv_sep \\n',inv_sep.head(),'\\n')"
   ]
  },
  {
   "attachments": {},
   "cell_type": "markdown",
   "metadata": {},
   "source": [
    "- Concatenate the three tables together vertically in order with the oldest month first, adding *'7Jul'*, *'8Aug'*, and *'9Sep'* as *keys* for their respective months, and save to variable *avg_inv_by_month*.\n",
    "- Use the *.agg()* method to find the average of the *total* column from the grouped invoices.\n",
    "- Create a bar chart of *avg_inv_by_month*.\n",
    "\n"
   ]
  },
  {
   "cell_type": "code",
   "execution_count": 3,
   "metadata": {},
   "outputs": [
    {
     "data": {
      "image/png": "[encoded data removed]",
      "text/plain": [
       "<Figure size 640x480 with 1 Axes>"
      ]
     },
     "metadata": {},
     "output_type": "display_data"
    }
   ],
   "source": [
    "# Concatenate the tables and add keys\n",
    "inv_jul_thr_sep = pd.concat([inv_jul,inv_aug,inv_sep], \n",
    "                            keys=['7Jul','8Aug','9Sep'])\n",
    "\n",
    "# Group the invoices by the index keys and find avg of the total column\n",
    "avg_inv_by_month = inv_jul_thr_sep.groupby(level=0).agg({'total':'mean'})  #groupby(level=0) refers to index\n",
    "\n",
    "# Bar plot of avg_inv_by_month\n",
    "avg_inv_by_month.plot(kind='bar')\n",
    "plt.show()"
   ]
  }
 ],
 "metadata": {
  "kernelspec": {
   "display_name": "Python 3",
   "language": "python",
   "name": "python3"
  },
  "language_info": {
   "codemirror_mode": {
    "name": "ipython",
    "version": 3
   },
   "file_extension": ".py",
   "mimetype": "text/x-python",
   "name": "python",
   "nbconvert_exporter": "python",
   "pygments_lexer": "ipython3",
   "version": "3.9.2"
  },
  "orig_nbformat": 4,
  "vscode": {
   "interpreter": {
    "hash": "31f2aee4e71d21fbe5cf8b01ff0e069b9275f58929596ceb00d14d90e3e16cd6"
   }
  }
 },
 "nbformat": 4,
 "nbformat_minor": 2
}

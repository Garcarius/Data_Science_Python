{
 "cells": [
  {
   "attachments": {},
   "cell_type": "markdown",
   "metadata": {},
   "source": [
    "# One-to-many merge\n",
    "A business may have one or multiple owners. In this exercise, you will continue to gain experience with one-to-many merges by merging a table of business owners, called **biz_owners**, to the **licenses** table. Recall from the video lesson, with a one-to-many relationship, a row in the left table may be repeated if it is related to multiple rows in the right table. In this lesson, you will explore this further by finding out what is the most common business owner title. (i.e., secretary, CEO, or vice president)\n",
    "\n",
    "The **licenses** and **biz_owners** DataFrames are loaded for you"
   ]
  },
  {
   "cell_type": "code",
   "execution_count": 1,
   "metadata": {},
   "outputs": [
    {
     "name": "stdout",
     "output_type": "stream",
     "text": [
      "  account first_name  last_name      title\n",
      "0      10      PEARL    SHERMAN  PRESIDENT\n",
      "1      10      PEARL    SHERMAN  SECRETARY\n",
      "2   10002     WALTER     MROZEK    PARTNER\n",
      "3   10002     CELINA     BYRDAK    PARTNER\n",
      "4   10005      IRENE  ROSENFELD  PRESIDENT \n",
      "\n",
      "  account ward  aid                   business               address    zip\n",
      "0  307071    3  743       REGGIE'S BAR & GRILL       2105 S STATE ST  60616\n",
      "1      10   10  829                 HONEYBEERS   13200 S HOUSTON AVE  60633\n",
      "2   10002   14  775                CELINA DELI     5089 S ARCHER AVE  60632\n",
      "3   10005   12  NaN  KRAFT FOODS NORTH AMERICA        2005 W 43RD ST  60609\n",
      "4   10044   44  638  NEYBOUR'S TAVERN & GRILLE  3651 N SOUTHPORT AVE  60613 \n",
      "\n"
     ]
    }
   ],
   "source": [
    "import pandas as pd\n",
    "import matplotlib.pyplot as plt\n",
    "path=r'/media/documentos/Cursos/Data Science/Python/Data_Science_Python/data_sets/'\n",
    "biz_owners=pd.read_pickle(path+'business_owners.p')\n",
    "licenses=pd.read_pickle(path+'licenses.p')\n",
    "print(biz_owners.head(),'\\n')\n",
    "print(licenses.head(),'\\n')"
   ]
  },
  {
   "attachments": {},
   "cell_type": "markdown",
   "metadata": {},
   "source": [
    "- Starting with the *licenses* table on the left, merge it to the *biz_owners* table on the column *account*, and save the results to a variable named *licenses_owners*.\n",
    "- Group *licenses_owners* by *title* and count the number of accounts for each title. Save the result as *counted_df*\n",
    "- Sort *counted_df* by the number of **accounts** in **descending order**, and save this as a variable named *sorted_df*.\n",
    "- Use the *.head()* method to print the first few rows of the *sorted_df*."
   ]
  },
  {
   "cell_type": "code",
   "execution_count": 5,
   "metadata": {},
   "outputs": [
    {
     "name": "stdout",
     "output_type": "stream",
     "text": [
      "  account ward  aid              business              address    zip  \\\n",
      "0  307071    3  743  REGGIE'S BAR & GRILL      2105 S STATE ST  60616   \n",
      "1      10   10  829            HONEYBEERS  13200 S HOUSTON AVE  60633   \n",
      "2      10   10  829            HONEYBEERS  13200 S HOUSTON AVE  60633   \n",
      "3   10002   14  775           CELINA DELI    5089 S ARCHER AVE  60632   \n",
      "4   10002   14  775           CELINA DELI    5089 S ARCHER AVE  60632   \n",
      "\n",
      "  first_name last_name      title  \n",
      "0     ROBERT     GLICK     MEMBER  \n",
      "1      PEARL   SHERMAN  PRESIDENT  \n",
      "2      PEARL   SHERMAN  SECRETARY  \n",
      "3     WALTER    MROZEK    PARTNER  \n",
      "4     CELINA    BYRDAK    PARTNER  \n",
      "                    account\n",
      "title                      \n",
      "ASST. SECRETARY         111\n",
      "BENEFICIARY               4\n",
      "CEO                     110\n",
      "DIRECTOR                146\n",
      "EXECUTIVE DIRECTOR       10\n",
      "                 account\n",
      "title                   \n",
      "PRESIDENT           6259\n",
      "SECRETARY           5205\n",
      "SOLE PROPRIETOR     1658\n",
      "OTHER               1200\n",
      "VICE PRESIDENT       970\n"
     ]
    }
   ],
   "source": [
    "# Merge the licenses and biz_owners table on account\n",
    "licenses_owners = licenses.merge(biz_owners,on='account')\n",
    "print(licenses_owners.head())\n",
    "\n",
    "# Group the results by title then count the number of accounts\n",
    "counted_df = licenses_owners.groupby('title').agg({'account':'count'})\n",
    "print(counted_df.head())\n",
    "\n",
    "# Sort the counted_df in desending order\n",
    "sorted_df = counted_df.sort_values('account',ascending=False)\n",
    "\n",
    "# Use .head() method to print the first few rows of sorted_df\n",
    "print(sorted_df.head())"
   ]
  }
 ],
 "metadata": {
  "kernelspec": {
   "display_name": "Python 3",
   "language": "python",
   "name": "python3"
  },
  "language_info": {
   "codemirror_mode": {
    "name": "ipython",
    "version": 3
   },
   "file_extension": ".py",
   "mimetype": "text/x-python",
   "name": "python",
   "nbconvert_exporter": "python",
   "pygments_lexer": "ipython3",
   "version": "3.9.2 (default, Feb 28 2021, 17:03:44) \n[GCC 10.2.1 20210110]"
  },
  "orig_nbformat": 4,
  "vscode": {
   "interpreter": {
    "hash": "31f2aee4e71d21fbe5cf8b01ff0e069b9275f58929596ceb00d14d90e3e16cd6"
   }
  }
 },
 "nbformat": 4,
 "nbformat_minor": 2
}

{
 "cells": [
  {
   "attachments": {},
   "cell_type": "markdown",
   "metadata": {},
   "source": [
    "# Your first inner join\n",
    "You have been tasked with figuring out what the most popular types of fuel used in Chicago taxis are. To complete the analysis, you need to merge the *taxi_owners* and *taxi_veh* tables together on the *vid* column. You can then use the merged table along with the **.value_counts()** method to find the most common **fuel_type**.\n",
    "\n",
    "Since you'll be working with **pandas** throughout the course, the package will be preloaded for you as *pd* in each exercise in this course. Also the **taxi_owners** and **taxi_veh** DataFrames are loaded for you."
   ]
  },
  {
   "cell_type": "code",
   "execution_count": 1,
   "metadata": {},
   "outputs": [
    {
     "name": "stdout",
     "output_type": "stream",
     "text": [
      "     rid   vid           owner                 address    zip\n",
      "0  T6285  6285  AGEAN TAXI LLC     4536 N. ELSTON AVE.  60630\n",
      "1  T4862  4862    MANGIB CORP.  5717 N. WASHTENAW AVE.  60659\n",
      "2  T1495  1495   FUNRIDE, INC.     3351 W. ADDISON ST.  60618\n",
      "3  T4231  4231    ALQUSH CORP.   6611 N. CAMPBELL AVE.  60645\n",
      "4  T5971  5971  EUNIFFORD INC.     3351 W. ADDISON ST.  60618 \n",
      "\n",
      "    vid    make   model  year fuel_type                owner\n",
      "0  2767  TOYOTA   CAMRY  2013    HYBRID       SEYED M. BADRI\n",
      "1  1411  TOYOTA    RAV4  2017    HYBRID          DESZY CORP.\n",
      "2  6500  NISSAN  SENTRA  2019  GASOLINE       AGAPH CAB CORP\n",
      "3  2746  TOYOTA   CAMRY  2013    HYBRID  MIDWEST CAB CO, INC\n",
      "4  5922  TOYOTA   CAMRY  2013    HYBRID       SUMETTI CAB CO \n",
      "\n"
     ]
    }
   ],
   "source": [
    "import pandas as pd\n",
    "import matplotlib.pyplot as plt\n",
    "path=r'/media/documentos/Cursos/Data Science/Python/Data_Science_Python/data_sets/'\n",
    "vehicles='taxi_vehicles.p'\n",
    "owners='taxi_owners.p'\n",
    "taxi_owners=pd.read_pickle(path+owners)\n",
    "taxi_veh=pd.read_pickle(path+vehicles)\n",
    "print(taxi_owners.head(),'\\n')\n",
    "print(taxi_veh.head(),'\\n')"
   ]
  },
  {
   "attachments": {},
   "cell_type": "markdown",
   "metadata": {},
   "source": [
    "- Merge taxi_owners with taxi_veh on the column vid, and save the result to taxi_own_veh."
   ]
  },
  {
   "cell_type": "code",
   "execution_count": 2,
   "metadata": {},
   "outputs": [
    {
     "name": "stdout",
     "output_type": "stream",
     "text": [
      "Index(['rid', 'vid', 'owner_x', 'address', 'zip', 'make', 'model', 'year',\n",
      "       'fuel_type', 'owner_y'],\n",
      "      dtype='object')\n"
     ]
    }
   ],
   "source": [
    "# Merge the taxi_owners and taxi_veh tables\n",
    "taxi_own_veh = taxi_owners.merge(taxi_veh, on='vid')\n",
    "\n",
    "# Print the column names of the taxi_own_veh\n",
    "print(taxi_own_veh.columns)"
   ]
  },
  {
   "attachments": {},
   "cell_type": "markdown",
   "metadata": {},
   "source": [
    "- Set the left and right table suffixes for overlapping columns of the merge to **_own** and **_veh**, respectively."
   ]
  },
  {
   "cell_type": "code",
   "execution_count": 3,
   "metadata": {},
   "outputs": [
    {
     "name": "stdout",
     "output_type": "stream",
     "text": [
      "Index(['rid', 'vid', 'owner_own', 'address', 'zip', 'make', 'model', 'year',\n",
      "       'fuel_type', 'owner_veh'],\n",
      "      dtype='object')\n"
     ]
    }
   ],
   "source": [
    "# Merge the taxi_owners and taxi_veh tables setting a suffix\n",
    "taxi_own_veh = taxi_owners.merge(taxi_veh, on='vid', suffixes=('_own','_veh'))\n",
    "\n",
    "# Print the column names of taxi_own_veh\n",
    "print(taxi_own_veh.columns)"
   ]
  },
  {
   "attachments": {},
   "cell_type": "markdown",
   "metadata": {},
   "source": [
    "- Select the **fuel_type** column from **taxi_own_veh** and print the **value_counts()** to find the most popular **fuel_types** used."
   ]
  },
  {
   "cell_type": "code",
   "execution_count": 4,
   "metadata": {},
   "outputs": [
    {
     "name": "stdout",
     "output_type": "stream",
     "text": [
      "HYBRID                    2792\n",
      "GASOLINE                   611\n",
      "FLEX FUEL                   89\n",
      "COMPRESSED NATURAL GAS      27\n",
      "Name: fuel_type, dtype: int64\n"
     ]
    }
   ],
   "source": [
    "# Merge the taxi_owners and taxi_veh tables setting a suffix\n",
    "taxi_own_veh = taxi_owners.merge(taxi_veh, on='vid', suffixes=('_own','_veh'))\n",
    "\n",
    "# Print the value_counts to find the most popular fuel_type\n",
    "print(taxi_own_veh['fuel_type'].value_counts())"
   ]
  }
 ],
 "metadata": {
  "kernelspec": {
   "display_name": "Python 3",
   "language": "python",
   "name": "python3"
  },
  "language_info": {
   "codemirror_mode": {
    "name": "ipython",
    "version": 3
   },
   "file_extension": ".py",
   "mimetype": "text/x-python",
   "name": "python",
   "nbconvert_exporter": "python",
   "pygments_lexer": "ipython3",
   "version": "3.9.2"
  },
  "orig_nbformat": 4,
  "vscode": {
   "interpreter": {
    "hash": "31f2aee4e71d21fbe5cf8b01ff0e069b9275f58929596ceb00d14d90e3e16cd6"
   }
  }
 },
 "nbformat": 4,
 "nbformat_minor": 2
}

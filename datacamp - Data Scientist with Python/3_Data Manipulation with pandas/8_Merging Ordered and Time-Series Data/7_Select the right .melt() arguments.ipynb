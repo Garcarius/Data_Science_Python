{
 "cells": [
  {
   "attachments": {},
   "cell_type": "markdown",
   "metadata": {},
   "source": [
    "# Select the right .melt() arguments\n",
    "You are given a table named inflation. Chose the option to get the same output as the table below.\n",
    "\n",
    "|   country   | indicator |  year | annual|\n",
    "|-------------|-----------|------|------|\n",
    "|   Brazil|  Inflation %  |2017  |  3.45|\n",
    "|  Canada  |Inflation %  |2017   | 1.60|\n",
    "|   France  |Inflation %  |2017  |  1.03|\n",
    "|    India  |Inflation %  |2017  |  2.49|\n",
    "|   Brazil  |Inflation %  |2018  |  3.66|\n",
    "|   Canada  |Inflation %  |2018  |  2.27|\n",
    "|   France  |Inflation %  |2018  |  1.85|\n",
    "|    India  |Inflation %  |2018  |  4.86|\n",
    "|   Brazil  |Inflation %  |2019  |  3.73|\n",
    "|   Canada  |Inflation %  |2019  |  1.95|\n",
    "|  France  |Inflation %  |2019   | 1.11|\n",
    "|   India  |Inflation %  |2019   | 7.66|"
   ]
  },
  {
   "cell_type": "code",
   "execution_count": 2,
   "metadata": {},
   "outputs": [
    {
     "name": "stdout",
     "output_type": "stream",
     "text": [
      "inflation \n",
      "                        Country Country Code  \\\n",
      "0                        Aruba          ABW   \n",
      "1  Africa Eastern and Southern          AFE   \n",
      "2                  Afghanistan          AFG   \n",
      "3   Africa Western and Central          AFW   \n",
      "4                       Angola          AGO   \n",
      "\n",
      "                          Indicator Name  1960  1961  1962  1963  1964  1965  \\\n",
      "0  Inflation, consumer prices (annual %)   NaN   NaN   NaN   NaN   NaN   NaN   \n",
      "1  Inflation, consumer prices (annual %)   NaN   NaN   NaN   NaN   NaN   NaN   \n",
      "2  Inflation, consumer prices (annual %)   NaN   NaN   NaN   NaN   NaN   NaN   \n",
      "3  Inflation, consumer prices (annual %)   NaN   NaN   NaN   NaN   NaN   NaN   \n",
      "4  Inflation, consumer prices (annual %)   NaN   NaN   NaN   NaN   NaN   NaN   \n",
      "\n",
      "   1966  ...       2012      2013      2014      2015       2016       2017  \\\n",
      "0   NaN  ...   0.627472 -2.372065  0.421441  0.474764  -0.931196  -1.028282   \n",
      "1   NaN  ...   9.158707  5.750981  5.370290  5.250171   6.571396   6.399343   \n",
      "2   NaN  ...   6.441213  7.385772  4.673996 -0.661709   4.383892   4.975952   \n",
      "3   NaN  ...   4.578375  2.439201  1.758052  2.130268   1.494564   1.764635   \n",
      "4   NaN  ...  10.277905  8.777814  7.280387  9.353840  30.698958  29.842578   \n",
      "\n",
      "        2018       2019       2020       2021  \n",
      "0   3.626041   4.257462        NaN        NaN  \n",
      "1   4.720811   4.120246   6.362961   6.079328  \n",
      "2   0.626149   2.302373        NaN        NaN  \n",
      "3   1.784050   1.758565   2.437609   3.837868  \n",
      "4  19.630594  17.079704  22.271564  25.754266  \n",
      "\n",
      "[5 rows x 65 columns] \n",
      "\n"
     ]
    }
   ],
   "source": [
    "import pandas as pd\n",
    "import matplotlib.pyplot as plt\n",
    "import numpy as np\n",
    "path=r'/media/documentos/Cursos/Data Science/Python/Data_Science_Python/data_sets/'\n",
    "\n",
    "inflation=pd.read_excel(path+'inflation_1960.xls')\n",
    "print('inflation \\n',inflation.head(),'\\n')"
   ]
  },
  {
   "cell_type": "code",
   "execution_count": 4,
   "metadata": {},
   "outputs": [
    {
     "name": "stdout",
     "output_type": "stream",
     "text": [
      "                        Country                         Indicator Name  \\\n",
      "0                         Aruba  Inflation, consumer prices (annual %)   \n",
      "1   Africa Eastern and Southern  Inflation, consumer prices (annual %)   \n",
      "2                   Afghanistan  Inflation, consumer prices (annual %)   \n",
      "3    Africa Western and Central  Inflation, consumer prices (annual %)   \n",
      "4                        Angola  Inflation, consumer prices (annual %)   \n",
      "5                       Albania  Inflation, consumer prices (annual %)   \n",
      "6                       Andorra  Inflation, consumer prices (annual %)   \n",
      "7                    Arab World  Inflation, consumer prices (annual %)   \n",
      "8          United Arab Emirates  Inflation, consumer prices (annual %)   \n",
      "9                     Argentina  Inflation, consumer prices (annual %)   \n",
      "10                      Armenia  Inflation, consumer prices (annual %)   \n",
      "11               American Samoa  Inflation, consumer prices (annual %)   \n",
      "12          Antigua and Barbuda  Inflation, consumer prices (annual %)   \n",
      "13                    Australia  Inflation, consumer prices (annual %)   \n",
      "14                      Austria  Inflation, consumer prices (annual %)   \n",
      "15                   Azerbaijan  Inflation, consumer prices (annual %)   \n",
      "16                      Burundi  Inflation, consumer prices (annual %)   \n",
      "17                      Belgium  Inflation, consumer prices (annual %)   \n",
      "18                        Benin  Inflation, consumer prices (annual %)   \n",
      "19                 Burkina Faso  Inflation, consumer prices (annual %)   \n",
      "\n",
      "   Country Code  year    annual  \n",
      "0           ABW  1960       NaN  \n",
      "1           AFE  1960       NaN  \n",
      "2           AFG  1960       NaN  \n",
      "3           AFW  1960       NaN  \n",
      "4           AGO  1960       NaN  \n",
      "5           ALB  1960       NaN  \n",
      "6           AND  1960       NaN  \n",
      "7           ARB  1960       NaN  \n",
      "8           ARE  1960       NaN  \n",
      "9           ARG  1960       NaN  \n",
      "10          ARM  1960       NaN  \n",
      "11          ASM  1960       NaN  \n",
      "12          ATG  1960       NaN  \n",
      "13          AUS  1960  3.728814  \n",
      "14          AUT  1960  1.945749  \n",
      "15          AZE  1960       NaN  \n",
      "16          BDI  1960       NaN  \n",
      "17          BEL  1960  0.299467  \n",
      "18          BEN  1960       NaN  \n",
      "19          BFA  1960  7.788162  \n"
     ]
    }
   ],
   "source": [
    "#inflation_m =inflation.melt(id_vars=['Country','Indicator Name','Country Code'], var_name='annual')\n",
    "inflation_m=inflation.melt(id_vars=['Country','Indicator Name','Country Code'], var_name='year', value_name='annual')\n",
    "print(inflation_m.head(20))"
   ]
  }
 ],
 "metadata": {
  "kernelspec": {
   "display_name": "Python 3",
   "language": "python",
   "name": "python3"
  },
  "language_info": {
   "codemirror_mode": {
    "name": "ipython",
    "version": 3
   },
   "file_extension": ".py",
   "mimetype": "text/x-python",
   "name": "python",
   "nbconvert_exporter": "python",
   "pygments_lexer": "ipython3",
   "version": "3.9.2"
  },
  "orig_nbformat": 4,
  "vscode": {
   "interpreter": {
    "hash": "31f2aee4e71d21fbe5cf8b01ff0e069b9275f58929596ceb00d14d90e3e16cd6"
   }
  }
 },
 "nbformat": 4,
 "nbformat_minor": 2
}

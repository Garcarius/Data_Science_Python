{
 "cells": [
  {
   "attachments": {},
   "cell_type": "markdown",
   "metadata": {},
   "source": [
    "# Correlation between GDP and S&P500\n",
    "In this exercise, you want to analyze stock returns from the S&P 500. You believe there may be a relationship between the returns of the S&P 500 and the GDP of the US. Merge the different datasets together to compute the correlation.\n",
    "\n",
    "Two tables have been provided for you, named `sp500`, and `gdp`. As always, `pandas` has been imported for you as `pd`."
   ]
  },
  {
   "cell_type": "code",
   "execution_count": 1,
   "metadata": {},
   "outputs": [
    {
     "name": "stdout",
     "output_type": "stream",
     "text": [
      "gdp \n",
      "   Country Code  Year           GDP\n",
      "0          CHN  2010  6.087160e+12\n",
      "1          DEU  2010  3.417090e+12\n",
      "2          JPN  2010  5.700100e+12\n",
      "3          USA  2010  1.499210e+13\n",
      "4          CHN  2011  7.551500e+12 \n",
      "\n",
      "sp500 \n",
      "    Date  Returns\n",
      "0  2008   -38.49\n",
      "1  2009    23.45\n",
      "2  2010    12.78\n",
      "3  2011     0.00\n",
      "4  2012    13.41 \n",
      "\n"
     ]
    }
   ],
   "source": [
    "import pandas as pd\n",
    "import matplotlib.pyplot as plt\n",
    "path=r'/media/documentos/Cursos/Data Science/Python/Data_Science_Python/data_sets/'\n",
    "\n",
    "gdp=pd.read_csv(path+'WorldBank_GDP.csv',usecols = ['Country Code','Year','GDP'])\n",
    "print('gdp \\n',gdp.head(),'\\n')\n",
    "\n",
    "sp500=pd.read_csv(path+'S&P500.csv')\n",
    "print('sp500 \\n',sp500.head(),'\\n')\n",
    "\n"
   ]
  },
  {
   "attachments": {},
   "cell_type": "markdown",
   "metadata": {},
   "source": [
    "- Use `merge_ordered()` to merge `gdp` and `sp500` using a left join on `year` and `date`. Save the results as `gdp_sp500`.\n",
    "- Print `gdp_sp500` and look at the returns for the year 2018."
   ]
  },
  {
   "cell_type": "code",
   "execution_count": 5,
   "metadata": {},
   "outputs": [
    {
     "name": "stdout",
     "output_type": "stream",
     "text": [
      "   Country Code  Year           GDP    Date  Returns\n",
      "0           CHN  2010  6.087160e+12  2010.0    12.78\n",
      "1           DEU  2010  3.417090e+12  2010.0    12.78\n",
      "2           JPN  2010  5.700100e+12  2010.0    12.78\n",
      "3           USA  2010  1.499210e+13  2010.0    12.78\n",
      "4           CHN  2011  7.551500e+12  2011.0     0.00\n",
      "5           DEU  2011  3.757700e+12  2011.0     0.00\n",
      "6           JPN  2011  6.157460e+12  2011.0     0.00\n",
      "7           USA  2011  1.554260e+13  2011.0     0.00\n",
      "8           CHN  2012  8.532230e+12  2012.0    13.41\n",
      "9           DEU  2012  3.543980e+12  2012.0    13.41\n",
      "10          JPN  2012  6.203210e+12  2012.0    13.41\n",
      "11          USA  2012  1.619700e+13  2012.0    13.41\n",
      "12          CHN  2012  8.532230e+12  2012.0    13.41\n",
      "13          DEU  2012  3.543980e+12  2012.0    13.41\n",
      "14          JPN  2012  6.203210e+12  2012.0    13.41\n",
      "15          USA  2012  1.619700e+13  2012.0    13.41\n",
      "16          CHN  2013  9.570410e+12  2013.0    29.60\n",
      "17          DEU  2013  3.752510e+12  2013.0    29.60\n",
      "18          JPN  2013  5.155720e+12  2013.0    29.60\n",
      "19          USA  2013  1.678480e+13  2013.0    29.60\n",
      "20          CHN  2014  1.043850e+13  2014.0    11.39\n",
      "21          DEU  2014  3.898730e+12  2014.0    11.39\n",
      "22          JPN  2014  4.850410e+12  2014.0    11.39\n",
      "23          USA  2014  1.752170e+13  2014.0    11.39\n",
      "24          CHN  2015  1.101550e+13  2015.0    -0.73\n",
      "25          DEU  2015  3.381390e+12  2015.0    -0.73\n",
      "26          JPN  2015  4.389480e+12  2015.0    -0.73\n",
      "27          USA  2015  1.821930e+13  2015.0    -0.73\n",
      "28          CHN  2016  1.113790e+13  2016.0     9.54\n",
      "29          DEU  2016  3.495160e+12  2016.0     9.54\n",
      "30          JPN  2016  4.926670e+12  2016.0     9.54\n",
      "31          USA  2016  1.870720e+13  2016.0     9.54\n",
      "32          CHN  2017  1.214350e+13  2017.0    19.42\n",
      "33          DEU  2017  3.693200e+12  2017.0    19.42\n",
      "34          JPN  2017  4.859950e+12  2017.0    19.42\n",
      "35          USA  2017  1.948540e+13  2017.0    19.42\n",
      "36          CHN  2018  1.360820e+13     NaN      NaN\n",
      "37          DEU  2018  3.996760e+12     NaN      NaN\n",
      "38          JPN  2018  4.970920e+12     NaN      NaN\n",
      "39          USA  2018  2.049410e+13     NaN      NaN\n"
     ]
    }
   ],
   "source": [
    "# Use merge_ordered() to merge gdp and sp500 on year and date\n",
    "gdp_sp500 = pd.merge_ordered(gdp, sp500, left_on='Year', right_on='Date', how='left')\n",
    "\n",
    "# Print gdp_sp500\n",
    "print(gdp_sp500)"
   ]
  },
  {
   "attachments": {},
   "cell_type": "markdown",
   "metadata": {},
   "source": [
    "- Use `merge_ordered()`, again similar to before, to merge `gdp` and `sp500` use the function's ability to interpolate missing data to forward fill the missing value for returns, assigning this table to the variable `gdp_sp500`."
   ]
  },
  {
   "cell_type": "code",
   "execution_count": 6,
   "metadata": {},
   "outputs": [
    {
     "name": "stdout",
     "output_type": "stream",
     "text": [
      "   Country Code  Year           GDP  Date  Returns\n",
      "0           CHN  2010  6.087160e+12  2010    12.78\n",
      "1           DEU  2010  3.417090e+12  2010    12.78\n",
      "2           JPN  2010  5.700100e+12  2010    12.78\n",
      "3           USA  2010  1.499210e+13  2010    12.78\n",
      "4           CHN  2011  7.551500e+12  2011     0.00\n",
      "5           DEU  2011  3.757700e+12  2011     0.00\n",
      "6           JPN  2011  6.157460e+12  2011     0.00\n",
      "7           USA  2011  1.554260e+13  2011     0.00\n",
      "8           CHN  2012  8.532230e+12  2012    13.41\n",
      "9           DEU  2012  3.543980e+12  2012    13.41\n",
      "10          JPN  2012  6.203210e+12  2012    13.41\n",
      "11          USA  2012  1.619700e+13  2012    13.41\n",
      "12          CHN  2012  8.532230e+12  2012    13.41\n",
      "13          DEU  2012  3.543980e+12  2012    13.41\n",
      "14          JPN  2012  6.203210e+12  2012    13.41\n",
      "15          USA  2012  1.619700e+13  2012    13.41\n",
      "16          CHN  2013  9.570410e+12  2013    29.60\n",
      "17          DEU  2013  3.752510e+12  2013    29.60\n",
      "18          JPN  2013  5.155720e+12  2013    29.60\n",
      "19          USA  2013  1.678480e+13  2013    29.60\n",
      "20          CHN  2014  1.043850e+13  2014    11.39\n",
      "21          DEU  2014  3.898730e+12  2014    11.39\n",
      "22          JPN  2014  4.850410e+12  2014    11.39\n",
      "23          USA  2014  1.752170e+13  2014    11.39\n",
      "24          CHN  2015  1.101550e+13  2015    -0.73\n",
      "25          DEU  2015  3.381390e+12  2015    -0.73\n",
      "26          JPN  2015  4.389480e+12  2015    -0.73\n",
      "27          USA  2015  1.821930e+13  2015    -0.73\n",
      "28          CHN  2016  1.113790e+13  2016     9.54\n",
      "29          DEU  2016  3.495160e+12  2016     9.54\n",
      "30          JPN  2016  4.926670e+12  2016     9.54\n",
      "31          USA  2016  1.870720e+13  2016     9.54\n",
      "32          CHN  2017  1.214350e+13  2017    19.42\n",
      "33          DEU  2017  3.693200e+12  2017    19.42\n",
      "34          JPN  2017  4.859950e+12  2017    19.42\n",
      "35          USA  2017  1.948540e+13  2017    19.42\n",
      "36          CHN  2018  1.360820e+13  2017    19.42\n",
      "37          DEU  2018  3.996760e+12  2017    19.42\n",
      "38          JPN  2018  4.970920e+12  2017    19.42\n",
      "39          USA  2018  2.049410e+13  2017    19.42\n"
     ]
    }
   ],
   "source": [
    "# Use merge_ordered() to merge gdp and sp500 on year and date\n",
    "gdp_sp500 = pd.merge_ordered(gdp, sp500, left_on='Year', right_on='Date', how='left',fill_method='ffill')\n",
    "\n",
    "# Print gdp_sp500\n",
    "print(gdp_sp500)"
   ]
  },
  {
   "attachments": {},
   "cell_type": "markdown",
   "metadata": {},
   "source": [
    "- Subset the `gdp_sp500` table, select the `gdp` and `returns` columns, and save as gdp_returns.\n",
    "Print the correlation matrix of the gdp_returns table."
   ]
  },
  {
   "cell_type": "code",
   "execution_count": 9,
   "metadata": {},
   "outputs": [
    {
     "name": "stdout",
     "output_type": "stream",
     "text": [
      "              GDP   Returns\n",
      "GDP      1.000000  0.040669\n",
      "Returns  0.040669  1.000000\n"
     ]
    }
   ],
   "source": [
    "# Use merge_ordered() to merge gdp and sp500, interpolate missing value\n",
    "gdp_sp500 = pd.merge_ordered(gdp, sp500, left_on='Year', right_on='Date', \n",
    "                             how='left',  fill_method='ffill')\n",
    "\n",
    "# Subset the gdp and returns columns\n",
    "gdp_returns = gdp_sp500[['GDP','Returns']]\n",
    "\n",
    "# Print gdp_returns correlation\n",
    "print (gdp_returns.corr())"
   ]
  }
 ],
 "metadata": {
  "kernelspec": {
   "display_name": "Python 3",
   "language": "python",
   "name": "python3"
  },
  "language_info": {
   "codemirror_mode": {
    "name": "ipython",
    "version": 3
   },
   "file_extension": ".py",
   "mimetype": "text/x-python",
   "name": "python",
   "nbconvert_exporter": "python",
   "pygments_lexer": "ipython3",
   "version": "3.9.2 (default, Feb 28 2021, 17:03:44) \n[GCC 10.2.1 20210110]"
  },
  "orig_nbformat": 4,
  "vscode": {
   "interpreter": {
    "hash": "31f2aee4e71d21fbe5cf8b01ff0e069b9275f58929596ceb00d14d90e3e16cd6"
   }
  }
 },
 "nbformat": 4,
 "nbformat_minor": 2
}

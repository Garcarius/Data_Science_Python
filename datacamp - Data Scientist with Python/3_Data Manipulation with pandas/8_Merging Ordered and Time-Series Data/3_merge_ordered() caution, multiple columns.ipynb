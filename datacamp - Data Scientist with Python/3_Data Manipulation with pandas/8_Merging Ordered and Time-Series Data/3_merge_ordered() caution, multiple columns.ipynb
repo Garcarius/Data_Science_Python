{
 "cells": [
  {
   "attachments": {},
   "cell_type": "markdown",
   "metadata": {},
   "source": [
    "# merge_ordered() caution, multiple columns\n",
    "When using `merge_ordered()` to merge on multiple columns, the order is important when you combine it with the forward fill feature. The function sorts the merge on columns in the order provided. In this exercise, we will merge GDP and population data from the World Bank for the Australia and Sweden, reversing the order of the merge on columns. The frequency of the series are different, the GDP values are quarterly, and the population is yearly. Use the forward fill feature to fill in the missing data. Depending on the order provided, the fill forward will use unintended data to fill in the missing values.\n",
    "\n",
    "The tables `gdp` and `pop` have been loaded."
   ]
  },
  {
   "cell_type": "code",
   "execution_count": 3,
   "metadata": {},
   "outputs": [
    {
     "name": "stdout",
     "output_type": "stream",
     "text": [
      "gdp \n",
      "          country  date           gdp\n",
      "0          China  2010  6.087160e+12\n",
      "1        Germany  2010  3.417090e+12\n",
      "2          Japan  2010  5.700100e+12\n",
      "3  United States  2010  1.499210e+13\n",
      "4          China  2011  7.551500e+12 \n",
      "\n",
      "pop \n",
      "        country  date         pop\n",
      "0        Aruba  2010    101669.0\n",
      "1  Afghanistan  2010  29185507.0\n",
      "2       Angola  2010  23356246.0\n",
      "3      Albania  2010   2913021.0\n",
      "4      Andorra  2010     84449.0 \n",
      "\n"
     ]
    }
   ],
   "source": [
    "import pandas as pd\n",
    "import matplotlib.pyplot as plt\n",
    "path=r'/media/documentos/Cursos/Data Science/Python/Data_Science_Python/data_sets/'\n",
    "\n",
    "gdp=pd.read_csv(path+'WorldBank_GDP.csv',usecols = ['Year','Country Name','GDP'])\n",
    "gdp.rename(columns = {'Year':'date', 'Country Name':'country','Country Name':'country','GDP':'gdp'}, inplace = True)\n",
    "print('gdp \\n',gdp.head(),'\\n')\n",
    "\n",
    "pop=pd.read_csv(path+'WorldBank_POP.csv',usecols = ['Year','Country Name','Pop'])\n",
    "pop.rename(columns = {'Year':'date', 'Country Name':'country','Pop':'pop'}, inplace = True)\n",
    "print('pop \\n',pop.head(),'\\n')"
   ]
  },
  {
   "attachments": {},
   "cell_type": "markdown",
   "metadata": {},
   "source": [
    "- Use merge_ordered() on gdp and pop, merging on columns date and country with the fill feature, save to ctry_date."
   ]
  },
  {
   "cell_type": "code",
   "execution_count": 7,
   "metadata": {},
   "outputs": [
    {
     "name": "stdout",
     "output_type": "stream",
     "text": [
      "                 country  date           gdp           pop\n",
      "0            Afghanistan  2010           NaN  2.918551e+07\n",
      "1                Albania  2010           NaN  2.913021e+06\n",
      "2                Algeria  2010           NaN  3.597746e+07\n",
      "3         American Samoa  2010           NaN  5.607900e+04\n",
      "4                Andorra  2010           NaN  8.444900e+04\n",
      "...                  ...   ...           ...           ...\n",
      "2643  West Bank and Gaza  2018  2.049410e+13  4.569087e+06\n",
      "2644               World  2018  2.049410e+13  7.594270e+09\n",
      "2645         Yemen, Rep.  2018  2.049410e+13  2.849869e+07\n",
      "2646              Zambia  2018  2.049410e+13  1.735182e+07\n",
      "2647            Zimbabwe  2018  2.049410e+13  1.443902e+07\n",
      "\n",
      "[2648 rows x 4 columns]\n"
     ]
    }
   ],
   "source": [
    "# Merge gdp and pop on date and country with fill and notice rows 2 and 3\n",
    "ctry_date = pd.merge_ordered(gdp,pop, on=['date','country'],\n",
    "                             fill_method='ffill')\n",
    "\n",
    "# Print ctry_date\n",
    "print(ctry_date)"
   ]
  },
  {
   "attachments": {},
   "cell_type": "markdown",
   "metadata": {},
   "source": [
    "- Perform the same merge of `gdp` and `pop`, but join on country and date (reverse of step 1) with the fill feature, saving this as date_ctry."
   ]
  },
  {
   "cell_type": "code",
   "execution_count": 8,
   "metadata": {},
   "outputs": [
    {
     "name": "stdout",
     "output_type": "stream",
     "text": [
      "          country  date           gdp         pop\n",
      "0     Afghanistan  2010           NaN  29185507.0\n",
      "1     Afghanistan  2011           NaN  30117413.0\n",
      "2     Afghanistan  2012           NaN  31161376.0\n",
      "3     Afghanistan  2012           NaN  31161376.0\n",
      "4     Afghanistan  2013           NaN  32269589.0\n",
      "...           ...   ...           ...         ...\n",
      "2643     Zimbabwe  2014  2.049410e+13  13586681.0\n",
      "2644     Zimbabwe  2015  2.049410e+13  13814629.0\n",
      "2645     Zimbabwe  2016  2.049410e+13  14030390.0\n",
      "2646     Zimbabwe  2017  2.049410e+13  14236745.0\n",
      "2647     Zimbabwe  2018  2.049410e+13  14439018.0\n",
      "\n",
      "[2648 rows x 4 columns]\n"
     ]
    }
   ],
   "source": [
    "# Merge gdp and pop on country and date with fill\n",
    "date_ctry = pd.merge_ordered(gdp,pop, on=['country','date'],\n",
    "                             fill_method='ffill')\n",
    "\n",
    "# Print date_ctry\n",
    "print(date_ctry)"
   ]
  }
 ],
 "metadata": {
  "kernelspec": {
   "display_name": "Python 3",
   "language": "python",
   "name": "python3"
  },
  "language_info": {
   "codemirror_mode": {
    "name": "ipython",
    "version": 3
   },
   "file_extension": ".py",
   "mimetype": "text/x-python",
   "name": "python",
   "nbconvert_exporter": "python",
   "pygments_lexer": "ipython3",
   "version": "3.9.2 (default, Feb 28 2021, 17:03:44) \n[GCC 10.2.1 20210110]"
  },
  "orig_nbformat": 4,
  "vscode": {
   "interpreter": {
    "hash": "31f2aee4e71d21fbe5cf8b01ff0e069b9275f58929596ceb00d14d90e3e16cd6"
   }
  }
 },
 "nbformat": 4,
 "nbformat_minor": 2
}

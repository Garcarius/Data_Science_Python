{
 "cells": [
  {
   "attachments": {},
   "cell_type": "markdown",
   "metadata": {},
   "source": [
    "# How many rows with a left join?\n",
    "Select the true statement about left joins.\n",
    "\n",
    "Try running the following code statements in the IPython shell.\n",
    "``` python\n",
    "left_table.merge(one_to_one, on='id', how='left').shape\n",
    "left_table.merge(one_to_many, on='id', how='left').shape\n",
    "```\n",
    "(4, 5)\n",
    "\n",
    "(232, 6)\n",
    "\n",
    "Note that the left_table starts out with **4** rows."
   ]
  },
  {
   "cell_type": "code",
   "execution_count": null,
   "metadata": {},
   "outputs": [],
   "source": [
    "# The output of a one-to-many merge with a left join will have greater than or equal rows than the left table."
   ]
  }
 ],
 "metadata": {
  "kernelspec": {
   "display_name": "Python 3",
   "language": "python",
   "name": "python3"
  },
  "language_info": {
   "name": "python",
   "version": "3.9.2 (default, Feb 28 2021, 17:03:44) \n[GCC 10.2.1 20210110]"
  },
  "orig_nbformat": 4,
  "vscode": {
   "interpreter": {
    "hash": "31f2aee4e71d21fbe5cf8b01ff0e069b9275f58929596ceb00d14d90e3e16cd6"
   }
  }
 },
 "nbformat": 4,
 "nbformat_minor": 2
}

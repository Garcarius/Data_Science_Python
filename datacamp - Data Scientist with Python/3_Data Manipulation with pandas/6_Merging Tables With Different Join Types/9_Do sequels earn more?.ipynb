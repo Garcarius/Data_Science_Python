{
 "cells": [
  {
   "attachments": {},
   "cell_type": "markdown",
   "metadata": {},
   "source": [
    "# Do sequels earn more?\n",
    "It is time to put together many of the aspects that you have learned in this chapter. In this exercise, you'll find out which movie sequels earned the most compared to the original movie. To answer this question, you will merge a modified version of the *sequels* and *financials* tables where their index is the movie ID. You will need to choose a merge type that will return all of the rows from the *sequels* table and not all the rows of *financials* table need to be included in the result. From there, you will join the resulting table to itself so that you can compare the revenue values of the original movie to the sequel. Next, you will calculate the difference between the two revenues and sort the resulting dataset.\n",
    "\n",
    "The *sequels* and *financials* tables have been provided."
   ]
  },
  {
   "cell_type": "code",
   "execution_count": 1,
   "metadata": {},
   "outputs": [
    {
     "name": "stdout",
     "output_type": "stream",
     "text": [
      "sequels \n",
      "               title  sequel\n",
      "id                         \n",
      "19995        Avatar    <NA>\n",
      "862       Toy Story     863\n",
      "863     Toy Story 2   10193\n",
      "597         Titanic    <NA>\n",
      "24428  The Avengers    <NA> \n",
      "\n",
      "financials \n",
      "            budget       revenue\n",
      "id                             \n",
      "19995   237000000  2.787965e+09\n",
      "285     300000000  9.610000e+08\n",
      "206647  245000000  8.806746e+08\n",
      "49026   250000000  1.084939e+09\n",
      "49529   260000000  2.841391e+08 \n",
      "\n"
     ]
    }
   ],
   "source": [
    "import pandas as pd\n",
    "import matplotlib.pyplot as plt\n",
    "path=r'/media/documentos/Cursos/Data Science/Python/Data_Science_Python/data_sets/'\n",
    "\n",
    "sequels=pd.read_pickle(path+'sequels.p').set_index('id')\n",
    "\n",
    "print('sequels \\n',sequels.head(),'\\n')\n",
    "\n",
    "financials=pd.read_pickle(path+'financials.p').set_index('id')\n",
    "print('financials \\n',financials.head(),'\\n')"
   ]
  },
  {
   "attachments": {},
   "cell_type": "markdown",
   "metadata": {},
   "source": [
    "With the *sequels* table on the left, merge to it the *financials* table on index named *id*, ensuring that all the rows from the *sequels* are returned and some rows from the other table may not be returned, Save the results to *sequels_fin*."
   ]
  },
  {
   "cell_type": "code",
   "execution_count": 3,
   "metadata": {},
   "outputs": [
    {
     "name": "stdout",
     "output_type": "stream",
     "text": [
      "              title  sequel       budget       revenue\n",
      "id                                                    \n",
      "19995        Avatar    <NA>  237000000.0  2.787965e+09\n",
      "862       Toy Story     863   30000000.0  3.735540e+08\n",
      "863     Toy Story 2   10193   90000000.0  4.973669e+08\n",
      "597         Titanic    <NA>  200000000.0  1.845034e+09\n",
      "24428  The Avengers    <NA>  220000000.0  1.519558e+09\n"
     ]
    }
   ],
   "source": [
    "# Merge sequels and financials on index id\n",
    "sequels_fin = sequels.merge(financials,on='id',how='left')\n",
    "print(sequels_fin.head())"
   ]
  },
  {
   "attachments": {},
   "cell_type": "markdown",
   "metadata": {},
   "source": [
    "Merge the *sequels_fin* table to itself with an inner join, where the left and right tables merge on *sequel* and *id* respectively with suffixes equal to *('_org','_seq')*, saving to *orig_seq*."
   ]
  },
  {
   "cell_type": "code",
   "execution_count": 5,
   "metadata": {},
   "outputs": [
    {
     "name": "stdout",
     "output_type": "stream",
     "text": [
      "     sequel                                          title_org  sequel_org  \\\n",
      "id                                                                           \n",
      "862     863                                          Toy Story         863   \n",
      "863   10193                                        Toy Story 2       10193   \n",
      "675     767          Harry Potter and the Order of the Phoenix         767   \n",
      "121     122              The Lord of the Rings: The Two Towers         122   \n",
      "120     121  The Lord of the Rings: The Fellowship of the Ring         121   \n",
      "\n",
      "      budget_org  revenue_org                                      title_seq  \\\n",
      "id                                                                             \n",
      "862   30000000.0  373554033.0                                    Toy Story 2   \n",
      "863   90000000.0  497366869.0                                    Toy Story 3   \n",
      "675  150000000.0  938212738.0         Harry Potter and the Half-Blood Prince   \n",
      "121   79000000.0  926287400.0  The Lord of the Rings: The Return of the King   \n",
      "120   93000000.0  871368364.0          The Lord of the Rings: The Two Towers   \n",
      "\n",
      "     sequel_seq   budget_seq   revenue_seq         diff  \n",
      "id                                                       \n",
      "862       10193   90000000.0  4.973669e+08  123812836.0  \n",
      "863        <NA>  200000000.0  1.066970e+09  569602834.0  \n",
      "675        <NA>  250000000.0  9.339592e+08   -4253541.0  \n",
      "121        <NA>   94000000.0  1.118889e+09  192601579.0  \n",
      "120         122   79000000.0  9.262874e+08   54919036.0  \n"
     ]
    }
   ],
   "source": [
    "# Merge sequels and financials on index id\n",
    "sequels_fin = sequels.merge(financials, on='id', how='left')\n",
    "\n",
    "# Self merge with suffixes as inner join with left on sequel and right on id\n",
    "orig_seq = sequels_fin.merge(sequels_fin, how='inner', left_on='sequel', \n",
    "                             right_on='id', right_index=True,\n",
    "                             suffixes=('_org','_seq'))\n",
    "\n",
    "# Add calculation to subtract revenue_org from revenue_seq \n",
    "orig_seq['diff'] = orig_seq['revenue_seq'] - orig_seq['revenue_org']\n",
    "print(orig_seq.head())"
   ]
  },
  {
   "attachments": {},
   "cell_type": "markdown",
   "metadata": {},
   "source": [
    "- Select the *title_org*, *title_seq*, and *diff* columns of *orig_seq* and save this as *titles_diff*."
   ]
  },
  {
   "cell_type": "code",
   "execution_count": 7,
   "metadata": {},
   "outputs": [
    {
     "name": "stdout",
     "output_type": "stream",
     "text": [
      "                                             title_org  \\\n",
      "id                                                       \n",
      "862                                          Toy Story   \n",
      "863                                        Toy Story 2   \n",
      "675          Harry Potter and the Order of the Phoenix   \n",
      "121              The Lord of the Rings: The Two Towers   \n",
      "120  The Lord of the Rings: The Fellowship of the Ring   \n",
      "\n",
      "                                         title_seq         diff  \n",
      "id                                                               \n",
      "862                                    Toy Story 2  123812836.0  \n",
      "863                                    Toy Story 3  569602834.0  \n",
      "675         Harry Potter and the Half-Blood Prince   -4253541.0  \n",
      "121  The Lord of the Rings: The Return of the King  192601579.0  \n",
      "120          The Lord of the Rings: The Two Towers   54919036.0  \n"
     ]
    }
   ],
   "source": [
    "# Merge sequels and financials on index id\n",
    "sequels_fin = sequels.merge(financials, on='id', how='left')\n",
    "\n",
    "# Self merge with suffixes as inner join with left on sequel and right on id\n",
    "orig_seq = sequels_fin.merge(sequels_fin, how='inner', left_on='sequel', \n",
    "                             right_on='id', right_index=True,\n",
    "                             suffixes=('_org','_seq'))\n",
    "\n",
    "# Add calculation to subtract revenue_org from revenue_seq \n",
    "orig_seq['diff'] = orig_seq['revenue_seq'] - orig_seq['revenue_org']\n",
    "\n",
    "# Select the title_org, title_seq, and diff \n",
    "titles_diff = orig_seq[['title_org','title_seq','diff']]\n",
    "print(titles_diff.head())"
   ]
  },
  {
   "attachments": {},
   "cell_type": "markdown",
   "metadata": {},
   "source": [
    "Sort by *titles_diff* by *diff* in descending order and print the first few rows."
   ]
  },
  {
   "cell_type": "code",
   "execution_count": 8,
   "metadata": {},
   "outputs": [
    {
     "name": "stdout",
     "output_type": "stream",
     "text": [
      "               title_org        title_seq          diff\n",
      "id                                                     \n",
      "331    Jurassic Park III   Jurassic World  1.144748e+09\n",
      "272        Batman Begins  The Dark Knight  6.303398e+08\n",
      "10138         Iron Man 2       Iron Man 3  5.915067e+08\n",
      "863          Toy Story 2      Toy Story 3  5.696028e+08\n",
      "10764  Quantum of Solace          Skyfall  5.224703e+08\n"
     ]
    }
   ],
   "source": [
    "# Print the first rows of the sorted titles_diff\n",
    "print(titles_diff.sort_values('diff',ascending=False).head())"
   ]
  }
 ],
 "metadata": {
  "kernelspec": {
   "display_name": "Python 3",
   "language": "python",
   "name": "python3"
  },
  "language_info": {
   "codemirror_mode": {
    "name": "ipython",
    "version": 3
   },
   "file_extension": ".py",
   "mimetype": "text/x-python",
   "name": "python",
   "nbconvert_exporter": "python",
   "pygments_lexer": "ipython3",
   "version": "3.9.2"
  },
  "orig_nbformat": 4,
  "vscode": {
   "interpreter": {
    "hash": "31f2aee4e71d21fbe5cf8b01ff0e069b9275f58929596ceb00d14d90e3e16cd6"
   }
  }
 },
 "nbformat": 4,
 "nbformat_minor": 2
}

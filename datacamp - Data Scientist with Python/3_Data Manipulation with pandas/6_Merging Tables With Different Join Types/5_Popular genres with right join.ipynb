{
 "cells": [
  {
   "attachments": {},
   "cell_type": "markdown",
   "metadata": {},
   "source": [
    "# Popular genres with right join\n",
    "What are the genres of the most popular movies? To answer this question, you need to merge data from the *movies* and *movie_to_genres* tables. In a table called *pop_movies*, the top 10 most popular movies in the movies table have been selected. To ensure that you are analyzing all of the popular movies, merge it with the movie_to_genres table using a right join. To complete your analysis, count the number of different genres. Also, the two tables can be merged by the movie ID. However, in pop_movies that column is called id, and in movies_to_genres it's called movie_id.\n",
    "\n",
    "The pop_movies and movie_to_genres tables have been loaded for you."
   ]
  },
  {
   "cell_type": "code",
   "execution_count": 11,
   "metadata": {},
   "outputs": [
    {
     "name": "stdout",
     "output_type": "stream",
     "text": [
      "movies \n",
      "       id                 title  popularity release_date\n",
      "0    257          Oliver Twist   20.415572   2005-09-23\n",
      "1  14290  Better Luck Tomorrow    3.877036   2002-01-12\n",
      "2  38365             Grown Ups   38.864027   2010-06-24\n",
      "3   9672              Infamous    3.680896   2006-11-16\n",
      "4  12819       Alpha and Omega   12.300789   2010-09-17 \n",
      "\n",
      "movie_to_genres \n",
      "    movie_id            genre\n",
      "0         5            Crime\n",
      "1         5           Comedy\n",
      "2        11  Science Fiction\n",
      "3        11           Action\n",
      "4        11        Adventure \n",
      "\n",
      "pop_movies \n",
      "           id                                              title  popularity  \\\n",
      "4546  211672                                            Minions  875.581305   \n",
      "4343  157336                                       Interstellar  724.247784   \n",
      "1966  293660                                           Deadpool  514.569956   \n",
      "2423  118340                            Guardians of the Galaxy  481.098624   \n",
      "4220   76341                                 Mad Max: Fury Road  434.278564   \n",
      "1867  135397                                     Jurassic World  418.708552   \n",
      "4375      22  Pirates of the Caribbean: The Curse of the Bla...  271.972889   \n",
      "1106  119450                     Dawn of the Planet of the Apes  243.791743   \n",
      "4216  131631              The Hunger Games: Mockingjay - Part 1  206.227151   \n",
      "2614  177572                                         Big Hero 6  203.734590   \n",
      "\n",
      "     release_date  \n",
      "4546   2015-06-17  \n",
      "4343   2014-11-05  \n",
      "1966   2016-02-09  \n",
      "2423   2014-07-30  \n",
      "4220   2015-05-13  \n",
      "1867   2015-06-09  \n",
      "4375   2003-07-09  \n",
      "1106   2014-06-26  \n",
      "4216   2014-11-18  \n",
      "2614   2014-10-24   \n",
      "\n"
     ]
    }
   ],
   "source": [
    "import pandas as pd\n",
    "import matplotlib.pyplot as plt\n",
    "path=r'/media/documentos/Cursos/Data Science/Python/Data_Science_Python/data_sets/'\n",
    "\n",
    "movies=pd.read_pickle(path+'movies.p')\n",
    "#toy_story=movies[movies['title'].str.contains('Toy Story', na=False)]\n",
    "print('movies \\n',movies.head(),'\\n')\n",
    "\n",
    "movie_to_genres=pd.read_pickle(path+'movie_to_genres.p')\n",
    "#land_use.astype({'ward': 'int32'}).dtypes\n",
    "print('movie_to_genres \\n',movie_to_genres.head(),'\\n')\n",
    "#print('genres \\n',movie_to_genres['genre'].unique(),'\\n')\n",
    "\n",
    "pop_movies = movies.sort_values('popularity',ascending=False).head(10)\n",
    "#movies.merge(movie_to_genres,left_on='id',right_on='movie_id')\n",
    "print('pop_movies \\n',pop_movies,'\\n')\n",
    "\n"
   ]
  },
  {
   "attachments": {},
   "cell_type": "markdown",
   "metadata": {},
   "source": [
    "- Merge *movie_to_genres* and *pop_movies* using a right join. Save the results as genres_movies.\n",
    "- Group *genres_movies* by **genre** and count the number of *id* values."
   ]
  },
  {
   "cell_type": "code",
   "execution_count": 12,
   "metadata": {},
   "outputs": [
    {
     "ename": "KeyError",
     "evalue": "'genres'",
     "output_type": "error",
     "traceback": [
      "\u001b[0;31m---------------------------------------------------------------------------\u001b[0m",
      "\u001b[0;31mKeyError\u001b[0m                                  Traceback (most recent call last)",
      "\u001b[1;32m/media/documentos/Cursos/Data Science/Python/Data_Science_Python/datacamp - Data Scientist with Python/3_Data Manipulation with pandas/6_Merging Tables With Different Join Types/5_Popular genres with right join.ipynb Celda 4\u001b[0m in \u001b[0;36m<cell line: 7>\u001b[0;34m()\u001b[0m\n\u001b[1;32m      <a href='vscode-notebook-cell:/media/documentos/Cursos/Data%20Science/Python/Data_Science_Python/datacamp%20-%20Data%20Scientist%20with%20Python/3_Data%20Manipulation%20with%20pandas/6_Merging%20Tables%20With%20Different%20Join%20Types/5_Popular%20genres%20with%20right%20join.ipynb#W3sZmlsZQ%3D%3D?line=1'>2</a>\u001b[0m genres_movies \u001b[39m=\u001b[39m movie_to_genres\u001b[39m.\u001b[39mmerge(pop_movies, how\u001b[39m=\u001b[39m\u001b[39m'\u001b[39m\u001b[39mright\u001b[39m\u001b[39m'\u001b[39m, \n\u001b[1;32m      <a href='vscode-notebook-cell:/media/documentos/Cursos/Data%20Science/Python/Data_Science_Python/datacamp%20-%20Data%20Scientist%20with%20Python/3_Data%20Manipulation%20with%20pandas/6_Merging%20Tables%20With%20Different%20Join%20Types/5_Popular%20genres%20with%20right%20join.ipynb#W3sZmlsZQ%3D%3D?line=2'>3</a>\u001b[0m                                       left_on\u001b[39m=\u001b[39m\u001b[39m'\u001b[39m\u001b[39mmovie_id\u001b[39m\u001b[39m'\u001b[39m, \n\u001b[1;32m      <a href='vscode-notebook-cell:/media/documentos/Cursos/Data%20Science/Python/Data_Science_Python/datacamp%20-%20Data%20Scientist%20with%20Python/3_Data%20Manipulation%20with%20pandas/6_Merging%20Tables%20With%20Different%20Join%20Types/5_Popular%20genres%20with%20right%20join.ipynb#W3sZmlsZQ%3D%3D?line=3'>4</a>\u001b[0m                                       right_on\u001b[39m=\u001b[39m\u001b[39m'\u001b[39m\u001b[39mid\u001b[39m\u001b[39m'\u001b[39m)\n\u001b[1;32m      <a href='vscode-notebook-cell:/media/documentos/Cursos/Data%20Science/Python/Data_Science_Python/datacamp%20-%20Data%20Scientist%20with%20Python/3_Data%20Manipulation%20with%20pandas/6_Merging%20Tables%20With%20Different%20Join%20Types/5_Popular%20genres%20with%20right%20join.ipynb#W3sZmlsZQ%3D%3D?line=5'>6</a>\u001b[0m \u001b[39m# Count the number of genres\u001b[39;00m\n\u001b[0;32m----> <a href='vscode-notebook-cell:/media/documentos/Cursos/Data%20Science/Python/Data_Science_Python/datacamp%20-%20Data%20Scientist%20with%20Python/3_Data%20Manipulation%20with%20pandas/6_Merging%20Tables%20With%20Different%20Join%20Types/5_Popular%20genres%20with%20right%20join.ipynb#W3sZmlsZQ%3D%3D?line=6'>7</a>\u001b[0m genre_count \u001b[39m=\u001b[39m genres_movies\u001b[39m.\u001b[39;49mgroupby(\u001b[39m'\u001b[39;49m\u001b[39mgenres\u001b[39;49m\u001b[39m'\u001b[39;49m)\u001b[39m.\u001b[39magg({\u001b[39m'\u001b[39m\u001b[39mid\u001b[39m\u001b[39m'\u001b[39m:\u001b[39m'\u001b[39m\u001b[39mcount\u001b[39m\u001b[39m'\u001b[39m})\n\u001b[1;32m      <a href='vscode-notebook-cell:/media/documentos/Cursos/Data%20Science/Python/Data_Science_Python/datacamp%20-%20Data%20Scientist%20with%20Python/3_Data%20Manipulation%20with%20pandas/6_Merging%20Tables%20With%20Different%20Join%20Types/5_Popular%20genres%20with%20right%20join.ipynb#W3sZmlsZQ%3D%3D?line=8'>9</a>\u001b[0m \u001b[39m# Plot a bar chart of the genre_count\u001b[39;00m\n\u001b[1;32m     <a href='vscode-notebook-cell:/media/documentos/Cursos/Data%20Science/Python/Data_Science_Python/datacamp%20-%20Data%20Scientist%20with%20Python/3_Data%20Manipulation%20with%20pandas/6_Merging%20Tables%20With%20Different%20Join%20Types/5_Popular%20genres%20with%20right%20join.ipynb#W3sZmlsZQ%3D%3D?line=9'>10</a>\u001b[0m genre_count\u001b[39m.\u001b[39mplot(kind\u001b[39m=\u001b[39m\u001b[39m'\u001b[39m\u001b[39mbar\u001b[39m\u001b[39m'\u001b[39m)\n",
      "File \u001b[0;32m/usr/local/lib/python3.9/dist-packages/pandas/core/frame.py:8392\u001b[0m, in \u001b[0;36mDataFrame.groupby\u001b[0;34m(self, by, axis, level, as_index, sort, group_keys, squeeze, observed, dropna)\u001b[0m\n\u001b[1;32m   8389\u001b[0m     \u001b[39mraise\u001b[39;00m \u001b[39mTypeError\u001b[39;00m(\u001b[39m\"\u001b[39m\u001b[39mYou have to supply one of \u001b[39m\u001b[39m'\u001b[39m\u001b[39mby\u001b[39m\u001b[39m'\u001b[39m\u001b[39m and \u001b[39m\u001b[39m'\u001b[39m\u001b[39mlevel\u001b[39m\u001b[39m'\u001b[39m\u001b[39m\"\u001b[39m)\n\u001b[1;32m   8390\u001b[0m axis \u001b[39m=\u001b[39m \u001b[39mself\u001b[39m\u001b[39m.\u001b[39m_get_axis_number(axis)\n\u001b[0;32m-> 8392\u001b[0m \u001b[39mreturn\u001b[39;00m DataFrameGroupBy(\n\u001b[1;32m   8393\u001b[0m     obj\u001b[39m=\u001b[39;49m\u001b[39mself\u001b[39;49m,\n\u001b[1;32m   8394\u001b[0m     keys\u001b[39m=\u001b[39;49mby,\n\u001b[1;32m   8395\u001b[0m     axis\u001b[39m=\u001b[39;49maxis,\n\u001b[1;32m   8396\u001b[0m     level\u001b[39m=\u001b[39;49mlevel,\n\u001b[1;32m   8397\u001b[0m     as_index\u001b[39m=\u001b[39;49mas_index,\n\u001b[1;32m   8398\u001b[0m     sort\u001b[39m=\u001b[39;49msort,\n\u001b[1;32m   8399\u001b[0m     group_keys\u001b[39m=\u001b[39;49mgroup_keys,\n\u001b[1;32m   8400\u001b[0m     squeeze\u001b[39m=\u001b[39;49msqueeze,\n\u001b[1;32m   8401\u001b[0m     observed\u001b[39m=\u001b[39;49mobserved,\n\u001b[1;32m   8402\u001b[0m     dropna\u001b[39m=\u001b[39;49mdropna,\n\u001b[1;32m   8403\u001b[0m )\n",
      "File \u001b[0;32m/usr/local/lib/python3.9/dist-packages/pandas/core/groupby/groupby.py:959\u001b[0m, in \u001b[0;36mGroupBy.__init__\u001b[0;34m(self, obj, keys, axis, level, grouper, exclusions, selection, as_index, sort, group_keys, squeeze, observed, mutated, dropna)\u001b[0m\n\u001b[1;32m    956\u001b[0m \u001b[39mif\u001b[39;00m grouper \u001b[39mis\u001b[39;00m \u001b[39mNone\u001b[39;00m:\n\u001b[1;32m    957\u001b[0m     \u001b[39mfrom\u001b[39;00m \u001b[39mpandas\u001b[39;00m\u001b[39m.\u001b[39;00m\u001b[39mcore\u001b[39;00m\u001b[39m.\u001b[39;00m\u001b[39mgroupby\u001b[39;00m\u001b[39m.\u001b[39;00m\u001b[39mgrouper\u001b[39;00m \u001b[39mimport\u001b[39;00m get_grouper\n\u001b[0;32m--> 959\u001b[0m     grouper, exclusions, obj \u001b[39m=\u001b[39m get_grouper(\n\u001b[1;32m    960\u001b[0m         obj,\n\u001b[1;32m    961\u001b[0m         keys,\n\u001b[1;32m    962\u001b[0m         axis\u001b[39m=\u001b[39;49maxis,\n\u001b[1;32m    963\u001b[0m         level\u001b[39m=\u001b[39;49mlevel,\n\u001b[1;32m    964\u001b[0m         sort\u001b[39m=\u001b[39;49msort,\n\u001b[1;32m    965\u001b[0m         observed\u001b[39m=\u001b[39;49mobserved,\n\u001b[1;32m    966\u001b[0m         mutated\u001b[39m=\u001b[39;49m\u001b[39mself\u001b[39;49m\u001b[39m.\u001b[39;49mmutated,\n\u001b[1;32m    967\u001b[0m         dropna\u001b[39m=\u001b[39;49m\u001b[39mself\u001b[39;49m\u001b[39m.\u001b[39;49mdropna,\n\u001b[1;32m    968\u001b[0m     )\n\u001b[1;32m    970\u001b[0m \u001b[39mself\u001b[39m\u001b[39m.\u001b[39mobj \u001b[39m=\u001b[39m obj\n\u001b[1;32m    971\u001b[0m \u001b[39mself\u001b[39m\u001b[39m.\u001b[39maxis \u001b[39m=\u001b[39m obj\u001b[39m.\u001b[39m_get_axis_number(axis)\n",
      "File \u001b[0;32m/usr/local/lib/python3.9/dist-packages/pandas/core/groupby/grouper.py:889\u001b[0m, in \u001b[0;36mget_grouper\u001b[0;34m(obj, key, axis, level, sort, observed, mutated, validate, dropna)\u001b[0m\n\u001b[1;32m    887\u001b[0m         in_axis, level, gpr \u001b[39m=\u001b[39m \u001b[39mFalse\u001b[39;00m, gpr, \u001b[39mNone\u001b[39;00m\n\u001b[1;32m    888\u001b[0m     \u001b[39melse\u001b[39;00m:\n\u001b[0;32m--> 889\u001b[0m         \u001b[39mraise\u001b[39;00m \u001b[39mKeyError\u001b[39;00m(gpr)\n\u001b[1;32m    890\u001b[0m \u001b[39melif\u001b[39;00m \u001b[39misinstance\u001b[39m(gpr, Grouper) \u001b[39mand\u001b[39;00m gpr\u001b[39m.\u001b[39mkey \u001b[39mis\u001b[39;00m \u001b[39mnot\u001b[39;00m \u001b[39mNone\u001b[39;00m:\n\u001b[1;32m    891\u001b[0m     \u001b[39m# Add key to exclusions\u001b[39;00m\n\u001b[1;32m    892\u001b[0m     exclusions\u001b[39m.\u001b[39madd(gpr\u001b[39m.\u001b[39mkey)\n",
      "\u001b[0;31mKeyError\u001b[0m: 'genres'"
     ]
    }
   ],
   "source": [
    "# Use right join to merge the movie_to_genres and pop_movies tables\n",
    "genres_movies = movie_to_genres.merge(pop_movies, how='right', \n",
    "                                      left_on='movie_id', \n",
    "                                      right_on='id')\n",
    "\n",
    "# Count the number of genres\n",
    "genre_count = genres_movies.groupby('genre').agg({'id':'count'})\n",
    "\n",
    "# Plot a bar chart of the genre_count\n",
    "genre_count.plot(kind='bar')\n",
    "plt.show()"
   ]
  }
 ],
 "metadata": {
  "kernelspec": {
   "display_name": "Python 3",
   "language": "python",
   "name": "python3"
  },
  "language_info": {
   "codemirror_mode": {
    "name": "ipython",
    "version": 3
   },
   "file_extension": ".py",
   "mimetype": "text/x-python",
   "name": "python",
   "nbconvert_exporter": "python",
   "pygments_lexer": "ipython3",
   "version": "3.9.2"
  },
  "orig_nbformat": 4,
  "vscode": {
   "interpreter": {
    "hash": "31f2aee4e71d21fbe5cf8b01ff0e069b9275f58929596ceb00d14d90e3e16cd6"
   }
  }
 },
 "nbformat": 4,
 "nbformat_minor": 2
}

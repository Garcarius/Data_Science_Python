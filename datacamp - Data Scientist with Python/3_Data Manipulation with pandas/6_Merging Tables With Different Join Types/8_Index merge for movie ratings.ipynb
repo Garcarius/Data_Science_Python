{
 "cells": [
  {
   "attachments": {},
   "cell_type": "markdown",
   "metadata": {},
   "source": [
    "# Index merge for movie ratings\n",
    "To practice merging on indexes, you will merge *movies* and a table called *ratings* that holds info about movie ratings. Make sure your merge returns all of the rows from the *movies* table and not all the rows of *ratings* table need to be included in the result.\n",
    "\n",
    "The *movies* and *ratings* tables have been loaded for you."
   ]
  },
  {
   "cell_type": "code",
   "execution_count": 6,
   "metadata": {},
   "outputs": [
    {
     "name": "stdout",
     "output_type": "stream",
     "text": [
      "movies \n",
      "                       title  popularity release_date\n",
      "id                                                  \n",
      "257            Oliver Twist   20.415572   2005-09-23\n",
      "14290  Better Luck Tomorrow    3.877036   2002-01-12\n",
      "38365             Grown Ups   38.864027   2010-06-24\n",
      "9672               Infamous    3.680896   2006-11-16\n",
      "12819       Alpha and Omega   12.300789   2010-09-17 \n",
      "\n",
      "ratings \n",
      "         vote_average  vote_count\n",
      "id                              \n",
      "19995            7.2     11800.0\n",
      "285              6.9      4500.0\n",
      "206647           6.3      4466.0\n",
      "49026            7.6      9106.0\n",
      "49529            6.1      2124.0 \n",
      "\n"
     ]
    }
   ],
   "source": [
    "import pandas as pd\n",
    "import matplotlib.pyplot as plt\n",
    "path=r'/media/documentos/Cursos/Data Science/Python/Data_Science_Python/data_sets/'\n",
    "\n",
    "movies=pd.read_pickle(path+'movies.p').set_index('id')\n",
    "\n",
    "print('movies \\n',movies.head(),'\\n')\n",
    "\n",
    "ratings=pd.read_pickle(path+'ratings.p').set_index('id')\n",
    "print('ratings \\n',ratings.head(),'\\n')"
   ]
  },
  {
   "attachments": {},
   "cell_type": "markdown",
   "metadata": {},
   "source": [
    "Merge *movies* and *ratings* on the index and save to a variable called *movies_ratings*, ensuring that all of the rows from the *movies* table are returned."
   ]
  },
  {
   "cell_type": "code",
   "execution_count": 7,
   "metadata": {},
   "outputs": [
    {
     "name": "stdout",
     "output_type": "stream",
     "text": [
      "                      title  popularity release_date  vote_average  vote_count\n",
      "id                                                                            \n",
      "257            Oliver Twist   20.415572   2005-09-23           6.7       274.0\n",
      "14290  Better Luck Tomorrow    3.877036   2002-01-12           6.5        27.0\n",
      "38365             Grown Ups   38.864027   2010-06-24           6.0      1705.0\n",
      "9672               Infamous    3.680896   2006-11-16           6.4        60.0\n",
      "12819       Alpha and Omega   12.300789   2010-09-17           5.3       124.0\n"
     ]
    }
   ],
   "source": [
    "# Merge to the movies table the ratings table on the index\n",
    "movies_ratings = movies.merge(ratings,on='id',how='left')\n",
    "\n",
    "# Print the first few rows of movies_ratings\n",
    "print(movies_ratings.head())"
   ]
  }
 ],
 "metadata": {
  "kernelspec": {
   "display_name": "Python 3",
   "language": "python",
   "name": "python3"
  },
  "language_info": {
   "codemirror_mode": {
    "name": "ipython",
    "version": 3
   },
   "file_extension": ".py",
   "mimetype": "text/x-python",
   "name": "python",
   "nbconvert_exporter": "python",
   "pygments_lexer": "ipython3",
   "version": "3.9.2"
  },
  "orig_nbformat": 4,
  "vscode": {
   "interpreter": {
    "hash": "31f2aee4e71d21fbe5cf8b01ff0e069b9275f58929596ceb00d14d90e3e16cd6"
   }
  }
 },
 "nbformat": 4,
 "nbformat_minor": 2
}

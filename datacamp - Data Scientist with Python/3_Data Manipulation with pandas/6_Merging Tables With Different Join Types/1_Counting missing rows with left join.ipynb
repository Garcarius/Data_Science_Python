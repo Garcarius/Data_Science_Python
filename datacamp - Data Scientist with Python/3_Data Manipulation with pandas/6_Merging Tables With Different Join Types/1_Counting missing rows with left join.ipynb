{
 "cells": [
  {
   "attachments": {},
   "cell_type": "markdown",
   "metadata": {},
   "source": [
    "# Counting missing rows with left join\n",
    "\n",
    "The Movie Database is supported by volunteers going out into the world, collecting data, and entering it into the database. This includes financial data, such as movie budget and revenue. If you wanted to know which movies are still missing data, you could use a left join to identify them. Practice using a left join by merging the *movies* table and the *financials* table.\n",
    "\n",
    "The *movies* and *financials* tables have been loaded for you."
   ]
  },
  {
   "cell_type": "code",
   "execution_count": 1,
   "metadata": {},
   "outputs": [
    {
     "name": "stdout",
     "output_type": "stream",
     "text": [
      "movies \n",
      "       id                 title  popularity release_date\n",
      "0    257          Oliver Twist   20.415572   2005-09-23\n",
      "1  14290  Better Luck Tomorrow    3.877036   2002-01-12\n",
      "2  38365             Grown Ups   38.864027   2010-06-24\n",
      "3   9672              Infamous    3.680896   2006-11-16\n",
      "4  12819       Alpha and Omega   12.300789   2010-09-17 \n",
      "\n",
      "financials \n",
      "        id     budget       revenue\n",
      "0   19995  237000000  2.787965e+09\n",
      "1     285  300000000  9.610000e+08\n",
      "2  206647  245000000  8.806746e+08\n",
      "3   49026  250000000  1.084939e+09\n",
      "4   49529  260000000  2.841391e+08 \n",
      "\n"
     ]
    }
   ],
   "source": [
    "import pandas as pd\n",
    "import matplotlib.pyplot as plt\n",
    "path=r'/media/documentos/Cursos/Data Science/Python/Data_Science_Python/data_sets/'\n",
    "\n",
    "movies=pd.read_pickle(path+'movies.p')\n",
    "#licenses.astype({'ward': 'int32'}).dtypes\n",
    "print('movies \\n',movies.head(),'\\n')\n",
    "\n",
    "\n",
    "financials=pd.read_pickle(path+'financials.p')\n",
    "#land_use.astype({'ward': 'int32'}).dtypes\n",
    "print('financials \\n',financials.head(),'\\n')\n"
   ]
  },
  {
   "attachments": {},
   "cell_type": "markdown",
   "metadata": {},
   "source": [
    "## Question\n",
    "What column is likely the best column to merge the two tables on?\n",
    "**Possible Answers**\n",
    "on='id'"
   ]
  },
  {
   "attachments": {},
   "cell_type": "markdown",
   "metadata": {},
   "source": [
    "- Merge the *movies* table, as the left table, with the *financials* table using a left join, and save the result to **movies_financials**."
   ]
  },
  {
   "cell_type": "code",
   "execution_count": 2,
   "metadata": {},
   "outputs": [
    {
     "name": "stdout",
     "output_type": "stream",
     "text": [
      "      id                 title  popularity release_date      budget  \\\n",
      "0    257          Oliver Twist   20.415572   2005-09-23  50000000.0   \n",
      "1  14290  Better Luck Tomorrow    3.877036   2002-01-12         NaN   \n",
      "2  38365             Grown Ups   38.864027   2010-06-24  80000000.0   \n",
      "3   9672              Infamous    3.680896   2006-11-16  13000000.0   \n",
      "4  12819       Alpha and Omega   12.300789   2010-09-17  20000000.0   \n",
      "\n",
      "       revenue  \n",
      "0   42093706.0  \n",
      "1          NaN  \n",
      "2  271430189.0  \n",
      "3    1151330.0  \n",
      "4   39300000.0  \n"
     ]
    }
   ],
   "source": [
    "# Merge movies and financials with a left join\n",
    "movies_financials = movies.merge(financials,on='id',how='left')\n",
    "print(movies_financials.head())"
   ]
  },
  {
   "attachments": {},
   "cell_type": "markdown",
   "metadata": {},
   "source": [
    "- Count the number of rows in *movies_financials* with a **null** value in the *budget* column."
   ]
  },
  {
   "cell_type": "code",
   "execution_count": 5,
   "metadata": {},
   "outputs": [
    {
     "name": "stdout",
     "output_type": "stream",
     "text": [
      "1574\n"
     ]
    }
   ],
   "source": [
    "# Merge the movies table with the financials table with a left join\n",
    "movies_financials = movies.merge(financials, on='id', how='left')\n",
    "\n",
    "# Count the number of rows in the budget column that are missing\n",
    "number_of_missing_fin = movies_financials['budget'].isnull().sum()\n",
    "\n",
    "# Print the number of movies missing financials\n",
    "print(number_of_missing_fin)"
   ]
  }
 ],
 "metadata": {
  "kernelspec": {
   "display_name": "Python 3",
   "language": "python",
   "name": "python3"
  },
  "language_info": {
   "codemirror_mode": {
    "name": "ipython",
    "version": 3
   },
   "file_extension": ".py",
   "mimetype": "text/x-python",
   "name": "python",
   "nbconvert_exporter": "python",
   "pygments_lexer": "ipython3",
   "version": "3.9.2"
  },
  "orig_nbformat": 4,
  "vscode": {
   "interpreter": {
    "hash": "31f2aee4e71d21fbe5cf8b01ff0e069b9275f58929596ceb00d14d90e3e16cd6"
   }
  }
 },
 "nbformat": 4,
 "nbformat_minor": 2
}

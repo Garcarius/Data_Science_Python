{
 "cells": [
  {
   "attachments": {
    "image.png": {
     "image/png": "[encoded data removed]"
    }
   },
   "cell_type": "markdown",
   "metadata": {},
   "source": [
    "# Using outer join to select actors\n",
    "One cool aspect of using an outer join is that, because it returns all rows from both merged tables and null where they do not match, you can use it to find rows that do not have a match in the other table. To try for yourself, you have been given two tables with a list of actors from two popular movies: *Iron Man 1* and *Iron Man 2*. Most of the actors played in both movies. Use an outer join to find actors **who did not** act in both movies.\n",
    "\n",
    "The Iron Man 1 table is called *iron_1_actors*, and Iron Man 2 table is called *iron_2_actors*. Both tables have been loaded for you and a few rows printed so you can see the structure.\n",
    "\n",
    "![image.png](attachment:image.png)"
   ]
  },
  {
   "cell_type": "code",
   "execution_count": 29,
   "metadata": {},
   "outputs": [
    {
     "name": "stdout",
     "output_type": "stream",
     "text": [
      "movies \n",
      "       id                 title  popularity release_date\n",
      "0    257          Oliver Twist   20.415572   2005-09-23\n",
      "1  14290  Better Luck Tomorrow    3.877036   2002-01-12\n",
      "2  38365             Grown Ups   38.864027   2010-06-24\n",
      "3   9672              Infamous    3.680896   2006-11-16\n",
      "4  12819       Alpha and Omega   12.300789   2010-09-17 \n",
      "\n",
      "casts \n",
      "     movie_id  cast_id character  gender    id               name\n",
      "7          5       22   Jezebel       1  3122        Sammi Davis\n",
      "8          5       23     Diana       1  3123  Amanda de Cadenet\n",
      "9          5       24    Athena       1  3124     Valeria Golino\n",
      "3          5       25   Elspeth       1  3125            Madonna\n",
      "12         5       26       Eva       1  3126          Ione Skye \n",
      "\n",
      "         id       title  popularity release_date\n",
      "2198   1726    Iron Man  120.725053   2008-04-30\n",
      "3286  68721  Iron Man 3   77.682080   2013-04-18\n",
      "3401  10138  Iron Man 2   77.300194   2010-04-28\n",
      "\n",
      " iron_1_actors                                       character     id             name\n",
      "0                                        Yinsen  17857       Shaun Toub\n",
      "1                       Virginia \"Pepper\" Potts  12052  Gwyneth Paltrow\n",
      "2                   Obadiah Stane / Iron Monger   1229     Jeff Bridges\n",
      "3  Lt. Col. James \"Rhodey\" Rhodes / War Machine  18288  Terrence Howard\n",
      "4                            Christine Everhart  57451      Leslie Bibb \n",
      "\n",
      "   id_mov       title  popularity release_date  movie_id  cast_id  \\\n",
      "0   10138  Iron Man 2   77.300194   2010-04-28     10138        3   \n",
      "1   10138  Iron Man 2   77.300194   2010-04-28     10138        5   \n",
      "2   10138  Iron Man 2   77.300194   2010-04-28     10138        6   \n",
      "3   10138  Iron Man 2   77.300194   2010-04-28     10138        7   \n",
      "4   10138  Iron Man 2   77.300194   2010-04-28     10138       18   \n",
      "\n",
      "                                          character  gender     id  \\\n",
      "0                             Ivan Vanko / Whiplash       2   2295   \n",
      "1  Natalie Rushman / Natasha Romanoff / Black Widow       1   1245   \n",
      "2                                     Justin Hammer       2   6807   \n",
      "3                                Director Nick Fury       2   2231   \n",
      "4                           Virginia \"Pepper\" Potts       1  12052   \n",
      "\n",
      "                 name  \n",
      "0       Mickey Rourke  \n",
      "1  Scarlett Johansson  \n",
      "2        Sam Rockwell  \n",
      "3   Samuel L. Jackson  \n",
      "4     Gwyneth Paltrow  \n",
      "\n",
      " iron_2_actors                                           character     id                name\n",
      "0                             Ivan Vanko / Whiplash   2295       Mickey Rourke\n",
      "1  Natalie Rushman / Natasha Romanoff / Black Widow   1245  Scarlett Johansson\n",
      "2                                     Justin Hammer   6807        Sam Rockwell\n",
      "3                                Director Nick Fury   2231   Samuel L. Jackson\n",
      "4                           Virginia \"Pepper\" Potts  12052     Gwyneth Paltrow \n",
      "\n"
     ]
    }
   ],
   "source": [
    "import pandas as pd\n",
    "import matplotlib.pyplot as plt\n",
    "path=r'/media/documentos/Cursos/Data Science/Python/Data_Science_Python/data_sets/'\n",
    "\n",
    "movies=pd.read_pickle(path+'movies.p')\n",
    "toy_story=movies[movies['title'].str.contains('Iron Man', na=False)]\n",
    "print('movies \\n',movies.head(),'\\n')\n",
    "\n",
    "casts=pd.read_pickle(path+'casts.p')\n",
    "#land_use.astype({'ward': 'int32'}).dtypes\n",
    "print('casts \\n',casts.head(),'\\n')\n",
    "#print('genres \\n',movie_to_genres['genre'].unique(),'\\n')\n",
    "\n",
    "print(movies[movies['title'].str.contains('Iron Man', na=False)])\n",
    "\n",
    "iron_1 = movies[movies['title']=='Iron Man'].merge(casts,left_on='id',right_on='movie_id',suffixes=('_mov',''))\n",
    "#print(iron_1.head())\n",
    "iron_1_actors=iron_1[['character','id','name']]\n",
    "print('\\n iron_1_actors',iron_1_actors.head(),'\\n')\n",
    "iron_2 = movies[movies['title']=='Iron Man 2'].merge(casts,left_on='id',right_on='movie_id',suffixes=('_mov',''))\n",
    "print(iron_2.head())\n",
    "iron_2_actors=iron_2[['character','id','name']]\n",
    "print('\\n iron_2_actors',iron_2_actors.head(),'\\n')"
   ]
  },
  {
   "cell_type": "code",
   "execution_count": 30,
   "metadata": {},
   "outputs": [
    {
     "name": "stdout",
     "output_type": "stream",
     "text": [
      "\n",
      " iron_1_actors                                       character     id             name\n",
      "0                                        Yinsen  17857       Shaun Toub\n",
      "1                       Virginia \"Pepper\" Potts  12052  Gwyneth Paltrow\n",
      "2                   Obadiah Stane / Iron Monger   1229     Jeff Bridges\n",
      "3  Lt. Col. James \"Rhodey\" Rhodes / War Machine  18288  Terrence Howard\n",
      "4                            Christine Everhart  57451      Leslie Bibb \n",
      "\n"
     ]
    }
   ],
   "source": [
    "print('\\n iron_1_actors',iron_1_actors.head(),'\\n')"
   ]
  },
  {
   "cell_type": "code",
   "execution_count": 31,
   "metadata": {},
   "outputs": [
    {
     "name": "stdout",
     "output_type": "stream",
     "text": [
      "\n",
      " iron_2_actors                                           character     id                name\n",
      "0                             Ivan Vanko / Whiplash   2295       Mickey Rourke\n",
      "1  Natalie Rushman / Natasha Romanoff / Black Widow   1245  Scarlett Johansson\n",
      "2                                     Justin Hammer   6807        Sam Rockwell\n",
      "3                                Director Nick Fury   2231   Samuel L. Jackson\n",
      "4                           Virginia \"Pepper\" Potts  12052     Gwyneth Paltrow \n",
      "\n"
     ]
    }
   ],
   "source": [
    "print('\\n iron_2_actors',iron_2_actors.head(),'\\n')"
   ]
  },
  {
   "attachments": {},
   "cell_type": "markdown",
   "metadata": {},
   "source": [
    "- Save to *iron_1_and_2* the merge of *iron_1_actors* (left) with *iron_2_actors* tables with an outer join on the id column, and set suffixes to *('_1','_2')*.\n",
    "- Create an index that returns *True* if *name_1* or *name_2* are null, and False otherwise."
   ]
  },
  {
   "cell_type": "code",
   "execution_count": 35,
   "metadata": {},
   "outputs": [
    {
     "name": "stdout",
     "output_type": "stream",
     "text": [
      "                                    character_1      id           name_1  \\\n",
      "0                                        Yinsen   17857       Shaun Toub   \n",
      "2                   Obadiah Stane / Iron Monger    1229     Jeff Bridges   \n",
      "3  Lt. Col. James \"Rhodey\" Rhodes / War Machine   18288  Terrence Howard   \n",
      "5                                          Raza   57452      Faran Tahir   \n",
      "8                                    Abu Bakaar  173810    Sayed Badreya   \n",
      "\n",
      "  character_2 name_2  \n",
      "0         NaN    NaN  \n",
      "2         NaN    NaN  \n",
      "3         NaN    NaN  \n",
      "5         NaN    NaN  \n",
      "8         NaN    NaN  \n"
     ]
    }
   ],
   "source": [
    "# Merge iron_1_actors to iron_2_actors on id with outer join using suffixes\n",
    "iron_1_and_2 = iron_1_actors.merge(iron_2_actors,\n",
    "                                     how='outer',\n",
    "                                     on='id',\n",
    "                                     suffixes=('_1','_2'))\n",
    "\n",
    "# Create an index that returns true if name_1 or name_2 are null\n",
    "m = ((iron_1_and_2['name_1'].isnull()) | \n",
    "     (iron_1_and_2['name_2'].isnull()))\n",
    "\n",
    "# Print the first few rows of iron_1_and_2\n",
    "print(iron_1_and_2[m].head())"
   ]
  }
 ],
 "metadata": {
  "kernelspec": {
   "display_name": "Python 3",
   "language": "python",
   "name": "python3"
  },
  "language_info": {
   "codemirror_mode": {
    "name": "ipython",
    "version": 3
   },
   "file_extension": ".py",
   "mimetype": "text/x-python",
   "name": "python",
   "nbconvert_exporter": "python",
   "pygments_lexer": "ipython3",
   "version": "3.9.2"
  },
  "orig_nbformat": 4,
  "vscode": {
   "interpreter": {
    "hash": "31f2aee4e71d21fbe5cf8b01ff0e069b9275f58929596ceb00d14d90e3e16cd6"
   }
  }
 },
 "nbformat": 4,
 "nbformat_minor": 2
}

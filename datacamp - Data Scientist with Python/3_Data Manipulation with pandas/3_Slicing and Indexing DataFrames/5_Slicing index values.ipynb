{
 "cells": [
  {
   "attachments": {},
   "cell_type": "markdown",
   "metadata": {},
   "source": [
    "# Slicing index values\n",
    "Slicing lets you select consecutive elements of an object using **first:last** syntax. DataFrames can be sliced by index values or by row/column number; we'll start with the first case. This involves slicing inside the **.loc[]** method.\n",
    "\n",
    "Compared to slicing lists, there are a few things to remember.\n",
    "\n",
    "You can only slice an index if the index is sorted (using **.sort_index()**).\n",
    "To slice at the outer level, **first** and **last** can be strings.\n",
    "To slice at inner levels, **first** and **last** should be tuples.\n",
    "If you pass a single slice to **.loc[]**, it will slice the rows.\n",
    "**pandas** is loaded as **pd**. **temperatures_ind** has country and city in the index, and is available."
   ]
  },
  {
   "cell_type": "code",
   "execution_count": 2,
   "metadata": {},
   "outputs": [],
   "source": [
    "import pandas as pd\n",
    "path=r'/media/documentos/Cursos/Data Science/Python/Data_Science_Python/data_sets/'\n",
    "file='temperatures.csv'\n",
    "temperatures=pd.read_csv(path+file,index_col=0)\n",
    "temperatures_ind = temperatures.set_index([\"country\",\"city\"])"
   ]
  },
  {
   "attachments": {},
   "cell_type": "markdown",
   "metadata": {},
   "source": [
    "- Sort the index of *temperatures_ind*.\n",
    "- Use slicing with *.loc[]* to get these subsets:\n",
    "    - from Pakistan to Russia.\n",
    "    - from Lahore to Moscow. (*This will return nonsense*.)\n",
    "    - from Pakistan, Lahore to Russia, Moscow."
   ]
  },
  {
   "cell_type": "code",
   "execution_count": 3,
   "metadata": {},
   "outputs": [
    {
     "name": "stdout",
     "output_type": "stream",
     "text": [
      "                                 date  avg_temp_c\n",
      "country  city                                    \n",
      "Pakistan Faisalabad        2000-01-01      12.792\n",
      "         Faisalabad        2000-02-01      14.339\n",
      "         Faisalabad        2000-03-01      20.309\n",
      "         Faisalabad        2000-04-01      29.072\n",
      "         Faisalabad        2000-05-01      34.845\n",
      "...                               ...         ...\n",
      "Russia   Saint Petersburg  2013-05-01      12.355\n",
      "         Saint Petersburg  2013-06-01      17.185\n",
      "         Saint Petersburg  2013-07-01      17.234\n",
      "         Saint Petersburg  2013-08-01      17.153\n",
      "         Saint Petersburg  2013-09-01         NaN\n",
      "\n",
      "[1155 rows x 2 columns]\n",
      "                          date  avg_temp_c\n",
      "country city                              \n",
      "Mexico  Mexico      2000-01-01      12.694\n",
      "        Mexico      2000-02-01      14.677\n",
      "        Mexico      2000-03-01      17.376\n",
      "        Mexico      2000-04-01      18.294\n",
      "        Mexico      2000-05-01      18.562\n",
      "...                        ...         ...\n",
      "Morocco Casablanca  2013-05-01      19.217\n",
      "        Casablanca  2013-06-01      23.649\n",
      "        Casablanca  2013-07-01      27.488\n",
      "        Casablanca  2013-08-01      27.952\n",
      "        Casablanca  2013-09-01         NaN\n",
      "\n",
      "[330 rows x 2 columns]\n",
      "                       date  avg_temp_c\n",
      "country  city                          \n",
      "Pakistan Lahore  2000-01-01      12.792\n",
      "         Lahore  2000-02-01      14.339\n",
      "         Lahore  2000-03-01      20.309\n",
      "         Lahore  2000-04-01      29.072\n",
      "         Lahore  2000-05-01      34.845\n",
      "...                     ...         ...\n",
      "Russia   Moscow  2013-05-01      16.152\n",
      "         Moscow  2013-06-01      18.718\n",
      "         Moscow  2013-07-01      18.136\n",
      "         Moscow  2013-08-01      17.485\n",
      "         Moscow  2013-09-01         NaN\n",
      "\n",
      "[660 rows x 2 columns]\n"
     ]
    }
   ],
   "source": [
    "# Sort the index of temperatures_ind\n",
    "temperatures_srt = temperatures_ind.sort_index()\n",
    "\n",
    "# Subset rows from Pakistan to Russia\n",
    "print(temperatures_srt.loc[\"Pakistan\":\"Russia\"])\n",
    "\n",
    "# Try to subset rows from Lahore to Moscow\n",
    "print(temperatures_srt.loc[\"Lahore\":\"Moscow\"])\n",
    "\n",
    "# Subset rows from Pakistan, Lahore to Russia, Moscow\n",
    "print(temperatures_srt.loc[(\"Pakistan\",\"Lahore\"):( \"Russia\",\"Moscow\",)])"
   ]
  }
 ],
 "metadata": {
  "kernelspec": {
   "display_name": "Python 3",
   "language": "python",
   "name": "python3"
  },
  "language_info": {
   "codemirror_mode": {
    "name": "ipython",
    "version": 3
   },
   "file_extension": ".py",
   "mimetype": "text/x-python",
   "name": "python",
   "nbconvert_exporter": "python",
   "pygments_lexer": "ipython3",
   "version": "3.9.2"
  },
  "orig_nbformat": 4,
  "vscode": {
   "interpreter": {
    "hash": "31f2aee4e71d21fbe5cf8b01ff0e069b9275f58929596ceb00d14d90e3e16cd6"
   }
  }
 },
 "nbformat": 4,
 "nbformat_minor": 2
}

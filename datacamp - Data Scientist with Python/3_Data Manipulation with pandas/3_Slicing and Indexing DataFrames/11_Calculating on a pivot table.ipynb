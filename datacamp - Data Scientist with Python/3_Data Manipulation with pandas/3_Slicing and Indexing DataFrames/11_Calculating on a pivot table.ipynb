{
 "cells": [
  {
   "attachments": {},
   "cell_type": "markdown",
   "metadata": {},
   "source": [
    "# Calculating on a pivot table\n",
    "Pivot tables are filled with summary statistics, but they are only a first step to finding something insightful. Often you'll need to perform further calculations on them. A common thing to do is to find the rows or columns where the highest or lowest value occurs.\n",
    "\n",
    "Recall from Chapter 1 that you can easily subset a Series or DataFrame to find rows of interest using a logical condition inside of square brackets. For example: **series[series > value]**.\n",
    "\n",
    "**pandas** is loaded as *pd* and the DataFrame **temp_by_country_city_vs_year** is available."
   ]
  },
  {
   "cell_type": "code",
   "execution_count": 2,
   "metadata": {},
   "outputs": [
    {
     "name": "stdout",
     "output_type": "stream",
     "text": [
      "year                        2000       2001       2002       2003       2004  \\\n",
      "country     city                                                               \n",
      "Afghanistan Kabul      15.822667  15.847917  15.714583  15.132583  16.128417   \n",
      "Angola      Luanda     24.410333  24.427083  24.790917  24.867167  24.216167   \n",
      "Australia   Melbourne  14.320083  14.180000  14.075833  13.985583  13.742083   \n",
      "            Sydney     17.567417  17.854500  17.733833  17.592333  17.869667   \n",
      "Bangladesh  Dhaka      25.905250  25.931250  26.095000  25.927417  26.136083   \n",
      "\n",
      "year                        2005       2006       2007       2008       2009  \\\n",
      "country     city                                                               \n",
      "Afghanistan Kabul      14.847500  15.798500  15.518000  15.479250  15.093333   \n",
      "Angola      Luanda     24.414583  24.138417  24.241583  24.266333  24.325083   \n",
      "Australia   Melbourne  14.378500  13.991083  14.991833  14.110583  14.647417   \n",
      "            Sydney     18.028083  17.749500  18.020833  17.321083  18.175833   \n",
      "Bangladesh  Dhaka      26.193333  26.440417  25.951333  26.004500  26.535583   \n",
      "\n",
      "year                        2010       2011       2012       2013  \n",
      "country     city                                                   \n",
      "Afghanistan Kabul      15.676000  15.812167  14.510333  16.206125  \n",
      "Angola      Luanda     24.440250  24.150750  24.240083  24.553875  \n",
      "Australia   Melbourne  14.231667  14.190917  14.268667  14.741500  \n",
      "            Sydney     17.999000  17.713333  17.474333  18.089750  \n",
      "Bangladesh  Dhaka      26.648167  25.803250  26.283583  26.587000  \n"
     ]
    }
   ],
   "source": [
    "import pandas as pd\n",
    "path=r'/media/documentos/Cursos/Data Science/Python/Data_Science_Python/data_sets/'\n",
    "file='temperatures.csv'\n",
    "temperatures=pd.read_csv(path+file,index_col=0)\n",
    "temperatures['date'] =  pd.to_datetime(temperatures['date'], format='%Y-%m-%d')\n",
    "temperatures[\"year\"]=temperatures[\"date\"].dt.year\n",
    "temp_by_country_city_vs_year = temperatures.pivot_table(\"avg_temp_c\",index=[\"country\",\"city\"],columns=\"year\")\n",
    "print(temp_by_country_city_vs_year.head())"
   ]
  },
  {
   "attachments": {},
   "cell_type": "markdown",
   "metadata": {},
   "source": [
    "- Calculate the mean temperature for each year, assigning to **mean_temp_by_year**.\n",
    "- Filter **mean_temp_by_year** for the year that had the highest mean temperature.\n",
    "- Calculate the mean temperature for each city (across columns), assigning to **mean_temp_by_city**.\n",
    "- Filter **mean_temp_by_city** for the city that had the lowest mean temperature."
   ]
  },
  {
   "cell_type": "code",
   "execution_count": 6,
   "metadata": {},
   "outputs": [
    {
     "name": "stdout",
     "output_type": "stream",
     "text": [
      "year\n",
      "2013    20.312285\n",
      "dtype: float64\n",
      "country  city  \n",
      "China    Harbin    4.876551\n",
      "dtype: float64\n"
     ]
    }
   ],
   "source": [
    "# Get the worldwide mean temp by year\n",
    "mean_temp_by_year = temp_by_country_city_vs_year.mean()\n",
    "\n",
    "# Filter for the year that had the highest mean temp\n",
    "print(mean_temp_by_year[mean_temp_by_year==mean_temp_by_year.max()])\n",
    "\n",
    "# Get the mean temp by city\n",
    "mean_temp_by_city = temp_by_country_city_vs_year.mean(axis=\"columns\")\n",
    "\n",
    "# Filter for the city that had the lowest mean temp\n",
    "print(mean_temp_by_city[mean_temp_by_city==mean_temp_by_city.min()])"
   ]
  }
 ],
 "metadata": {
  "kernelspec": {
   "display_name": "Python 3",
   "language": "python",
   "name": "python3"
  },
  "language_info": {
   "codemirror_mode": {
    "name": "ipython",
    "version": 3
   },
   "file_extension": ".py",
   "mimetype": "text/x-python",
   "name": "python",
   "nbconvert_exporter": "python",
   "pygments_lexer": "ipython3",
   "version": "3.9.2 (default, Feb 28 2021, 17:03:44) \n[GCC 10.2.1 20210110]"
  },
  "orig_nbformat": 4,
  "vscode": {
   "interpreter": {
    "hash": "31f2aee4e71d21fbe5cf8b01ff0e069b9275f58929596ceb00d14d90e3e16cd6"
   }
  }
 },
 "nbformat": 4,
 "nbformat_minor": 2
}

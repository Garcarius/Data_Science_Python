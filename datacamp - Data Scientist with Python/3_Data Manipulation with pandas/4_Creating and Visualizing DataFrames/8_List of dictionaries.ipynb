{
 "cells": [
  {
   "attachments": {},
   "cell_type": "markdown",
   "metadata": {},
   "source": [
    "List of dictionaries\n",
    "You recently got some new avocado data from 2019 that you'd like to put in a DataFrame using the list of dictionaries method. Remember that with this method, you go through the data row by row.\n",
    "\n",
    "|  *date*     |*small_sold* |*large_sold* | \n",
    "|-------------|-------------|-------------|\n",
    "| \"2019-11-03\"| 10376832    | 7835071     |\n",
    "| \"2019-11-10\"| 10717154    | 8561348     |\n",
    "\n",
    "*pandas* as *pd* is imported."
   ]
  },
  {
   "cell_type": "code",
   "execution_count": 3,
   "metadata": {},
   "outputs": [
    {
     "name": "stdout",
     "output_type": "stream",
     "text": [
      "        date          type  year  avg_price   size     nb_sold\n",
      "0 2015-12-27  conventional  2015       0.95  small  9626901.09\n",
      "1 2015-12-20  conventional  2015       0.98  small  8710021.76\n",
      "2 2015-12-13  conventional  2015       0.93  small  9855053.66\n",
      "3 2015-12-06  conventional  2015       0.89  small  9405464.36\n",
      "4 2015-11-29  conventional  2015       0.99  small  8094803.56 \n",
      "\n",
      "          date          type  year  avg_price   size      nb_sold\n",
      "157 2018-03-25  conventional  2018       1.03  small  14130799.10\n",
      "158 2018-03-18  conventional  2018       1.05  small  13707389.51\n",
      "159 2018-03-11  conventional  2018       1.09  small  14089091.05\n",
      "160 2018-03-04  conventional  2018       1.07  small  14439547.46\n",
      "161 2018-02-25  conventional  2018       1.06  small  13829857.87\n"
     ]
    }
   ],
   "source": [
    "import pandas as pd\n",
    "import matplotlib.pyplot as plt\n",
    "path=r'/media/documentos/Cursos/Data Science/Python/Data_Science_Python/data_sets/'\n",
    "file='avoplotto.pkl'\n",
    "avocados=pd.read_pickle(path+file)\n",
    "avocados['date'] =  pd.to_datetime(avocados['date'], format='%Y-%m-%d')\n",
    "avocados[\"year\"]=avocados[\"date\"].dt.year\n",
    "print(avocados.head(),\"\\n\")\n",
    "avocados_19= avocados[avocados[\"year\"]==2018]\n",
    "print(avocados_19.head())"
   ]
  },
  {
   "attachments": {},
   "cell_type": "markdown",
   "metadata": {},
   "source": [
    "- Create a list of dictionaries with the new data called avocados_list.\n",
    "- Convert the list into a DataFrame called avocados_2019.\n",
    "- Print your new DataFrame."
   ]
  },
  {
   "cell_type": "code",
   "execution_count": 5,
   "metadata": {},
   "outputs": [
    {
     "name": "stdout",
     "output_type": "stream",
     "text": [
      "         date  small_sold  large_sold\n",
      "0  2019-11-03    10376832     7835071\n",
      "1  2019-11-10    10717154     8561348\n"
     ]
    }
   ],
   "source": [
    "# Create a list of dictionaries with new data\n",
    "avocados_list = [\n",
    "    {\"date\": \"2019-11-03\", \"small_sold\": 10376832, \"large_sold\": 7835071},\n",
    "    {\"date\": \"2019-11-10\", \"small_sold\": 10717154, \"large_sold\": 8561348},\n",
    "]\n",
    "\n",
    "# Convert list into DataFrame\n",
    "avocados_2019 = pd.DataFrame(avocados_list)\n",
    "\n",
    "# Print the new DataFrame\n",
    "print(avocados_2019)"
   ]
  }
 ],
 "metadata": {
  "kernelspec": {
   "display_name": "Python 3",
   "language": "python",
   "name": "python3"
  },
  "language_info": {
   "codemirror_mode": {
    "name": "ipython",
    "version": 3
   },
   "file_extension": ".py",
   "mimetype": "text/x-python",
   "name": "python",
   "nbconvert_exporter": "python",
   "pygments_lexer": "ipython3",
   "version": "3.9.2"
  },
  "orig_nbformat": 4,
  "vscode": {
   "interpreter": {
    "hash": "31f2aee4e71d21fbe5cf8b01ff0e069b9275f58929596ceb00d14d90e3e16cd6"
   }
  }
 },
 "nbformat": 4,
 "nbformat_minor": 2
}

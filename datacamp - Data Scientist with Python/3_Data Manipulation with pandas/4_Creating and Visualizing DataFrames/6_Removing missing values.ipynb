{
 "cells": [
  {
   "attachments": {},
   "cell_type": "markdown",
   "metadata": {},
   "source": [
    "# Removing missing values\n",
    "Now that you know there are some missing values in your DataFrame, you have a few options to deal with them. One way is to remove them from the dataset completely. In this exercise, you'll remove missing values by removing all rows that contain missing values.\n",
    "\n",
    "*pandas* has been imported as *pd* and *avocados_2016* is available."
   ]
  },
  {
   "cell_type": "code",
   "execution_count": 2,
   "metadata": {},
   "outputs": [
    {
     "name": "stdout",
     "output_type": "stream",
     "text": [
      "        date          type  year  avg_price   size     nb_sold\n",
      "0 2015-12-27  conventional  2015       0.95  small  9626901.09\n",
      "1 2015-12-20  conventional  2015       0.98  small  8710021.76\n",
      "2 2015-12-13  conventional  2015       0.93  small  9855053.66\n",
      "3 2015-12-06  conventional  2015       0.89  small  9405464.36\n",
      "4 2015-11-29  conventional  2015       0.99  small  8094803.56 \n",
      "\n",
      "         date          type  year  avg_price   size      nb_sold\n",
      "52 2016-12-25  conventional  2016       1.00  small   9255125.20\n",
      "53 2016-12-18  conventional  2016       0.96  small   9394065.91\n",
      "54 2016-12-11  conventional  2016       0.98  small   9009996.11\n",
      "55 2016-12-04  conventional  2016       1.00  small  11043350.90\n",
      "56 2016-11-27  conventional  2016       1.21  small   7891487.94\n"
     ]
    }
   ],
   "source": [
    "import pandas as pd\n",
    "import matplotlib.pyplot as plt\n",
    "path=r'/media/documentos/Cursos/Data Science/Python/Data_Science_Python/data_sets/'\n",
    "file='avoplotto.pkl'\n",
    "avocados=pd.read_pickle(path+file)\n",
    "avocados['date'] =  pd.to_datetime(avocados['date'], format='%Y-%m-%d')\n",
    "avocados[\"year\"]=avocados[\"date\"].dt.year\n",
    "print(avocados.head(),\"\\n\")\n",
    "avocados_2016= avocados[avocados[\"year\"]==2016]\n",
    "print(avocados_2016.head())"
   ]
  },
  {
   "attachments": {},
   "cell_type": "markdown",
   "metadata": {},
   "source": [
    "- Remove the rows of *avocados_2016* that contain missing values and store the remaining rows in *avocados_complete*.\n",
    "- Verify that all missing values have been removed from *avocados_complete*. Calculate each column that has NAs and print."
   ]
  },
  {
   "cell_type": "code",
   "execution_count": 3,
   "metadata": {},
   "outputs": [
    {
     "name": "stdout",
     "output_type": "stream",
     "text": [
      "date         False\n",
      "type         False\n",
      "year         False\n",
      "avg_price    False\n",
      "size         False\n",
      "nb_sold      False\n",
      "dtype: bool\n"
     ]
    }
   ],
   "source": [
    "# Remove rows with missing values\n",
    "avocados_complete = avocados_2016.dropna()\n",
    "\n",
    "# Check if any columns contain missing values\n",
    "print(avocados_complete.isna().any())"
   ]
  }
 ],
 "metadata": {
  "kernelspec": {
   "display_name": "Python 3",
   "language": "python",
   "name": "python3"
  },
  "language_info": {
   "codemirror_mode": {
    "name": "ipython",
    "version": 3
   },
   "file_extension": ".py",
   "mimetype": "text/x-python",
   "name": "python",
   "nbconvert_exporter": "python",
   "pygments_lexer": "ipython3",
   "version": "3.9.2"
  },
  "orig_nbformat": 4,
  "vscode": {
   "interpreter": {
    "hash": "31f2aee4e71d21fbe5cf8b01ff0e069b9275f58929596ceb00d14d90e3e16cd6"
   }
  }
 },
 "nbformat": 4,
 "nbformat_minor": 2
}

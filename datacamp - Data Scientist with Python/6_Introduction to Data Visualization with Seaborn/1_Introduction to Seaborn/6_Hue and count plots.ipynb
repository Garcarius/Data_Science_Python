{
 "cells": [
  {
   "attachments": {},
   "cell_type": "markdown",
   "metadata": {},
   "source": [
    "# Hue and count plots\n",
    "Let's continue exploring our dataset from students in secondary school by looking at a new variable. The `\"school\"` column indicates the initials of which school the student attended - either \"GP\" or \"MS\".\n",
    "\n",
    "In the last exercise, we created a scatter plot where the plot points were colored based on whether the student lived in an urban or rural area. How many students live in urban vs. rural areas, and does this vary based on what school the student attends? Let's make a count plot with subgroups to find out."
   ]
  },
  {
   "cell_type": "code",
   "execution_count": 1,
   "metadata": {},
   "outputs": [
    {
     "name": "stdout",
     "output_type": "stream",
     "text": [
      "student_data \n",
      "   school sex  age famsize Pstatus  Medu  Fedu  traveltime  failures schoolsup  \\\n",
      "0     GP   F   18     GT3       A     4     4           2         0       yes   \n",
      "1     GP   F   17     GT3       T     1     1           1         0        no   \n",
      "2     GP   F   15     LE3       T     1     1           1         3       yes   \n",
      "3     GP   F   15     GT3       T     4     2           1         0        no   \n",
      "4     GP   F   16     GT3       T     3     3           1         0        no   \n",
      "\n",
      "   ... goout Dalc Walc health absences  G1  G2  G3  location     study_time  \n",
      "0  ...     4    1    1      3        6   5   6   6     Urban   2 to 5 hours  \n",
      "1  ...     3    1    1      3        4   5   5   6     Urban   2 to 5 hours  \n",
      "2  ...     2    2    3      3       10   7   8  10     Urban   2 to 5 hours  \n",
      "3  ...     2    1    1      5        2  15  14  15     Urban  5 to 10 hours  \n",
      "4  ...     2    1    2      5        4   6  10  10     Urban   2 to 5 hours  \n",
      "\n",
      "[5 rows x 29 columns] \n",
      "\n"
     ]
    }
   ],
   "source": [
    "# Import pandas as pd\n",
    "import pandas as pd\n",
    "import matplotlib.pyplot as plt\n",
    "path=r'/media/documentos/Cursos/Data Science/Python/Data_Science_Python/data_sets/'\n",
    "img_path=r'/media/documentos/Cursos/Data Science/Python/Data_Science_Python/Img_saves/'\n",
    "# Read the data from file using read_csv\n",
    "csv_filepath=path+'student-alcohol-consumption.csv'\n",
    "student_data=pd.read_csv(csv_filepath,index_col=0)\n",
    "print('student_data \\n',student_data.head(),'\\n')"
   ]
  },
  {
   "attachments": {},
   "cell_type": "markdown",
   "metadata": {},
   "source": [
    "* Fill in the `palette_colors` dictionary to map the `\"Rural\"` location value to the color `\"green\"` and the `\"Urban\"` location value to the color `\"blue\"`.\n",
    "* Create a count plot with `\"school\"` on the x-axis using the student_data DataFrame.\n",
    "    * Add subgroups to the plot using `\"location\"` variable and use the `palette_colors` dictionary to make the location subgroups green and blue."
   ]
  },
  {
   "cell_type": "code",
   "execution_count": 4,
   "metadata": {},
   "outputs": [
    {
     "data": {
      "image/png": "[encoded data removed]",
      "text/plain": [
       "<Figure size 640x480 with 1 Axes>"
      ]
     },
     "metadata": {},
     "output_type": "display_data"
    }
   ],
   "source": [
    "# Import Matplotlib and Seaborn\n",
    "import matplotlib.pyplot as plt\n",
    "import seaborn as sns\n",
    "\n",
    "# Create a dictionary mapping subgroup values to colors\n",
    "palette_colors = {\"Rural\": \"green\", \"Urban\": \"blue\"}\n",
    "\n",
    "# Create a count plot of school with location subgroups\n",
    "sns.countplot(x=\"school\",hue=\"location\",data=student_data,palette=palette_colors)\n",
    "\n",
    "# Display plot\n",
    "plt.show()"
   ]
  }
 ],
 "metadata": {
  "kernelspec": {
   "display_name": "Python 3",
   "language": "python",
   "name": "python3"
  },
  "language_info": {
   "codemirror_mode": {
    "name": "ipython",
    "version": 3
   },
   "file_extension": ".py",
   "mimetype": "text/x-python",
   "name": "python",
   "nbconvert_exporter": "python",
   "pygments_lexer": "ipython3",
   "version": "3.9.2"
  },
  "orig_nbformat": 4,
  "vscode": {
   "interpreter": {
    "hash": "31f2aee4e71d21fbe5cf8b01ff0e069b9275f58929596ceb00d14d90e3e16cd6"
   }
  }
 },
 "nbformat": 4,
 "nbformat_minor": 2
}

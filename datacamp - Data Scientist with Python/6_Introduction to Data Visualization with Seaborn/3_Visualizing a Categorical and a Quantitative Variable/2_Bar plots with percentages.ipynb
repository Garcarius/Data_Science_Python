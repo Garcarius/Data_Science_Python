{
 "cells": [
  {
   "attachments": {},
   "cell_type": "markdown",
   "metadata": {},
   "source": [
    "# Bar plots with percentages\n",
    "Let's continue exploring the responses to a survey sent out to young people. The variable `\"Interested in Math\"` is `True` if the person reported being interested or very interested in mathematics, and `False` otherwise. What percentage of young people report being interested in math, and does this vary based on gender? Let's use a bar plot to find out.\n",
    "\n",
    "As a reminder, we'll create a bar plot using the `catplot()` function, providing the name of categorical variable to put on the x-axis (`x=____`), the name of the quantitative variable to summarize on the y-axis (`y=____`), the pandas DataFrame to use (`data=____`), and the type of categorical plot (`kind=\"bar\"`).\n",
    "\n",
    "Seaborn has been imported as sns and matplotlib.pyplot has been imported as plt."
   ]
  },
  {
   "cell_type": "code",
   "execution_count": 1,
   "metadata": {},
   "outputs": [
    {
     "name": "stdout",
     "output_type": "stream",
     "text": [
      "survey_data \n",
      "    Music  Techno  Movies  History  Mathematics  Pets  Spiders  Loneliness  \\\n",
      "0    5.0     1.0     5.0      1.0          3.0   4.0      1.0         3.0   \n",
      "1    4.0     1.0     5.0      1.0          5.0   5.0      1.0         2.0   \n",
      "2    5.0     1.0     5.0      1.0          5.0   5.0      1.0         5.0   \n",
      "3    5.0     2.0     5.0      4.0          4.0   1.0      5.0         5.0   \n",
      "4    5.0     2.0     5.0      3.0          2.0   1.0      1.0         3.0   \n",
      "\n",
      "   Parents' advice   Internet usage  Finances   Age  Siblings  Gender  \\\n",
      "0              4.0  few hours a day       3.0  20.0       1.0  female   \n",
      "1              2.0  few hours a day       3.0  19.0       2.0  female   \n",
      "2              3.0  few hours a day       2.0  20.0       2.0  female   \n",
      "3              2.0  most of the day       2.0  22.0       1.0  female   \n",
      "4              3.0  few hours a day       4.0  20.0       1.0  female   \n",
      "\n",
      "  Village - town  Age Category  Interested in Math  \n",
      "0        village  Less than 21               False  \n",
      "1           city  Less than 21                True  \n",
      "2           city  Less than 21                True  \n",
      "3           city           21+                True  \n",
      "4        village  Less than 21               False   \n",
      "\n"
     ]
    }
   ],
   "source": [
    "# Import pandas as pd\n",
    "import pandas as pd\n",
    "import matplotlib.pyplot as plt\n",
    "import seaborn as sns\n",
    "path=r'/media/documentos/Cursos/Data Science/Python/Data_Science_Python/data_sets/'\n",
    "img_path=r'/media/documentos/Cursos/Data Science/Python/Data_Science_Python/Img_saves/'\n",
    "# Read the data from file using read_csv\n",
    "csv_filepath=path+'young-people-survey-responses.csv'\n",
    "survey_data=pd.read_csv(csv_filepath,index_col=0)\n",
    "print('survey_data \\n',survey_data.head(),'\\n')"
   ]
  },
  {
   "attachments": {},
   "cell_type": "markdown",
   "metadata": {},
   "source": [
    "* Use the `survey_data` DataFrame and `sns.catplot()` to create a bar plot with `\"Gender\"` on the x-axis and `\"Interested in Math\"` on the y-axis."
   ]
  },
  {
   "cell_type": "code",
   "execution_count": 2,
   "metadata": {},
   "outputs": [
    {
     "data": {
      "image/png": "[encoded data removed]",
      "text/plain": [
       "<Figure size 500x500 with 1 Axes>"
      ]
     },
     "metadata": {},
     "output_type": "display_data"
    }
   ],
   "source": [
    "# Create a bar plot of interest in math, separated by gender\n",
    "sns.catplot(data=survey_data,x=\"Gender\",y=\"Interested in Math\",kind='bar')\n",
    "\n",
    "# Show plot\n",
    "plt.show()"
   ]
  }
 ],
 "metadata": {
  "kernelspec": {
   "display_name": "Python 3",
   "language": "python",
   "name": "python3"
  },
  "language_info": {
   "codemirror_mode": {
    "name": "ipython",
    "version": 3
   },
   "file_extension": ".py",
   "mimetype": "text/x-python",
   "name": "python",
   "nbconvert_exporter": "python",
   "pygments_lexer": "ipython3",
   "version": "3.9.2"
  },
  "orig_nbformat": 4,
  "vscode": {
   "interpreter": {
    "hash": "31f2aee4e71d21fbe5cf8b01ff0e069b9275f58929596ceb00d14d90e3e16cd6"
   }
  }
 },
 "nbformat": 4,
 "nbformat_minor": 2
}

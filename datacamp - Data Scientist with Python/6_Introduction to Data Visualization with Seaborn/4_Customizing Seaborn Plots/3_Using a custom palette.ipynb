{
 "cells": [
  {
   "attachments": {},
   "cell_type": "markdown",
   "metadata": {},
   "source": [
    "# Using a custom palette\n",
    "So far, we've looked at several things in the dataset of survey responses from young people, including their internet usage, how often they listen to their parents, and how many of them report feeling lonely. However, one thing we haven't done is a basic summary of the type of people answering this survey, including their age and gender. Providing these basic summaries is always a good practice when dealing with an unfamiliar dataset.\n",
    "\n",
    "The code provided will create a box plot showing the distribution of ages for male versus female respondents. Let's adjust the code to customize the appearance, this time using a custom color palette.\n",
    "\n",
    "We've already imported Seaborn as sns and matplotlib.pyplot as plt."
   ]
  },
  {
   "cell_type": "code",
   "execution_count": 1,
   "metadata": {},
   "outputs": [
    {
     "name": "stdout",
     "output_type": "stream",
     "text": [
      "survey_data \n",
      "    Music  Techno  Movies  History  Mathematics  Pets  Spiders  Loneliness  \\\n",
      "0    5.0     1.0     5.0      1.0          3.0   4.0      1.0         3.0   \n",
      "1    4.0     1.0     5.0      1.0          5.0   5.0      1.0         2.0   \n",
      "2    5.0     1.0     5.0      1.0          5.0   5.0      1.0         5.0   \n",
      "\n",
      "   Parents' advice   Internet usage  Finances   Age  Siblings  Gender  \\\n",
      "0              4.0  few hours a day       3.0  20.0       1.0  female   \n",
      "1              2.0  few hours a day       3.0  19.0       2.0  female   \n",
      "2              3.0  few hours a day       2.0  20.0       2.0  female   \n",
      "\n",
      "  Village - town  Age Category  Interested in Math Parents Advice  \\\n",
      "0        village  Less than 21               False          Often   \n",
      "1           city  Less than 21                True         Rarely   \n",
      "2           city  Less than 21                True      Sometimes   \n",
      "\n",
      "  Number of Siblings  Feels Lonely  \n",
      "0              1 - 2          True  \n",
      "1              1 - 2         False  \n",
      "2              1 - 2          True   \n",
      "\n",
      "survey_data \n",
      " Index(['Music', 'Techno', 'Movies', 'History', 'Mathematics', 'Pets',\n",
      "       'Spiders', 'Loneliness', 'Parents' advice', 'Internet usage',\n",
      "       'Finances', 'Age', 'Siblings', 'Gender', 'Village - town',\n",
      "       'Age Category', 'Interested in Math', 'Parents Advice',\n",
      "       'Number of Siblings', 'Feels Lonely'],\n",
      "      dtype='object') \n",
      "\n"
     ]
    }
   ],
   "source": [
    "# Import pandas as pd\n",
    "import pandas as pd\n",
    "import matplotlib.pyplot as plt\n",
    "import seaborn as sns\n",
    "import numpy as np\n",
    "path=r'/media/documentos/Cursos/Data Science/Python/Data_Science_Python/data_sets/'\n",
    "img_path=r'/media/documentos/Cursos/Data Science/Python/Data_Science_Python/Img_saves/'\n",
    "# Read the data from file using read_csv\n",
    "csv_filepath=path+'young-people-survey-responses.csv'\n",
    "survey_data=pd.read_csv(csv_filepath,index_col=0)\n",
    "survey_data['Parents Advice'] = np.where(survey_data[\"Parents' advice\"]==1.0,'Never',\n",
    "                                np.where(survey_data[\"Parents' advice\"]==2.0,'Rarely',\n",
    "                                np.where(survey_data[\"Parents' advice\"]==3.0,'Sometimes',\n",
    "                                np.where(survey_data[\"Parents' advice\"]==4.0,'Often','Always'))))\n",
    "\n",
    "survey_data['Number of Siblings'] = np.where(survey_data[\"Siblings\"]==0.0,'0',\n",
    "                                    np.where(survey_data[\"Siblings\"]==1.0,'1 - 2',\n",
    "                                    np.where(survey_data[\"Siblings\"]==2.0 ,'1 - 2',\n",
    "                                    np.where(survey_data[\"Siblings\"] > 2.0,'+3','XD'))))\n",
    "\n",
    "\n",
    "survey_data[\"Feels Lonely\"] = np.where(survey_data[\"Loneliness\"]>2,True,False)\n",
    "\n",
    "#student_data.rename(columns={'schoolsup':'internet'},inplace = True)\n",
    "print('survey_data \\n',survey_data.head(3),'\\n')\n",
    "print('survey_data \\n',survey_data.keys(),'\\n')"
   ]
  },
  {
   "attachments": {},
   "cell_type": "markdown",
   "metadata": {},
   "source": [
    "* Set the style to `\"darkgrid\"`.\n",
    "* Set a custom color palette with the hex color codes `\"#39A7D0\"` and `\"#36ADA4\"`."
   ]
  },
  {
   "cell_type": "code",
   "execution_count": 3,
   "metadata": {},
   "outputs": [
    {
     "data": {
      "image/png": "[encoded data removed]",
      "text/plain": [
       "<Figure size 500x500 with 1 Axes>"
      ]
     },
     "metadata": {},
     "output_type": "display_data"
    }
   ],
   "source": [
    "# Set the style to \"darkgrid\"\n",
    "sns.set_style(\"darkgrid\")\n",
    "\n",
    "# Set a custom color palette\n",
    "sns.set_palette([\"#39A7D0\",\"#36ADA4\"])\n",
    "\n",
    "# Create the box plot of age distribution by gender\n",
    "sns.catplot(x=\"Gender\", y=\"Age\", data=survey_data, kind=\"box\")\n",
    "\n",
    "# Show plot\n",
    "plt.show()"
   ]
  }
 ],
 "metadata": {
  "kernelspec": {
   "display_name": "Python 3",
   "language": "python",
   "name": "python3"
  },
  "language_info": {
   "codemirror_mode": {
    "name": "ipython",
    "version": 3
   },
   "file_extension": ".py",
   "mimetype": "text/x-python",
   "name": "python",
   "nbconvert_exporter": "python",
   "pygments_lexer": "ipython3",
   "version": "3.9.2 (default, Feb 28 2021, 17:03:44) \n[GCC 10.2.1 20210110]"
  },
  "orig_nbformat": 4,
  "vscode": {
   "interpreter": {
    "hash": "31f2aee4e71d21fbe5cf8b01ff0e069b9275f58929596ceb00d14d90e3e16cd6"
   }
  }
 },
 "nbformat": 4,
 "nbformat_minor": 2
}

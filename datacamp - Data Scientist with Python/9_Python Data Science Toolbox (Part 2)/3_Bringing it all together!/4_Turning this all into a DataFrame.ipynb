{
 "cells": [
  {
   "attachments": {},
   "cell_type": "markdown",
   "metadata": {},
   "source": [
    "# Turning this all into a DataFrame\n",
    "You've zipped lists together, created a function to house your code, and even used the function in a list comprehension to generate a list of dictionaries. That was a lot of work and you did a great job!\n",
    "\n",
    "You will now use all of these to convert the list of dictionaries into a pandas DataFrame. You will see how convenient it is to generate a DataFrame from dictionaries with the `DataFrame()` function from the pandas package.\n",
    "\n",
    "The `lists2dict()` function, `feature_names` list, and `row_lists` list have been preloaded for this exercise.\n",
    "\n",
    "Go for it!"
   ]
  },
  {
   "cell_type": "code",
   "execution_count": 2,
   "metadata": {},
   "outputs": [],
   "source": [
    "feature_names = ['CountryName', 'CountryCode', 'IndicatorName', 'IndicatorCode', 'Year', 'Value']\n",
    "row_vals=['Arab World', 'ARB', 'Adolescent fertility rate (births per 1,000 women ages 15-19)', 'SP.ADO.TFRT', '1960', '133.56090740552298']\n",
    "row_lists = [['Arab World',  'ARB',  'Adolescent fertility rate (births per 1,000 women ages 15-19)',  'SP.ADO.TFRT',\n",
    "  '1960',  '133.56090740552298'], ['Arab World',  'ARB',  'Age dependency ratio (% of working-age population)',  'SP.POP.DPND',\n",
    "  '1960',  '87.7976011532547'], ['Arab World',  'ARB',  'Age dependency ratio, old (% of working-age population)',  'SP.POP.DPND.OL',\n",
    "  '1960',  '6.634579191565161'], ['Arab World',  'ARB',  'Age dependency ratio, young (% of working-age population)',  'SP.POP.DPND.YG',\n",
    "  '1960',  '81.02332950839141'], ['Arab World',  'ARB',  'Arms exports (SIPRI trend indicator values)',  'MS.MIL.XPRT.KD',\n",
    "  '1960',  '3000000.0'], ['Arab World',  'ARB',  'Arms imports (SIPRI trend indicator values)',  'MS.MIL.MPRT.KD',  '1960',  '538000000.0'],\n",
    " ['Arab World',  'ARB',  'Birth rate, crude (per 1,000 people)',  'SP.DYN.CBRT.IN',  '1960',  '47.697888095096395'], ['Arab World',  'ARB',\n",
    "  'CO2 emissions (kt)',  'EN.ATM.CO2E.KT',  '1960',  '59563.9892169935'], ['Arab World',  'ARB',  'CO2 emissions (metric tons per capita)',\n",
    "  'EN.ATM.CO2E.PC',  '1960',  '0.6439635478877049'], ['Arab World',  'ARB',  'CO2 emissions from gaseous fuel consumption (% of total)',\n",
    "  'EN.ATM.CO2E.GF.ZS',  '1960',  '5.041291753975099'], ['Arab World',  'ARB',  'CO2 emissions from liquid fuel consumption (% of total)',\n",
    "  'EN.ATM.CO2E.LF.ZS',  '1960',  '84.8514729446567'], ['Arab World',  'ARB',  'CO2 emissions from liquid fuel consumption (kt)',  'EN.ATM.CO2E.LF.KT',  '1960',  '49541.707291032304'], ['Arab World',  'ARB',  'CO2 emissions from solid fuel consumption (% of total)',\n",
    "  'EN.ATM.CO2E.SF.ZS',  '1960',  '4.72698138789597'], ['Arab World',  'ARB',  'Death rate, crude (per 1,000 people)',  'SP.DYN.CDRT.IN',\n",
    "  '1960',  '19.7544519237187'], ['Arab World',  'ARB',  'Fertility rate, total (births per woman)',  'SP.DYN.TFRT.IN',  '1960',  '6.92402738655897'], ['Arab World',  'ARB',  'Fixed telephone subscriptions',  'IT.MLT.MAIN',  '1960',  '406833.0'], ['Arab World',  'ARB',\n",
    "  'Fixed telephone subscriptions (per 100 people)',  'IT.MLT.MAIN.P2',  '1960',  '0.6167005703199'], ['Arab World',  'ARB',  'Hospital beds (per 1,000 people)',  'SH.MED.BEDS.ZS',  '1960',  '1.9296220724398703'], ['Arab World',  'ARB',  'International migrant stock (% of population)',  'SM.POP.TOTL.ZS',  '1960',  '2.9906371279862403'], ['Arab World',  'ARB',  'International migrant stock, total',  'SM.POP.TOTL',  '1960',  '3324685.0']]\n",
    "\n",
    "# Define lists2dict()\n",
    "def lists2dict(list1, list2):\n",
    "    \"\"\"Return a dictionary where list1 provides\n",
    "    the keys and list2 provides the values.\"\"\"\n",
    "\n",
    "    # Zip lists: zipped_lists\n",
    "    zipped_lists = zip(list1, list2)\n",
    "\n",
    "    # Create a dictionary: rs_dict\n",
    "    rs_dict = dict(zipped_lists)\n",
    "\n",
    "    # Return the dictionary\n",
    "    return rs_dict\n"
   ]
  },
  {
   "attachments": {},
   "cell_type": "markdown",
   "metadata": {},
   "source": [
    "* To use the `DataFrame()` function you need, first import the pandas package with the alias `pd`.\n",
    "* Create a DataFrame from the list of dictionaries in `list_of_dicts` by calling `pd.DataFrame()`. Assign the resulting DataFrame to `df`.\n",
    "* Inspect the contents of `df` printing the head of the DataFrame. Head of the DataFrame `df` can be accessed by calling `df.head()`"
   ]
  },
  {
   "cell_type": "code",
   "execution_count": 3,
   "metadata": {},
   "outputs": [
    {
     "name": "stdout",
     "output_type": "stream",
     "text": [
      "  CountryName CountryCode                                      IndicatorName  \\\n",
      "0  Arab World         ARB  Adolescent fertility rate (births per 1,000 wo...   \n",
      "1  Arab World         ARB  Age dependency ratio (% of working-age populat...   \n",
      "2  Arab World         ARB  Age dependency ratio, old (% of working-age po...   \n",
      "3  Arab World         ARB  Age dependency ratio, young (% of working-age ...   \n",
      "4  Arab World         ARB        Arms exports (SIPRI trend indicator values)   \n",
      "\n",
      "    IndicatorCode  Year               Value  \n",
      "0     SP.ADO.TFRT  1960  133.56090740552298  \n",
      "1     SP.POP.DPND  1960    87.7976011532547  \n",
      "2  SP.POP.DPND.OL  1960   6.634579191565161  \n",
      "3  SP.POP.DPND.YG  1960   81.02332950839141  \n",
      "4  MS.MIL.XPRT.KD  1960           3000000.0  \n"
     ]
    }
   ],
   "source": [
    "# Import the pandas package\n",
    "import pandas as pd\n",
    "\n",
    "# Turn list of lists into list of dicts: list_of_dicts\n",
    "list_of_dicts = [lists2dict(feature_names, sublist) for sublist in row_lists]\n",
    "\n",
    "# Turn list of dicts into a DataFrame: df\n",
    "df = pd.DataFrame(list_of_dicts)\n",
    "\n",
    "# Print the head of the DataFrame\n",
    "print(df.head())\n"
   ]
  }
 ],
 "metadata": {
  "kernelspec": {
   "display_name": "Python 3",
   "language": "python",
   "name": "python3"
  },
  "language_info": {
   "codemirror_mode": {
    "name": "ipython",
    "version": 3
   },
   "file_extension": ".py",
   "mimetype": "text/x-python",
   "name": "python",
   "nbconvert_exporter": "python",
   "pygments_lexer": "ipython3",
   "version": "3.9.9"
  },
  "orig_nbformat": 4,
  "vscode": {
   "interpreter": {
    "hash": "7824406444212d923fa81ea6d69417b7ddef86b1ecd218c44d304e50b9505925"
   }
  }
 },
 "nbformat": 4,
 "nbformat_minor": 2
}

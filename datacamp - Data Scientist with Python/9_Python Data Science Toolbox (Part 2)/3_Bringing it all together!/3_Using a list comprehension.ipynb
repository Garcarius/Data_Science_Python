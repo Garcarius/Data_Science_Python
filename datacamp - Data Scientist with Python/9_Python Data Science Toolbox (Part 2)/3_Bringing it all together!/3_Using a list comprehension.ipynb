{
 "cells": [
  {
   "attachments": {},
   "cell_type": "markdown",
   "metadata": {},
   "source": [
    "# Using a list comprehension\n",
    "This time, you're going to use the `lists2dict()` function you defined in the last exercise to turn a bunch of lists into a list of dictionaries with the help of a list comprehension.\n",
    "\n",
    "The `lists2dict()` function has already been preloaded, together with a couple of lists, `feature_names` and `row_lists`. `feature_names` contains the header names of the World Bank dataset and `row_lists` is a list of lists, where each sublist is a list of actual values of a row from the dataset.\n",
    "\n",
    "Your goal is to use a list comprehension to generate a list of dicts, where the keys are the header names and the values are the row entries."
   ]
  },
  {
   "cell_type": "code",
   "execution_count": 4,
   "metadata": {},
   "outputs": [],
   "source": [
    "feature_names = ['CountryName', 'CountryCode', 'IndicatorName', 'IndicatorCode', 'Year', 'Value']\n",
    "row_vals=['Arab World', 'ARB', 'Adolescent fertility rate (births per 1,000 women ages 15-19)', 'SP.ADO.TFRT', '1960', '133.56090740552298']\n",
    "row_lists = [['Arab World',  'ARB',  'Adolescent fertility rate (births per 1,000 women ages 15-19)',  'SP.ADO.TFRT',\n",
    "  '1960',  '133.56090740552298'], ['Arab World',  'ARB',  'Age dependency ratio (% of working-age population)',  'SP.POP.DPND',\n",
    "  '1960',  '87.7976011532547'], ['Arab World',  'ARB',  'Age dependency ratio, old (% of working-age population)',  'SP.POP.DPND.OL',\n",
    "  '1960',  '6.634579191565161'], ['Arab World',  'ARB',  'Age dependency ratio, young (% of working-age population)',  'SP.POP.DPND.YG',\n",
    "  '1960',  '81.02332950839141'], ['Arab World',  'ARB',  'Arms exports (SIPRI trend indicator values)',  'MS.MIL.XPRT.KD',\n",
    "  '1960',  '3000000.0'], ['Arab World',  'ARB',  'Arms imports (SIPRI trend indicator values)',  'MS.MIL.MPRT.KD',  '1960',  '538000000.0'],\n",
    " ['Arab World',  'ARB',  'Birth rate, crude (per 1,000 people)',  'SP.DYN.CBRT.IN',  '1960',  '47.697888095096395'], ['Arab World',  'ARB',\n",
    "  'CO2 emissions (kt)',  'EN.ATM.CO2E.KT',  '1960',  '59563.9892169935'], ['Arab World',  'ARB',  'CO2 emissions (metric tons per capita)',\n",
    "  'EN.ATM.CO2E.PC',  '1960',  '0.6439635478877049'], ['Arab World',  'ARB',  'CO2 emissions from gaseous fuel consumption (% of total)',\n",
    "  'EN.ATM.CO2E.GF.ZS',  '1960',  '5.041291753975099'], ['Arab World',  'ARB',  'CO2 emissions from liquid fuel consumption (% of total)',\n",
    "  'EN.ATM.CO2E.LF.ZS',  '1960',  '84.8514729446567'], ['Arab World',  'ARB',  'CO2 emissions from liquid fuel consumption (kt)',  'EN.ATM.CO2E.LF.KT',  '1960',  '49541.707291032304'], ['Arab World',  'ARB',  'CO2 emissions from solid fuel consumption (% of total)',\n",
    "  'EN.ATM.CO2E.SF.ZS',  '1960',  '4.72698138789597'], ['Arab World',  'ARB',  'Death rate, crude (per 1,000 people)',  'SP.DYN.CDRT.IN',\n",
    "  '1960',  '19.7544519237187'], ['Arab World',  'ARB',  'Fertility rate, total (births per woman)',  'SP.DYN.TFRT.IN',  '1960',  '6.92402738655897'], ['Arab World',  'ARB',  'Fixed telephone subscriptions',  'IT.MLT.MAIN',  '1960',  '406833.0'], ['Arab World',  'ARB',\n",
    "  'Fixed telephone subscriptions (per 100 people)',  'IT.MLT.MAIN.P2',  '1960',  '0.6167005703199'], ['Arab World',  'ARB',  'Hospital beds (per 1,000 people)',  'SH.MED.BEDS.ZS',  '1960',  '1.9296220724398703'], ['Arab World',  'ARB',  'International migrant stock (% of population)',  'SM.POP.TOTL.ZS',  '1960',  '2.9906371279862403'], ['Arab World',  'ARB',  'International migrant stock, total',  'SM.POP.TOTL',  '1960',  '3324685.0']]\n",
    "\n",
    "# Define lists2dict()\n",
    "def lists2dict(list1, list2):\n",
    "    \"\"\"Return a dictionary where list1 provides\n",
    "    the keys and list2 provides the values.\"\"\"\n",
    "\n",
    "    # Zip lists: zipped_lists\n",
    "    zipped_lists = zip(list1, list2)\n",
    "\n",
    "    # Create a dictionary: rs_dict\n",
    "    rs_dict = dict(zipped_lists)\n",
    "\n",
    "    # Return the dictionary\n",
    "    return rs_dict\n"
   ]
  },
  {
   "attachments": {},
   "cell_type": "markdown",
   "metadata": {},
   "source": [
    "* Inspect the contents of `row_lists` by printing the first two lists in `row_lists`.\n",
    "* Create a list comprehension that generates a dictionary using `lists2dict()` for each sublist in `row_lists`. The keys are from the feature_names list and the values are the row entries in row_lists. Use sublist as your iterator variable and assign the resulting list of dictionaries to `list_of_dicts`.\n",
    "* Look at the first two dictionaries in `list_of_dicts` by printing them out."
   ]
  },
  {
   "cell_type": "code",
   "execution_count": 5,
   "metadata": {},
   "outputs": [
    {
     "name": "stdout",
     "output_type": "stream",
     "text": [
      "['Arab World', 'ARB', 'Adolescent fertility rate (births per 1,000 women ages 15-19)', 'SP.ADO.TFRT', '1960', '133.56090740552298']\n",
      "['Arab World', 'ARB', 'Age dependency ratio (% of working-age population)', 'SP.POP.DPND', '1960', '87.7976011532547']\n",
      "{'CountryName': 'Arab World', 'CountryCode': 'ARB', 'IndicatorName': 'Adolescent fertility rate (births per 1,000 women ages 15-19)', 'IndicatorCode': 'SP.ADO.TFRT', 'Year': '1960', 'Value': '133.56090740552298'}\n",
      "{'CountryName': 'Arab World', 'CountryCode': 'ARB', 'IndicatorName': 'Age dependency ratio (% of working-age population)', 'IndicatorCode': 'SP.POP.DPND', 'Year': '1960', 'Value': '87.7976011532547'}\n"
     ]
    }
   ],
   "source": [
    "# Print the first two lists in row_lists\n",
    "print(row_lists[0])\n",
    "print(row_lists[1])\n",
    "\n",
    "# Turn list of lists into list of dicts: list_of_dicts\n",
    "list_of_dicts = [lists2dict(feature_names,sublist) for sublist in row_lists]\n",
    "\n",
    "# Print the first two dictionaries in list_of_dicts\n",
    "print(list_of_dicts[0])\n",
    "print(list_of_dicts[1])"
   ]
  }
 ],
 "metadata": {
  "kernelspec": {
   "display_name": "Python 3",
   "language": "python",
   "name": "python3"
  },
  "language_info": {
   "codemirror_mode": {
    "name": "ipython",
    "version": 3
   },
   "file_extension": ".py",
   "mimetype": "text/x-python",
   "name": "python",
   "nbconvert_exporter": "python",
   "pygments_lexer": "ipython3",
   "version": "3.9.9"
  },
  "orig_nbformat": 4
 },
 "nbformat": 4,
 "nbformat_minor": 2
}

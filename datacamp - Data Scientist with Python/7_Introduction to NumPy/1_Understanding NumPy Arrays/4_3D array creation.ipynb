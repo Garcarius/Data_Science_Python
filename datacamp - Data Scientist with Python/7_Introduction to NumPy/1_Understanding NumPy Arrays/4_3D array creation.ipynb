{
 "cells": [
  {
   "attachments": {},
   "cell_type": "markdown",
   "metadata": {},
   "source": [
    "3D array creation\n",
    "In the first lesson, you created a `sudoku_game` two-dimensional NumPy array. Perhaps you have hundreds of sudoku game arrays, and you'd like to save the solution for this one, `sudoku_solution`, as part of the same array as its corresponding game in order to organize your sudoku data better. You could accomplish this by stacking the two 2D arrays on top of each other to create a 3D array.\n",
    "\n",
    "`numpy` is loaded as np, and the `sudoku_game` and `sudoku_solution` arrays are available."
   ]
  },
  {
   "cell_type": "code",
   "execution_count": 4,
   "metadata": {},
   "outputs": [
    {
     "name": "stdout",
     "output_type": "stream",
     "text": [
      "sudoku_game \n",
      " [[0 0 5 0 0 9 0 0 1]\n",
      " [0 7 0 0 6 0 0 4 3]\n",
      " [0 0 6 0 0 2 0 8 7]\n",
      " [1 9 0 0 0 7 4 0 0]\n",
      " [0 5 0 0 8 3 0 0 0]\n",
      " [6 0 0 0 0 0 1 0 5]\n",
      " [0 0 3 5 0 8 6 9 0]\n",
      " [0 4 2 9 1 0 3 0 0]] \n",
      "\n",
      "<class 'numpy.ndarray'>\n",
      "sudoku_solution \n",
      " [[3 2 5 8 4 9 7 6 1]\n",
      " [9 7 1 2 6 5 8 4 3]\n",
      " [4 3 6 1 9 2 5 8 7]\n",
      " [1 9 8 6 5 7 4 3 2]\n",
      " [2 5 7 4 8 3 9 1 6]\n",
      " [6 8 9 7 3 4 1 2 5]\n",
      " [7 1 3 5 2 8 6 9 4]\n",
      " [5 4 2 9 1 6 3 7 8]] \n",
      "\n",
      "<class 'numpy.ndarray'>\n"
     ]
    }
   ],
   "source": [
    "import numpy as np\n",
    "import matplotlib.pyplot as plt\n",
    "\n",
    "path=r\"D:\\\\Cursos\\\\Data_Science_Python\\\\data_sets\\\\\"\n",
    "sudoku_game=np.load(path+\"sudoku_game.npy\")\n",
    "print(\"sudoku_game \\n\",sudoku_game,\"\\n\")\n",
    "print(type(sudoku_game))\n",
    "\n",
    "sudoku_solution=np.load(path+\"sudoku_solution.npy\")\n",
    "print(\"sudoku_solution \\n\",sudoku_solution,\"\\n\")\n",
    "print(type(sudoku_solution))"
   ]
  },
  {
   "attachments": {},
   "cell_type": "markdown",
   "metadata": {},
   "source": [
    "* Create a 3D array called `game_and_solution` by stacking the two 2D arrays, `sudoku_game` and `sudoku_solution`, on top of one another; in the final array, `sudoku_game` should appear before sudoku_solution.\n",
    "* Print game_and_solution."
   ]
  },
  {
   "cell_type": "code",
   "execution_count": 6,
   "metadata": {},
   "outputs": [
    {
     "name": "stdout",
     "output_type": "stream",
     "text": [
      "[[[0 0 5 0 0 9 0 0 1]\n",
      "  [0 7 0 0 6 0 0 4 3]\n",
      "  [0 0 6 0 0 2 0 8 7]\n",
      "  [1 9 0 0 0 7 4 0 0]\n",
      "  [0 5 0 0 8 3 0 0 0]\n",
      "  [6 0 0 0 0 0 1 0 5]\n",
      "  [0 0 3 5 0 8 6 9 0]\n",
      "  [0 4 2 9 1 0 3 0 0]]\n",
      "\n",
      " [[3 2 5 8 4 9 7 6 1]\n",
      "  [9 7 1 2 6 5 8 4 3]\n",
      "  [4 3 6 1 9 2 5 8 7]\n",
      "  [1 9 8 6 5 7 4 3 2]\n",
      "  [2 5 7 4 8 3 9 1 6]\n",
      "  [6 8 9 7 3 4 1 2 5]\n",
      "  [7 1 3 5 2 8 6 9 4]\n",
      "  [5 4 2 9 1 6 3 7 8]]]\n"
     ]
    }
   ],
   "source": [
    "# Create the game_and_solution 3D array\n",
    "game_and_solution = np.array([sudoku_game ,sudoku_solution] )\n",
    "\n",
    "# Print game_and_solution\n",
    "print(game_and_solution)"
   ]
  }
 ],
 "metadata": {
  "kernelspec": {
   "display_name": "Python 3",
   "language": "python",
   "name": "python3"
  },
  "language_info": {
   "codemirror_mode": {
    "name": "ipython",
    "version": 3
   },
   "file_extension": ".py",
   "mimetype": "text/x-python",
   "name": "python",
   "nbconvert_exporter": "python",
   "pygments_lexer": "ipython3",
   "version": "3.9.9"
  },
  "orig_nbformat": 4,
  "vscode": {
   "interpreter": {
    "hash": "f6246b25e200e4c5124e3e61789ac81350562f0761bbcf92ad9e48654207659c"
   }
  }
 },
 "nbformat": 4,
 "nbformat_minor": 2
}

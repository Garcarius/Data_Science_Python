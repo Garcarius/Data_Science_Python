{
 "cells": [
  {
   "attachments": {},
   "cell_type": "markdown",
   "metadata": {},
   "source": [
    "# 2D split and stack\n",
    "Splitting and stacking skills aren't just useful with 3D RGB arrays: they are excellent for subsetting and organizing data of any type and dimension!\n",
    "\n",
    "You'll now take a quick trip down memory lane to reorganize the `monthly_sales` array as a 3D array. Recall that the first dimension of `monthly_sales` is rows of a single month's sales across three industries, and the second dimension is columns of monthly sales data for a single industry.\n",
    "\n",
    "Your task is to split this data into quarterly sales data and stack the quarterly sales data so that the new third dimension represents the four 2D arrays of quarterly sales.`numpy` is loaded as `np`, and the `monthly_sales` array is available."
   ]
  },
  {
   "cell_type": "code",
   "execution_count": 4,
   "metadata": {},
   "outputs": [
    {
     "data": {
      "text/plain": [
       "(12, 3)"
      ]
     },
     "metadata": {},
     "output_type": "display_data"
    },
    {
     "data": {
      "text/plain": [
       "array([[ 4134, 23925,  8657],\n",
       "       [ 4116, 23875,  9142],\n",
       "       [ 4673, 27197, 10645],\n",
       "       [ 4580, 25637, 10456],\n",
       "       [ 5109, 27995, 11299],\n",
       "       [ 5011, 27419, 10625],\n",
       "       [ 5245, 27305, 10630],\n",
       "       [ 5270, 27760, 11550],\n",
       "       [ 4680, 24988,  9762],\n",
       "       [ 4913, 25802, 10456],\n",
       "       [ 5312, 25405, 13401],\n",
       "       [ 6630, 27797, 18403]], dtype=int64)"
      ]
     },
     "execution_count": 4,
     "metadata": {},
     "output_type": "execute_result"
    }
   ],
   "source": [
    "import numpy as np\n",
    "path=r\"D:\\\\Cursos\\\\Data_Science_Python\\\\data_sets\\\\\"\n",
    "monthly_sales=np.load(path+\"monthly_sales.npy\")\n",
    "display(monthly_sales.shape)\n",
    "monthly_sales"
   ]
  },
  {
   "attachments": {},
   "cell_type": "markdown",
   "metadata": {},
   "source": [
    "* Split `monthly_sales` into four arrays representing quarterly data across industries; print `q1_sales`."
   ]
  },
  {
   "cell_type": "code",
   "execution_count": 3,
   "metadata": {},
   "outputs": [
    {
     "name": "stdout",
     "output_type": "stream",
     "text": [
      "[[ 4134 23925  8657]\n",
      " [ 4116 23875  9142]\n",
      " [ 4673 27197 10645]]\n"
     ]
    }
   ],
   "source": [
    "# Split monthly_sales into quarterly data\n",
    "q1_sales, q2_sales, q3_sales, q4_sales = np.split(monthly_sales,4)\n",
    "print(q1_sales)"
   ]
  },
  {
   "attachments": {},
   "cell_type": "markdown",
   "metadata": {},
   "source": [
    "* Stack the four quarterly sales arrays to create a 3D array, `quarterly_sales`, made up of the four quarterly 2D arrays in order from the first to last quarter."
   ]
  },
  {
   "cell_type": "code",
   "execution_count": null,
   "metadata": {},
   "outputs": [],
   "source": [
    "# Split monthly_sales into quarterly data\n",
    "q1_sales, q2_sales, q3_sales, q4_sales = np.split(monthly_sales, 4)\n",
    "\n",
    "# Print q1_sales\n",
    "print(q1_sales)\n",
    "\n",
    "# Stack the four quarterly sales arrays\n",
    "quarterly_sales = np.stack([q1_sales,q2_sales,q3_sales,q4_sales])\n",
    "print(quarterly_sales)"
   ]
  }
 ],
 "metadata": {
  "kernelspec": {
   "display_name": "Python 3",
   "language": "python",
   "name": "python3"
  },
  "language_info": {
   "codemirror_mode": {
    "name": "ipython",
    "version": 3
   },
   "file_extension": ".py",
   "mimetype": "text/x-python",
   "name": "python",
   "nbconvert_exporter": "python",
   "pygments_lexer": "ipython3",
   "version": "3.9.9"
  },
  "orig_nbformat": 4
 },
 "nbformat": 4,
 "nbformat_minor": 2
}

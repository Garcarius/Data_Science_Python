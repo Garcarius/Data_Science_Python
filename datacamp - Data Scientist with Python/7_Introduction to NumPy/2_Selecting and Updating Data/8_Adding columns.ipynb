{
 "cells": [
  {
   "attachments": {},
   "cell_type": "markdown",
   "metadata": {},
   "source": [
    "# Adding columns\n",
    "You finished the last set of exercises by creating an array called `trunk_stump_diameters`, which combined data from the trunk diameter and stump diameter columns into a 1D array. Now, you'll add that 1D array as a column to the `tree_census` array.\n",
    "\n",
    "`numpy` is loaded as `np`, and both the `tree_census` and `trunk_stump_diameters` arrays are available."
   ]
  },
  {
   "cell_type": "code",
   "execution_count": 2,
   "metadata": {},
   "outputs": [
    {
     "data": {
      "text/plain": [
       "(1000, 4)"
      ]
     },
     "metadata": {},
     "output_type": "display_data"
    },
    {
     "data": {
      "text/plain": [
       "array([     3, 501451,     24,      0], dtype=int64)"
      ]
     },
     "metadata": {},
     "output_type": "display_data"
    }
   ],
   "source": [
    "import numpy as np\n",
    "path=r\"D:\\\\Cursos\\\\Data_Science_Python\\\\data_sets\\\\\"\n",
    "tree_census=np.load(path+\"tree_census.npy\")\n",
    "new_trees = np.array([[1211, 227386, 20, 0], [1212, 227386, 8, 0]])\n",
    "display(tree_census.shape)\n",
    "\n",
    "display(tree_census[0])\n",
    "# its block ID, its trunk diameter, and its stump diameter."
   ]
  },
  {
   "cell_type": "code",
   "execution_count": 4,
   "metadata": {},
   "outputs": [
    {
     "data": {
      "text/plain": [
       "(1000,)"
      ]
     },
     "execution_count": 4,
     "metadata": {},
     "output_type": "execute_result"
    }
   ],
   "source": [
    "trunk_stump_diameters =np.array( [24, 20,  3,  3,  4,  4,  4,  4,  4,  3,  3,  4,  2,  2,  3,  4,  4,\n",
    "        4,  3, 14,  3,  4,  7,  8,  7,  8,  7,  5,  6,  5,  5, 17, 31, 19,\n",
    "       21, 18,  4,  5,  3,  4,  3,  4, 13, 13, 13,  5,  4,  4,  4, 11,  5,\n",
    "        4,  5,  8, 51,  7,  4, 15,  3,  8,  6,  6,  3,  4,  3,  2,  3,  3,\n",
    "        6,  5,  5,  5,  5,  9,  4,  4,  7,  7,  6,  5,  4,  4,  5,  5,  5,\n",
    "        7,  3,  5,  3,  3,  6,  6,  8,  7,  4,  5,  4,  4,  4,  4,  6,  5,\n",
    "        3,  4, 12, 12, 12,  5,  6,  6,  6,  6,  6,  5,  5,  6,  7,  7, 25,\n",
    "        5,  5,  4,  6,  6,  7, 11,  6, 17, 13, 14, 14, 20, 15, 13,  7,  7,\n",
    "       10, 17, 14,  4,  6,  7,  8,  7,  7,  6,  7,  5,  2,  2,  2,  2, 26,\n",
    "       25,  2, 15,  6, 20,  5,  9, 15, 13, 15,  3,  2, 13,  6, 12, 15, 18,\n",
    "       22, 18, 18, 15, 17,  7,  3,  7,  8,  4, 12, 11, 12,  3,  9, 12, 11,\n",
    "       10,  8,  6,  6,  7,  7,  3, 15, 12, 12,  4,  5,  5,  5,  4,  4,  5,\n",
    "        4,  9,  2,  4,  4,  6,  5,  5,  2,  5,  5,  4,  4,  5,  5,  6, 11,\n",
    "        4,  5,  7,  3, 14, 11, 10,  7, 15, 10,  5,  6, 10, 10,  6,  5,  4,\n",
    "        4,  3,  5,  4, 14, 12, 11,  8, 14, 12,  9, 12, 11,  7,  8, 10, 10,\n",
    "       12, 11, 12,  5,  5,  6,  9,  9,  8,  5,  5,  5,  6,  6, 12, 12, 11,\n",
    "       12,  8,  9,  5,  5,  5,  8,  2,  2,  2, 14, 18, 14, 14, 22, 15, 19,\n",
    "       14, 18,  7,  7,  7,  8,  8,  5, 10, 14,  2,  2,  2,  2, 11, 12, 12,\n",
    "        3,  3,  3,  3,  3,  6,  6,  8,  2,  2, 11, 11, 11,  9, 11, 12, 13,\n",
    "        9, 11,  6,  4,  5,  5,  2,  2,  8, 10,  7,  9, 11, 11,  1,  2, 26,\n",
    "        4, 13,  2,  4,  3,  4,  4,  4,  4,  3,  4,  2,  2, 12, 13,  5,  4,\n",
    "        2,  3,  3, 25, 11, 11, 14, 22,  2,  3, 10,  2,  2, 13, 19, 26, 21,\n",
    "       19, 14, 14,  5, 19, 15, 11, 15,  6, 19, 17, 12, 13, 15, 12,  2, 16,\n",
    "        2,  2,  2, 25,  2, 21,  2, 15, 16, 14, 13, 11,  8, 11, 13, 12,  7,\n",
    "       24, 19,  3,  3,  4,  6, 11, 17, 19, 19, 17, 15, 13, 15, 27, 16, 15,\n",
    "       20, 17, 16,  4, 10,  9, 14, 11, 12,  8,  9,  9, 13, 14,  7, 11, 14,\n",
    "        3,  7, 16, 17, 13, 14, 16, 12,  4,  5,  3, 16, 11,  9,  9, 10,  8,\n",
    "       10, 11, 11,  8, 11, 11, 11,  9, 11, 10,  9,  5, 12, 11, 13,  9, 15,\n",
    "       16, 12,  7, 10,  6,  9,  5,  9,  6,  6,  3,  3,  5,  4,  4,  4,  4,\n",
    "        6,  4,  7,  6,  7,  6,  5,  7,  8, 20,  9, 11, 11, 10,  9, 11, 12,\n",
    "       10, 18,  7,  4,  4,  4,  4,  3, 19, 12,  3,  4,  5,  4,  4, 17, 15,\n",
    "        8,  4,  5,  6, 25,  6, 11,  3,  3, 15,  4, 14, 12, 15,  2,  3,  2,\n",
    "       11, 11, 14, 12, 15, 12,  8,  9,  9,  8,  7, 12, 15,  4, 11, 10,  6,\n",
    "        7,  9, 38,  6,  3, 15, 11,  5,  4,  2, 13, 21, 26,  4, 18, 10, 17,\n",
    "       20, 19, 21, 19, 18, 18, 17, 24, 27, 22, 21,  9, 17, 17, 19, 28, 21,\n",
    "       11, 23, 28,  7, 33, 30,  5, 26, 27, 22,  2,  2,  2,  3,  4,  3,  3,\n",
    "       12, 17, 15,  2,  3,  3,  6,  6,  6,  6, 18, 13, 25, 25, 22, 25, 21,\n",
    "       19,  3,  3,  3,  4,  4, 19,  4,  4, 24, 27, 20,  3, 19,  5, 12, 26,\n",
    "       13,  7, 13,  4, 20,  5, 14, 20, 11,  3,  4, 19,  4, 17, 22, 24, 15,\n",
    "        7,  5,  4,  5,  5,  4,  4,  4,  8,  4,  4,  7,  6, 10,  8, 11,  2,\n",
    "        9,  8,  4,  3,  3,  2,  2, 22, 22, 24, 23, 20, 21,  5,  6,  7,  4,\n",
    "        2, 15, 19, 20,  4,  4,  7,  2, 17, 10,  3, 11,  2, 10, 11,  4,  4,\n",
    "        3, 13,  3,  3,  3,  3,  4,  3,  3,  3, 14,  3,  9,  9,  9, 10, 20,\n",
    "       14, 19, 16, 22, 22, 17, 18,  9,  9,  7,  9,  3, 14, 13, 15, 16, 18,\n",
    "       21,  3,  8,  3,  9,  8, 11,  9, 10,  5,  5, 11, 16,  3,  4,  3,  4,\n",
    "        5,  4, 10, 10, 12,  9,  9, 13, 11, 10,  3,  3,  3,  4,  3,  4,  4,\n",
    "       10, 25,  5,  5,  1, 34,  1,  1,  1, 15, 11, 11, 13,  7,  7, 12, 13,\n",
    "        3, 17, 14, 18, 15, 17, 14, 13, 20,  9, 11,  4,  9, 13,  9, 19, 20,\n",
    "        8,  8, 20, 19, 13, 44, 17, 25, 14, 12, 14, 15,  6,  6,  7,  5,  5,\n",
    "        5,  5,  3,  9,  9, 17, 13,  3, 13, 20, 20, 18, 18, 21, 20, 19, 22,\n",
    "       18, 21, 25, 21, 21, 18, 20, 18, 23, 23, 23, 18, 24, 22,  2,  7,  2,\n",
    "       11, 19, 21, 14, 20, 13,  2, 18,  2,  2, 31, 25, 31, 25, 11, 22,  2,\n",
    "       18, 17, 18, 21, 22, 16, 16, 18, 15, 23,  5,  6, 13, 19,  7, 16, 16,\n",
    "       20, 15, 18,  1, 15, 10, 24, 18,  2,  3,  2, 17, 12, 14, 17, 23, 18,\n",
    "       12, 13, 23,  3, 17,  8,  8,  8,  4,  9, 22,  2, 14, 23, 20, 23,  3,\n",
    "        7,  3,  6,  4, 12,  4,  4,  2,  6,  4,  3, 17, 19,  4, 19, 15, 14,\n",
    "       17, 20,  2, 16,  3, 12, 10, 11,  4, 11,  4, 30,  8,  4, 39,  3,  7,\n",
    "       11, 18, 22, 19, 21,  7, 21,  2, 16, 11, 20, 21, 22,  8, 16,  2, 23,\n",
    "       14, 14, 13, 20, 21, 15, 19, 28, 17, 16, 12, 11, 11,  6])\n",
    "trunk_stump_diameters.shape"
   ]
  },
  {
   "attachments": {},
   "cell_type": "markdown",
   "metadata": {},
   "source": [
    "* Print the shapes of both tree_census and trunk_stump_diameters."
   ]
  },
  {
   "cell_type": "code",
   "execution_count": 5,
   "metadata": {},
   "outputs": [
    {
     "name": "stdout",
     "output_type": "stream",
     "text": [
      "(1000, 4) (1000,)\n"
     ]
    }
   ],
   "source": [
    "# Print the shapes of tree_census and trunk_stump_diameters\n",
    "print(tree_census.shape,trunk_stump_diameters.shape)"
   ]
  },
  {
   "attachments": {},
   "cell_type": "markdown",
   "metadata": {},
   "source": [
    "* Reshape `trunk_stump_diameters` so that it can be appended as the last column in `tree_census`; call the reshaped array `reshaped_diameters`"
   ]
  },
  {
   "cell_type": "code",
   "execution_count": 7,
   "metadata": {},
   "outputs": [
    {
     "name": "stdout",
     "output_type": "stream",
     "text": [
      "(1000,) (1000, 4)\n"
     ]
    }
   ],
   "source": [
    "# Print the shapes of tree_census and trunk_stump_diameters\n",
    "print(trunk_stump_diameters.shape, tree_census.shape)\n",
    "\n",
    "# Reshape trunk_stump_diameters\n",
    "reshaped_diameters = trunk_stump_diameters.reshape((1000,1))"
   ]
  },
  {
   "attachments": {},
   "cell_type": "markdown",
   "metadata": {},
   "source": [
    "* Concatenate `reshaped_diameters` to the end of `tree_census` so that it becomes the last column; call the new array `concatenated_tree_census`."
   ]
  },
  {
   "cell_type": "code",
   "execution_count": 8,
   "metadata": {},
   "outputs": [
    {
     "name": "stdout",
     "output_type": "stream",
     "text": [
      "(1000,) (1000, 4)\n",
      "[[     3 501451     24      0     24]\n",
      " [     4 501451     20      0     20]\n",
      " [     7 501911      3      0      3]\n",
      " ...\n",
      " [  1198 227387     11      0     11]\n",
      " [  1199 227387     11      0     11]\n",
      " [  1210 227386      6      0      6]]\n"
     ]
    }
   ],
   "source": [
    "# Print the shapes of tree_census and trunk_stump_diameters\n",
    "print(trunk_stump_diameters.shape, tree_census.shape)\n",
    "\n",
    "# Reshape trunk_stump_diameters\n",
    "reshaped_diameters = trunk_stump_diameters.reshape((1000, 1))\n",
    "\n",
    "# Concatenate reshaped_diameters to tree_census as the last column\n",
    "concatenated_tree_census = np.concatenate((tree_census,reshaped_diameters),axis=1)\n",
    "print(concatenated_tree_census)"
   ]
  }
 ],
 "metadata": {
  "kernelspec": {
   "display_name": "Python 3",
   "language": "python",
   "name": "python3"
  },
  "language_info": {
   "codemirror_mode": {
    "name": "ipython",
    "version": 3
   },
   "file_extension": ".py",
   "mimetype": "text/x-python",
   "name": "python",
   "nbconvert_exporter": "python",
   "pygments_lexer": "ipython3",
   "version": "3.9.9"
  },
  "orig_nbformat": 4,
  "vscode": {
   "interpreter": {
    "hash": "7824406444212d923fa81ea6d69417b7ddef86b1ecd218c44d304e50b9505925"
   }
  }
 },
 "nbformat": 4,
 "nbformat_minor": 2
}

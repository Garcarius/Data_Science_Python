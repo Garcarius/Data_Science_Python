{
 "cells": [
  {
   "attachments": {},
   "cell_type": "markdown",
   "metadata": {},
   "source": [
    "# Slicing and indexing trees\n",
    "Imagine you are a researcher working with data from New York City's tree census. Each row of the `tree_census` 2D array lists information for a different tree: the tree ID, block ID, trunk diameter, and stump diameter in that order. Living trees do not have stump diameters, which explains why there are so many zeros in that column. Column order is important because NumPy does not have column names! The first and last three rows of `tree_census` are shown below."
   ]
  },
  {
   "cell_type": "code",
   "execution_count": 3,
   "metadata": {},
   "outputs": [],
   "source": [
    "import numpy as np\n",
    "path=r\"D:\\\\Cursos\\\\Data_Science_Python\\\\data_sets\\\\\"\n",
    "tree_census=np.load(path+\"tree_census.npy\")"
   ]
  },
  {
   "attachments": {},
   "cell_type": "markdown",
   "metadata": {},
   "source": [
    "1. * Select all rows of data from the second column, representing block IDs; save the resulting array as block_ids.\n",
    "   * Print the first five block IDs from block_ids."
   ]
  },
  {
   "cell_type": "code",
   "execution_count": 5,
   "metadata": {},
   "outputs": [
    {
     "name": "stdout",
     "output_type": "stream",
     "text": [
      "[501451 501451 501911 501911 501911]\n"
     ]
    }
   ],
   "source": [
    "# Select all rows of block ID data from the second column\n",
    "block_ids = tree_census[:,1]\n",
    "\n",
    "# Print the first five block_ids\n",
    "print(block_ids[:5])"
   ]
  },
  {
   "attachments": {},
   "cell_type": "markdown",
   "metadata": {},
   "source": [
    "2. * Select the tenth block ID from `block_ids`, saving the result as `tenth_block_id`."
   ]
  },
  {
   "cell_type": "code",
   "execution_count": 6,
   "metadata": {},
   "outputs": [
    {
     "name": "stdout",
     "output_type": "stream",
     "text": [
      "501911\n"
     ]
    }
   ],
   "source": [
    "# Select all rows of block ID data from the second column\n",
    "block_ids = tree_census[:, 1]\n",
    "\n",
    "# Select the tenth block ID from block_ids\n",
    "tenth_block_id = block_ids[9]\n",
    "print(tenth_block_id)"
   ]
  },
  {
   "attachments": {},
   "cell_type": "markdown",
   "metadata": {},
   "source": [
    "3. * Select five consecutive block IDs from `block_ids`, starting with the tenth ID, and save as `block_id_slice`"
   ]
  },
  {
   "cell_type": "code",
   "execution_count": 7,
   "metadata": {},
   "outputs": [
    {
     "name": "stdout",
     "output_type": "stream",
     "text": [
      "[501911 501911 501911 501909 501909]\n"
     ]
    }
   ],
   "source": [
    "# Select all rows of block ID data from the second column\n",
    "block_ids = tree_census[:, 1]\n",
    "\n",
    "# Select five block IDs from block_ids starting with the tenth ID\n",
    "block_id_slice = block_ids[9:14]\n",
    "print(block_id_slice)"
   ]
  }
 ],
 "metadata": {
  "kernelspec": {
   "display_name": "Python 3",
   "language": "python",
   "name": "python3"
  },
  "language_info": {
   "codemirror_mode": {
    "name": "ipython",
    "version": 3
   },
   "file_extension": ".py",
   "mimetype": "text/x-python",
   "name": "python",
   "nbconvert_exporter": "python",
   "pygments_lexer": "ipython3",
   "version": "3.9.9"
  },
  "orig_nbformat": 4,
  "vscode": {
   "interpreter": {
    "hash": "7824406444212d923fa81ea6d69417b7ddef86b1ecd218c44d304e50b9505925"
   }
  }
 },
 "nbformat": 4,
 "nbformat_minor": 2
}

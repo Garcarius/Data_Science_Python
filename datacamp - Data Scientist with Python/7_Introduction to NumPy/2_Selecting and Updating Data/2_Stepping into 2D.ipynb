{
 "cells": [
  {
   "attachments": {},
   "cell_type": "markdown",
   "metadata": {},
   "source": [
    "# Stepping into 2D\n",
    "Now assume that your research requires you to take an admittedly unrepresentative sample of trunk diameters, which are located in the third column of `tree_census`. Getting just a selection of trunk diameters can be done with NumPy's slicing and stepping functionality.\n",
    "\n",
    "`numpy` is loaded as `np`, and the `tree_census` 2D array is available."
   ]
  },
  {
   "cell_type": "code",
   "execution_count": 3,
   "metadata": {},
   "outputs": [
    {
     "data": {
      "text/plain": [
       "(1000, 4)"
      ]
     },
     "metadata": {},
     "output_type": "display_data"
    }
   ],
   "source": [
    "import numpy as np\n",
    "path=r\"D:\\\\Cursos\\\\Data_Science_Python\\\\data_sets\\\\\"\n",
    "tree_census=np.load(path+\"tree_census.npy\")\n",
    "display(tree_census.shape)"
   ]
  },
  {
   "attachments": {},
   "cell_type": "markdown",
   "metadata": {},
   "source": [
    "* Create an array called `hundred_diameters` which contains the first 100 trunk diameters in `tree_census`."
   ]
  },
  {
   "cell_type": "code",
   "execution_count": 8,
   "metadata": {},
   "outputs": [
    {
     "name": "stdout",
     "output_type": "stream",
     "text": [
      "(100,)\n"
     ]
    }
   ],
   "source": [
    "# Create an array of the first 100 trunk diameters from tree_census\n",
    "hundred_diameters = tree_census[0:100,2]\n",
    "print(hundred_diameters.shape)"
   ]
  },
  {
   "attachments": {},
   "cell_type": "markdown",
   "metadata": {},
   "source": [
    "* Create an array,`every_other_diameter`, which contains only trunk diameters for trees with *even* row indices from 50 to 100, inclusive."
   ]
  },
  {
   "cell_type": "code",
   "execution_count": 11,
   "metadata": {},
   "outputs": [
    {
     "name": "stdout",
     "output_type": "stream",
     "text": [
      "[ 5  5 51  4  3  6  3  3  3  6  5  5  4  7  6  4  5  5  3  3  6  8  4  4\n",
      "  4  6]\n"
     ]
    }
   ],
   "source": [
    "# Create an array of trunk diameters with even row indices from 50 to 100 inclusive\n",
    "every_other_diameter = tree_census[50:101:2,2]\n",
    "print(every_other_diameter)"
   ]
  }
 ],
 "metadata": {
  "kernelspec": {
   "display_name": "Python 3",
   "language": "python",
   "name": "python3"
  },
  "language_info": {
   "codemirror_mode": {
    "name": "ipython",
    "version": 3
   },
   "file_extension": ".py",
   "mimetype": "text/x-python",
   "name": "python",
   "nbconvert_exporter": "python",
   "pygments_lexer": "ipython3",
   "version": "3.9.9"
  },
  "orig_nbformat": 4,
  "vscode": {
   "interpreter": {
    "hash": "7824406444212d923fa81ea6d69417b7ddef86b1ecd218c44d304e50b9505925"
   }
  }
 },
 "nbformat": 4,
 "nbformat_minor": 2
}

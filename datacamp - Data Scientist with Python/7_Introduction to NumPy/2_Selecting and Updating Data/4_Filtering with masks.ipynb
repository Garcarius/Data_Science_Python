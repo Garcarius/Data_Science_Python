{
 "cells": [
  {
   "attachments": {},
   "cell_type": "markdown",
   "metadata": {},
   "source": [
    "# Filtering with masks\n",
    "In the last lesson, you sorted trees from smallest to largest. Now, you'll use fancy indexing to return the row of data representing the largest tree in `tree_census`. You'll also examine other trees located on the same block as the largest tree: are they also large?\n",
    "\n",
    "`numpy` is loaded as np, and the `tree_census` array is available. As a reminder, the `tree_census` columns in order refer to a tree's ID, its block ID, its trunk diameter, and its stump diameter."
   ]
  },
  {
   "cell_type": "code",
   "execution_count": 5,
   "metadata": {},
   "outputs": [
    {
     "data": {
      "text/plain": [
       "(1000, 4)"
      ]
     },
     "metadata": {},
     "output_type": "display_data"
    },
    {
     "data": {
      "text/plain": [
       "array([     3, 501451,     24,      0], dtype=int64)"
      ]
     },
     "metadata": {},
     "output_type": "display_data"
    }
   ],
   "source": [
    "import numpy as np\n",
    "path=r\"D:\\\\Cursos\\\\Data_Science_Python\\\\data_sets\\\\\"\n",
    "tree_census=np.load(path+\"tree_census.npy\")\n",
    "display(tree_census.shape)\n",
    "\n",
    "display(tree_census[0])"
   ]
  },
  {
   "attachments": {},
   "cell_type": "markdown",
   "metadata": {},
   "source": [
    "* Using Boolean indexing, create an array, `largest_tree_data`, which contains the row of data on the largest tree in `tree_census` corresponding to the tree with a diameter of `51`."
   ]
  },
  {
   "cell_type": "code",
   "execution_count": 6,
   "metadata": {},
   "outputs": [
    {
     "name": "stdout",
     "output_type": "stream",
     "text": [
      "[[    61 501882     51      0]]\n"
     ]
    }
   ],
   "source": [
    "# Create an array which contains row data on the largest tree in tree_census\n",
    "largest_tree_data =tree_census[tree_census[:,2] == 51]\n",
    "print(largest_tree_data)"
   ]
  },
  {
   "attachments": {},
   "cell_type": "markdown",
   "metadata": {},
   "source": [
    "* Slice largest_tree_data to retrieve only the block id of the block the largest tree is located on; save this block id as largest_tree_block_id."
   ]
  },
  {
   "cell_type": "code",
   "execution_count": 9,
   "metadata": {},
   "outputs": [
    {
     "name": "stdout",
     "output_type": "stream",
     "text": [
      "[[    61 501882     51      0]]\n",
      "501882\n"
     ]
    }
   ],
   "source": [
    "# Create an array which contains row data on the largest tree in tree_census\n",
    "largest_tree_data = tree_census[tree_census[:, 2] == 51]\n",
    "print(largest_tree_data)\n",
    "\n",
    "# Slice largest_tree_data to get only the block id\n",
    "largest_tree_block_id = largest_tree_data[0,1]\n",
    "print(largest_tree_block_id)"
   ]
  },
  {
   "attachments": {},
   "cell_type": "markdown",
   "metadata": {},
   "source": [
    "* Using fancy indexing, create an array called `trees_on_largest_tree_block` which contains data on all trees with the same block ID as the largest tree."
   ]
  },
  {
   "cell_type": "code",
   "execution_count": 20,
   "metadata": {},
   "outputs": [
    {
     "name": "stdout",
     "output_type": "stream",
     "text": [
      "[[    61 501882     51      0]]\n",
      "[501882]\n",
      "[[    60 501882      8      0]\n",
      " [    61 501882     51      0]\n",
      " [    62 501882      7      0]\n",
      " [    63 501882      4      0]\n",
      " [    64 501882     15      0]\n",
      " [    65 501882      3      0]\n",
      " [    66 501882      8      0]\n",
      " [    67 501882      6      0]\n",
      " [    68 501882      6      0]\n",
      " [    69 501882      3      0]]\n"
     ]
    }
   ],
   "source": [
    "# Create an array which contains row data on the largest tree in tree_census\n",
    "largest_tree_data = tree_census[tree_census[:, 2] == 51]\n",
    "print(largest_tree_data)\n",
    "\n",
    "# Slice largest_tree_data to get only the block ID\n",
    "largest_tree_block_id = largest_tree_data[:, 1]\n",
    "print(largest_tree_block_id)\n",
    "\n",
    "# Create an array which contains row data on all trees with largest_tree_block_id\n",
    "trees_on_largest_tree_block = tree_census[tree_census[:,1]==largest_tree_block_id]\n",
    "print(trees_on_largest_tree_block)"
   ]
  }
 ],
 "metadata": {
  "kernelspec": {
   "display_name": "Python 3",
   "language": "python",
   "name": "python3"
  },
  "language_info": {
   "codemirror_mode": {
    "name": "ipython",
    "version": 3
   },
   "file_extension": ".py",
   "mimetype": "text/x-python",
   "name": "python",
   "nbconvert_exporter": "python",
   "pygments_lexer": "ipython3",
   "version": "3.9.9"
  },
  "orig_nbformat": 4,
  "vscode": {
   "interpreter": {
    "hash": "7824406444212d923fa81ea6d69417b7ddef86b1ecd218c44d304e50b9505925"
   }
  }
 },
 "nbformat": 4,
 "nbformat_minor": 2
}

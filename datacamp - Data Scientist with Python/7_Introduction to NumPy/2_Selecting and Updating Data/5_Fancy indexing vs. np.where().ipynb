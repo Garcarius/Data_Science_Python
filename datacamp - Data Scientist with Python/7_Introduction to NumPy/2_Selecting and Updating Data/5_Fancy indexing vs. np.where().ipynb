{
 "cells": [
  {
   "attachments": {},
   "cell_type": "markdown",
   "metadata": {},
   "source": [
    "# Fancy indexing vs. np.where()\n",
    "You and your tree research team are double-checking collection data by visiting a few trees in person to confirm their measurements. You've been assigned to check the data for trees on block 313879, and you'd like to make a small array of just the tree data that relates to your work.\n",
    "\n",
    "`numpy` is loaded as `np`, and the `tree_census` array is available. As a reminder, the `tree_census` columns in order refer to a tree's ID, its block ID, its trunk diameter, and its stump diameter."
   ]
  },
  {
   "cell_type": "code",
   "execution_count": 1,
   "metadata": {},
   "outputs": [
    {
     "data": {
      "text/plain": [
       "(1000, 4)"
      ]
     },
     "metadata": {},
     "output_type": "display_data"
    },
    {
     "data": {
      "text/plain": [
       "array([     3, 501451,     24,      0], dtype=int64)"
      ]
     },
     "metadata": {},
     "output_type": "display_data"
    }
   ],
   "source": [
    "import numpy as np\n",
    "path=r\"D:\\\\Cursos\\\\Data_Science_Python\\\\data_sets\\\\\"\n",
    "tree_census=np.load(path+\"tree_census.npy\")\n",
    "display(tree_census.shape)\n",
    "\n",
    "display(tree_census[0])"
   ]
  },
  {
   "attachments": {},
   "cell_type": "markdown",
   "metadata": {},
   "source": [
    "* Using fancy indexing, create an array called `block_313879` which only contains data for trees with a block ID of 313879."
   ]
  },
  {
   "cell_type": "code",
   "execution_count": 2,
   "metadata": {},
   "outputs": [
    {
     "name": "stdout",
     "output_type": "stream",
     "text": [
      "[[  1115 313879      3      0]\n",
      " [  1116 313879     17      0]]\n"
     ]
    }
   ],
   "source": [
    "# Create the block_313879 array containing trees on block 313879\n",
    "block_313879 = tree_census[tree_census[:,1]==313879]\n",
    "print(block_313879)"
   ]
  },
  {
   "attachments": {},
   "cell_type": "markdown",
   "metadata": {},
   "source": [
    "* Using `np.where()`, create an array of `row_indices` for trees with a block ID of 313879.\n",
    "* Using `row_indices`, create `block_313879`, which contains data for trees on block 313879."
   ]
  },
  {
   "cell_type": "code",
   "execution_count": 5,
   "metadata": {},
   "outputs": [
    {
     "name": "stdout",
     "output_type": "stream",
     "text": [
      "[[  1115 313879      3      0]\n",
      " [  1116 313879     17      0]]\n"
     ]
    }
   ],
   "source": [
    "# Create an array of row_indices for trees on block 313879\n",
    "row_indices = np.where(tree_census[:,1]==313879)\n",
    "\n",
    "# Create an array which only contains data for trees on block 313879\n",
    "block_313879 = tree_census[row_indices]\n",
    "print(block_313879)"
   ]
  }
 ],
 "metadata": {
  "kernelspec": {
   "display_name": "Python 3",
   "language": "python",
   "name": "python3"
  },
  "language_info": {
   "codemirror_mode": {
    "name": "ipython",
    "version": 3
   },
   "file_extension": ".py",
   "mimetype": "text/x-python",
   "name": "python",
   "nbconvert_exporter": "python",
   "pygments_lexer": "ipython3",
   "version": "3.9.9"
  },
  "orig_nbformat": 4,
  "vscode": {
   "interpreter": {
    "hash": "7824406444212d923fa81ea6d69417b7ddef86b1ecd218c44d304e50b9505925"
   }
  }
 },
 "nbformat": 4,
 "nbformat_minor": 2
}

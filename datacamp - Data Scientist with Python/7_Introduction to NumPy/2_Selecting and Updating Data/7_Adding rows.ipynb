{
 "cells": [
  {
   "attachments": {},
   "cell_type": "markdown",
   "metadata": {},
   "source": [
    "# Adding rows\n",
    "The research team has discovered two trees that were left off the `tree_census`. Your task is to add rows containing the data for these new trees to the end of the tree_census array. The new trees' data is saved in a 2D array called new_trees:\n",
    "\n",
    "`new_trees = np.array([[1211, 227386, 20, 0], [1212, 227386, 8, 0]])`\n",
    "\n",
    "`numpy` is loaded as `np`, and the `tree_census` and `new_trees` arrays are available."
   ]
  },
  {
   "cell_type": "code",
   "execution_count": 1,
   "metadata": {},
   "outputs": [
    {
     "data": {
      "text/plain": [
       "(1000, 4)"
      ]
     },
     "metadata": {},
     "output_type": "display_data"
    },
    {
     "data": {
      "text/plain": [
       "array([     3, 501451,     24,      0], dtype=int64)"
      ]
     },
     "metadata": {},
     "output_type": "display_data"
    }
   ],
   "source": [
    "import numpy as np\n",
    "path=r\"D:\\\\Cursos\\\\Data_Science_Python\\\\data_sets\\\\\"\n",
    "tree_census=np.load(path+\"tree_census.npy\")\n",
    "new_trees = np.array([[1211, 227386, 20, 0], [1212, 227386, 8, 0]])\n",
    "display(tree_census.shape)\n",
    "\n",
    "display(tree_census[0])\n",
    "# its block ID, its trunk diameter, and its stump diameter."
   ]
  },
  {
   "attachments": {},
   "cell_type": "markdown",
   "metadata": {},
   "source": [
    "* Print the shapes of `tree_census` and `new_trees` to confirm they are compatible to concatenate."
   ]
  },
  {
   "cell_type": "code",
   "execution_count": 2,
   "metadata": {},
   "outputs": [
    {
     "name": "stdout",
     "output_type": "stream",
     "text": [
      "(1000, 4) (2, 4)\n"
     ]
    }
   ],
   "source": [
    "# Print the shapes of tree_census and new_trees\n",
    "print(tree_census.shape,new_trees.shape)"
   ]
  },
  {
   "attachments": {},
   "cell_type": "markdown",
   "metadata": {},
   "source": [
    "* Add rows to the end of `tree_census` containing data for the new trees from the `new_trees` 2D array; save the new array as `updated_tree_census`"
   ]
  },
  {
   "cell_type": "code",
   "execution_count": 7,
   "metadata": {},
   "outputs": [
    {
     "name": "stdout",
     "output_type": "stream",
     "text": [
      "(1000, 4) (2, 4)\n",
      "[[     3 501451     24      0]\n",
      " [     4 501451     20      0]\n",
      " [     7 501911      3      0]\n",
      " ...\n",
      " [  1210 227386      6      0]\n",
      " [  1211 227386     20      0]\n",
      " [  1212 227386      8      0]]\n"
     ]
    }
   ],
   "source": [
    "# Print the shapes of tree_census and new_trees\n",
    "print(tree_census.shape, new_trees.shape)\n",
    "\n",
    "# Add rows to tree_census which contain data for the new trees\n",
    "updated_tree_census = np.concatenate((tree_census,new_trees),axis=0)\n",
    "print(updated_tree_census)"
   ]
  }
 ],
 "metadata": {
  "kernelspec": {
   "display_name": "Python 3",
   "language": "python",
   "name": "python3"
  },
  "language_info": {
   "codemirror_mode": {
    "name": "ipython",
    "version": 3
   },
   "file_extension": ".py",
   "mimetype": "text/x-python",
   "name": "python",
   "nbconvert_exporter": "python",
   "pygments_lexer": "ipython3",
   "version": "3.9.9"
  },
  "orig_nbformat": 4,
  "vscode": {
   "interpreter": {
    "hash": "7824406444212d923fa81ea6d69417b7ddef86b1ecd218c44d304e50b9505925"
   }
  }
 },
 "nbformat": 4,
 "nbformat_minor": 2
}

{
 "cells": [
  {
   "attachments": {},
   "cell_type": "markdown",
   "metadata": {},
   "source": [
    "# Vectorizing .upper()\n",
    "There are many situations where you might want to use Python methods and functions on array elements in NumPy. You can always write a for loop to do this, but vectorized operations are much faster and more efficient, so consider using np.vectorize()!\n",
    "\n",
    "You've got an array called names which contains first and last names:\n",
    "\n",
    "`names = np.array([[\"Izzy\", \"Monica\", \"Marvin\"], [\"Weber\", \"Patel\", \"Hernandez\"]])`\n",
    "\n",
    "You'd like to use one of the Python methods you learned on DataCamp, `.upper()`, to make all the letters of every name in the array uppercase. As a reminder, `.upper()` is a string method, meaning that it must be called on an instance of a string: `str.upper()`."
   ]
  },
  {
   "cell_type": "code",
   "execution_count": 3,
   "metadata": {},
   "outputs": [],
   "source": [
    "import numpy as np\n",
    "names = np.array([[\"Izzy\", \"Monica\", \"Marvin\"], \n",
    "                  [\"Weber\", \"Patel\", \"Hernandez\"]])"
   ]
  },
  {
   "attachments": {},
   "cell_type": "markdown",
   "metadata": {},
   "source": [
    "* Create a vectorized function called vectorized_upper from the Python `.upper()` string method.\n",
    "* Apply `vectorized_upper()` to the `names` array and save the resulting array as `uppercase_names`."
   ]
  },
  {
   "cell_type": "code",
   "execution_count": 9,
   "metadata": {},
   "outputs": [
    {
     "name": "stdout",
     "output_type": "stream",
     "text": [
      "[['IZZY' 'MONICA' 'MARVIN']\n",
      " ['WEBER' 'PATEL' 'HERNANDEZ']]\n"
     ]
    }
   ],
   "source": [
    "# Vectorize the .upper() string method\n",
    "vectorized_upper = np.vectorize(np.char.upper)\n",
    "\n",
    "# Apply vectorized_upper to the names array\n",
    "uppercase_names = vectorized_upper(names)\n",
    "print(uppercase_names)"
   ]
  }
 ],
 "metadata": {
  "kernelspec": {
   "display_name": "Python 3",
   "language": "python",
   "name": "python3"
  },
  "language_info": {
   "codemirror_mode": {
    "name": "ipython",
    "version": 3
   },
   "file_extension": ".py",
   "mimetype": "text/x-python",
   "name": "python",
   "nbconvert_exporter": "python",
   "pygments_lexer": "ipython3",
   "version": "3.9.9"
  },
  "orig_nbformat": 4,
  "vscode": {
   "interpreter": {
    "hash": "7824406444212d923fa81ea6d69417b7ddef86b1ecd218c44d304e50b9505925"
   }
  }
 },
 "nbformat": 4,
 "nbformat_minor": 2
}

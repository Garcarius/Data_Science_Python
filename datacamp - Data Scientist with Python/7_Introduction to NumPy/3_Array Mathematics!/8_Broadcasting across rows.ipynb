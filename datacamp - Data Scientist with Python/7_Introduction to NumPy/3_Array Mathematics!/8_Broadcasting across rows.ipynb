{
 "cells": [
  {
   "attachments": {},
   "cell_type": "markdown",
   "metadata": {},
   "source": [
    "# Broadcasting across rows\n",
    "In the last set of exercises, you used `monthly_industry_multipliers`, to create sales predictions. Recall that `monthly_industry_multipliers` looks like this:\n",
    "\n",
    "array([[0.98, 1.02, 1.  ],\n",
    "       [1.00, 1.01, 0.97],\n",
    "       [1.06, 1.03, 0.98],\n",
    "       [1.08, 1.01, 0.98],\n",
    "       [1.08, 0.98, 0.98],\n",
    "       [1.1 , 0.99, 0.99],\n",
    "       [1.12, 1.01, 1.  ],\n",
    "       [1.1 , 1.02, 1.  ],\n",
    "       [1.11, 1.01, 1.01],\n",
    "       [1.08, 0.99, 0.97],\n",
    "       [1.09, 1.  , 1.02],\n",
    "       [1.13, 1.03, 1.02]])\n",
    "\n",
    "Assume you're not comfortable being so specific with your estimates. Rather, you'd like to use `monthly_industry_multipliers` to find a single average multiplier for each industry. Then you'll use that multiplier to project next year's sales.\n",
    "\n",
    "`numpy` is loaded for you as np, and the `monthly_sales` and `monthly_industry_multipliers` arrays are available. The `monthly_sales` columns in order refer to liquor store, restaurant, and department store sales.       "
   ]
  },
  {
   "cell_type": "code",
   "execution_count": 2,
   "metadata": {},
   "outputs": [
    {
     "data": {
      "text/plain": [
       "(12, 3)"
      ]
     },
     "metadata": {},
     "output_type": "display_data"
    },
    {
     "data": {
      "text/plain": [
       "(12, 3)"
      ]
     },
     "metadata": {},
     "output_type": "display_data"
    }
   ],
   "source": [
    "import numpy as np\n",
    "path=r\"D:\\\\Cursos\\\\Data_Science_Python\\\\data_sets\\\\\"\n",
    "monthly_sales=np.load(path+\"monthly_sales.npy\")\n",
    "display(monthly_sales.shape)\n",
    "\n",
    "monthly_industry_multipliers = np.array([[0.98, 1.02, 1.  ],\n",
    "       [1.00, 1.01, 0.97],\n",
    "       [1.06, 1.03, 0.98],\n",
    "       [1.08, 1.01, 0.98],\n",
    "       [1.08, 0.98, 0.98],\n",
    "       [1.1 , 0.99, 0.99],\n",
    "       [1.12, 1.01, 1.  ],\n",
    "       [1.1 , 1.02, 1.  ],\n",
    "       [1.11, 1.01, 1.01],\n",
    "       [1.08, 0.99, 0.97],\n",
    "       [1.09, 1.  , 1.02],\n",
    "       [1.13, 1.03, 1.02]])\n",
    "display(monthly_industry_multipliers.shape)      "
   ]
  },
  {
   "attachments": {},
   "cell_type": "markdown",
   "metadata": {},
   "source": [
    "* Find the mean sales projection multiplier for each industry; save in an array called `mean_multipliers`."
   ]
  },
  {
   "cell_type": "code",
   "execution_count": 5,
   "metadata": {},
   "outputs": [
    {
     "name": "stdout",
     "output_type": "stream",
     "text": [
      "[1.0775     1.00833333 0.99333333]\n"
     ]
    }
   ],
   "source": [
    "# Find the mean sales projection multiplier for each industry\n",
    "mean_multipliers = monthly_industry_multipliers.mean(axis=0)\n",
    "print(mean_multipliers)"
   ]
  },
  {
   "attachments": {},
   "cell_type": "markdown",
   "metadata": {},
   "source": [
    "* Print the shapes of `mean_multipliers` and `monthly_sales` to ensure they are suitable for broadcasting."
   ]
  },
  {
   "cell_type": "code",
   "execution_count": 7,
   "metadata": {},
   "outputs": [
    {
     "name": "stdout",
     "output_type": "stream",
     "text": [
      "[1.0775     1.00833333 0.99333333]\n",
      "(3,) (12, 3)\n"
     ]
    }
   ],
   "source": [
    "# Find the mean sales projection multiplier for each industry\n",
    "mean_multipliers = monthly_industry_multipliers.mean(axis=0)\n",
    "print(mean_multipliers)\n",
    "\n",
    "# Print the shapes of mean_multipliers and monthly_sales\n",
    "print(mean_multipliers.shape,monthly_sales.shape)"
   ]
  },
  {
   "attachments": {},
   "cell_type": "markdown",
   "metadata": {},
   "source": [
    "* Multiply each monthly sales value by the mean multiplier you found for that industry; save in an array called `projected_sales`."
   ]
  },
  {
   "cell_type": "code",
   "execution_count": 8,
   "metadata": {},
   "outputs": [
    {
     "name": "stdout",
     "output_type": "stream",
     "text": [
      "[1.0775     1.00833333 0.99333333]\n",
      "(3,) (12, 3)\n",
      "[[ 4454.385      24124.375       8599.28666667]\n",
      " [ 4434.99       24073.95833333  9081.05333333]\n",
      " [ 5035.1575     27423.64166667 10574.03333333]\n",
      " [ 4934.95       25850.64166667 10386.29333333]\n",
      " [ 5504.9475     28228.29166667 11223.67333333]\n",
      " [ 5399.3525     27647.49166667 10554.16666667]\n",
      " [ 5651.4875     27532.54166667 10559.13333333]\n",
      " [ 5678.425      27991.33333333 11473.        ]\n",
      " [ 5042.7        25196.23333333  9696.92      ]\n",
      " [ 5293.7575     26017.01666667 10386.29333333]\n",
      " [ 5723.68       25616.70833333 13311.66      ]\n",
      " [ 7143.825      28028.64166667 18280.31333333]]\n"
     ]
    }
   ],
   "source": [
    "# Find the mean sales projection multiplier for each industry\n",
    "mean_multipliers = monthly_industry_multipliers.mean(axis=0)\n",
    "print(mean_multipliers)\n",
    "\n",
    "# Print the shapes of mean_multipliers and monthly_sales\n",
    "print(mean_multipliers.shape, monthly_sales.shape)\n",
    "\n",
    "# Multiply each value by the multiplier for that industry\n",
    "projected_sales = monthly_sales * mean_multipliers\n",
    "print(projected_sales)"
   ]
  }
 ],
 "metadata": {
  "kernelspec": {
   "display_name": "Python 3",
   "language": "python",
   "name": "python3"
  },
  "language_info": {
   "codemirror_mode": {
    "name": "ipython",
    "version": 3
   },
   "file_extension": ".py",
   "mimetype": "text/x-python",
   "name": "python",
   "nbconvert_exporter": "python",
   "pygments_lexer": "ipython3",
   "version": "3.9.9"
  },
  "orig_nbformat": 4,
  "vscode": {
   "interpreter": {
    "hash": "7824406444212d923fa81ea6d69417b7ddef86b1ecd218c44d304e50b9505925"
   }
  }
 },
 "nbformat": 4,
 "nbformat_minor": 2
}

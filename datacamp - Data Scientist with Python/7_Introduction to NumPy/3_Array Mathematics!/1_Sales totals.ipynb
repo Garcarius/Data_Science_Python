{
 "cells": [
  {
   "attachments": {},
   "cell_type": "markdown",
   "metadata": {},
   "source": [
    "# Sales totals\n",
    "The dataset you'll be working with during this chapter is one year's sales data by month for three different industries. Each row in this `monthly_sales` array represents a month from January to December. The first column has monthly sales data for liquor stores, the second column has data for restaurants, and the last column tracks sales for department stores."
   ]
  },
  {
   "cell_type": "code",
   "execution_count": 1,
   "metadata": {},
   "outputs": [
    {
     "data": {
      "text/plain": [
       "(12, 3)"
      ]
     },
     "execution_count": 1,
     "metadata": {},
     "output_type": "execute_result"
    }
   ],
   "source": [
    "import numpy as np\n",
    "                     # liquor restaurants stores\n",
    "monthly_sales = np.array([[ 4134, 23925,  8657],\n",
    "       [ 4116, 23875,  9142],\n",
    "       [ 4673, 27197, 10645],\n",
    "       [ 4580, 25637, 10456],\n",
    "       [ 5109, 27995, 11299],\n",
    "       [ 5011, 27419, 10625],\n",
    "       [ 5245, 27305, 10630],\n",
    "       [ 5270, 27760, 11550],\n",
    "       [ 4680, 24988,  9762],\n",
    "       [ 4913, 25802, 10456],\n",
    "       [ 5312, 25405, 13401],\n",
    "       [ 6630, 27797, 18403]])\n",
    "\n",
    "monthly_sales.shape"
   ]
  },
  {
   "attachments": {},
   "cell_type": "markdown",
   "metadata": {},
   "source": [
    "Your task is to create an array with all the information from `monthly_sales` as well as a fourth column which totals the monthly sales across industries for each month.\n",
    "`numpy` is loaded for you as np, and the `monthly_sales` array is available.\n",
    "\n",
    "\n",
    "* Create a 2D array which contains a single column of total monthly sales across industries; call it `monthly_industry_sales`."
   ]
  },
  {
   "cell_type": "code",
   "execution_count": 3,
   "metadata": {},
   "outputs": [
    {
     "name": "stdout",
     "output_type": "stream",
     "text": [
      "[[36716]\n",
      " [37133]\n",
      " [42515]\n",
      " [40673]\n",
      " [44403]\n",
      " [43055]\n",
      " [43180]\n",
      " [44580]\n",
      " [39430]\n",
      " [41171]\n",
      " [44118]\n",
      " [52830]]\n"
     ]
    }
   ],
   "source": [
    "# Create a 2D array of total monthly sales across industries\n",
    "monthly_industry_sales = np.sum(monthly_sales,axis=1,keepdims=True)\n",
    "print(monthly_industry_sales)"
   ]
  },
  {
   "attachments": {},
   "cell_type": "markdown",
   "metadata": {},
   "source": [
    "* Concatenate `monthly_industry_sales` with `monthly_sales` into a new array called `monthly_sales_with_total`, with the monthly cross-industry sales information in the final column."
   ]
  },
  {
   "cell_type": "code",
   "execution_count": 7,
   "metadata": {},
   "outputs": [
    {
     "name": "stdout",
     "output_type": "stream",
     "text": [
      "[[36716]\n",
      " [37133]\n",
      " [42515]\n",
      " [40673]\n",
      " [44403]\n",
      " [43055]\n",
      " [43180]\n",
      " [44580]\n",
      " [39430]\n",
      " [41171]\n",
      " [44118]\n",
      " [52830]]\n",
      "(12, 1)\n",
      "[[ 4134 23925  8657 36716]\n",
      " [ 4116 23875  9142 37133]\n",
      " [ 4673 27197 10645 42515]\n",
      " [ 4580 25637 10456 40673]\n",
      " [ 5109 27995 11299 44403]\n",
      " [ 5011 27419 10625 43055]\n",
      " [ 5245 27305 10630 43180]\n",
      " [ 5270 27760 11550 44580]\n",
      " [ 4680 24988  9762 39430]\n",
      " [ 4913 25802 10456 41171]\n",
      " [ 5312 25405 13401 44118]\n",
      " [ 6630 27797 18403 52830]]\n"
     ]
    }
   ],
   "source": [
    "# Create a 2D array of total monthly sales across industries\n",
    "monthly_industry_sales = monthly_sales.sum(axis=1, keepdims=True)\n",
    "print(monthly_industry_sales)\n",
    "\n",
    "# Add this column as the last column in monthly_sales\n",
    "monthly_sales_with_total = np.concatenate((monthly_sales,monthly_industry_sales),axis=1)\n",
    "print(monthly_sales_with_total)"
   ]
  }
 ],
 "metadata": {
  "kernelspec": {
   "display_name": "Python 3",
   "language": "python",
   "name": "python3"
  },
  "language_info": {
   "codemirror_mode": {
    "name": "ipython",
    "version": 3
   },
   "file_extension": ".py",
   "mimetype": "text/x-python",
   "name": "python",
   "nbconvert_exporter": "python",
   "pygments_lexer": "ipython3",
   "version": "3.9.9"
  },
  "orig_nbformat": 4,
  "vscode": {
   "interpreter": {
    "hash": "7824406444212d923fa81ea6d69417b7ddef86b1ecd218c44d304e50b9505925"
   }
  }
 },
 "nbformat": 4,
 "nbformat_minor": 2
}

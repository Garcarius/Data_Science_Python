{
 "cells": [
  {
   "attachments": {},
   "cell_type": "markdown",
   "metadata": {},
   "source": [
    "# Tax calculations\n",
    "It's possible to use vectorized operations to calculate taxes for the liquor, restaurant, and department store industries! We'll simplify the tax calculation process here and assume that government collects 5% of all sales across these industries as tax revenue.\n",
    "\n",
    "Your task is to calculate the tax owed by each industry related to each month's sales. `numpy` is loaded for you as `np`, and the monthly_sales array is available."
   ]
  },
  {
   "cell_type": "code",
   "execution_count": 1,
   "metadata": {},
   "outputs": [
    {
     "data": {
      "text/plain": [
       "(12, 3)"
      ]
     },
     "metadata": {},
     "output_type": "display_data"
    }
   ],
   "source": [
    "import numpy as np\n",
    "path=r\"D:\\\\Cursos\\\\Data_Science_Python\\\\data_sets\\\\\"\n",
    "monthly_sales=np.load(path+\"monthly_sales.npy\")\n",
    "display(monthly_sales.shape)\n",
    "# liquor restaurants stores"
   ]
  },
  {
   "attachments": {},
   "cell_type": "markdown",
   "metadata": {},
   "source": [
    "* Create an array called `tax_collected` which calculates tax collected by industry and month by multiplying each element in `monthly_sales` by 0.05."
   ]
  },
  {
   "cell_type": "code",
   "execution_count": 2,
   "metadata": {},
   "outputs": [
    {
     "name": "stdout",
     "output_type": "stream",
     "text": [
      "[[ 206.7  1196.25  432.85]\n",
      " [ 205.8  1193.75  457.1 ]\n",
      " [ 233.65 1359.85  532.25]\n",
      " [ 229.   1281.85  522.8 ]\n",
      " [ 255.45 1399.75  564.95]\n",
      " [ 250.55 1370.95  531.25]\n",
      " [ 262.25 1365.25  531.5 ]\n",
      " [ 263.5  1388.    577.5 ]\n",
      " [ 234.   1249.4   488.1 ]\n",
      " [ 245.65 1290.1   522.8 ]\n",
      " [ 265.6  1270.25  670.05]\n",
      " [ 331.5  1389.85  920.15]]\n"
     ]
    }
   ],
   "source": [
    "# Create an array of tax collected by industry and month\n",
    "tax_collected = monthly_sales * 0.05\n",
    "print(tax_collected)"
   ]
  },
  {
   "attachments": {},
   "cell_type": "markdown",
   "metadata": {},
   "source": [
    "* Create an array that keeps track of `total_tax_and_revenue` collected by each industry and month by adding each element in `tax_collected` with its corresponding element in `monthly_sales`."
   ]
  },
  {
   "cell_type": "code",
   "execution_count": 3,
   "metadata": {},
   "outputs": [
    {
     "name": "stdout",
     "output_type": "stream",
     "text": [
      "[[ 206.7  1196.25  432.85]\n",
      " [ 205.8  1193.75  457.1 ]\n",
      " [ 233.65 1359.85  532.25]\n",
      " [ 229.   1281.85  522.8 ]\n",
      " [ 255.45 1399.75  564.95]\n",
      " [ 250.55 1370.95  531.25]\n",
      " [ 262.25 1365.25  531.5 ]\n",
      " [ 263.5  1388.    577.5 ]\n",
      " [ 234.   1249.4   488.1 ]\n",
      " [ 245.65 1290.1   522.8 ]\n",
      " [ 265.6  1270.25  670.05]\n",
      " [ 331.5  1389.85  920.15]]\n",
      "[[ 4340.7  25121.25  9089.85]\n",
      " [ 4321.8  25068.75  9599.1 ]\n",
      " [ 4906.65 28556.85 11177.25]\n",
      " [ 4809.   26918.85 10978.8 ]\n",
      " [ 5364.45 29394.75 11863.95]\n",
      " [ 5261.55 28789.95 11156.25]\n",
      " [ 5507.25 28670.25 11161.5 ]\n",
      " [ 5533.5  29148.   12127.5 ]\n",
      " [ 4914.   26237.4  10250.1 ]\n",
      " [ 5158.65 27092.1  10978.8 ]\n",
      " [ 5577.6  26675.25 14071.05]\n",
      " [ 6961.5  29186.85 19323.15]]\n"
     ]
    }
   ],
   "source": [
    "# Create an array of tax collected by industry and month\n",
    "tax_collected = monthly_sales * 0.05\n",
    "print(tax_collected)\n",
    "\n",
    "# Create an array of sales revenue plus tax collected by industry and month\n",
    "total_tax_and_revenue = monthly_sales + tax_collected\n",
    "print(total_tax_and_revenue)"
   ]
  }
 ],
 "metadata": {
  "kernelspec": {
   "display_name": "Python 3",
   "language": "python",
   "name": "python3"
  },
  "language_info": {
   "codemirror_mode": {
    "name": "ipython",
    "version": 3
   },
   "file_extension": ".py",
   "mimetype": "text/x-python",
   "name": "python",
   "nbconvert_exporter": "python",
   "pygments_lexer": "ipython3",
   "version": "3.9.9"
  },
  "orig_nbformat": 4,
  "vscode": {
   "interpreter": {
    "hash": "7824406444212d923fa81ea6d69417b7ddef86b1ecd218c44d304e50b9505925"
   }
  }
 },
 "nbformat": 4,
 "nbformat_minor": 2
}

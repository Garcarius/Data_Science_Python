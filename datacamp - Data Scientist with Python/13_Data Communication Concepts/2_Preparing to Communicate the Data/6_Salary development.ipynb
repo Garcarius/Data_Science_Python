{
 "cells": [
  {
   "cell_type": "markdown",
   "metadata": {},
   "source": [
    "# Salary development\n",
    "You are presenting your data analysis of San Francisco salaries to the business development department.\n",
    "\n",
    "You have your story, and you selected data and metrics to support it. But choosing the visualizations is still an ongoing task. You decide to speed it up by getting hands-on. You want to follow the best practices.\n",
    "\n",
    "The message you want to convey is: \"San Francisco salaries have been constantly going up in the last 4 years. The percentage variation is 10% annually. The salary of people working in the private sector, such as software or biotechnology, have increased by 100k.\"\n",
    "\n",
    "Can you classify if these practices would be **good** or **bad** when presenting to the business department?"
   ]
  },
  {
   "cell_type": "markdown",
   "metadata": {},
   "source": [
    "![Alt text](image-6.png)"
   ]
  }
 ],
 "metadata": {
  "language_info": {
   "name": "python"
  },
  "orig_nbformat": 4
 },
 "nbformat": 4,
 "nbformat_minor": 2
}

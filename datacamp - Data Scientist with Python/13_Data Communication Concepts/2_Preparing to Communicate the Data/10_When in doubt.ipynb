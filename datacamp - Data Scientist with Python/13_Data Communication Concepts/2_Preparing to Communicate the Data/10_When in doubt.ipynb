{
 "cells": [
  {
   "cell_type": "markdown",
   "metadata": {},
   "source": [
    "# When in doubt\n",
    "You manage to deliver the results to almost all the stakeholders. You are about to start writing the report for the founder when you get an email. Your founder is coming by the office the following Friday. Your manager wants to know if presenting the project during a meeting would be better.\n",
    "\n",
    "You have second thoughts about changing the format. So you decide to write down beneficial and unfavorable aspects of an oral presentation.\n",
    "\n",
    "Can you classify your thoughts correctly?\n",
    "\n",
    "Correctly classify examples where an oral presentation is either beneficial or a unfavorable."
   ]
  },
  {
   "cell_type": "markdown",
   "metadata": {},
   "source": [
    "![Alt text](image-10.png)"
   ]
  }
 ],
 "metadata": {
  "language_info": {
   "name": "python"
  },
  "orig_nbformat": 4
 },
 "nbformat": 4,
 "nbformat_minor": 2
}

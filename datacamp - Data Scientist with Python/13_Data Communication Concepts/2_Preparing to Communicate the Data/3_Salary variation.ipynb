{
 "cells": [
  {
   "cell_type": "markdown",
   "metadata": {},
   "source": [
    "# Salary variation\n",
    "You have selected suitable data for your story on San Francisco salaries. Now, you evaluate which metrics you should use.\n",
    "\n",
    "You want to convey the following message to the human resource team: \"The total pay of employees has increased or decreased according to their job title from 2017 to 2018.\"\n",
    "\n",
    "You prepared the two visualizations below, but you are unsure which one is best.\n",
    "\n",
    "![Alt text](image-2.png)"
   ]
  },
  {
   "cell_type": "markdown",
   "metadata": {},
   "source": [
    "![Alt text](image-3.png)"
   ]
  }
 ],
 "metadata": {
  "language_info": {
   "name": "python"
  },
  "orig_nbformat": 4
 },
 "nbformat": 4,
 "nbformat_minor": 2
}

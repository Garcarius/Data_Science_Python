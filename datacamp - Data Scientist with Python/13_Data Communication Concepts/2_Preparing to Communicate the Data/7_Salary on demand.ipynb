{
 "cells": [
  {
   "cell_type": "markdown",
   "metadata": {},
   "source": [
    "# Salary on demand\n",
    "You have selected visualizations for the business development department.\n",
    "\n",
    "It's time to include them in your report and present them. You are aware of the steps you should follow to include and present visualizations effectively, and you want to do your best and impress your business coworkers. So you ask a colleague to help you organize your thoughts.\n",
    "\n",
    "Can you **order** the steps for including and **presenting visual data** effectively?"
   ]
  },
  {
   "cell_type": "markdown",
   "metadata": {},
   "source": [
    "Order the steps chronologically: the first step should be on top and the last step at the bottom."
   ]
  },
  {
   "cell_type": "markdown",
   "metadata": {},
   "source": [
    "![Alt text](image-7.png)"
   ]
  }
 ],
 "metadata": {
  "language_info": {
   "name": "python"
  },
  "orig_nbformat": 4
 },
 "nbformat": 4,
 "nbformat_minor": 2
}

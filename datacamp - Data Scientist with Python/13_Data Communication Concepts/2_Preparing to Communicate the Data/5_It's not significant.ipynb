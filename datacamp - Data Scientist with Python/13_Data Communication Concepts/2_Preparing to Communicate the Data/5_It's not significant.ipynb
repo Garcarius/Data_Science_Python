{
 "cells": [
  {
   "cell_type": "markdown",
   "metadata": {},
   "source": [
    "# It's not significant\n",
    "You have a big deadline ahead. You need to submit a report on the data analysis for the project on San Francisco salaries to your technical lead. He will read it and report your results to the senior management team.\n",
    "\n",
    "You have a story, and you select data to support it. You want to show comparisons of average pay for people with different job titles.\n",
    "\n",
    "You are hesitant to show p-values. You know that there are a lot of misconceptions around it. You decide to use it anyway. However, you plan to clarify any confusion about p-values, so your audience understands its meaning and trusts your results.\n",
    "\n",
    "Can you classify these statements as **good use** or **misuse** of the p-value?"
   ]
  },
  {
   "cell_type": "markdown",
   "metadata": {},
   "source": [
    " ![Alt text](image-5.png)"
   ]
  }
 ],
 "metadata": {
  "language_info": {
   "name": "python"
  },
  "orig_nbformat": 4
 },
 "nbformat": 4,
 "nbformat_minor": 2
}

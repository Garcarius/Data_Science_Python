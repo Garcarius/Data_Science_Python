{
 "cells": [
  {
   "cell_type": "markdown",
   "metadata": {},
   "source": [
    "# On a payroll\n",
    "Good job on selecting the most impactful visualization! Your insight made an impact. The human resource team lead asked you to show more findings. You go back to your exploratory data analysis and select some data.\n",
    "\n",
    "But you want to explore different variants of the same data to discover the best one for explaining your distinct insights to the human resource team.\n",
    "\n",
    "Can you decide what data variant would be best suited depending on the finding you want to show\n",
    "\n",
    "Correctly classify the following examples as total values, change or ratio."
   ]
  },
  {
   "cell_type": "markdown",
   "metadata": {},
   "source": [
    "![Alt text](image-4.png)"
   ]
  }
 ],
 "metadata": {
  "language_info": {
   "name": "python"
  },
  "orig_nbformat": 4
 },
 "nbformat": 4,
 "nbformat_minor": 2
}

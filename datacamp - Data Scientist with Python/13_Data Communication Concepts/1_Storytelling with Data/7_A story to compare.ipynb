{
 "cells": [
  {
   "cell_type": "markdown",
   "metadata": {},
   "source": [
    "# A story to compare\n",
    "Great job organizing your narrative structure! The next step is to think about how you will present your insights.\n",
    "\n",
    "You start reading and discover there are several ways to present data stories. You can compare your data, show correlation, cluster your data…\n",
    "\n",
    "You are curious to know what type of data story would be a good fit for your data. You write down the central finding, your insights and the supporting evidence.\n",
    "\n",
    "Can you classify your findings into the following categories?\n",
    "\n",
    "Correctly classify the following examples as comparison, correlation or clustering."
   ]
  },
  {
   "cell_type": "markdown",
   "metadata": {},
   "source": [
    "![Alt text](image-6.png)"
   ]
  }
 ],
 "metadata": {
  "language_info": {
   "name": "python"
  },
  "orig_nbformat": 4
 },
 "nbformat": 4,
 "nbformat_minor": 2
}

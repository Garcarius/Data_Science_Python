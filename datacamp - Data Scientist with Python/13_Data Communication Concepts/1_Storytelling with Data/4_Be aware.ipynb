{
 "cells": [
  {
   "cell_type": "markdown",
   "metadata": {},
   "source": [
    "# Be aware\n",
    "The meeting was a success! The program director asks you to send your results to the business specialists. You need to write a report and send it by email by the end of the week. You have never met them, so you ask for their background and goals.\n",
    "\n",
    "After you gather data, you realize you will be communicating your results to a different audience. You want them to understand your results.\n",
    "\n",
    "Can you select which of the following examples are best practices to translate your results?"
   ]
  },
  {
   "cell_type": "markdown",
   "metadata": {},
   "source": [
    "![Alt text](image-3.png)"
   ]
  }
 ],
 "metadata": {
  "language_info": {
   "name": "python"
  },
  "orig_nbformat": 4
 },
 "nbformat": 4,
 "nbformat_minor": 2
}

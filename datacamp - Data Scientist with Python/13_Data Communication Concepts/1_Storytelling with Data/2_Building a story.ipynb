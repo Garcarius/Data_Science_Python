{
 "cells": [
  {
   "cell_type": "markdown",
   "metadata": {},
   "source": [
    "# Building a story\n",
    "You nailed it! Your explanation of why stories are efficient when conveying insights went very well! Now, your team lead would like you to give a short presentation. You're going to explain the different steps involved in telling a story with data to the team. It will be the starting point for delivering the results of the churn project when it's ready.\n",
    "\n",
    "You know it is an important task. To prepare for your talk, you look for your notes on the storytelling course you took, but realize that some parts are erased. So you need to remember the do's and dont's of data storytelling.\n",
    "\n",
    "Which of the following statements about effective data storytelling are true, and which are false?"
   ]
  },
  {
   "cell_type": "markdown",
   "metadata": {},
   "source": [
    "![Alt text](image-1.png)"
   ]
  }
 ],
 "metadata": {
  "language_info": {
   "name": "python"
  },
  "orig_nbformat": 4
 },
 "nbformat": 4,
 "nbformat_minor": 2
}

{
 "cells": [
  {
   "cell_type": "markdown",
   "metadata": {},
   "source": [
    "# The story begins\n",
    "You recently started working as a data scientist at a company named Communicatb. For your first project, you and your team need to analyze customer churn data for a cell phone company. The goal is to predict their behavior and help develop a program to retain customers.\n",
    "\n",
    "Your team lead knows you are an expert on storytelling. She asks you to explain to the team why crafting a compelling story is important when delivering results. You write down a list of reasons to be prepared.\n",
    "\n",
    "One of the statements you wrote is *false*. Can you select which one is it?"
   ]
  },
  {
   "cell_type": "markdown",
   "metadata": {},
   "source": [
    "![Alt text](image.png)"
   ]
  }
 ],
 "metadata": {
  "language_info": {
   "name": "python"
  },
  "orig_nbformat": 4
 },
 "nbformat": 4,
 "nbformat_minor": 2
}

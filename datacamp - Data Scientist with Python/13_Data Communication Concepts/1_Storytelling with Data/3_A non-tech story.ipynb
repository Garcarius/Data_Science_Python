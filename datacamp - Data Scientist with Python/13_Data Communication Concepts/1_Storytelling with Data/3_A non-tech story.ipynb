{
 "cells": [
  {
   "cell_type": "markdown",
   "metadata": {},
   "source": [
    "# A non-tech story\n",
    "The exploratory data analysis on the churn project is finished! It's now time for the monthly update meeting. You will have to explain your results to the operation specialist and the program director. You are addressing a non-technical audience, and want to make sure that your presentation is adapted to the audience you're addressing so that your message gets across.\n",
    "\n",
    "You write down some statements you could use to explain your work, but you believe some of them are more suitable for a non-technical story, while others are too technical to include.\n",
    "\n",
    "Can you select which sentences you should use in this case?"
   ]
  },
  {
   "cell_type": "markdown",
   "metadata": {},
   "source": [
    "![Alt text](image-2.png)"
   ]
  }
 ],
 "metadata": {
  "language_info": {
   "name": "python"
  },
  "orig_nbformat": 4
 },
 "nbformat": 4,
 "nbformat_minor": 2
}

{
 "cells": [
  {
   "cell_type": "markdown",
   "metadata": {},
   "source": [
    "# How long between rides?\n",
    "\n",
    "For your final exercise, let's take advantage of Pandas indexing to do something interesting. How much time elapsed between rides?"
   ]
  },
  {
   "cell_type": "code",
   "execution_count": 1,
   "metadata": {},
   "outputs": [],
   "source": [
    "import pandas as pd\n",
    "from datetime import datetime, timezone , timedelta\n",
    "\n",
    "# Load CSV into the rides variable\n",
    "rides = pd.read_csv('z://capital-onebike.csv', \n",
    "                    parse_dates = [\"Start date\",\"End date\"])\n",
    "\n",
    "# Subtract the start date from the end date\n",
    "ride_durations = rides[\"End date\"] - rides[\"Start date\"]\n",
    "\n",
    "# Convert the results to seconds\n",
    "rides[\"Duration\"] = ride_durations.dt.total_seconds()"
   ]
  },
  {
   "cell_type": "markdown",
   "metadata": {},
   "source": [
    "* Calculate the difference in the `Start date` of the current row and the `End date` of the previous row and assign it to `rides['Time since']`.\n",
    "* Convert `rides['Time since']` to seconds to make it easier to work with.\n",
    "* Resample `rides` to be in monthly buckets according to the `Start date`.\n",
    "* Divide the average by (60*60) to get the number of hours on average that W20529 waited in the dock before being picked up again."
   ]
  },
  {
   "cell_type": "code",
   "execution_count": 4,
   "metadata": {},
   "outputs": [
    {
     "name": "stdout",
     "output_type": "stream",
     "text": [
      "Start date\n",
      "2017-10-31    5.519242\n",
      "2017-11-30    7.256443\n",
      "2017-12-31    9.202380\n",
      "Freq: M, Name: Time since, dtype: float64\n"
     ]
    }
   ],
   "source": [
    "# Shift the index of the end date up one; now subract it from the start date\n",
    "rides['Time since'] = rides['Start date'] - (rides['End date'].shift(1))\n",
    "\n",
    "# Move from a timedelta to a number of seconds, which is easier to work with\n",
    "rides['Time since'] = rides['Time since'].dt.total_seconds()\n",
    "\n",
    "# Resample to the month\n",
    "monthly = rides.resample('M',on='Start date')\n",
    "\n",
    "# Print the average hours between rides each month\n",
    "print(monthly['Time since'].mean() /(60*60))"
   ]
  }
 ],
 "metadata": {
  "kernelspec": {
   "display_name": "Python 3",
   "language": "python",
   "name": "python3"
  },
  "language_info": {
   "codemirror_mode": {
    "name": "ipython",
    "version": 3
   },
   "file_extension": ".py",
   "mimetype": "text/x-python",
   "name": "python",
   "nbconvert_exporter": "python",
   "pygments_lexer": "ipython3",
   "version": "3.9.9"
  }
 },
 "nbformat": 4,
 "nbformat_minor": 2
}

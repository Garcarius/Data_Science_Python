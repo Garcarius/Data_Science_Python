{
 "cells": [
  {
   "cell_type": "markdown",
   "metadata": {},
   "source": [
    "# Combining groupby() and resample()\n",
    "\n",
    "A very powerful method in Pandas is `.groupby()`. Whereas `.resample()` groups rows by some time or date information, `.groupby()` groups rows based on the values in one or more columns. For example, `rides.groupby('Member type').size()` would tell us how many rides there were by member type in our entire DataFrame.\n",
    "\n",
    "`.resample()` can be called after `.groupby()`. For example, how long was the median ride by month, and by Membership type?"
   ]
  },
  {
   "cell_type": "code",
   "execution_count": 1,
   "metadata": {},
   "outputs": [],
   "source": [
    "import pandas as pd\n",
    "\n",
    "# Load CSV into the rides variable\n",
    "rides = pd.read_csv('z://capital-onebike.csv', \n",
    "                    parse_dates = [\"Start date\",\"End date\"])\n",
    "\n",
    "# Subtract the start date from the end date\n",
    "ride_durations = rides[\"End date\"] - rides[\"Start date\"]\n",
    "\n",
    "# Convert the results to seconds\n",
    "rides[\"Duration\"] = ride_durations.dt.total_seconds()"
   ]
  },
  {
   "cell_type": "markdown",
   "metadata": {},
   "source": [
    "* Complete the `.groupby()` call to group by `'Member type'`, and the `.resample()` call to resample according to `'Start date'`, by month.\n",
    "* Print the median `Duration` for each group."
   ]
  },
  {
   "cell_type": "code",
   "execution_count": 6,
   "metadata": {},
   "outputs": [
    {
     "ename": "KeyError",
     "evalue": "'Column not found: Duration'",
     "output_type": "error",
     "traceback": [
      "\u001b[1;31m---------------------------------------------------------------------------\u001b[0m",
      "\u001b[1;31mKeyError\u001b[0m                                  Traceback (most recent call last)",
      "Cell \u001b[1;32mIn[6], line 6\u001b[0m\n\u001b[0;32m      2\u001b[0m grouped \u001b[38;5;241m=\u001b[39m rides\u001b[38;5;241m.\u001b[39mgroupby(\u001b[38;5;124m'\u001b[39m\u001b[38;5;124mMember type\u001b[39m\u001b[38;5;124m'\u001b[39m)\\\n\u001b[0;32m      3\u001b[0m   \u001b[38;5;241m.\u001b[39mresample(\u001b[38;5;124m'\u001b[39m\u001b[38;5;124mM\u001b[39m\u001b[38;5;124m'\u001b[39m, on\u001b[38;5;241m=\u001b[39m\u001b[38;5;124m'\u001b[39m\u001b[38;5;124mStart date\u001b[39m\u001b[38;5;124m'\u001b[39m)\n\u001b[0;32m      5\u001b[0m \u001b[38;5;66;03m# Print the median duration for each group\u001b[39;00m\n\u001b[1;32m----> 6\u001b[0m \u001b[38;5;28mprint\u001b[39m(\u001b[43mgrouped\u001b[49m\u001b[43m[\u001b[49m\u001b[38;5;124;43m'\u001b[39;49m\u001b[38;5;124;43mDuration\u001b[39;49m\u001b[38;5;124;43m'\u001b[39;49m\u001b[43m]\u001b[49m\u001b[38;5;241m.\u001b[39mmedian())\n",
      "File \u001b[1;32mc:\\Users\\Garca\\AppData\\Local\\Programs\\Python\\Python39\\lib\\site-packages\\pandas\\core\\base.py:244\u001b[0m, in \u001b[0;36mSelectionMixin.__getitem__\u001b[1;34m(self, key)\u001b[0m\n\u001b[0;32m    242\u001b[0m \u001b[38;5;28;01melse\u001b[39;00m:\n\u001b[0;32m    243\u001b[0m     \u001b[38;5;28;01mif\u001b[39;00m key \u001b[38;5;129;01mnot\u001b[39;00m \u001b[38;5;129;01min\u001b[39;00m \u001b[38;5;28mself\u001b[39m\u001b[38;5;241m.\u001b[39mobj:\n\u001b[1;32m--> 244\u001b[0m         \u001b[38;5;28;01mraise\u001b[39;00m \u001b[38;5;167;01mKeyError\u001b[39;00m(\u001b[38;5;124mf\u001b[39m\u001b[38;5;124m\"\u001b[39m\u001b[38;5;124mColumn not found: \u001b[39m\u001b[38;5;132;01m{\u001b[39;00mkey\u001b[38;5;132;01m}\u001b[39;00m\u001b[38;5;124m\"\u001b[39m)\n\u001b[0;32m    245\u001b[0m     ndim \u001b[38;5;241m=\u001b[39m \u001b[38;5;28mself\u001b[39m\u001b[38;5;241m.\u001b[39mobj[key]\u001b[38;5;241m.\u001b[39mndim\n\u001b[0;32m    246\u001b[0m     \u001b[38;5;28;01mreturn\u001b[39;00m \u001b[38;5;28mself\u001b[39m\u001b[38;5;241m.\u001b[39m_gotitem(key, ndim\u001b[38;5;241m=\u001b[39mndim)\n",
      "\u001b[1;31mKeyError\u001b[0m: 'Column not found: Duration'"
     ]
    }
   ],
   "source": [
    "# Group rides by member type, and resample to the month\n",
    "grouped = rides.groupby('Member type')\\\n",
    "  .resample('M', on='Start date')\n",
    "\n",
    "# Print the median duration for each group\n",
    "print(grouped['Duration'].median())"
   ]
  },
  {
   "cell_type": "code",
   "execution_count": 7,
   "metadata": {},
   "outputs": [
    {
     "name": "stdout",
     "output_type": "stream",
     "text": [
      "             Start date            End date  Start station number  \\\n",
      "0   2017-10-01 15:23:25 2017-10-01 15:26:26                 31038   \n",
      "1   2017-10-01 15:42:57 2017-10-01 17:49:59                 31036   \n",
      "2   2017-10-02 06:37:10 2017-10-02 06:42:53                 31036   \n",
      "3   2017-10-02 08:56:45 2017-10-02 09:18:03                 31037   \n",
      "4   2017-10-02 18:23:48 2017-10-02 18:45:05                 31295   \n",
      "..                  ...                 ...                   ...   \n",
      "285 2017-12-29 14:32:55 2017-12-29 14:43:46                 31242   \n",
      "286 2017-12-29 15:08:26 2017-12-29 15:18:51                 31265   \n",
      "287 2017-12-29 20:33:34 2017-12-29 20:38:13                 31613   \n",
      "288 2017-12-30 13:51:03 2017-12-30 13:54:33                 31618   \n",
      "289 2017-12-30 15:09:03 2017-12-30 15:19:13                 31610   \n",
      "\n",
      "                                         Start station  End station number  \\\n",
      "0                                 Glebe Rd & 11th St N               31036   \n",
      "1                        George Mason Dr & Wilson Blvd               31036   \n",
      "2                        George Mason Dr & Wilson Blvd               31037   \n",
      "3                 Ballston Metro / N Stuart & 9th St N               31295   \n",
      "4                                    Potomac & M St NW               31230   \n",
      "..                                                 ...                 ...   \n",
      "285                      18th St & Pennsylvania Ave NW               31265   \n",
      "286                      5th St & Massachusetts Ave NW               31613   \n",
      "287  Eastern Market Metro / Pennsylvania Ave & 7th ...               31618   \n",
      "288                           4th & East Capitol St NE               31610   \n",
      "289       Eastern Market / 7th & North Carolina Ave SE               31272   \n",
      "\n",
      "                                           End station Bike number Member type  \n",
      "0                        George Mason Dr & Wilson Blvd      W20529      Member  \n",
      "1                        George Mason Dr & Wilson Blvd      W20529      Casual  \n",
      "2                 Ballston Metro / N Stuart & 9th St N      W20529      Member  \n",
      "3                                    Potomac & M St NW      W20529      Member  \n",
      "4                        Metro Center / 12th & G St NW      W20529      Member  \n",
      "..                                                 ...         ...         ...  \n",
      "285                      5th St & Massachusetts Ave NW      W20529      Member  \n",
      "286  Eastern Market Metro / Pennsylvania Ave & 7th ...      W20529      Casual  \n",
      "287                           4th & East Capitol St NE      W20529      Member  \n",
      "288       Eastern Market / 7th & North Carolina Ave SE      W20529      Member  \n",
      "289               Washington & Independence Ave SW/HHS      W20529      Member  \n",
      "\n",
      "[290 rows x 8 columns]\n"
     ]
    }
   ],
   "source": [
    "grouped = rides.groupby('Member type')\\\n",
    "  .resample('M', on='Start date')\n",
    "\n",
    "print(rides)"
   ]
  }
 ],
 "metadata": {
  "kernelspec": {
   "display_name": "Python 3",
   "language": "python",
   "name": "python3"
  },
  "language_info": {
   "codemirror_mode": {
    "name": "ipython",
    "version": 3
   },
   "file_extension": ".py",
   "mimetype": "text/x-python",
   "name": "python",
   "nbconvert_exporter": "python",
   "pygments_lexer": "ipython3",
   "version": "3.9.9"
  }
 },
 "nbformat": 4,
 "nbformat_minor": 2
}

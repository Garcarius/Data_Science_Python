{
 "cells": [
  {
   "cell_type": "markdown",
   "metadata": {},
   "source": [
    "# Combining groupby() and resample()\n",
    "\n",
    "A very powerful method in Pandas is `.groupby()`. Whereas `.resample()` groups rows by some time or date information, `.groupby()` groups rows based on the values in one or more columns. For example, `rides.groupby('Member type').size()` would tell us how many rides there were by member type in our entire DataFrame.\n",
    "\n",
    "`.resample()` can be called after `.groupby()`. For example, how long was the median ride by month, and by Membership type?"
   ]
  },
  {
   "cell_type": "code",
   "execution_count": 8,
   "metadata": {},
   "outputs": [],
   "source": [
    "import pandas as pd\n",
    "\n",
    "# Load CSV into the rides variable\n",
    "rides = pd.read_csv('z://capital-onebike.csv', \n",
    "                    parse_dates = [\"Start date\",\"End date\"])\n",
    "\n",
    "# Subtract the start date from the end date\n",
    "ride_durations = rides[\"End date\"] - rides[\"Start date\"]\n",
    "\n",
    "# Convert the results to seconds\n",
    "rides[\"Duration\"] = ride_durations.dt.total_seconds()"
   ]
  },
  {
   "cell_type": "markdown",
   "metadata": {},
   "source": [
    "* Complete the `.groupby()` call to group by `'Member type'`, and the `.resample()` call to resample according to `'Start date'`, by month.\n",
    "* Print the median `Duration` for each group."
   ]
  },
  {
   "cell_type": "code",
   "execution_count": 9,
   "metadata": {},
   "outputs": [
    {
     "name": "stdout",
     "output_type": "stream",
     "text": [
      "Member type  Start date\n",
      "Casual       2017-10-31    1636.0\n",
      "             2017-11-30    1159.5\n",
      "             2017-12-31     850.0\n",
      "Member       2017-10-31     671.0\n",
      "             2017-11-30     655.0\n",
      "             2017-12-31     387.5\n",
      "Name: Duration, dtype: float64\n"
     ]
    }
   ],
   "source": [
    "# Group rides by member type, and resample to the month\n",
    "grouped = rides.groupby('Member type')\\\n",
    "  .resample('M', on='Start date')\n",
    "\n",
    "# Print the median duration for each group\n",
    "print(grouped['Duration'].median())"
   ]
  },
  {
   "cell_type": "code",
   "execution_count": 7,
   "metadata": {},
   "outputs": [
    {
     "name": "stdout",
     "output_type": "stream",
     "text": [
      "             Start date            End date  Start station number  \\\n",
      "0   2017-10-01 15:23:25 2017-10-01 15:26:26                 31038   \n",
      "1   2017-10-01 15:42:57 2017-10-01 17:49:59                 31036   \n",
      "2   2017-10-02 06:37:10 2017-10-02 06:42:53                 31036   \n",
      "3   2017-10-02 08:56:45 2017-10-02 09:18:03                 31037   \n",
      "4   2017-10-02 18:23:48 2017-10-02 18:45:05                 31295   \n",
      "..                  ...                 ...                   ...   \n",
      "285 2017-12-29 14:32:55 2017-12-29 14:43:46                 31242   \n",
      "286 2017-12-29 15:08:26 2017-12-29 15:18:51                 31265   \n",
      "287 2017-12-29 20:33:34 2017-12-29 20:38:13                 31613   \n",
      "288 2017-12-30 13:51:03 2017-12-30 13:54:33                 31618   \n",
      "289 2017-12-30 15:09:03 2017-12-30 15:19:13                 31610   \n",
      "\n",
      "                                         Start station  End station number  \\\n",
      "0                                 Glebe Rd & 11th St N               31036   \n",
      "1                        George Mason Dr & Wilson Blvd               31036   \n",
      "2                        George Mason Dr & Wilson Blvd               31037   \n",
      "3                 Ballston Metro / N Stuart & 9th St N               31295   \n",
      "4                                    Potomac & M St NW               31230   \n",
      "..                                                 ...                 ...   \n",
      "285                      18th St & Pennsylvania Ave NW               31265   \n",
      "286                      5th St & Massachusetts Ave NW               31613   \n",
      "287  Eastern Market Metro / Pennsylvania Ave & 7th ...               31618   \n",
      "288                           4th & East Capitol St NE               31610   \n",
      "289       Eastern Market / 7th & North Carolina Ave SE               31272   \n",
      "\n",
      "                                           End station Bike number Member type  \n",
      "0                        George Mason Dr & Wilson Blvd      W20529      Member  \n",
      "1                        George Mason Dr & Wilson Blvd      W20529      Casual  \n",
      "2                 Ballston Metro / N Stuart & 9th St N      W20529      Member  \n",
      "3                                    Potomac & M St NW      W20529      Member  \n",
      "4                        Metro Center / 12th & G St NW      W20529      Member  \n",
      "..                                                 ...         ...         ...  \n",
      "285                      5th St & Massachusetts Ave NW      W20529      Member  \n",
      "286  Eastern Market Metro / Pennsylvania Ave & 7th ...      W20529      Casual  \n",
      "287                           4th & East Capitol St NE      W20529      Member  \n",
      "288       Eastern Market / 7th & North Carolina Ave SE      W20529      Member  \n",
      "289               Washington & Independence Ave SW/HHS      W20529      Member  \n",
      "\n",
      "[290 rows x 8 columns]\n"
     ]
    }
   ],
   "source": [
    "grouped = rides.groupby('Member type')\\\n",
    "  .resample('M', on='Start date')\n",
    "\n",
    "print(rides)"
   ]
  }
 ],
 "metadata": {
  "kernelspec": {
   "display_name": "Python 3",
   "language": "python",
   "name": "python3"
  },
  "language_info": {
   "codemirror_mode": {
    "name": "ipython",
    "version": 3
   },
   "file_extension": ".py",
   "mimetype": "text/x-python",
   "name": "python",
   "nbconvert_exporter": "python",
   "pygments_lexer": "ipython3",
   "version": "3.9.9"
  }
 },
 "nbformat": 4,
 "nbformat_minor": 2
}

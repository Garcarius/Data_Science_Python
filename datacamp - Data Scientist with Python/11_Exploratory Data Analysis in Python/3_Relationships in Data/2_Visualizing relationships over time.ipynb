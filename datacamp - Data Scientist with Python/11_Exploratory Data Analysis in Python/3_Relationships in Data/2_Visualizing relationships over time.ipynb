{
 "cells": [
  {
   "cell_type": "markdown",
   "metadata": {},
   "source": [
    "# Visualizing relationships over time\n",
    "Now that your date data is saved as DateTime data, you can explore patterns over time! Does the year that a couple got married have a relationship with the number of children that the couple has at the time of divorce? Your task is to find out!\n",
    "\n",
    "The `divorce` DataFrame (with all dates formatted as DateTime data types) has been loaded for you. `pandas` has been loaded as `pd`, `matplotlib.pyplot` has been loaded as `plt`, and Seaborn has been loaded as `sns`."
   ]
  },
  {
   "cell_type": "code",
   "execution_count": 1,
   "metadata": {},
   "outputs": [
    {
     "data": {
      "text/html": [
       "<div>\n",
       "<style scoped>\n",
       "    .dataframe tbody tr th:only-of-type {\n",
       "        vertical-align: middle;\n",
       "    }\n",
       "\n",
       "    .dataframe tbody tr th {\n",
       "        vertical-align: top;\n",
       "    }\n",
       "\n",
       "    .dataframe thead th {\n",
       "        text-align: right;\n",
       "    }\n",
       "</style>\n",
       "<table border=\"1\" class=\"dataframe\">\n",
       "  <thead>\n",
       "    <tr style=\"text-align: right;\">\n",
       "      <th></th>\n",
       "      <th>divorce_date</th>\n",
       "      <th>dob_man</th>\n",
       "      <th>education_man</th>\n",
       "      <th>income_man</th>\n",
       "      <th>dob_woman</th>\n",
       "      <th>education_woman</th>\n",
       "      <th>income_woman</th>\n",
       "      <th>marriage_date</th>\n",
       "      <th>marriage_duration</th>\n",
       "      <th>num_kids</th>\n",
       "    </tr>\n",
       "  </thead>\n",
       "  <tbody>\n",
       "    <tr>\n",
       "      <th>0</th>\n",
       "      <td>2006-09-06</td>\n",
       "      <td>1975-12-18</td>\n",
       "      <td>Secondary</td>\n",
       "      <td>2000.0</td>\n",
       "      <td>1983-08-01</td>\n",
       "      <td>Secondary</td>\n",
       "      <td>1800.0</td>\n",
       "      <td>2000-06-26</td>\n",
       "      <td>5.0</td>\n",
       "      <td>1.0</td>\n",
       "    </tr>\n",
       "    <tr>\n",
       "      <th>1</th>\n",
       "      <td>2008-01-02</td>\n",
       "      <td>1976-11-17</td>\n",
       "      <td>Professional</td>\n",
       "      <td>6000.0</td>\n",
       "      <td>1977-03-13</td>\n",
       "      <td>Professional</td>\n",
       "      <td>6000.0</td>\n",
       "      <td>2001-09-02</td>\n",
       "      <td>7.0</td>\n",
       "      <td>NaN</td>\n",
       "    </tr>\n",
       "    <tr>\n",
       "      <th>2</th>\n",
       "      <td>2011-01-02</td>\n",
       "      <td>1969-04-06</td>\n",
       "      <td>Preparatory</td>\n",
       "      <td>5000.0</td>\n",
       "      <td>1970-02-16</td>\n",
       "      <td>Professional</td>\n",
       "      <td>5000.0</td>\n",
       "      <td>2000-02-02</td>\n",
       "      <td>2.0</td>\n",
       "      <td>2.0</td>\n",
       "    </tr>\n",
       "  </tbody>\n",
       "</table>\n",
       "</div>"
      ],
      "text/plain": [
       "  divorce_date    dob_man education_man  income_man  dob_woman  \\\n",
       "0   2006-09-06 1975-12-18     Secondary      2000.0 1983-08-01   \n",
       "1   2008-01-02 1976-11-17  Professional      6000.0 1977-03-13   \n",
       "2   2011-01-02 1969-04-06   Preparatory      5000.0 1970-02-16   \n",
       "\n",
       "  education_woman  income_woman marriage_date  marriage_duration  num_kids  \n",
       "0       Secondary        1800.0    2000-06-26                5.0       1.0  \n",
       "1    Professional        6000.0    2001-09-02                7.0       NaN  \n",
       "2    Professional        5000.0    2000-02-02                2.0       2.0  "
      ]
     },
     "execution_count": 1,
     "metadata": {},
     "output_type": "execute_result"
    }
   ],
   "source": [
    "import pandas as pd\n",
    "import seaborn as sns\n",
    "import matplotlib.pyplot as plt\n",
    "\n",
    "divorce= pd.read_csv(r\"D:\\Cursos\\Data_Science_Python\\data_sets\\divorce.csv\",parse_dates=['dob_man','divorce_date','dob_woman','marriage_date'])\n",
    "divorce.head(3)"
   ]
  },
  {
   "cell_type": "markdown",
   "metadata": {},
   "source": [
    "* Define a column called `marriage_year`, which contains just the year portion of the `marriage_date` column."
   ]
  },
  {
   "cell_type": "code",
   "execution_count": 3,
   "metadata": {},
   "outputs": [
    {
     "data": {
      "text/html": [
       "<div>\n",
       "<style scoped>\n",
       "    .dataframe tbody tr th:only-of-type {\n",
       "        vertical-align: middle;\n",
       "    }\n",
       "\n",
       "    .dataframe tbody tr th {\n",
       "        vertical-align: top;\n",
       "    }\n",
       "\n",
       "    .dataframe thead th {\n",
       "        text-align: right;\n",
       "    }\n",
       "</style>\n",
       "<table border=\"1\" class=\"dataframe\">\n",
       "  <thead>\n",
       "    <tr style=\"text-align: right;\">\n",
       "      <th></th>\n",
       "      <th>divorce_date</th>\n",
       "      <th>dob_man</th>\n",
       "      <th>education_man</th>\n",
       "      <th>income_man</th>\n",
       "      <th>dob_woman</th>\n",
       "      <th>education_woman</th>\n",
       "      <th>income_woman</th>\n",
       "      <th>marriage_date</th>\n",
       "      <th>marriage_duration</th>\n",
       "      <th>num_kids</th>\n",
       "      <th>marriage_year</th>\n",
       "    </tr>\n",
       "  </thead>\n",
       "  <tbody>\n",
       "    <tr>\n",
       "      <th>0</th>\n",
       "      <td>2006-09-06</td>\n",
       "      <td>1975-12-18</td>\n",
       "      <td>Secondary</td>\n",
       "      <td>2000.0</td>\n",
       "      <td>1983-08-01</td>\n",
       "      <td>Secondary</td>\n",
       "      <td>1800.0</td>\n",
       "      <td>2000-06-26</td>\n",
       "      <td>5.0</td>\n",
       "      <td>1.0</td>\n",
       "      <td>2000</td>\n",
       "    </tr>\n",
       "    <tr>\n",
       "      <th>1</th>\n",
       "      <td>2008-01-02</td>\n",
       "      <td>1976-11-17</td>\n",
       "      <td>Professional</td>\n",
       "      <td>6000.0</td>\n",
       "      <td>1977-03-13</td>\n",
       "      <td>Professional</td>\n",
       "      <td>6000.0</td>\n",
       "      <td>2001-09-02</td>\n",
       "      <td>7.0</td>\n",
       "      <td>NaN</td>\n",
       "      <td>2001</td>\n",
       "    </tr>\n",
       "    <tr>\n",
       "      <th>2</th>\n",
       "      <td>2011-01-02</td>\n",
       "      <td>1969-04-06</td>\n",
       "      <td>Preparatory</td>\n",
       "      <td>5000.0</td>\n",
       "      <td>1970-02-16</td>\n",
       "      <td>Professional</td>\n",
       "      <td>5000.0</td>\n",
       "      <td>2000-02-02</td>\n",
       "      <td>2.0</td>\n",
       "      <td>2.0</td>\n",
       "      <td>2000</td>\n",
       "    </tr>\n",
       "    <tr>\n",
       "      <th>3</th>\n",
       "      <td>2011-01-02</td>\n",
       "      <td>1979-11-13</td>\n",
       "      <td>Secondary</td>\n",
       "      <td>12000.0</td>\n",
       "      <td>1981-05-13</td>\n",
       "      <td>Secondary</td>\n",
       "      <td>12000.0</td>\n",
       "      <td>2006-05-13</td>\n",
       "      <td>2.0</td>\n",
       "      <td>NaN</td>\n",
       "      <td>2006</td>\n",
       "    </tr>\n",
       "    <tr>\n",
       "      <th>4</th>\n",
       "      <td>2011-01-02</td>\n",
       "      <td>1982-09-20</td>\n",
       "      <td>Professional</td>\n",
       "      <td>6000.0</td>\n",
       "      <td>1988-01-30</td>\n",
       "      <td>Professional</td>\n",
       "      <td>10000.0</td>\n",
       "      <td>2007-08-06</td>\n",
       "      <td>3.0</td>\n",
       "      <td>NaN</td>\n",
       "      <td>2007</td>\n",
       "    </tr>\n",
       "  </tbody>\n",
       "</table>\n",
       "</div>"
      ],
      "text/plain": [
       "  divorce_date    dob_man education_man  income_man  dob_woman  \\\n",
       "0   2006-09-06 1975-12-18     Secondary      2000.0 1983-08-01   \n",
       "1   2008-01-02 1976-11-17  Professional      6000.0 1977-03-13   \n",
       "2   2011-01-02 1969-04-06   Preparatory      5000.0 1970-02-16   \n",
       "3   2011-01-02 1979-11-13     Secondary     12000.0 1981-05-13   \n",
       "4   2011-01-02 1982-09-20  Professional      6000.0 1988-01-30   \n",
       "\n",
       "  education_woman  income_woman marriage_date  marriage_duration  num_kids  \\\n",
       "0       Secondary        1800.0    2000-06-26                5.0       1.0   \n",
       "1    Professional        6000.0    2001-09-02                7.0       NaN   \n",
       "2    Professional        5000.0    2000-02-02                2.0       2.0   \n",
       "3       Secondary       12000.0    2006-05-13                2.0       NaN   \n",
       "4    Professional       10000.0    2007-08-06                3.0       NaN   \n",
       "\n",
       "   marriage_year  \n",
       "0           2000  \n",
       "1           2001  \n",
       "2           2000  \n",
       "3           2006  \n",
       "4           2007  "
      ]
     },
     "execution_count": 3,
     "metadata": {},
     "output_type": "execute_result"
    }
   ],
   "source": [
    "# Define the marriage_year column\n",
    "divorce[\"marriage_year\"] = divorce[\"marriage_date\"].dt.year\n",
    "divorce.head()"
   ]
  },
  {
   "cell_type": "markdown",
   "metadata": {},
   "source": [
    "* Create a line plot showing the average number of kids a couple had during their marriage, arranged by the year that the couple got married."
   ]
  },
  {
   "cell_type": "code",
   "execution_count": 4,
   "metadata": {},
   "outputs": [
    {
     "data": {
      "image/png": "[encoded data removed]",
      "text/plain": [
       "<Figure size 640x480 with 1 Axes>"
      ]
     },
     "metadata": {},
     "output_type": "display_data"
    }
   ],
   "source": [
    "sns.lineplot(data=divorce,x='marriage_year',y='num_kids')\n",
    "plt.show()"
   ]
  }
 ],
 "metadata": {
  "kernelspec": {
   "display_name": "Python 3",
   "language": "python",
   "name": "python3"
  },
  "language_info": {
   "codemirror_mode": {
    "name": "ipython",
    "version": 3
   },
   "file_extension": ".py",
   "mimetype": "text/x-python",
   "name": "python",
   "nbconvert_exporter": "python",
   "pygments_lexer": "ipython3",
   "version": "3.9.9"
  },
  "orig_nbformat": 4
 },
 "nbformat": 4,
 "nbformat_minor": 2
}

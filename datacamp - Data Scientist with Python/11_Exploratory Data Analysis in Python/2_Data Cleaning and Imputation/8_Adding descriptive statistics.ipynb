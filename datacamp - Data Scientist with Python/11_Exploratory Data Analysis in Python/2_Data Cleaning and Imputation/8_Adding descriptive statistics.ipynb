{
 "cells": [
  {
   "cell_type": "code",
   "execution_count": 1,
   "metadata": {},
   "outputs": [
    {
     "name": "stdout",
     "output_type": "stream",
     "text": [
      "<class 'pandas.core.frame.DataFrame'>\n",
      "RangeIndex: 10660 entries, 0 to 10659\n",
      "Data columns (total 11 columns):\n",
      " #   Column           Non-Null Count  Dtype  \n",
      "---  ------           --------------  -----  \n",
      " 0   Airline          10233 non-null  object \n",
      " 1   Date_of_Journey  10338 non-null  object \n",
      " 2   Source           10473 non-null  object \n",
      " 3   Destination      10313 non-null  object \n",
      " 4   Route            10404 non-null  object \n",
      " 5   Dep_Time         10400 non-null  object \n",
      " 6   Arrival_Time     10466 non-null  object \n",
      " 7   Duration         10446 non-null  float64\n",
      " 8   Total_Stops      10448 non-null  object \n",
      " 9   Additional_Info  10071 non-null  object \n",
      " 10  Price            10044 non-null  float64\n",
      "dtypes: float64(2), object(9)\n",
      "memory usage: 916.2+ KB\n"
     ]
    }
   ],
   "source": [
    "import pandas as pd\n",
    "import seaborn as sns\n",
    "import matplotlib.pyplot as plt\n",
    "\n",
    "planes= pd.read_csv(r\"D:\\Cursos\\Data_Science_Python\\data_sets\\planesv2.csv\")\n",
    "#fix for the example\n",
    "planes[['hour','min']]=planes['Duration'].str.split(' ',expand=True)\n",
    "planes['min'] = planes['min'].str.replace('m','')\n",
    "planes['min'] = planes['min'].fillna(0)\n",
    "planes['min'] = planes['min'].astype(float) / 60\n",
    "planes['hour'] = planes['hour'].str.replace('h','')\n",
    "planes['hour'] = planes['hour'].str.replace('m','')\n",
    "planes['hour'] = planes['hour'].astype(float)\n",
    "planes['Dur']=planes['hour']+planes['min']\n",
    "planes['Dur'] = planes['Dur'].astype(str) + 'h'\n",
    "planes['Duration'] = planes['Dur']\n",
    "planes=planes.drop(['Dur','min','hour'], axis=1)\n",
    "planes[\"Duration\"] = planes[\"Duration\"].str.replace('h','')\n",
    "planes[\"Duration\"] = planes[\"Duration\"].astype(float)\n",
    "planes.info()"
   ]
  },
  {
   "cell_type": "markdown",
   "metadata": {},
   "source": [
    "* Add a column to planes containing the standard deviation of \"Price\" based on \"Airline\"."
   ]
  },
  {
   "cell_type": "code",
   "execution_count": 2,
   "metadata": {},
   "outputs": [
    {
     "name": "stdout",
     "output_type": "stream",
     "text": [
      "Airline            airline_price_st_dev\n",
      "Jet Airways        4230.748840             3685\n",
      "IndiGo             2266.753552             1981\n",
      "Air India          3865.871975             1686\n",
      "Multiple carriers  3763.674706             1148\n",
      "SpiceJet           1790.851944              787\n",
      "Vistara            2864.267802              455\n",
      "Air Asia           2016.738954              309\n",
      "GoAir              2790.815129              182\n",
      "dtype: int64\n"
     ]
    }
   ],
   "source": [
    "# Price standard deviation by Airline\n",
    "planes[\"airline_price_st_dev\"] = planes.groupby(\"Airline\")[\"Price\"].transform(lambda x: x.std())\n",
    "\n",
    "print(planes[[\"Airline\", \"airline_price_st_dev\"]].value_counts())"
   ]
  },
  {
   "cell_type": "markdown",
   "metadata": {},
   "source": [
    "* Calculate the median for `\"Duration\"` by `\"Airline\"`, storing it as a column called `\"airline_median_duration`\"."
   ]
  },
  {
   "cell_type": "code",
   "execution_count": 3,
   "metadata": {},
   "outputs": [
    {
     "name": "stdout",
     "output_type": "stream",
     "text": [
      "Airline            airline_median_duration\n",
      "Jet Airways        13.333333                  3685\n",
      "IndiGo             2.916667                   1981\n",
      "Air India          15.916667                  1686\n",
      "Multiple carriers  10.250000                  1148\n",
      "SpiceJet           2.500000                    787\n",
      "Vistara            3.166667                    455\n",
      "Air Asia           2.833333                    309\n",
      "GoAir              5.166667                    182\n",
      "dtype: int64\n"
     ]
    }
   ],
   "source": [
    "# Median Duration by Airline\n",
    "planes[\"airline_median_duration\"] = planes.groupby(\"Airline\")[\"Duration\"].transform(lambda x: x.median())\n",
    "\n",
    "print(planes[[\"Airline\",\"airline_median_duration\"]].value_counts())"
   ]
  },
  {
   "cell_type": "markdown",
   "metadata": {},
   "source": [
    "Find the mean `\"Price\"` by `\"Destination\"`, saving it as a column called `\"price_destination_mean\"`."
   ]
  },
  {
   "cell_type": "code",
   "execution_count": 4,
   "metadata": {},
   "outputs": [
    {
     "name": "stdout",
     "output_type": "stream",
     "text": [
      "Destination  price_destination_mean\n",
      "Cochin       10506.993486              4391\n",
      "Banglore     9132.225153               2773\n",
      "Delhi        5157.794118               1219\n",
      "New Delhi    11738.589499               888\n",
      "Hyderabad    5025.210280                673\n",
      "Kolkata      4801.489796                369\n",
      "dtype: int64\n"
     ]
    }
   ],
   "source": [
    "# Mean Price by Destination\n",
    "planes[\"price_destination_mean\"] = planes.groupby(\"Destination\")[\"Price\"].transform(lambda x: x.mean())\n",
    "\n",
    "print(planes[[\"Destination\",\"price_destination_mean\"]].value_counts())"
   ]
  },
  {
   "cell_type": "code",
   "execution_count": null,
   "metadata": {},
   "outputs": [],
   "source": []
  }
 ],
 "metadata": {
  "kernelspec": {
   "display_name": "Python 3",
   "language": "python",
   "name": "python3"
  },
  "language_info": {
   "codemirror_mode": {
    "name": "ipython",
    "version": 3
   },
   "file_extension": ".py",
   "mimetype": "text/x-python",
   "name": "python",
   "nbconvert_exporter": "python",
   "pygments_lexer": "ipython3",
   "version": "3.9.9"
  },
  "orig_nbformat": 4
 },
 "nbformat": 4,
 "nbformat_minor": 2
}

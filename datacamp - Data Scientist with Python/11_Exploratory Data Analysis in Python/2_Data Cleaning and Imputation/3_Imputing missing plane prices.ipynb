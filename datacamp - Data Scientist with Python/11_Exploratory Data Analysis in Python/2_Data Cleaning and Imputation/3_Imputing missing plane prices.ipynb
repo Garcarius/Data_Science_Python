{
 "cells": [
  {
   "cell_type": "markdown",
   "metadata": {},
   "source": [
    "# Imputing missing plane prices\n",
    "Now there's just one column with missing values left!\n",
    "\n",
    "You've removed the `\"Additional_Info\"` column from `planes`—the last step is to impute the missing data in the `\"Price\"` column of the dataset.\n",
    "\n",
    "As a reminder, you generated this boxplot, which suggested that imputing the median price based on the `\"Airline`\" is a solid approach!"
   ]
  },
  {
   "cell_type": "code",
   "execution_count": 12,
   "metadata": {},
   "outputs": [],
   "source": [
    "import pandas as pd\n",
    "import seaborn as sns\n",
    "import matplotlib.pyplot as plt\n",
    "planes= pd.read_csv(r\"D:\\Cursos\\Data_Science_Python\\data_sets\\planesv2.csv\")\n",
    "planes.head(3)\n",
    "# Find the five percent threshold\n",
    "threshold = len(planes) * 0.05\n",
    "# Create a filter\n",
    "cols_to_drop = planes.columns[planes.isna().sum() <= threshold]\n",
    "planes=planes.drop('Additional_Info',axis=1)\n",
    "# Drop missing values for columns below the threshold\n",
    "planes.dropna(subset=cols_to_drop, inplace=True)"
   ]
  },
  {
   "cell_type": "markdown",
   "metadata": {},
   "source": [
    "Group planes by airline and calculate the median price."
   ]
  },
  {
   "cell_type": "code",
   "execution_count": 14,
   "metadata": {},
   "outputs": [
    {
     "name": "stdout",
     "output_type": "stream",
     "text": [
      "Airline\n",
      "Air Asia              5192.0\n",
      "Air India             9443.0\n",
      "GoAir                 5003.5\n",
      "IndiGo                5054.0\n",
      "Jet Airways          11507.0\n",
      "Multiple carriers    10197.0\n",
      "SpiceJet              3873.0\n",
      "Vistara               8028.0\n",
      "Name: Price, dtype: float64\n"
     ]
    }
   ],
   "source": [
    "# Calculate median plane ticket prices by Airline\n",
    "airline_prices = planes.groupby(\"Airline\")[\"Price\"].median()\n",
    "\n",
    "print(airline_prices)"
   ]
  },
  {
   "cell_type": "markdown",
   "metadata": {},
   "source": [
    "Convert the grouped median prices to a dictionary."
   ]
  },
  {
   "cell_type": "code",
   "execution_count": 15,
   "metadata": {},
   "outputs": [
    {
     "data": {
      "text/plain": [
       "{'Air Asia': 5192.0,\n",
       " 'Air India': 9443.0,\n",
       " 'GoAir': 5003.5,\n",
       " 'IndiGo': 5054.0,\n",
       " 'Jet Airways': 11507.0,\n",
       " 'Multiple carriers': 10197.0,\n",
       " 'SpiceJet': 3873.0,\n",
       " 'Vistara': 8028.0}"
      ]
     },
     "execution_count": 15,
     "metadata": {},
     "output_type": "execute_result"
    }
   ],
   "source": [
    "# Convert to a dictionary\n",
    "prices_dict = airline_prices.to_dict()\n",
    "prices_dict"
   ]
  },
  {
   "cell_type": "markdown",
   "metadata": {},
   "source": [
    "* Conditionally impute missing values for `\"Price\"` by mapping values in the `\"Airline column\"` based on `prices_dict`.\n",
    "* Check for remaining missing values."
   ]
  },
  {
   "cell_type": "code",
   "execution_count": 16,
   "metadata": {},
   "outputs": [
    {
     "name": "stdout",
     "output_type": "stream",
     "text": [
      "Airline            0\n",
      "Date_of_Journey    0\n",
      "Source             0\n",
      "Destination        0\n",
      "Route              0\n",
      "Dep_Time           0\n",
      "Arrival_Time       0\n",
      "Duration           0\n",
      "Total_Stops        0\n",
      "Price              0\n",
      "dtype: int64\n"
     ]
    }
   ],
   "source": [
    "# Map the dictionary to missing values of Price by Airline\n",
    "planes[\"Price\"] = planes[\"Price\"].fillna(planes[\"Airline\"].map(prices_dict))\n",
    "\n",
    "# Check for missing values\n",
    "print(planes.isna().sum())"
   ]
  },
  {
   "cell_type": "code",
   "execution_count": null,
   "metadata": {},
   "outputs": [],
   "source": []
  }
 ],
 "metadata": {
  "kernelspec": {
   "display_name": "Python 3",
   "language": "python",
   "name": "python3"
  },
  "language_info": {
   "codemirror_mode": {
    "name": "ipython",
    "version": 3
   },
   "file_extension": ".py",
   "mimetype": "text/x-python",
   "name": "python",
   "nbconvert_exporter": "python",
   "pygments_lexer": "ipython3",
   "version": "3.9.9"
  },
  "orig_nbformat": 4
 },
 "nbformat": 4,
 "nbformat_minor": 2
}

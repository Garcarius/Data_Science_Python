{
 "cells": [
  {
   "attachments": {
    "image.png": {
     "image/png": "[encoded data removed]"
    }
   },
   "cell_type": "markdown",
   "metadata": {},
   "source": [
    "# Checking for class imbalance\n",
    "The [2022 Kaggle Survey](https://www.kaggle.com/kaggle-survey-2022) captures information about data scientists' backgrounds, preferred technologies, and techniques. It is seen as an accurate view of what is happening in data science based on the volume and profile of responders.\n",
    "\n",
    "Having looked at the job titles and categorized to align with our `salaries` DataFrame, you can see the following proportion of job categories in the Kaggle survey:\n",
    "\n",
    "![image.png](attachment:image.png)\n",
    "\n",
    "\n",
    "Thinking of the Kaggle survey results as the population, your task is to find out whether the salaries DataFrame is representative by comparing the relative frequency of job categories.\n"
   ]
  },
  {
   "cell_type": "code",
   "execution_count": 2,
   "metadata": {},
   "outputs": [
    {
     "data": {
      "text/html": [
       "<div>\n",
       "<style scoped>\n",
       "    .dataframe tbody tr th:only-of-type {\n",
       "        vertical-align: middle;\n",
       "    }\n",
       "\n",
       "    .dataframe tbody tr th {\n",
       "        vertical-align: top;\n",
       "    }\n",
       "\n",
       "    .dataframe thead th {\n",
       "        text-align: right;\n",
       "    }\n",
       "</style>\n",
       "<table border=\"1\" class=\"dataframe\">\n",
       "  <thead>\n",
       "    <tr style=\"text-align: right;\">\n",
       "      <th></th>\n",
       "      <th>Working_Year</th>\n",
       "      <th>Designation</th>\n",
       "      <th>Experience</th>\n",
       "      <th>Employment_Status</th>\n",
       "      <th>Employee_Location</th>\n",
       "      <th>Company_Size</th>\n",
       "      <th>Remote_Working_Ratio</th>\n",
       "      <th>Salary_USD</th>\n",
       "    </tr>\n",
       "  </thead>\n",
       "  <tbody>\n",
       "    <tr>\n",
       "      <th>0</th>\n",
       "      <td>2020</td>\n",
       "      <td>Data Scientist</td>\n",
       "      <td>Mid</td>\n",
       "      <td>FT</td>\n",
       "      <td>DE</td>\n",
       "      <td>L</td>\n",
       "      <td>0</td>\n",
       "      <td>76227.0</td>\n",
       "    </tr>\n",
       "    <tr>\n",
       "      <th>1</th>\n",
       "      <td>2020</td>\n",
       "      <td>Machine Learning Scientist</td>\n",
       "      <td>Senior</td>\n",
       "      <td>FT</td>\n",
       "      <td>JP</td>\n",
       "      <td>S</td>\n",
       "      <td>0</td>\n",
       "      <td>248257.0</td>\n",
       "    </tr>\n",
       "    <tr>\n",
       "      <th>2</th>\n",
       "      <td>2020</td>\n",
       "      <td>Big Data Engineer</td>\n",
       "      <td>Senior</td>\n",
       "      <td>FT</td>\n",
       "      <td>GB</td>\n",
       "      <td>M</td>\n",
       "      <td>50</td>\n",
       "      <td>104100.0</td>\n",
       "    </tr>\n",
       "    <tr>\n",
       "      <th>3</th>\n",
       "      <td>2020</td>\n",
       "      <td>Product Data Analyst</td>\n",
       "      <td>Mid</td>\n",
       "      <td>FT</td>\n",
       "      <td>HN</td>\n",
       "      <td>S</td>\n",
       "      <td>0</td>\n",
       "      <td>19097.0</td>\n",
       "    </tr>\n",
       "    <tr>\n",
       "      <th>4</th>\n",
       "      <td>2020</td>\n",
       "      <td>Machine Learning Engineer</td>\n",
       "      <td>Senior</td>\n",
       "      <td>FT</td>\n",
       "      <td>US</td>\n",
       "      <td>L</td>\n",
       "      <td>50</td>\n",
       "      <td>143225.0</td>\n",
       "    </tr>\n",
       "  </tbody>\n",
       "</table>\n",
       "</div>"
      ],
      "text/plain": [
       "   Working_Year                 Designation Experience Employment_Status  \\\n",
       "0          2020              Data Scientist        Mid                FT   \n",
       "1          2020  Machine Learning Scientist     Senior                FT   \n",
       "2          2020           Big Data Engineer     Senior                FT   \n",
       "3          2020        Product Data Analyst        Mid                FT   \n",
       "4          2020   Machine Learning Engineer     Senior                FT   \n",
       "\n",
       "  Employee_Location Company_Size  Remote_Working_Ratio  Salary_USD  \n",
       "0                DE            L                     0     76227.0  \n",
       "1                JP            S                     0    248257.0  \n",
       "2                GB            M                    50    104100.0  \n",
       "3                HN            S                     0     19097.0  \n",
       "4                US            L                    50    143225.0  "
      ]
     },
     "execution_count": 2,
     "metadata": {},
     "output_type": "execute_result"
    }
   ],
   "source": [
    "import pandas as pd\n",
    "import seaborn as sns\n",
    "import matplotlib.pyplot as plt\n",
    "\n",
    "salaries= pd.read_csv(r\"D:\\Cursos\\Data_Science_Python\\data_sets\\ds_salaries_clean.csv\")\n",
    "salaries.head(5)"
   ]
  },
  {
   "cell_type": "markdown",
   "metadata": {},
   "source": []
  },
  {
   "cell_type": "markdown",
   "metadata": {},
   "source": [
    "* Print the relative frequency of the `\"Job_Category\"` column from `salaries` DataFrame."
   ]
  },
  {
   "cell_type": "code",
   "execution_count": 6,
   "metadata": {},
   "outputs": [
    {
     "name": "stdout",
     "output_type": "stream",
     "text": [
      "Data Scientist                              0.235585\n",
      "Data Engineer                               0.217463\n",
      "Data Analyst                                0.159802\n",
      "Machine Learning Engineer                   0.067545\n",
      "Research Scientist                          0.026359\n",
      "Data Science Manager                        0.019769\n",
      "Data Architect                              0.018122\n",
      "Big Data Engineer                           0.013180\n",
      "Machine Learning Scientist                  0.013180\n",
      "Principal Data Scientist                    0.011532\n",
      "AI Scientist                                0.011532\n",
      "Data Science Consultant                     0.011532\n",
      "Director of Data Science                    0.011532\n",
      "Data Analytics Manager                      0.011532\n",
      "ML Engineer                                 0.009885\n",
      "Computer Vision Engineer                    0.009885\n",
      "BI Data Analyst                             0.009885\n",
      "Lead Data Engineer                          0.009885\n",
      "Data Engineering Manager                    0.008237\n",
      "Business Data Analyst                       0.008237\n",
      "Head of Data                                0.008237\n",
      "Applied Data Scientist                      0.008237\n",
      "Applied Machine Learning Scientist          0.006590\n",
      "Head of Data Science                        0.006590\n",
      "Analytics Engineer                          0.006590\n",
      "Data Analytics Engineer                     0.006590\n",
      "Machine Learning Developer                  0.004942\n",
      "Machine Learning Infrastructure Engineer    0.004942\n",
      "Lead Data Scientist                         0.004942\n",
      "Computer Vision Software Engineer           0.004942\n",
      "Lead Data Analyst                           0.004942\n",
      "Data Science Engineer                       0.004942\n",
      "Principal Data Engineer                     0.004942\n",
      "Principal Data Analyst                      0.003295\n",
      "ETL Developer                               0.003295\n",
      "Product Data Analyst                        0.003295\n",
      "Director of Data Engineering                0.003295\n",
      "Financial Data Analyst                      0.003295\n",
      "Cloud Data Engineer                         0.003295\n",
      "Lead Machine Learning Engineer              0.001647\n",
      "NLP Engineer                                0.001647\n",
      "Head of Machine Learning                    0.001647\n",
      "3D Computer Vision Researcher               0.001647\n",
      "Data Specialist                             0.001647\n",
      "Staff Data Scientist                        0.001647\n",
      "Big Data Architect                          0.001647\n",
      "Finance Data Analyst                        0.001647\n",
      "Marketing Data Analyst                      0.001647\n",
      "Machine Learning Manager                    0.001647\n",
      "Data Analytics Lead                         0.001647\n",
      "Name: Designation, dtype: float64\n"
     ]
    }
   ],
   "source": [
    "# Print the relative frequency of Job_Category\n",
    "print(salaries['Designation'].value_counts(normalize=True))"
   ]
  }
 ],
 "metadata": {
  "kernelspec": {
   "display_name": "Python 3",
   "language": "python",
   "name": "python3"
  },
  "language_info": {
   "codemirror_mode": {
    "name": "ipython",
    "version": 3
   },
   "file_extension": ".py",
   "mimetype": "text/x-python",
   "name": "python",
   "nbconvert_exporter": "python",
   "pygments_lexer": "ipython3",
   "version": "3.9.9"
  },
  "orig_nbformat": 4
 },
 "nbformat": 4,
 "nbformat_minor": 2
}

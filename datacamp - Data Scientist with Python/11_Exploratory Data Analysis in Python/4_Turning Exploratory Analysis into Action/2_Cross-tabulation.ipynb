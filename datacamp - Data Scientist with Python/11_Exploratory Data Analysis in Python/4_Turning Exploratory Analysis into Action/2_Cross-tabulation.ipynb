{
 "cells": [
  {
   "cell_type": "markdown",
   "metadata": {},
   "source": [
    "# Cross-tabulation\n",
    "Cross-tabulation can help identify how observations occur in combination.\n",
    "\n",
    "Using the `salaries` dataset, which has been imported as a `pandas` DataFrame, you'll perform cross-tabulation on multiple variables, including the use of aggregation, to see the relationship between `\"Company_Size\"` and other variables.\n",
    "\n",
    "pandas has been imported for you as pd."
   ]
  },
  {
   "cell_type": "code",
   "execution_count": 8,
   "metadata": {},
   "outputs": [
    {
     "data": {
      "text/html": [
       "<div>\n",
       "<style scoped>\n",
       "    .dataframe tbody tr th:only-of-type {\n",
       "        vertical-align: middle;\n",
       "    }\n",
       "\n",
       "    .dataframe tbody tr th {\n",
       "        vertical-align: top;\n",
       "    }\n",
       "\n",
       "    .dataframe thead th {\n",
       "        text-align: right;\n",
       "    }\n",
       "</style>\n",
       "<table border=\"1\" class=\"dataframe\">\n",
       "  <thead>\n",
       "    <tr style=\"text-align: right;\">\n",
       "      <th></th>\n",
       "      <th>Working_Year</th>\n",
       "      <th>Designation</th>\n",
       "      <th>Experience</th>\n",
       "      <th>Employment_Status</th>\n",
       "      <th>Employee_Location</th>\n",
       "      <th>Company_Size</th>\n",
       "      <th>Remote_Working_Ratio</th>\n",
       "      <th>Salary_USD</th>\n",
       "      <th>Job_Category</th>\n",
       "    </tr>\n",
       "  </thead>\n",
       "  <tbody>\n",
       "    <tr>\n",
       "      <th>0</th>\n",
       "      <td>2020</td>\n",
       "      <td>Data Scientist</td>\n",
       "      <td>Mid</td>\n",
       "      <td>FT</td>\n",
       "      <td>DE</td>\n",
       "      <td>L</td>\n",
       "      <td>0</td>\n",
       "      <td>76227.0</td>\n",
       "      <td>Data Science</td>\n",
       "    </tr>\n",
       "    <tr>\n",
       "      <th>1</th>\n",
       "      <td>2020</td>\n",
       "      <td>Machine Learning Scientist</td>\n",
       "      <td>Senior</td>\n",
       "      <td>FT</td>\n",
       "      <td>JP</td>\n",
       "      <td>S</td>\n",
       "      <td>0</td>\n",
       "      <td>248257.0</td>\n",
       "      <td>Machine Learning</td>\n",
       "    </tr>\n",
       "    <tr>\n",
       "      <th>2</th>\n",
       "      <td>2020</td>\n",
       "      <td>Big Data Engineer</td>\n",
       "      <td>Senior</td>\n",
       "      <td>FT</td>\n",
       "      <td>GB</td>\n",
       "      <td>M</td>\n",
       "      <td>50</td>\n",
       "      <td>104100.0</td>\n",
       "      <td>Data Engineering</td>\n",
       "    </tr>\n",
       "    <tr>\n",
       "      <th>3</th>\n",
       "      <td>2020</td>\n",
       "      <td>Product Data Analyst</td>\n",
       "      <td>Mid</td>\n",
       "      <td>FT</td>\n",
       "      <td>HN</td>\n",
       "      <td>S</td>\n",
       "      <td>0</td>\n",
       "      <td>19097.0</td>\n",
       "      <td>Data Analytics</td>\n",
       "    </tr>\n",
       "    <tr>\n",
       "      <th>4</th>\n",
       "      <td>2020</td>\n",
       "      <td>Machine Learning Engineer</td>\n",
       "      <td>Senior</td>\n",
       "      <td>FT</td>\n",
       "      <td>US</td>\n",
       "      <td>L</td>\n",
       "      <td>50</td>\n",
       "      <td>143225.0</td>\n",
       "      <td>Machine Learning</td>\n",
       "    </tr>\n",
       "    <tr>\n",
       "      <th>5</th>\n",
       "      <td>2020</td>\n",
       "      <td>Data Analyst</td>\n",
       "      <td>Entry</td>\n",
       "      <td>FT</td>\n",
       "      <td>US</td>\n",
       "      <td>L</td>\n",
       "      <td>100</td>\n",
       "      <td>68748.0</td>\n",
       "      <td>Data Analytics</td>\n",
       "    </tr>\n",
       "    <tr>\n",
       "      <th>6</th>\n",
       "      <td>2020</td>\n",
       "      <td>Lead Data Scientist</td>\n",
       "      <td>Senior</td>\n",
       "      <td>FT</td>\n",
       "      <td>US</td>\n",
       "      <td>S</td>\n",
       "      <td>100</td>\n",
       "      <td>181418.0</td>\n",
       "      <td>Data Science</td>\n",
       "    </tr>\n",
       "    <tr>\n",
       "      <th>7</th>\n",
       "      <td>2020</td>\n",
       "      <td>Data Scientist</td>\n",
       "      <td>Mid</td>\n",
       "      <td>FT</td>\n",
       "      <td>HU</td>\n",
       "      <td>L</td>\n",
       "      <td>50</td>\n",
       "      <td>34121.0</td>\n",
       "      <td>Data Science</td>\n",
       "    </tr>\n",
       "    <tr>\n",
       "      <th>8</th>\n",
       "      <td>2020</td>\n",
       "      <td>Business Data Analyst</td>\n",
       "      <td>Mid</td>\n",
       "      <td>FT</td>\n",
       "      <td>US</td>\n",
       "      <td>L</td>\n",
       "      <td>100</td>\n",
       "      <td>128903.0</td>\n",
       "      <td>Data Analytics</td>\n",
       "    </tr>\n",
       "    <tr>\n",
       "      <th>9</th>\n",
       "      <td>2020</td>\n",
       "      <td>Lead Data Engineer</td>\n",
       "      <td>Senior</td>\n",
       "      <td>FT</td>\n",
       "      <td>NZ</td>\n",
       "      <td>S</td>\n",
       "      <td>50</td>\n",
       "      <td>119354.0</td>\n",
       "      <td>Data Engineering</td>\n",
       "    </tr>\n",
       "  </tbody>\n",
       "</table>\n",
       "</div>"
      ],
      "text/plain": [
       "   Working_Year                 Designation Experience Employment_Status  \\\n",
       "0          2020              Data Scientist        Mid                FT   \n",
       "1          2020  Machine Learning Scientist     Senior                FT   \n",
       "2          2020           Big Data Engineer     Senior                FT   \n",
       "3          2020        Product Data Analyst        Mid                FT   \n",
       "4          2020   Machine Learning Engineer     Senior                FT   \n",
       "5          2020                Data Analyst      Entry                FT   \n",
       "6          2020         Lead Data Scientist     Senior                FT   \n",
       "7          2020              Data Scientist        Mid                FT   \n",
       "8          2020       Business Data Analyst        Mid                FT   \n",
       "9          2020          Lead Data Engineer     Senior                FT   \n",
       "\n",
       "  Employee_Location Company_Size  Remote_Working_Ratio  Salary_USD  \\\n",
       "0                DE            L                     0     76227.0   \n",
       "1                JP            S                     0    248257.0   \n",
       "2                GB            M                    50    104100.0   \n",
       "3                HN            S                     0     19097.0   \n",
       "4                US            L                    50    143225.0   \n",
       "5                US            L                   100     68748.0   \n",
       "6                US            S                   100    181418.0   \n",
       "7                HU            L                    50     34121.0   \n",
       "8                US            L                   100    128903.0   \n",
       "9                NZ            S                    50    119354.0   \n",
       "\n",
       "       Job_Category  \n",
       "0      Data Science  \n",
       "1  Machine Learning  \n",
       "2  Data Engineering  \n",
       "3    Data Analytics  \n",
       "4  Machine Learning  \n",
       "5    Data Analytics  \n",
       "6      Data Science  \n",
       "7      Data Science  \n",
       "8    Data Analytics  \n",
       "9  Data Engineering  "
      ]
     },
     "execution_count": 8,
     "metadata": {},
     "output_type": "execute_result"
    }
   ],
   "source": [
    "import pandas as pd\n",
    "import seaborn as sns\n",
    "import numpy as np\n",
    "import matplotlib.pyplot as plt\n",
    "\n",
    "salaries= pd.read_csv(r\"D:\\Cursos\\Data_Science_Python\\data_sets\\ds_salaries_clean.csv\")\n",
    "\n",
    "#conditions fo job category\n",
    "Job_Category = ['Machine Learning','Data Engineering','Data Analytics', 'Data Science', 'Other','Managerial']\n",
    "\n",
    "Machine_Learning = ['Machine Learning Scientist', 'Machine Learning Engineer','Machine Learning Manager', 'AI Scientist', 'ML Engineer' ,'Applied Machine Learning Scientist' ,'Head of Machine Learning', 'Machine Learning Developer' ,'Lead Machine Learning Engineer']\n",
    " \n",
    "Data_Engineering =  ['Big Data Engineer', 'Lead Data Engineer', 'Data Engineer', 'Data Engineering Manager' ,'Director of Data Engineering', 'Principal Data Engineer', 'Cloud Data Engineer', 'Data Architect', 'Machine Learning Infrastructure Engineer', 'ETL Developer']\n",
    " \n",
    "Data_Analytics =  ['Product Data Analyst', 'Data Analyst', 'Business Data Analyst' , 'Lead Data Analyst', 'BI Data Analyst','Data Analytics Engineer' ,'Financial Data Analyst', 'Data Analytics Manager', \n",
    "                    'Finance Data Analyst', 'Principal Data Analyst','Analytics Engineer' ,'Data Analytics Lead']\n",
    " \n",
    "Data_Science =  ['Lead Data Scientist','Data Scientist', 'Principal Data Scientist', 'Applied Data Scientist','Staff Data Scientist', 'NLP Engineer']\n",
    " \n",
    "Other =  ['Research Scientist','3D Computer Vision Researcher', 'Data Science Consultant','Computer Vision Software Engineer', 'Data Science Engineer', 'Computer Vision Engineer']\n",
    " \n",
    "Managerial =  ['Data Science Manager', 'Head of Data', 'Head of Data Science', 'Director of Data Science']\n",
    "\n",
    "conditions = [\n",
    "    (salaries[\"Designation\"].isin(Machine_Learning)),\n",
    "    (salaries[\"Designation\"].isin(Data_Engineering)),\n",
    "    (salaries[\"Designation\"].isin(Data_Analytics)),\n",
    "    (salaries[\"Designation\"].isin(Data_Science)),\n",
    "    (salaries[\"Designation\"].isin(Other)),\n",
    "    (salaries[\"Designation\"].isin(Managerial))\n",
    "\n",
    "]\n",
    "\n",
    "#assignation\n",
    "salaries[\"Job_Category\"] = np.select(conditions, \n",
    "                                        Job_Category,\n",
    "                                        default=\"XD\")\n",
    "salaries.head(10)"
   ]
  },
  {
   "cell_type": "code",
   "execution_count": 9,
   "metadata": {},
   "outputs": [
    {
     "name": "stdout",
     "output_type": "stream",
     "text": [
      "Data Engineering    0.286656\n",
      "Data Science        0.263591\n",
      "Data Analytics      0.220758\n",
      "Machine Learning    0.118616\n",
      "Other               0.059308\n",
      "Managerial          0.046129\n",
      "XD                  0.004942\n",
      "Name: Job_Category, dtype: float64\n"
     ]
    }
   ],
   "source": [
    "print(salaries['Job_Category'].value_counts(normalize=True))"
   ]
  },
  {
   "cell_type": "markdown",
   "metadata": {},
   "source": [
    "* Perform cross-tabulation, setting `\"Company_Size\"` as the index, and the columns to classes in `\"Experience\"`."
   ]
  },
  {
   "cell_type": "code",
   "execution_count": 10,
   "metadata": {},
   "outputs": [
    {
     "name": "stdout",
     "output_type": "stream",
     "text": [
      "Experience    Entry  Executive  Mid  Senior\n",
      "Company_Size                               \n",
      "L                29         11   86      72\n",
      "M                30         12   98     186\n",
      "S                29          3   29      22\n"
     ]
    }
   ],
   "source": [
    "# Cross-tabulate Company_Size and Experience\n",
    "print(pd.crosstab(salaries[\"Company_Size\"], salaries[\"Experience\"]))"
   ]
  },
  {
   "cell_type": "markdown",
   "metadata": {},
   "source": [
    "* Cross-tabulate `\"Job_Category\"` and classes of `\"Company_Size\"` as column names."
   ]
  },
  {
   "cell_type": "code",
   "execution_count": 11,
   "metadata": {},
   "outputs": [
    {
     "name": "stdout",
     "output_type": "stream",
     "text": [
      "Company_Size       L    M   S\n",
      "Job_Category                 \n",
      "Data Analytics    31   91  12\n",
      "Data Engineering  54  106  14\n",
      "Data Science      56   81  23\n",
      "Machine Learning  25   25  22\n",
      "Managerial        14   11   3\n",
      "Other             16   11   9\n",
      "XD                 2    1   0\n"
     ]
    }
   ],
   "source": [
    "# Cross-tabulate Job_Category and Company_Size\n",
    "print(pd.crosstab(salaries[\"Job_Category\"], salaries[\"Company_Size\"]))"
   ]
  },
  {
   "cell_type": "markdown",
   "metadata": {},
   "source": [
    "* Update `pd.crosstab()` to return the mean `\"Salary_USD\"` values."
   ]
  },
  {
   "cell_type": "code",
   "execution_count": 14,
   "metadata": {},
   "outputs": [
    {
     "name": "stdout",
     "output_type": "stream",
     "text": [
      "Company_Size               L           M          S\n",
      "Job_Category                                       \n",
      "Data Analytics    103588.968   98125.835  43074.500\n",
      "Data Engineering  113829.889  116871.509  85645.286\n",
      "Data Science      107865.304  121664.889  70426.870\n",
      "Machine Learning  123878.520  100849.480  85124.955\n",
      "Managerial        170102.857  160419.455  98976.333\n",
      "Other              89038.250   76010.818  71895.556\n",
      "XD                121099.000   95200.000        NaN\n"
     ]
    }
   ],
   "source": [
    "# Cross-tabulate Job_Category and Company_Size\n",
    "print(pd.crosstab(salaries[\"Job_Category\"], salaries[\"Company_Size\"],\n",
    "            values=salaries[\"Salary_USD\"], aggfunc=\"mean\").round(3))"
   ]
  }
 ],
 "metadata": {
  "kernelspec": {
   "display_name": "Python 3",
   "language": "python",
   "name": "python3"
  },
  "language_info": {
   "codemirror_mode": {
    "name": "ipython",
    "version": 3
   },
   "file_extension": ".py",
   "mimetype": "text/x-python",
   "name": "python",
   "nbconvert_exporter": "python",
   "pygments_lexer": "ipython3",
   "version": "3.9.9"
  },
  "orig_nbformat": 4
 },
 "nbformat": 4,
 "nbformat_minor": 2
}

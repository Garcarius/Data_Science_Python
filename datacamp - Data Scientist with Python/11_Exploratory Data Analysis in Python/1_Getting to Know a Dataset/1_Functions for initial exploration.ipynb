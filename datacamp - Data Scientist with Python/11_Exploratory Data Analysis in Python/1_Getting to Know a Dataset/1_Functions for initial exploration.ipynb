{
 "cells": [
  {
   "cell_type": "markdown",
   "metadata": {},
   "source": [
    "# Functions for initial exploration\n",
    "You are researching unemployment rates worldwide and have been given a new dataset to work with. The data has been saved and loaded for you as a pandas DataFrame called `unemployment`. You've never seen the data before, so your first task is to use a few pandas functions to learn about this new data.\n",
    "\n",
    "`pandas` has been imported for you as `pd`."
   ]
  },
  {
   "cell_type": "code",
   "execution_count": null,
   "metadata": {},
   "outputs": [],
   "source": [
    "D:\\Cursos\\Data_Science_Python\\data_sets\\clean_unemployment.csv\n",
    "data_sets\\clean_unemployment.csv\n",
    "D:\\Cursos\\Data_Science_Python\\data_sets\\unemployment.p\n",
    "data_sets\\unemployment.p\n",
    "D:\\Cursos\\Data_Science_Python\\data_sets\\USUnemployment.csv\n",
    "data_sets\\USUnemployment.csv"
   ]
  },
  {
   "cell_type": "code",
   "execution_count": 3,
   "metadata": {},
   "outputs": [
    {
     "data": {
      "text/html": [
       "<div>\n",
       "<style scoped>\n",
       "    .dataframe tbody tr th:only-of-type {\n",
       "        vertical-align: middle;\n",
       "    }\n",
       "\n",
       "    .dataframe tbody tr th {\n",
       "        vertical-align: top;\n",
       "    }\n",
       "\n",
       "    .dataframe thead th {\n",
       "        text-align: right;\n",
       "    }\n",
       "</style>\n",
       "<table border=\"1\" class=\"dataframe\">\n",
       "  <thead>\n",
       "    <tr style=\"text-align: right;\">\n",
       "      <th></th>\n",
       "      <th>country_code</th>\n",
       "      <th>country_name</th>\n",
       "      <th>continent</th>\n",
       "      <th>2010</th>\n",
       "      <th>2011</th>\n",
       "      <th>2012</th>\n",
       "      <th>2013</th>\n",
       "      <th>2014</th>\n",
       "      <th>2015</th>\n",
       "      <th>2016</th>\n",
       "      <th>2017</th>\n",
       "      <th>2018</th>\n",
       "      <th>2019</th>\n",
       "      <th>2020</th>\n",
       "      <th>2021</th>\n",
       "    </tr>\n",
       "  </thead>\n",
       "  <tbody>\n",
       "    <tr>\n",
       "      <th>0</th>\n",
       "      <td>AFG</td>\n",
       "      <td>Afghanistan</td>\n",
       "      <td>Asia</td>\n",
       "      <td>11.35</td>\n",
       "      <td>11.05</td>\n",
       "      <td>11.34</td>\n",
       "      <td>11.19</td>\n",
       "      <td>11.14</td>\n",
       "      <td>11.13</td>\n",
       "      <td>11.16</td>\n",
       "      <td>11.18</td>\n",
       "      <td>11.15</td>\n",
       "      <td>11.22</td>\n",
       "      <td>11.71</td>\n",
       "      <td>13.28</td>\n",
       "    </tr>\n",
       "    <tr>\n",
       "      <th>1</th>\n",
       "      <td>AGO</td>\n",
       "      <td>Angola</td>\n",
       "      <td>Africa</td>\n",
       "      <td>9.43</td>\n",
       "      <td>7.36</td>\n",
       "      <td>7.35</td>\n",
       "      <td>7.37</td>\n",
       "      <td>7.37</td>\n",
       "      <td>7.39</td>\n",
       "      <td>7.41</td>\n",
       "      <td>7.41</td>\n",
       "      <td>7.42</td>\n",
       "      <td>7.42</td>\n",
       "      <td>8.33</td>\n",
       "      <td>8.53</td>\n",
       "    </tr>\n",
       "    <tr>\n",
       "      <th>2</th>\n",
       "      <td>ALB</td>\n",
       "      <td>Albania</td>\n",
       "      <td>Europe</td>\n",
       "      <td>14.09</td>\n",
       "      <td>13.48</td>\n",
       "      <td>13.38</td>\n",
       "      <td>15.87</td>\n",
       "      <td>18.05</td>\n",
       "      <td>17.19</td>\n",
       "      <td>15.42</td>\n",
       "      <td>13.62</td>\n",
       "      <td>12.30</td>\n",
       "      <td>11.47</td>\n",
       "      <td>13.33</td>\n",
       "      <td>11.82</td>\n",
       "    </tr>\n",
       "  </tbody>\n",
       "</table>\n",
       "</div>"
      ],
      "text/plain": [
       "  country_code country_name continent   2010   2011   2012   2013   2014  \\\n",
       "0          AFG  Afghanistan      Asia  11.35  11.05  11.34  11.19  11.14   \n",
       "1          AGO       Angola    Africa   9.43   7.36   7.35   7.37   7.37   \n",
       "2          ALB      Albania    Europe  14.09  13.48  13.38  15.87  18.05   \n",
       "\n",
       "    2015   2016   2017   2018   2019   2020   2021  \n",
       "0  11.13  11.16  11.18  11.15  11.22  11.71  13.28  \n",
       "1   7.39   7.41   7.41   7.42   7.42   8.33   8.53  \n",
       "2  17.19  15.42  13.62  12.30  11.47  13.33  11.82  "
      ]
     },
     "execution_count": 3,
     "metadata": {},
     "output_type": "execute_result"
    }
   ],
   "source": [
    "import pandas as pd\n",
    "import seaborn as sns\n",
    "import matplotlib.pyplot as plt\n",
    "unemployment= pd.read_csv(r\"D:\\Cursos\\Data_Science_Python\\data_sets\\clean_unemployment.csv\")\n",
    "unemployment.head(3)"
   ]
  },
  {
   "cell_type": "code",
   "execution_count": 5,
   "metadata": {},
   "outputs": [
    {
     "data": {
      "text/html": [
       "<div>\n",
       "<style scoped>\n",
       "    .dataframe tbody tr th:only-of-type {\n",
       "        vertical-align: middle;\n",
       "    }\n",
       "\n",
       "    .dataframe tbody tr th {\n",
       "        vertical-align: top;\n",
       "    }\n",
       "\n",
       "    .dataframe thead th {\n",
       "        text-align: right;\n",
       "    }\n",
       "</style>\n",
       "<table border=\"1\" class=\"dataframe\">\n",
       "  <thead>\n",
       "    <tr style=\"text-align: right;\">\n",
       "      <th></th>\n",
       "      <th>date</th>\n",
       "      <th>unemployment_rate</th>\n",
       "    </tr>\n",
       "  </thead>\n",
       "  <tbody>\n",
       "    <tr>\n",
       "      <th>0</th>\n",
       "      <td>2013-06-01</td>\n",
       "      <td>7.5</td>\n",
       "    </tr>\n",
       "    <tr>\n",
       "      <th>1</th>\n",
       "      <td>2014-01-01</td>\n",
       "      <td>6.7</td>\n",
       "    </tr>\n",
       "    <tr>\n",
       "      <th>2</th>\n",
       "      <td>2014-06-01</td>\n",
       "      <td>6.1</td>\n",
       "    </tr>\n",
       "  </tbody>\n",
       "</table>\n",
       "</div>"
      ],
      "text/plain": [
       "         date  unemployment_rate\n",
       "0  2013-06-01                7.5\n",
       "1  2014-01-01                6.7\n",
       "2  2014-06-01                6.1"
      ]
     },
     "execution_count": 5,
     "metadata": {},
     "output_type": "execute_result"
    }
   ],
   "source": [
    "un= pd.read_pickle(r\"D:\\Cursos\\Data_Science_Python\\data_sets\\unemployment.p\")\n",
    "un.head(3)"
   ]
  },
  {
   "cell_type": "code",
   "execution_count": 6,
   "metadata": {},
   "outputs": [
    {
     "data": {
      "text/html": [
       "<div>\n",
       "<style scoped>\n",
       "    .dataframe tbody tr th:only-of-type {\n",
       "        vertical-align: middle;\n",
       "    }\n",
       "\n",
       "    .dataframe tbody tr th {\n",
       "        vertical-align: top;\n",
       "    }\n",
       "\n",
       "    .dataframe thead th {\n",
       "        text-align: right;\n",
       "    }\n",
       "</style>\n",
       "<table border=\"1\" class=\"dataframe\">\n",
       "  <thead>\n",
       "    <tr style=\"text-align: right;\">\n",
       "      <th></th>\n",
       "      <th>Year</th>\n",
       "      <th>Jan</th>\n",
       "      <th>Feb</th>\n",
       "      <th>Mar</th>\n",
       "      <th>Apr</th>\n",
       "      <th>May</th>\n",
       "      <th>Jun</th>\n",
       "      <th>Jul</th>\n",
       "      <th>Aug</th>\n",
       "      <th>Sep</th>\n",
       "      <th>Oct</th>\n",
       "      <th>Nov</th>\n",
       "      <th>Dec</th>\n",
       "    </tr>\n",
       "  </thead>\n",
       "  <tbody>\n",
       "    <tr>\n",
       "      <th>0</th>\n",
       "      <td>1948</td>\n",
       "      <td>3.4</td>\n",
       "      <td>3.8</td>\n",
       "      <td>4.0</td>\n",
       "      <td>3.9</td>\n",
       "      <td>3.5</td>\n",
       "      <td>3.6</td>\n",
       "      <td>3.6</td>\n",
       "      <td>3.9</td>\n",
       "      <td>3.8</td>\n",
       "      <td>3.7</td>\n",
       "      <td>3.8</td>\n",
       "      <td>4.0</td>\n",
       "    </tr>\n",
       "    <tr>\n",
       "      <th>1</th>\n",
       "      <td>1949</td>\n",
       "      <td>4.3</td>\n",
       "      <td>4.7</td>\n",
       "      <td>5.0</td>\n",
       "      <td>5.3</td>\n",
       "      <td>6.1</td>\n",
       "      <td>6.2</td>\n",
       "      <td>6.7</td>\n",
       "      <td>6.8</td>\n",
       "      <td>6.6</td>\n",
       "      <td>7.9</td>\n",
       "      <td>6.4</td>\n",
       "      <td>6.6</td>\n",
       "    </tr>\n",
       "    <tr>\n",
       "      <th>2</th>\n",
       "      <td>1950</td>\n",
       "      <td>6.5</td>\n",
       "      <td>6.4</td>\n",
       "      <td>6.3</td>\n",
       "      <td>5.8</td>\n",
       "      <td>5.5</td>\n",
       "      <td>5.4</td>\n",
       "      <td>5.0</td>\n",
       "      <td>4.5</td>\n",
       "      <td>4.4</td>\n",
       "      <td>4.2</td>\n",
       "      <td>4.2</td>\n",
       "      <td>4.3</td>\n",
       "    </tr>\n",
       "  </tbody>\n",
       "</table>\n",
       "</div>"
      ],
      "text/plain": [
       "   Year  Jan  Feb  Mar  Apr  May  Jun  Jul  Aug  Sep  Oct  Nov  Dec\n",
       "0  1948  3.4  3.8  4.0  3.9  3.5  3.6  3.6  3.9  3.8  3.7  3.8  4.0\n",
       "1  1949  4.3  4.7  5.0  5.3  6.1  6.2  6.7  6.8  6.6  7.9  6.4  6.6\n",
       "2  1950  6.5  6.4  6.3  5.8  5.5  5.4  5.0  4.5  4.4  4.2  4.2  4.3"
      ]
     },
     "execution_count": 6,
     "metadata": {},
     "output_type": "execute_result"
    }
   ],
   "source": [
    "uk= pd.read_csv(r\"D:\\Cursos\\Data_Science_Python\\data_sets\\USUnemployment.csv\")\n",
    "uk.head(3)"
   ]
  },
  {
   "cell_type": "markdown",
   "metadata": {},
   "source": [
    "* Use a pandas function to print the first five rows of the `unemployment` DataFrame."
   ]
  },
  {
   "cell_type": "code",
   "execution_count": 7,
   "metadata": {},
   "outputs": [
    {
     "name": "stdout",
     "output_type": "stream",
     "text": [
      "  country_code          country_name      continent   2010   2011   2012  \\\n",
      "0          AFG           Afghanistan           Asia  11.35  11.05  11.34   \n",
      "1          AGO                Angola         Africa   9.43   7.36   7.35   \n",
      "2          ALB               Albania         Europe  14.09  13.48  13.38   \n",
      "3          ARE  United Arab Emirates           Asia   2.48   2.30   2.18   \n",
      "4          ARG             Argentina  South America   7.71   7.18   7.22   \n",
      "\n",
      "    2013   2014   2015   2016   2017   2018   2019   2020   2021  \n",
      "0  11.19  11.14  11.13  11.16  11.18  11.15  11.22  11.71  13.28  \n",
      "1   7.37   7.37   7.39   7.41   7.41   7.42   7.42   8.33   8.53  \n",
      "2  15.87  18.05  17.19  15.42  13.62  12.30  11.47  13.33  11.82  \n",
      "3   2.04   1.91   1.77   1.64   2.46   2.35   2.23   3.19   3.36  \n",
      "4   7.10   7.27   7.52   8.11   8.35   9.22   9.84  11.46  10.90  \n"
     ]
    }
   ],
   "source": [
    "print(unemployment.head())"
   ]
  },
  {
   "cell_type": "markdown",
   "metadata": {},
   "source": [
    "* Use a pandas function to print a summary of column non-missing values and data types from the `unemployment` DataFrame."
   ]
  },
  {
   "cell_type": "code",
   "execution_count": 9,
   "metadata": {},
   "outputs": [
    {
     "name": "stdout",
     "output_type": "stream",
     "text": [
      "<class 'pandas.core.frame.DataFrame'>\n",
      "RangeIndex: 182 entries, 0 to 181\n",
      "Data columns (total 15 columns):\n",
      " #   Column        Non-Null Count  Dtype  \n",
      "---  ------        --------------  -----  \n",
      " 0   country_code  182 non-null    object \n",
      " 1   country_name  182 non-null    object \n",
      " 2   continent     177 non-null    object \n",
      " 3   2010          182 non-null    float64\n",
      " 4   2011          182 non-null    float64\n",
      " 5   2012          182 non-null    float64\n",
      " 6   2013          182 non-null    float64\n",
      " 7   2014          182 non-null    float64\n",
      " 8   2015          182 non-null    float64\n",
      " 9   2016          182 non-null    float64\n",
      " 10  2017          182 non-null    float64\n",
      " 11  2018          182 non-null    float64\n",
      " 12  2019          182 non-null    float64\n",
      " 13  2020          182 non-null    float64\n",
      " 14  2021          182 non-null    float64\n",
      "dtypes: float64(12), object(3)\n",
      "memory usage: 21.5+ KB\n",
      "None\n"
     ]
    }
   ],
   "source": [
    "# Print a summary of non-missing values and data types in the unemployment DataFrame\n",
    "print(unemployment.info())"
   ]
  },
  {
   "cell_type": "markdown",
   "metadata": {},
   "source": [
    "* Print the summary statistics (count, mean, standard deviation, min, max, and quartile values) of each numerical column in `unemployment`."
   ]
  },
  {
   "cell_type": "code",
   "execution_count": 10,
   "metadata": {},
   "outputs": [
    {
     "name": "stdout",
     "output_type": "stream",
     "text": [
      "             2010        2011        2012        2013        2014        2015  \\\n",
      "count  182.000000  182.000000  182.000000  182.000000  182.000000  182.000000   \n",
      "mean     8.409286    8.315440    8.317967    8.344780    8.179670    8.058901   \n",
      "std      6.248887    6.266795    6.367270    6.416041    6.284241    6.161170   \n",
      "min      0.450000    0.320000    0.480000    0.250000    0.200000    0.170000   \n",
      "25%      4.015000    3.775000    3.742500    3.692500    3.625000    3.662500   \n",
      "50%      6.965000    6.805000    6.690000    6.395000    6.450000    6.170000   \n",
      "75%     10.957500   11.045000   11.285000   11.310000   10.695000   10.215000   \n",
      "max     32.020000   31.380000   31.020000   29.000000   28.030000   27.690000   \n",
      "\n",
      "             2016        2017        2018        2019        2020        2021  \n",
      "count  182.000000  182.000000  182.000000  182.000000  182.000000  182.000000  \n",
      "mean     7.925879    7.668626    7.426429    7.243736    8.420934    8.390879  \n",
      "std      6.045439    5.902152    5.818915    5.696573    6.040915    6.067192  \n",
      "min      0.150000    0.140000    0.110000    0.100000    0.210000    0.260000  \n",
      "25%      3.800000    3.690000    3.625000    3.487500    4.285000    4.335000  \n",
      "50%      5.925000    5.650000    5.375000    5.240000    6.695000    6.425000  \n",
      "75%     10.245000   10.315000    9.257500    9.445000   11.155000   10.840000  \n",
      "max     26.540000   27.040000   26.910000   28.470000   29.220000   33.560000  \n"
     ]
    }
   ],
   "source": [
    "# Print summary statistics for numerical columns in unemployment\n",
    "print(unemployment.describe())"
   ]
  }
 ],
 "metadata": {
  "kernelspec": {
   "display_name": "Python 3",
   "language": "python",
   "name": "python3"
  },
  "language_info": {
   "codemirror_mode": {
    "name": "ipython",
    "version": 3
   },
   "file_extension": ".py",
   "mimetype": "text/x-python",
   "name": "python",
   "nbconvert_exporter": "python",
   "pygments_lexer": "ipython3",
   "version": "3.9.9"
  },
  "orig_nbformat": 4
 },
 "nbformat": 4,
 "nbformat_minor": 2
}

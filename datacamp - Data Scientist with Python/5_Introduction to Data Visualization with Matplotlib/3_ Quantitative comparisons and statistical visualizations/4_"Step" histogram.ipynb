{
 "cells": [
  {
   "attachments": {},
   "cell_type": "markdown",
   "metadata": {},
   "source": [
    "\"Step\" histogram\n",
    "Histograms allow us to see the distributions of the data in different groups in our data. In this exercise, you will select groups from the Summer 2016 Olympic Games medalist dataset to compare the height of medalist athletes in two different sports.\n",
    "\n",
    "The data is stored in a pandas DataFrame object called summer_2016_medals that has a column \"Height\". In addition, you are provided a pandas GroupBy object that has been grouped by the sport.\n",
    "\n",
    "In this exercise, you will visualize and label the histograms of two sports: \"Gymnastics\" and \"Rowing\" and see the marked difference between medalists in these two sports."
   ]
  },
  {
   "cell_type": "code",
   "execution_count": 1,
   "metadata": {},
   "outputs": [
    {
     "name": "stdout",
     "output_type": "stream",
     "text": [
      "mens_rowing \n",
      "        Unnamed: 0    ID                          Name Sex   Age  Height  \\\n",
      "8            158    62             Giovanni Abagnale   M  21.0   198.0   \n",
      "735        11648  6346                    Jrmie Azou   M  27.0   178.0   \n",
      "885        14871  8025  Thomas Gabriel Jrmie Baroukh   M  28.0   183.0   \n",
      "912        15215  8214            Jacob Jepsen Barse   M  27.0   188.0   \n",
      "1059       18441  9764          Alexander Belonogoff   M  26.0   187.0   \n",
      "\n",
      "      Weight       Team  NOC        Games  Year  Season            City  \\\n",
      "8       90.0      Italy  ITA  2016 Summer  2016  Summer  Rio de Janeiro   \n",
      "735     71.0     France  FRA  2016 Summer  2016  Summer  Rio de Janeiro   \n",
      "885     70.0     France  FRA  2016 Summer  2016  Summer  Rio de Janeiro   \n",
      "912     73.0    Denmark  DEN  2016 Summer  2016  Summer  Rio de Janeiro   \n",
      "1059    90.0  Australia  AUS  2016 Summer  2016  Summer  Rio de Janeiro   \n",
      "\n",
      "       Sport                                   Event   Medal  \n",
      "8     Rowing              Rowing Men's Coxless Pairs  Bronze  \n",
      "735   Rowing  Rowing Men's Lightweight Double Sculls    Gold  \n",
      "885   Rowing  Rowing Men's Lightweight Coxless Fours  Bronze  \n",
      "912   Rowing  Rowing Men's Lightweight Coxless Fours  Silver  \n",
      "1059  Rowing           Rowing Men's Quadruple Sculls  Silver   \n",
      "\n",
      "mens_gymnastics \n",
      "        Unnamed: 0    ID                         Name Sex   Age  Height  Weight  \\\n",
      "58           794   455  Denis Mikhaylovich Ablyazin   M  24.0   161.0    62.0   \n",
      "60           796   455  Denis Mikhaylovich Ablyazin   M  24.0   161.0    62.0   \n",
      "61           797   455  Denis Mikhaylovich Ablyazin   M  24.0   161.0    62.0   \n",
      "1066       18577  9829   David Sagitovich Belyavsky   M  24.0   165.0    55.0   \n",
      "1068       18579  9829   David Sagitovich Belyavsky   M  24.0   165.0    55.0   \n",
      "\n",
      "        Team  NOC        Games  Year  Season            City       Sport  \\\n",
      "58    Russia  RUS  2016 Summer  2016  Summer  Rio de Janeiro  Gymnastics   \n",
      "60    Russia  RUS  2016 Summer  2016  Summer  Rio de Janeiro  Gymnastics   \n",
      "61    Russia  RUS  2016 Summer  2016  Summer  Rio de Janeiro  Gymnastics   \n",
      "1066  Russia  RUS  2016 Summer  2016  Summer  Rio de Janeiro  Gymnastics   \n",
      "1068  Russia  RUS  2016 Summer  2016  Summer  Rio de Janeiro  Gymnastics   \n",
      "\n",
      "                                 Event   Medal  \n",
      "58    Gymnastics Men's Team All-Around  Silver  \n",
      "60        Gymnastics Men's Horse Vault  Silver  \n",
      "61              Gymnastics Men's Rings  Bronze  \n",
      "1066  Gymnastics Men's Team All-Around  Silver  \n",
      "1068    Gymnastics Men's Parallel Bars  Bronze   \n",
      "\n",
      "summer_2016_medals \n",
      "      Unnamed: 0   ID                         Name Sex   Age  Height  Weight  \\\n",
      "8          158   62            Giovanni Abagnale   M  21.0   198.0    90.0   \n",
      "9          161   65            Patimat Abakarova   F  21.0   165.0    49.0   \n",
      "10         175   73                    Luc Abalo   M  31.0   182.0    86.0   \n",
      "33         450  250         Saeid Morad Abdevali   M  26.0   170.0    80.0   \n",
      "58         794  455  Denis Mikhaylovich Ablyazin   M  24.0   161.0    62.0   \n",
      "\n",
      "          Team  NOC        Games  Year  Season            City       Sport  \\\n",
      "8        Italy  ITA  2016 Summer  2016  Summer  Rio de Janeiro      Rowing   \n",
      "9   Azerbaijan  AZE  2016 Summer  2016  Summer  Rio de Janeiro   Taekwondo   \n",
      "10      France  FRA  2016 Summer  2016  Summer  Rio de Janeiro    Handball   \n",
      "33        Iran  IRI  2016 Summer  2016  Summer  Rio de Janeiro   Wrestling   \n",
      "58      Russia  RUS  2016 Summer  2016  Summer  Rio de Janeiro  Gymnastics   \n",
      "\n",
      "                                        Event   Medal  \n",
      "8                  Rowing Men's Coxless Pairs  Bronze  \n",
      "9                 Taekwondo Women's Flyweight  Bronze  \n",
      "10                    Handball Men's Handball  Silver  \n",
      "33  Wrestling Men's Middleweight, Greco-Roman  Bronze  \n",
      "58           Gymnastics Men's Team All-Around  Silver   \n",
      "\n"
     ]
    }
   ],
   "source": [
    "# Import pandas as pd\n",
    "import pandas as pd\n",
    "import matplotlib.pyplot as plt\n",
    "path=r'/media/documentos/Cursos/Data Science/Python/Data_Science_Python/data_sets/'\n",
    "# Read the data from file using read_csv\n",
    "mens_rowing = pd.read_csv(path+'mens_rowing.csv',index_col=0) # parse_dates = [\"date\"], )\n",
    "print('mens_rowing \\n ',mens_rowing.head(),'\\n')\n",
    "\n",
    "mens_gymnastics = pd.read_csv(path+'mens_gymnastics.csv',index_col=0) # parse_dates = [\"date\"], )\n",
    "print('mens_gymnastics \\n ',mens_gymnastics.head(),'\\n')\n",
    "\n",
    "summer_2016_medals = pd.read_csv(path+'summer_2016_medals.csv',index_col=0) # parse_dates = [\"date\"], )\n",
    "print('summer_2016_medals \\n ',summer_2016_medals.head(),'\\n')"
   ]
  },
  {
   "attachments": {},
   "cell_type": "markdown",
   "metadata": {},
   "source": [
    "* Use the `hist` method to display a histogram of the `\"Weight\"` column from the `mens_rowing` DataFrame, label this as `\"Rowing\"`.\n",
    "* Use hist to display a histogram of the \"Weight\" column from the mens_gymnastics DataFrame, and label this as \"Gymnastics\".\n",
    "* For both histograms, use the histtype argument to visualize the data using the 'step' type and set the number of bins to use to 5.\n",
    "Add a legend to the figure, before it is displayed."
   ]
  },
  {
   "cell_type": "code",
   "execution_count": 3,
   "metadata": {},
   "outputs": [
    {
     "data": {
      "image/png": "[encoded data removed]",
      "text/plain": [
       "<Figure size 640x480 with 1 Axes>"
      ]
     },
     "metadata": {},
     "output_type": "display_data"
    }
   ],
   "source": [
    "fig, ax = plt.subplots()\n",
    "\n",
    "# Plot a histogram of \"Weight\" for mens_rowing\n",
    "ax.hist(mens_rowing['Weight'],label=\"Rowing\",histtype='step',bins=5)\n",
    "\n",
    "# Compare to histogram of \"Weight\" for mens_gymnastics\n",
    "ax.hist(mens_gymnastics['Weight'],label=\"Gymnastics\",histtype='step',bins=5)\n",
    "\n",
    "ax.set_xlabel(\"Weight (kg)\")\n",
    "ax.set_ylabel(\"# of observations\")\n",
    "\n",
    "# Add the legend and show the Figure\n",
    "ax.legend()\n",
    "plt.show()"
   ]
  }
 ],
 "metadata": {
  "kernelspec": {
   "display_name": "Python 3",
   "language": "python",
   "name": "python3"
  },
  "language_info": {
   "codemirror_mode": {
    "name": "ipython",
    "version": 3
   },
   "file_extension": ".py",
   "mimetype": "text/x-python",
   "name": "python",
   "nbconvert_exporter": "python",
   "pygments_lexer": "ipython3",
   "version": "3.9.2"
  },
  "orig_nbformat": 4,
  "vscode": {
   "interpreter": {
    "hash": "31f2aee4e71d21fbe5cf8b01ff0e069b9275f58929596ceb00d14d90e3e16cd6"
   }
  }
 },
 "nbformat": 4,
 "nbformat_minor": 2
}

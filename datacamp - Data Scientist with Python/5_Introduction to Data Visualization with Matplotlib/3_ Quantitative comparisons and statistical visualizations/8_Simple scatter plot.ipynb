{
 "cells": [
  {
   "attachments": {},
   "cell_type": "markdown",
   "metadata": {},
   "source": [
    "# Simple scatter plot\n",
    "Scatter are a bi-variate visualization technique. They plot each record in the data as a point. The location of each point is determined by the value of two variables: the first variable determines the distance along the x-axis and the second variable determines the height along the y-axis.\n",
    "\n",
    "In this exercise, you will create a scatter plot of the `climate_change` data. This DataFrame, which is already loaded, has a column `\"co2\"` that indicates the measurements of carbon dioxide every month and another column, `\"relative_temp\"` that indicates the temperature measured at the same time."
   ]
  },
  {
   "cell_type": "code",
   "execution_count": 3,
   "metadata": {},
   "outputs": [
    {
     "name": "stdout",
     "output_type": "stream",
     "text": [
      "climate_change \n",
      "                co2  relative_temp\n",
      "date                             \n",
      "1958-03-06  315.71           0.10\n",
      "1958-04-06  317.45           0.01\n",
      "1958-05-06  317.50           0.08\n",
      "1958-06-06     NaN          -0.05\n",
      "1958-07-06  315.86           0.06 \n",
      "\n"
     ]
    }
   ],
   "source": [
    "import pandas as pd\n",
    "import seaborn as sns\n",
    "import matplotlib.pyplot as plt\n",
    "import numpy as np\n",
    "path=r'/media/documentos/Cursos/Data Science/Python/Data_Science_Python/data_sets/'\n",
    "climate_change=pd.read_csv(path+'climate_change.csv',index_col=0,parse_dates=['date'])\n",
    "print('climate_change \\n',climate_change.head(),'\\n')"
   ]
  },
  {
   "attachments": {},
   "cell_type": "markdown",
   "metadata": {},
   "source": [
    "* Using the `ax.scatter` method, add the data to the plot: `\"co2\"` on the x-axis and `\"relative_temp\"` on the y-axis.\n",
    "* Set the x-axis label to `\"CO2 (ppm)\"`.\n",
    "* Set the y-axis label to `\"Relative temperature (C)\"`."
   ]
  },
  {
   "cell_type": "code",
   "execution_count": null,
   "metadata": {},
   "outputs": [],
   "source": [
    "fig, ax = plt.subplots()\n",
    "\n",
    "# Add data: \"co2\" on x-axis, \"relative_temp\" on y-axis\n",
    "ax.scatter(climate_change[\"co2\"],climate_change[\"relative_temp\"])\n",
    "\n",
    "# Set the x-axis label to \"CO2 (ppm)\"\n",
    "ax.set_xlabel(\"CO2 (ppm)\")\n",
    "\n",
    "# Set the y-axis label to \"Relative temperature (C)\"\n",
    "ax.set_ylabel(\"Relative temperature (C)\")\n",
    "\n",
    "plt.show()"
   ]
  }
 ],
 "metadata": {
  "kernelspec": {
   "display_name": "Python 3",
   "language": "python",
   "name": "python3"
  },
  "language_info": {
   "codemirror_mode": {
    "name": "ipython",
    "version": 3
   },
   "file_extension": ".py",
   "mimetype": "text/x-python",
   "name": "python",
   "nbconvert_exporter": "python",
   "pygments_lexer": "ipython3",
   "version": "3.9.2"
  },
  "orig_nbformat": 4,
  "vscode": {
   "interpreter": {
    "hash": "31f2aee4e71d21fbe5cf8b01ff0e069b9275f58929596ceb00d14d90e3e16cd6"
   }
  }
 },
 "nbformat": 4,
 "nbformat_minor": 2
}

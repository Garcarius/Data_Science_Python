{
 "cells": [
  {
   "attachments": {},
   "cell_type": "markdown",
   "metadata": {},
   "source": [
    "# Plot time-series data\n",
    "To plot time-series data, we use the `Axes` object `plot` command. The first argument to this method are the values for the x-axis and the second argument are the values for the y-axis.\n",
    "\n",
    "This exercise provides data stored in a DataFrame called `climate_change`. This variable has a time-index with the dates of measurements and two data columns: `\"co2\"` and `\"relative_temp\"`.\n",
    "\n",
    "In this case, the index of the DataFrame would be used as the x-axis values and we will plot the values stored in the `\"relative_temp\"` column as the y-axis values. We will also properly label the x-axis and y-axis."
   ]
  },
  {
   "cell_type": "code",
   "execution_count": 1,
   "metadata": {},
   "outputs": [
    {
     "name": "stdout",
     "output_type": "stream",
     "text": [
      "climate_change \n",
      "                 co2  relative_temp\n",
      "date                             \n",
      "1958-03-06  315.71           0.10\n",
      "1958-04-06  317.45           0.01\n",
      "1958-05-06  317.50           0.08\n",
      "1958-06-06     NaN          -0.05\n",
      "1958-07-06  315.86           0.06 \n",
      "\n"
     ]
    }
   ],
   "source": [
    "# Import pandas as pd\n",
    "import pandas as pd\n",
    "path=r'/media/documentos/Cursos/Data Science/Python/Data_Science_Python/data_sets/'\n",
    "# Read the data from file using read_csv\n",
    "climate_change = pd.read_csv(path+'climate_change.csv', parse_dates = [\"date\"], index_col=\"date\")\n",
    "\n",
    "print('climate_change \\n ',climate_change.head(),'\\n')"
   ]
  },
  {
   "attachments": {},
   "cell_type": "markdown",
   "metadata": {},
   "source": [
    "* Add the data from `climate_change` to the plot: use the DataFrame `index` for the x value and the `\"relative_temp\"` column for the y values.\n",
    "* Set the x-axis label to `'Time'`.\n",
    "* Set the y-axis label to `'Relative temperature (Celsius)'`.\n",
    "* Show the figure."
   ]
  },
  {
   "cell_type": "code",
   "execution_count": null,
   "metadata": {},
   "outputs": [],
   "source": [
    "import matplotlib.pyplot as plt\n",
    "fig, ax = plt.subplots()\n",
    "\n",
    "# Add the time-series for \"relative_temp\" to the plot\n",
    "ax.plot(climate_change.index,climate_change['relative_temp'])\n",
    "\n",
    "# Set the x-axis label\n",
    "ax.set_xlabel('Time')\n",
    "\n",
    "# Set the y-axis label\n",
    "ax.set_ylabel('Relative temperature (Celsius)')\n",
    "\n",
    "# Show the figure\n",
    "plt.show()"
   ]
  }
 ],
 "metadata": {
  "kernelspec": {
   "display_name": "Python 3",
   "language": "python",
   "name": "python3"
  },
  "language_info": {
   "codemirror_mode": {
    "name": "ipython",
    "version": 3
   },
   "file_extension": ".py",
   "mimetype": "text/x-python",
   "name": "python",
   "nbconvert_exporter": "python",
   "pygments_lexer": "ipython3",
   "version": "3.9.2"
  },
  "orig_nbformat": 4,
  "vscode": {
   "interpreter": {
    "hash": "31f2aee4e71d21fbe5cf8b01ff0e069b9275f58929596ceb00d14d90e3e16cd6"
   }
  }
 },
 "nbformat": 4,
 "nbformat_minor": 2
}

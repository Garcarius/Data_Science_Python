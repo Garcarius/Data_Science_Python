{
 "cells": [
  {
   "attachments": {},
   "cell_type": "markdown",
   "metadata": {},
   "source": [
    "# Save a figure with different sizes\n",
    "Before saving your visualization, you might want to also set the size that the figure will have on the page. To do so, you can use the `Figure` object's `set_size_inches` method. This method takes a sequence of two values. The first sets the width and the second sets the height of the figure.\n",
    "\n",
    "Here, you will again have a `Figure` object called `fig` already provided (you can run `plt.show` if you want to see its contents). Use the Figure methods `set_size_inches` and `savefig` to change its size and save two different versions of this figure."
   ]
  },
  {
   "cell_type": "code",
   "execution_count": 1,
   "metadata": {},
   "outputs": [
    {
     "name": "stdout",
     "output_type": "stream",
     "text": [
      "seattle_weather \n",
      "            STATION                         NAME  MLY-CLDD-BASE45  \\\n",
      "DATE                                                              \n",
      "1     USW00094290  SEATTLE SAND PT WSFO, WA US             27.0   \n",
      "2     USW00094290  SEATTLE SAND PT WSFO, WA US             31.0   \n",
      "3     USW00094290  SEATTLE SAND PT WSFO, WA US             81.0   \n",
      "4     USW00094290  SEATTLE SAND PT WSFO, WA US            169.0   \n",
      "5     USW00094290  SEATTLE SAND PT WSFO, WA US            343.0   \n",
      "\n",
      "      MLY-CLDD-BASE50  MLY-CLDD-BASE55  MLY-CLDD-BASE57  MLY-CLDD-BASE60  \\\n",
      "DATE                                                                       \n",
      "1                 3.0          -7777.0          -7777.0              0.0   \n",
      "2                 3.0          -7777.0          -7777.0              0.0   \n",
      "3                16.0              2.0          -7777.0          -7777.0   \n",
      "4                58.0             12.0              6.0              1.0   \n",
      "5               193.0             78.0             49.0             21.0   \n",
      "\n",
      "      MLY-CLDD-BASE70  MLY-CLDD-BASE72  MLY-CLDD-NORMAL  ...  \\\n",
      "DATE                                                     ...   \n",
      "1                 0.0              0.0              0.0  ...   \n",
      "2                 0.0              0.0              0.0  ...   \n",
      "3                 0.0              0.0              0.0  ...   \n",
      "4                 0.0              0.0          -7777.0  ...   \n",
      "5             -7777.0          -7777.0              3.0  ...   \n",
      "\n",
      "      MLY-TMIN-AVGNDS-LSTH070  MLY-TMIN-NORMAL  MLY-TMIN-PRBOCC-LSTH016  \\\n",
      "DATE                                                                      \n",
      "1                       310.0             37.0                     64.0   \n",
      "2                       280.0             36.9                     15.0   \n",
      "3                       310.0             39.3                      0.0   \n",
      "4                       300.0             42.5                      0.0   \n",
      "5                       310.0             47.8                      0.0   \n",
      "\n",
      "      MLY-TMIN-PRBOCC-LSTH020  MLY-TMIN-PRBOCC-LSTH024  \\\n",
      "DATE                                                     \n",
      "1                       129.0                    317.0   \n",
      "2                        76.0                    273.0   \n",
      "3                        20.0                     41.0   \n",
      "4                         0.0                      0.0   \n",
      "5                         0.0                      0.0   \n",
      "\n",
      "      MLY-TMIN-PRBOCC-LSTH028  MLY-TMIN-PRBOCC-LSTH032  \\\n",
      "DATE                                                     \n",
      "1                       709.0                    959.0   \n",
      "2                       616.0                    917.0   \n",
      "3                       152.0                    670.0   \n",
      "4                         0.0                    114.0   \n",
      "5                         0.0                      0.0   \n",
      "\n",
      "      MLY-TMIN-PRBOCC-LSTH036  MLY-TMIN-STDDEV  MONTH  \n",
      "DATE                                                   \n",
      "1                      1000.0              2.3    Jan  \n",
      "2                      1000.0              2.6    Feb  \n",
      "3                       986.0              1.8    Mar  \n",
      "4                       711.0              1.5    Apr  \n",
      "5                        58.0              1.9    May  \n",
      "\n",
      "[5 rows x 80 columns] \n",
      "\n",
      "austin_weather \n",
      "            STATION                                           NAME  \\\n",
      "DATE                                                               \n",
      "1     USW00013904  AUSTIN BERGSTROM INTERNATIONAL AIRPORT, TX US   \n",
      "2     USW00013904  AUSTIN BERGSTROM INTERNATIONAL AIRPORT, TX US   \n",
      "3     USW00013904  AUSTIN BERGSTROM INTERNATIONAL AIRPORT, TX US   \n",
      "4     USW00013904  AUSTIN BERGSTROM INTERNATIONAL AIRPORT, TX US   \n",
      "5     USW00013904  AUSTIN BERGSTROM INTERNATIONAL AIRPORT, TX US   \n",
      "\n",
      "      MLY-CLDD-BASE45  MLY-CLDD-BASE50  MLY-CLDD-BASE55  MLY-CLDD-BASE57  \\\n",
      "DATE                                                                       \n",
      "1                 190              103               50               35   \n",
      "2                 228              132               68               49   \n",
      "3                 446              306              185              146   \n",
      "4                 668              519              373              318   \n",
      "5                 936              781              626              564   \n",
      "\n",
      "      MLY-CLDD-BASE60  MLY-CLDD-BASE70  MLY-CLDD-BASE72  MLY-CLDD-NORMAL  ...  \\\n",
      "DATE                                                                      ...   \n",
      "1                  18                1            -7777                5  ...   \n",
      "2                  29                3                1               11  ...   \n",
      "3                  98               13                6               42  ...   \n",
      "4                 240               53               32              130  ...   \n",
      "5                 471              181              134              319  ...   \n",
      "\n",
      "      MLY-TMIN-AVGNDS-LSTH070  MLY-TMIN-NORMAL  MLY-TMIN-PRBOCC-LSTH016  \\\n",
      "DATE                                                                      \n",
      "1                         310             36.3                      298   \n",
      "2                         280             39.4                      103   \n",
      "3                         308             46.6                       10   \n",
      "4                         287             54.7                        0   \n",
      "5                         250             63.7                        0   \n",
      "\n",
      "      MLY-TMIN-PRBOCC-LSTH020  MLY-TMIN-PRBOCC-LSTH024  \\\n",
      "DATE                                                     \n",
      "1                         570                      839   \n",
      "2                         327                      614   \n",
      "3                          73                      242   \n",
      "4                           0                        0   \n",
      "5                           0                        0   \n",
      "\n",
      "      MLY-TMIN-PRBOCC-LSTH028  MLY-TMIN-PRBOCC-LSTH032  \\\n",
      "DATE                                                     \n",
      "1                         967                      997   \n",
      "2                         867                      973   \n",
      "3                         494                      761   \n",
      "4                          48                      189   \n",
      "5                           0                        0   \n",
      "\n",
      "      MLY-TMIN-PRBOCC-LSTH036  MLY-TMIN-STDDEV  MONTH  \n",
      "DATE                                                   \n",
      "1                        1000              2.9    Jan  \n",
      "2                         999              3.2    Feb  \n",
      "3                         928              3.6    Mar  \n",
      "4                         453              4.1    Apr  \n",
      "5                           0              2.5    May  \n",
      "\n",
      "[5 rows x 67 columns] \n",
      "\n"
     ]
    }
   ],
   "source": [
    "# Import pandas as pd\n",
    "import pandas as pd\n",
    "import matplotlib.pyplot as plt\n",
    "path=r'/media/documentos/Cursos/Data Science/Python/Data_Science_Python/data_sets/'\n",
    "img_path=r'/media/documentos/Cursos/Data Science/Python/Data_Science_Python/Img_saves/'\n",
    "# Read the data from file using read_csv\n",
    "seattle_weather = pd.read_csv(path+'seattle_weather.csv',index_col=0) # parse_dates = [\"date\"], )\n",
    "print('seattle_weather \\n ',seattle_weather.head(),'\\n')\n",
    "\n",
    "austin_weather = pd.read_csv(path+'austin_weather.csv',index_col=0) # parse_dates = [\"date\"], )\n",
    "print('austin_weather \\n ',austin_weather.head(),'\\n')"
   ]
  },
  {
   "cell_type": "code",
   "execution_count": 2,
   "metadata": {},
   "outputs": [
    {
     "data": {
      "image/png": "[encoded data removed]",
      "text/plain": [
       "<Figure size 640x480 with 1 Axes>"
      ]
     },
     "metadata": {},
     "output_type": "display_data"
    }
   ],
   "source": [
    "# Use the \"Solarize_Light2\" style and create new Figure/Axes\n",
    "plt.style.use(\"Solarize_Light2\")\n",
    "fig, ax = plt.subplots()\n",
    "ax.plot(austin_weather[\"MONTH\"], austin_weather[\"MLY-TAVG-NORMAL\"])\n",
    "plt.show()"
   ]
  },
  {
   "attachments": {},
   "cell_type": "markdown",
   "metadata": {},
   "source": [
    "* Set the figure size as width of 3 inches and height of 5 inches and save it as `'figure_3_5.png'` with default resolution."
   ]
  },
  {
   "cell_type": "code",
   "execution_count": 6,
   "metadata": {},
   "outputs": [],
   "source": [
    "# Set figure dimensions and save as a PNG\n",
    "fig.set_size_inches([3,5])\n",
    "fig.savefig(img_path+'figure_3_5.png')"
   ]
  },
  {
   "attachments": {},
   "cell_type": "markdown",
   "metadata": {},
   "source": [
    "Set the figure size to width of 5 inches and height of 3 inches and save it as 'figure_5_3.png' with default settings."
   ]
  },
  {
   "cell_type": "code",
   "execution_count": 7,
   "metadata": {},
   "outputs": [],
   "source": [
    "# Set figure dimensions and save as a PNG\n",
    "fig.set_size_inches([5,3])\n",
    "fig.savefig(img_path+'figure_5_3.png')"
   ]
  }
 ],
 "metadata": {
  "kernelspec": {
   "display_name": "Python 3",
   "language": "python",
   "name": "python3"
  },
  "language_info": {
   "codemirror_mode": {
    "name": "ipython",
    "version": 3
   },
   "file_extension": ".py",
   "mimetype": "text/x-python",
   "name": "python",
   "nbconvert_exporter": "python",
   "pygments_lexer": "ipython3",
   "version": "3.9.2 (default, Feb 28 2021, 17:03:44) \n[GCC 10.2.1 20210110]"
  },
  "orig_nbformat": 4,
  "vscode": {
   "interpreter": {
    "hash": "31f2aee4e71d21fbe5cf8b01ff0e069b9275f58929596ceb00d14d90e3e16cd6"
   }
  }
 },
 "nbformat": 4,
 "nbformat_minor": 2
}

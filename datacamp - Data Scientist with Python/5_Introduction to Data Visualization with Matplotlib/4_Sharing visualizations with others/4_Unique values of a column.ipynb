{
 "cells": [
  {
   "attachments": {},
   "cell_type": "markdown",
   "metadata": {},
   "source": [
    "# Unique values of a column\n",
    "One of the main strengths of Matplotlib is that it can be automated to adapt to the data that it receives as input. For example, if you receive data that has an unknown number of categories, you can still create a bar plot that has bars for each category.\n",
    "\n",
    "In this exercise and the next, you will be visualizing the weight of athletes in the 2016 summer Olympic Games again, from a dataset that has some unknown number of branches of sports in it. This will be loaded into memory as a pandas `DataFrame` object called `summer_2016_medals`, which has a column called `\"Sport\"` that tells you to which branch of sport each row corresponds. There is also a \"Weight\" column that tells you the weight of each athlete.\n",
    "\n",
    "In this exercise, we will extract the unique values of the \"Sport\" column"
   ]
  },
  {
   "cell_type": "code",
   "execution_count": 1,
   "metadata": {},
   "outputs": [
    {
     "name": "stdout",
     "output_type": "stream",
     "text": [
      "summer_2016_medals \n",
      "      Unnamed: 0   ID                         Name Sex   Age  Height  Weight  \\\n",
      "8          158   62            Giovanni Abagnale   M  21.0   198.0    90.0   \n",
      "9          161   65            Patimat Abakarova   F  21.0   165.0    49.0   \n",
      "10         175   73                    Luc Abalo   M  31.0   182.0    86.0   \n",
      "33         450  250         Saeid Morad Abdevali   M  26.0   170.0    80.0   \n",
      "58         794  455  Denis Mikhaylovich Ablyazin   M  24.0   161.0    62.0   \n",
      "\n",
      "          Team  NOC        Games  Year  Season            City       Sport  \\\n",
      "8        Italy  ITA  2016 Summer  2016  Summer  Rio de Janeiro      Rowing   \n",
      "9   Azerbaijan  AZE  2016 Summer  2016  Summer  Rio de Janeiro   Taekwondo   \n",
      "10      France  FRA  2016 Summer  2016  Summer  Rio de Janeiro    Handball   \n",
      "33        Iran  IRI  2016 Summer  2016  Summer  Rio de Janeiro   Wrestling   \n",
      "58      Russia  RUS  2016 Summer  2016  Summer  Rio de Janeiro  Gymnastics   \n",
      "\n",
      "                                        Event   Medal  \n",
      "8                  Rowing Men's Coxless Pairs  Bronze  \n",
      "9                 Taekwondo Women's Flyweight  Bronze  \n",
      "10                    Handball Men's Handball  Silver  \n",
      "33  Wrestling Men's Middleweight, Greco-Roman  Bronze  \n",
      "58           Gymnastics Men's Team All-Around  Silver   \n",
      "\n"
     ]
    }
   ],
   "source": [
    "# Import pandas as pd\n",
    "import pandas as pd\n",
    "import matplotlib.pyplot as plt\n",
    "path=r'/media/documentos/Cursos/Data Science/Python/Data_Science_Python/data_sets/'\n",
    "img_path=r'/media/documentos/Cursos/Data Science/Python/Data_Science_Python/Img_saves/'\n",
    "# Read the data from file using read_csv\n",
    "summer_2016_medals = pd.read_csv(path+'summer_2016_medals.csv',index_col=0) # parse_dates = [\"date\"], )\n",
    "print('summer_2016_medals \\n ',summer_2016_medals.head(),'\\n')"
   ]
  },
  {
   "attachments": {},
   "cell_type": "markdown",
   "metadata": {},
   "source": [
    "* Create a variable called `sports_column` that holds the data from the `\"Sport\" `column of the `DataFrame` object.\n",
    "* Use the `unique` method of this variable to find all the unique different sports that are present in this data, and assign these values into a new variable called `sports`.\n",
    "* Print the `sports` variable to the console."
   ]
  },
  {
   "cell_type": "code",
   "execution_count": null,
   "metadata": {},
   "outputs": [],
   "source": [
    "# Extract the \"Sport\" column\n",
    "sports_column = summer_2016_medals['Sport']\n",
    "\n",
    "# Find the unique values of the \"Sport\" column\n",
    "sports = sports_column.unique()\n",
    "\n",
    "# Print out the unique sports values\n",
    "print(sports)"
   ]
  }
 ],
 "metadata": {
  "kernelspec": {
   "display_name": "Python 3",
   "language": "python",
   "name": "python3"
  },
  "language_info": {
   "codemirror_mode": {
    "name": "ipython",
    "version": 3
   },
   "file_extension": ".py",
   "mimetype": "text/x-python",
   "name": "python",
   "nbconvert_exporter": "python",
   "pygments_lexer": "ipython3",
   "version": "3.9.2"
  },
  "orig_nbformat": 4,
  "vscode": {
   "interpreter": {
    "hash": "31f2aee4e71d21fbe5cf8b01ff0e069b9275f58929596ceb00d14d90e3e16cd6"
   }
  }
 },
 "nbformat": 4,
 "nbformat_minor": 2
}

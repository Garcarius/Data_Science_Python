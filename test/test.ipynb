{
 "cells": [
  {
   "attachments": {},
   "cell_type": "markdown",
   "metadata": {},
   "source": [
    "== hola =="
   ]
  },
  {
   "cell_type": "code",
   "execution_count": 2,
   "metadata": {},
   "outputs": [
    {
     "name": "stdout",
     "output_type": "stream",
     "text": [
      "['/media/documentos/Cursos/Data Science/Python/Data_Science_Python/data_sets/avoplotto.pkl']\n"
     ]
    }
   ],
   "source": [
    "import glob\n",
    "import os\n",
    "import shutil\n",
    "import pandas as pd\n",
    "\n",
    "src_fldr=r\"/media/documentos/Cursos/Data Science/Python/Data_Science_Python/data_sets/\"\n",
    "dst_fldr=r\"/media/documentos/Cursos/Data Science/Python/Data_Science_Python/data_sets/Proc/\"\n",
    "pattern = \"*.pkl\"\n",
    "\n",
    "# Search files with .docx extension in source directory\n",
    "\n",
    "files = glob.glob(src_fldr + pattern)\n",
    "print(files)\n",
    "# move the files with txt extension\n",
    "for file in files:\n",
    "    df=pd.DataFrame()\n",
    "    # extract file name form file path\n",
    "    file_name = os.path.basename(file)\n",
    "    r_file = file_name.split(\".\")[0]+'.csv'\n",
    "    df=pd.read_pickle(src_fldr+file_name)\n",
    "    df.to_csv(dst_fldr+r_file)\n"
   ]
  },
  {
   "cell_type": "code",
   "execution_count": 1,
   "metadata": {},
   "outputs": [
    {
     "name": "stdout",
     "output_type": "stream",
     "text": [
      "[ True False]\n"
     ]
    }
   ],
   "source": [
    "import numpy as np\n",
    "\n",
    "x = np.array([9, 5])\n",
    "y = np.array([16, 12])\n",
    "\n",
    "print(np.logical_or(x < 5, y > 15))"
   ]
  },
  {
   "cell_type": "code",
   "execution_count": 2,
   "metadata": {},
   "outputs": [
    {
     "name": "stdout",
     "output_type": "stream",
     "text": [
      "{'earth': 1, 'mercury': 0.384}\n"
     ]
    }
   ],
   "source": [
    "escape_velocity = {\n",
    "    'earth': 1,\n",
    "    'mercury': 0.384,\n",
    "    'mars': 0.450\n",
    "}\n",
    "\n",
    "del(escape_velocity[\"mars\"] )\n",
    "print(escape_velocity)"
   ]
  },
  {
   "cell_type": "code",
   "execution_count": 5,
   "metadata": {},
   "outputs": [
    {
     "name": "stdout",
     "output_type": "stream",
     "text": [
      "0: Mick Rory\n",
      "1: Leonard Snart\n",
      "2: Gorilla Grodd\n"
     ]
    }
   ],
   "source": [
    "flash_vil = ['Mick Rory', 'Leonard Snart', 'Gorilla Grodd']\n",
    "for x , y in  enumerate(flash_vil):\n",
    "    print(str(x)+ ': ' + y)"
   ]
  },
  {
   "cell_type": "code",
   "execution_count": 8,
   "metadata": {},
   "outputs": [
    {
     "name": "stdout",
     "output_type": "stream",
     "text": [
      "['A', 'B', 'C']\n"
     ]
    }
   ],
   "source": [
    "x = [1, 'A', 2, 'B', 3, 'C']\n",
    "strings = [y  for y in x if type(y) == str]\n",
    "print(strings)"
   ]
  },
  {
   "cell_type": "code",
   "execution_count": 9,
   "metadata": {},
   "outputs": [
    {
     "name": "stdout",
     "output_type": "stream",
     "text": [
      "Felicity Smoakis the Overwatch\n",
      "Laurel Lanceis the Black Canary\n"
     ]
    }
   ],
   "source": [
    "characters_names = ['Felicity Smoak', 'Laurel Lance']\n",
    "code_names = ['Overwatch', 'Black Canary']\n",
    "\n",
    "team_arrow = zip(characters_names,code_names)\n",
    "\n",
    "for i,j in team_arrow:\n",
    "    print (i + 'is the ' + j )"
   ]
  },
  {
   "cell_type": "code",
   "execution_count": 1,
   "metadata": {},
   "outputs": [
    {
     "name": "stdout",
     "output_type": "stream",
     "text": [
      "[[1.         0.92155064]\n",
      " [0.92155064 1.        ]]\n"
     ]
    }
   ],
   "source": [
    "import numpy as np\n",
    "np_heights = np.array([[1.60,1.75],[1.56,1.70],[1.49,1.68]])\n",
    "print(np.corrcoef(np_heights[:,0], np_heights[:,1]))"
   ]
  },
  {
   "cell_type": "code",
   "execution_count": 2,
   "metadata": {},
   "outputs": [
    {
     "name": "stdout",
     "output_type": "stream",
     "text": [
      "[ 8 10 21 15]\n"
     ]
    }
   ],
   "source": [
    "import numpy as np\n",
    "array_2D = np.array([[ 5,  1,  3,  2,  4,  6],\n",
    "       [ 5,  8,  0,  3,  1,  2],\n",
    "       [ 3, 10,  6, 21, 15,  1]])\n",
    "\n",
    "print(array_2D[array_2D>7])"
   ]
  },
  {
   "cell_type": "code",
   "execution_count": 4,
   "metadata": {},
   "outputs": [
    {
     "name": "stdout",
     "output_type": "stream",
     "text": [
      "[[ 3  1  0  2  1  1]\n",
      " [ 5  8  3  3  4  2]\n",
      " [ 5 10  6 21 15  6]]\n"
     ]
    }
   ],
   "source": [
    "import numpy as np\n",
    "array_2D = np.array([[ 5,  1,  3,  2,  4,  6],\n",
    "       [ 5,  8,  0,  3,  1,  2],\n",
    "       [ 3, 10,  6, 21, 15,  1]])\n",
    "\n",
    "print(np.sort(array_2D,axis=0))"
   ]
  },
  {
   "cell_type": "code",
   "execution_count": 7,
   "metadata": {},
   "outputs": [
    {
     "name": "stdout",
     "output_type": "stream",
     "text": [
      "[[ 1  4]\n",
      " [ 0  3]\n",
      " [ 1 10]]\n"
     ]
    }
   ],
   "source": [
    "import numpy as np\n",
    "array_2D = np.array([[ 1,  2,  3,  4,  5,  6],\n",
    "       [ 0,  1,  2,  3,  5,  8],\n",
    "       [ 1,  3,  6, 10, 15, 21]])\n",
    "\n",
    "print(array_2D[:, 0:7:3])"
   ]
  },
  {
   "cell_type": "code",
   "execution_count": 11,
   "metadata": {},
   "outputs": [
    {
     "name": "stdout",
     "output_type": "stream",
     "text": [
      "59.0\n"
     ]
    }
   ],
   "source": [
    "temp = 15\n",
    "def convert_temp(x):\n",
    "    \"\"\"Converts the temperature from Celsius to Fahrenheit\"\"\"\n",
    "    global temp\n",
    "    temp = (x * 1.8) + 32\n",
    "\n",
    "convert_temp(temp)\n",
    "print(temp)"
   ]
  },
  {
   "cell_type": "code",
   "execution_count": 30,
   "metadata": {},
   "outputs": [
    {
     "data": {
      "text/plain": [
       "'1.20'"
      ]
     },
     "execution_count": 30,
     "metadata": {},
     "output_type": "execute_result"
    }
   ],
   "source": [
    "def add_zeros(string):\n",
    "    \"\"\"Returns a string padded with zeros\n",
    "       to ensure consistent length\"\"\"\n",
    "    updated_string = string + '0'\n",
    "    def add_more():\n",
    "        \"\"\"Adds more zeros if necessary\"\"\"\n",
    "        nonlocal updated_string\n",
    "        updated_string = updated_string + '0'\n",
    "        while len(updated_string) < 6:\n",
    "            add_more(updated_string)\n",
    "    return updated_string\n",
    "    #1.2000  45.670\n",
    "add_zeros('1.2')#, add_zeros('45.67')"
   ]
  },
  {
   "cell_type": "code",
   "execution_count": 33,
   "metadata": {},
   "outputs": [
    {
     "name": "stdout",
     "output_type": "stream",
     "text": [
      "['Apple', 'Banana']\n"
     ]
    }
   ],
   "source": [
    "x = ['aPPle','baNANa']\n",
    "def caps(li):\n",
    "    \"\"\"returns a list , with all elements capitalized\"\"\"\n",
    "    def inner (w):\n",
    "        \"\"\"return a capitalized word\"\"\"\n",
    "        return w.capitalize()\n",
    "    return ([inner(li[0]),inner(li[1])])\n",
    "            \n",
    "print(caps(x))"
   ]
  },
  {
   "cell_type": "code",
   "execution_count": 2,
   "metadata": {},
   "outputs": [
    {
     "data": {
      "text/plain": [
       "array([[[  0, 255, 255],\n",
       "        [255, 255, 255],\n",
       "        [255,   0, 255]],\n",
       "\n",
       "       [[255,   0,   0],\n",
       "        [  0,   0,   0],\n",
       "        [  0,   0, 255]]])"
      ]
     },
     "execution_count": 2,
     "metadata": {},
     "output_type": "execute_result"
    }
   ],
   "source": [
    "import numpy as np\n",
    "rgb =np.array([[[255,   0,   0],\n",
    "        [  0,   0,   0],\n",
    "        [  0,   0, 255]],\n",
    "\n",
    "       [[255,   0, 255],\n",
    "        [255, 255, 255],\n",
    "        [255, 255,   0]]])\n",
    "\n",
    "np.flip(rgb)"
   ]
  },
  {
   "cell_type": "code",
   "execution_count": 1,
   "metadata": {},
   "outputs": [
    {
     "data": {
      "text/plain": [
       "array([[[2, 3],\n",
       "        [0, 8],\n",
       "        [1, 8]],\n",
       "\n",
       "       [[9, 5],\n",
       "        [1, 2],\n",
       "        [4, 0]]])"
      ]
     },
     "execution_count": 1,
     "metadata": {},
     "output_type": "execute_result"
    }
   ],
   "source": [
    "import numpy as np\n",
    "arr_1 = np.array([[2, 0, 1], [9, 1, 4]])\n",
    "arr_2 = np.array([[3, 8, 8], [5, 2, 0]])\n",
    "\n",
    "np.stack([arr_1, arr_2], axis=2)"
   ]
  },
  {
   "cell_type": "code",
   "execution_count": 2,
   "metadata": {},
   "outputs": [
    {
     "data": {
      "text/plain": [
       "array([[[255, 255],\n",
       "        [  0, 255],\n",
       "        [  0, 255]],\n",
       "\n",
       "       [[  0,   0],\n",
       "        [  0, 255],\n",
       "        [  0, 255]],\n",
       "\n",
       "       [[  0, 255],\n",
       "        [  0, 255],\n",
       "        [255,   0]]])"
      ]
     },
     "execution_count": 2,
     "metadata": {},
     "output_type": "execute_result"
    }
   ],
   "source": [
    "import numpy as np\n",
    "rgb=np.array([[[255,   0,   0],\n",
    "        [  0,   0,   0],\n",
    "        [  0,   0, 255]],\n",
    "\n",
    "       [[255,   0, 255],\n",
    "        [255, 255, 255],\n",
    "        [255, 255,   0]]])\n",
    "\n",
    "np.transpose(rgb)"
   ]
  },
  {
   "cell_type": "code",
   "execution_count": null,
   "metadata": {},
   "outputs": [],
   "source": [
    "import numpy as np\n",
    "\n",
    "\n",
    "array([[[255,   0,   0],\n",
    "        [  0,   0,   0],\n",
    "        [  0,   0, 255]],\n",
    "\n",
    "       [[255,   0, 255],\n",
    "        [255, 255, 255],\n",
    "        [255, 255,   0]]])"
   ]
  },
  {
   "cell_type": "code",
   "execution_count": 7,
   "metadata": {},
   "outputs": [
    {
     "name": "stdout",
     "output_type": "stream",
     "text": [
      "[('The Hulk', 'Bruce Banner'), ('Iron Man', 'Tony Stark')]\n"
     ]
    }
   ],
   "source": [
    "characters = ['The Hulk', 'Iron Man']\n",
    "names = ['Bruce Banner', 'Tony Stark']\n",
    "ave_1 = zip(characters, names)\n",
    "avengers = list(ave_1)\n",
    "print(avengers)"
   ]
  },
  {
   "cell_type": "code",
   "execution_count": 1,
   "metadata": {},
   "outputs": [
    {
     "name": "stdout",
     "output_type": "stream",
     "text": [
      "{1: 3, 2: 6, 3: 9, 4: 12}\n"
     ]
    }
   ],
   "source": [
    "import numpy as np\n",
    "x = [1, 2, 3, 4]\n",
    "mult = { i: 3*i for i in x }\n",
    "print(mult)"
   ]
  },
  {
   "cell_type": "code",
   "execution_count": 2,
   "metadata": {},
   "outputs": [
    {
     "name": "stdout",
     "output_type": "stream",
     "text": [
      "[9, 8, 3, 7]\n"
     ]
    }
   ],
   "source": [
    "floats = [9.33, 7.78, 3.16, 6.52]\n",
    "integers = [round (x) for x in floats]\n",
    "print(integers)"
   ]
  },
  {
   "cell_type": "code",
   "execution_count": 4,
   "metadata": {},
   "outputs": [
    {
     "data": {
      "text/plain": [
       "[10, 20, 30, 40, 50]"
      ]
     },
     "execution_count": 4,
     "metadata": {},
     "output_type": "execute_result"
    }
   ],
   "source": [
    "numbers = [1, 2, 3, 4, 5]\n",
    "times_ten = [n*10 for n in numbers]\n",
    "times_ten"
   ]
  },
  {
   "cell_type": "code",
   "execution_count": 10,
   "metadata": {},
   "outputs": [
    {
     "name": "stdout",
     "output_type": "stream",
     "text": [
      "[[1, 2, 3], [1, 2, 3], [1, 2, 3]]\n"
     ]
    }
   ],
   "source": [
    "matrix= [[i+1 for i in range(3)] for x in range(3)]\n",
    "print(matrix)"
   ]
  },
  {
   "cell_type": "code",
   "execution_count": 3,
   "metadata": {},
   "outputs": [
    {
     "name": "stdout",
     "output_type": "stream",
     "text": [
      "{'brand': 'Ford', 'model': 'Mustang', 'year': 1964}\n"
     ]
    }
   ],
   "source": [
    "thisdict = {\n",
    "  \"brand\": \"Ford\",\n",
    "  \"model\": \"Mustang\",\n",
    "  \"year\": 1964\n",
    "}\n",
    "print(thisdict)"
   ]
  },
  {
   "cell_type": "code",
   "execution_count": 1,
   "metadata": {},
   "outputs": [
    {
     "name": "stdout",
     "output_type": "stream",
     "text": [
      "hello, and welcome to my world!\n"
     ]
    }
   ],
   "source": [
    "txt = \"Hello, And Welcome To My World!\"\n",
    "x = txt.casefold()\n",
    "print(x)"
   ]
  },
  {
   "cell_type": "code",
   "execution_count": 4,
   "metadata": {},
   "outputs": [
    {
     "ename": "SyntaxError",
     "evalue": "invalid syntax (1275396511.py, line 2)",
     "output_type": "error",
     "traceback": [
      "\u001b[1;36m  Cell \u001b[1;32mIn[4], line 2\u001b[1;36m\u001b[0m\n\u001b[1;33m    filter_positives = list(filter(Lambda n:( n > 0), x))\u001b[0m\n\u001b[1;37m                                          ^\u001b[0m\n\u001b[1;31mSyntaxError\u001b[0m\u001b[1;31m:\u001b[0m invalid syntax\n"
     ]
    }
   ],
   "source": [
    "x = [3, -1, -10, 2, 7]\n",
    "filter_positives = list(filter(Lambda n:( n > 0), x))\n",
    "print(list(filter_positives))"
   ]
  },
  {
   "cell_type": "code",
   "execution_count": 3,
   "metadata": {},
   "outputs": [
    {
     "data": {
      "text/plain": [
       "array([[[255,   0,   0]],\n",
       "\n",
       "       [[255,   0, 255]]])"
      ]
     },
     "execution_count": 3,
     "metadata": {},
     "output_type": "execute_result"
    }
   ],
   "source": [
    "import numpy as np\n",
    "\n",
    "rgb = np.array([[[255,   0,   0],\n",
    "                 [  0,   0,   0],\n",
    "                [  0,   0, 255]],\n",
    "\n",
    "                  [[255,   0, 255],\n",
    "                  [255, 255, 255],\n",
    "                  [255, 255,   0]]])\n",
    "\n",
    "arr_1, arr_2, arr_3 = np. split (rgb, 3, axis=1)\n",
    "arr_1"
   ]
  },
  {
   "cell_type": "code",
   "execution_count": 6,
   "metadata": {},
   "outputs": [
    {
     "data": {
      "text/plain": [
       "array([[[2, 3],\n",
       "        [0, 8],\n",
       "        [1, 8]],\n",
       "\n",
       "       [[9, 5],\n",
       "        [1, 2],\n",
       "        [4, 0]]])"
      ]
     },
     "execution_count": 6,
     "metadata": {},
     "output_type": "execute_result"
    }
   ],
   "source": [
    "arr_1 = np.array ([[2, 0, 1], [9, 1, 4]])\n",
    "arr_2 = np.array([[3, 8, 8], [5, 2, 0]])\n",
    "np.stack([arr_1, arr_2], axis=2)"
   ]
  },
  {
   "cell_type": "code",
   "execution_count": 8,
   "metadata": {},
   "outputs": [
    {
     "data": {
      "text/plain": [
       "array([[[255,   0,   0],\n",
       "        [  0,   0,   0],\n",
       "        [  0,   0, 255]],\n",
       "\n",
       "       [[  0, 255, 255],\n",
       "        [255, 255, 255],\n",
       "        [255,   0, 255]]])"
      ]
     },
     "execution_count": 8,
     "metadata": {},
     "output_type": "execute_result"
    }
   ],
   "source": [
    "rgb = np.array([[[255,   0,   0],\n",
    "        [  0,   0,   0],\n",
    "        [  0,   0, 255]],\n",
    "\n",
    "       [[255,   0, 255],\n",
    "        [255, 255, 255],\n",
    "        [255, 255,   0]]])\n",
    "\n",
    "np.flip(rgb, axis=(1, 2))"
   ]
  },
  {
   "cell_type": "code",
   "execution_count": 4,
   "metadata": {},
   "outputs": [
    {
     "data": {
      "text/plain": [
       "array([[ 1,  4],\n",
       "       [ 0,  3],\n",
       "       [ 1, 10]])"
      ]
     },
     "execution_count": 4,
     "metadata": {},
     "output_type": "execute_result"
    }
   ],
   "source": [
    "import numpy as np\n",
    "array_2D = np.array([[ 1,  2,  3,  4,  5,  6],\n",
    "       [ 0,  1,  2,  3,  5,  8],\n",
    "       [ 1,  3,  6, 10, 15, 21]])\n",
    "\n",
    "array_2D[:, 0:7:3]"
   ]
  },
  {
   "cell_type": "code",
   "execution_count": null,
   "metadata": {},
   "outputs": [],
   "source": [
    "x = [1, 'A', 2, 'B', 3, 'C']\n",
    "\n",
    "strings = []"
   ]
  },
  {
   "cell_type": "code",
   "execution_count": 1,
   "metadata": {},
   "outputs": [
    {
     "ename": "NameError",
     "evalue": "name 'array_2D' is not defined",
     "output_type": "error",
     "traceback": [
      "\u001b[1;31m---------------------------------------------------------------------------\u001b[0m",
      "\u001b[1;31mNameError\u001b[0m                                 Traceback (most recent call last)",
      "Cell \u001b[1;32mIn[1], line 6\u001b[0m\n\u001b[0;32m      1\u001b[0m \u001b[39mimport\u001b[39;00m \u001b[39mnumpy\u001b[39;00m \u001b[39mas\u001b[39;00m \u001b[39mnp\u001b[39;00m\n\u001b[0;32m      2\u001b[0m np\u001b[39m.\u001b[39marray([[ \u001b[39m5\u001b[39m,  \u001b[39m1\u001b[39m,  \u001b[39m3\u001b[39m,  \u001b[39m2\u001b[39m,  \u001b[39m4\u001b[39m,  \u001b[39m6\u001b[39m],\n\u001b[0;32m      3\u001b[0m        [ \u001b[39m5\u001b[39m,  \u001b[39m8\u001b[39m,  \u001b[39m0\u001b[39m,  \u001b[39m3\u001b[39m,  \u001b[39m1\u001b[39m,  \u001b[39m2\u001b[39m],\n\u001b[0;32m      4\u001b[0m        [ \u001b[39m3\u001b[39m, \u001b[39m10\u001b[39m,  \u001b[39m6\u001b[39m, \u001b[39m21\u001b[39m, \u001b[39m15\u001b[39m,  \u001b[39m1\u001b[39m]])\n\u001b[1;32m----> 6\u001b[0m np\u001b[39m.\u001b[39mwhere(array_2D \u001b[39m>\u001b[39m \u001b[39m7\u001b[39m)\n",
      "\u001b[1;31mNameError\u001b[0m: name 'array_2D' is not defined"
     ]
    }
   ],
   "source": [
    "import numpy as np\n",
    "array_2D=np.array([[ 5,  1,  3,  2,  4,  6],\n",
    "       [ 5,  8,  0,  3,  1,  2],\n",
    "       [ 3, 10,  6, 21, 15,  1]])\n",
    "\n",
    "np.where(array_2D > 7)"
   ]
  }
 ],
 "metadata": {
  "kernelspec": {
   "display_name": "Python 3",
   "language": "python",
   "name": "python3"
  },
  "language_info": {
   "codemirror_mode": {
    "name": "ipython",
    "version": 3
   },
   "file_extension": ".py",
   "mimetype": "text/x-python",
   "name": "python",
   "nbconvert_exporter": "python",
   "pygments_lexer": "ipython3",
   "version": "3.9.9"
  },
  "orig_nbformat": 4,
  "vscode": {
   "interpreter": {
    "hash": "f6246b25e200e4c5124e3e61789ac81350562f0761bbcf92ad9e48654207659c"
   }
  }
 },
 "nbformat": 4,
 "nbformat_minor": 2
}

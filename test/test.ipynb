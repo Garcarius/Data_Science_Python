{
 "cells": [
  {
   "cell_type": "markdown",
   "metadata": {},
   "source": []
  },
  {
   "attachments": {},
   "cell_type": "markdown",
   "metadata": {},
   "source": [
    "== hola =="
   ]
  },
  {
   "cell_type": "code",
   "execution_count": 5,
   "metadata": {},
   "outputs": [
    {
     "name": "stdout",
     "output_type": "stream",
     "text": [
      "['/media/documentos/Cursos/Data Science/Python/Data_Science_Python/data_sets/ratings.p', '/media/documentos/Cursos/Data Science/Python/Data_Science_Python/data_sets/business_owners.p', '/media/documentos/Cursos/Data Science/Python/Data_Science_Python/data_sets/licenses.p', '/media/documentos/Cursos/Data Science/Python/Data_Science_Python/data_sets/cta_calendar.p', '/media/documentos/Cursos/Data Science/Python/Data_Science_Python/data_sets/crews.p', '/media/documentos/Cursos/Data Science/Python/Data_Science_Python/data_sets/zip_demo.p', '/media/documentos/Cursos/Data Science/Python/Data_Science_Python/data_sets/taglines.p', '/media/documentos/Cursos/Data Science/Python/Data_Science_Python/data_sets/movies.p', '/media/documentos/Cursos/Data Science/Python/Data_Science_Python/data_sets/taxi_owners.p', '/media/documentos/Cursos/Data Science/Python/Data_Science_Python/data_sets/ward.p', '/media/documentos/Cursos/Data Science/Python/Data_Science_Python/data_sets/taxi_vehicles.p', '/media/documentos/Cursos/Data Science/Python/Data_Science_Python/data_sets/sequels.p', '/media/documentos/Cursos/Data Science/Python/Data_Science_Python/data_sets/land_use.p', '/media/documentos/Cursos/Data Science/Python/Data_Science_Python/data_sets/casts.p', '/media/documentos/Cursos/Data Science/Python/Data_Science_Python/data_sets/movie_to_genres.p', '/media/documentos/Cursos/Data Science/Python/Data_Science_Python/data_sets/cta_ridership.p', '/media/documentos/Cursos/Data Science/Python/Data_Science_Python/data_sets/financials.p', '/media/documentos/Cursos/Data Science/Python/Data_Science_Python/data_sets/stations.p', '/media/documentos/Cursos/Data Science/Python/Data_Science_Python/data_sets/census.p']\n"
     ]
    }
   ],
   "source": [
    "import glob\n",
    "import os\n",
    "import shutil\n",
    "import pandas as pd\n",
    "\n",
    "src_fldr=r\"/media/documentos/Cursos/Data Science/Python/Data_Science_Python/data_sets/\"\n",
    "dst_fldr=r\"/media/documentos/Cursos/Data Science/Python/Data_Science_Python/data_sets/Proc/\"\n",
    "pattern = \"*.p\"\n",
    "\n",
    "# Search files with .docx extension in source directory\n",
    "\n",
    "files = glob.glob(src_fldr + pattern)\n",
    "print(files)\n",
    "# move the files with txt extension\n",
    "for file in files:\n",
    "    df=pd.DataFrame()\n",
    "    # extract file name form file path\n",
    "    file_name = os.path.basename(file)\n",
    "    r_file = file_name.split(\".\")[0]+'.csv'\n",
    "    df=pd.read_pickle(src_fldr+file_name)\n",
    "    df.to_csv(dst_fldr+r_file)\n"
   ]
  }
 ],
 "metadata": {
  "kernelspec": {
   "display_name": "Python 3",
   "language": "python",
   "name": "python3"
  },
  "language_info": {
   "codemirror_mode": {
    "name": "ipython",
    "version": 3
   },
   "file_extension": ".py",
   "mimetype": "text/x-python",
   "name": "python",
   "nbconvert_exporter": "python",
   "pygments_lexer": "ipython3",
   "version": "3.9.2 (default, Feb 28 2021, 17:03:44) \n[GCC 10.2.1 20210110]"
  },
  "orig_nbformat": 4,
  "vscode": {
   "interpreter": {
    "hash": "31f2aee4e71d21fbe5cf8b01ff0e069b9275f58929596ceb00d14d90e3e16cd6"
   }
  }
 },
 "nbformat": 4,
 "nbformat_minor": 2
}
